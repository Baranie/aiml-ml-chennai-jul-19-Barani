{
 "cells": [
  {
   "cell_type": "markdown",
   "metadata": {
    "colab_type": "text",
    "id": "YYk8NG3yOIT9"
   },
   "source": [
    "### A MNIST-like fashion product database\n",
    "\n",
    "In this, we classify the images into respective classes given in the dataset. We use a Neural Net and a Deep Neural Net in Keras to solve this and check the accuracy scores."
   ]
  },
  {
   "cell_type": "code",
   "execution_count": 0,
   "metadata": {
    "colab": {},
    "colab_type": "code",
    "id": "0SKS-3FKHVka"
   },
   "outputs": [],
   "source": [
    "import numpy as np \n",
    "import matplotlib.pyplot as plt"
   ]
  },
  {
   "cell_type": "markdown",
   "metadata": {
    "colab_type": "text",
    "id": "tFO6PuxzOIT_"
   },
   "source": [
    "### Load tensorflow"
   ]
  },
  {
   "cell_type": "code",
   "execution_count": 2,
   "metadata": {
    "colab": {
     "base_uri": "https://localhost:8080/",
     "height": 35
    },
    "colab_type": "code",
    "id": "iwHH4SzYOBMY",
    "outputId": "22f98b4f-d7f8-45a9-ce4b-96ec94237828"
   },
   "outputs": [
    {
     "name": "stdout",
     "output_type": "stream",
     "text": [
      "TensorFlow 2.x selected.\n"
     ]
    }
   ],
   "source": [
    "%tensorflow_version 2.x"
   ]
  },
  {
   "cell_type": "code",
   "execution_count": 3,
   "metadata": {
    "colab": {
     "base_uri": "https://localhost:8080/",
     "height": 35
    },
    "colab_type": "code",
    "id": "efNjNImfOIUC",
    "outputId": "6166fb53-9c64-45b2-d797-d6551358b5aa"
   },
   "outputs": [
    {
     "data": {
      "text/plain": [
       "'2.0.0'"
      ]
     },
     "execution_count": 3,
     "metadata": {
      "tags": []
     },
     "output_type": "execute_result"
    }
   ],
   "source": [
    "import tensorflow as tf\n",
    "tf.__version__"
   ]
  },
  {
   "cell_type": "code",
   "execution_count": 0,
   "metadata": {
    "colab": {},
    "colab_type": "code",
    "id": "BOvHzurOObIa"
   },
   "outputs": [],
   "source": [
    "tf.random.set_seed(42)"
   ]
  },
  {
   "cell_type": "markdown",
   "metadata": {
    "colab_type": "text",
    "id": "HcoZBStrOIUQ"
   },
   "source": [
    "### Collect Data"
   ]
  },
  {
   "cell_type": "code",
   "execution_count": 0,
   "metadata": {
    "colab": {},
    "colab_type": "code",
    "id": "qnbx7TyQOIUY"
   },
   "outputs": [],
   "source": [
    "(trainimages, trainlabels), (testimages, testlabels) = tf.keras.datasets.fashion_mnist.load_data()"
   ]
  },
  {
   "cell_type": "code",
   "execution_count": 6,
   "metadata": {
    "colab": {
     "base_uri": "https://localhost:8080/",
     "height": 69
    },
    "colab_type": "code",
    "id": "UbiHj5YPOIUc",
    "outputId": "c15785ef-09a2-4830-fecb-39e048e3495d"
   },
   "outputs": [
    {
     "name": "stdout",
     "output_type": "stream",
     "text": [
      "train data-set shape(60000, 28, 28) (60000,)\n",
      "test data-set shape(10000, 28, 28) (10000,)\n",
      "Labels for first 10 train data-sets are: [9 0 0 3 0 2 7 2 5 5]\n"
     ]
    }
   ],
   "source": [
    "print('train data-set shape{} {}'.format(trainimages.shape,trainlabels.shape))\n",
    "print('test data-set shape{} {}'.format(testimages.shape,testlabels.shape))\n",
    "\n",
    "print('Labels for first 10 train data-sets are:',trainlabels[0:10])"
   ]
  },
  {
   "cell_type": "code",
   "execution_count": 0,
   "metadata": {
    "colab": {},
    "colab_type": "code",
    "id": "9AwwKkh4Hf3P"
   },
   "outputs": [],
   "source": [
    "# Define the text labels\n",
    "fashion_mnist_labels = [\"T-shirt/top\",  # index 0\n",
    "                        \"Trouser\",      # index 1\n",
    "                        \"Pullover\",     # index 2 \n",
    "                        \"Dress\",        # index 3 \n",
    "                        \"Coat\",         # index 4\n",
    "                        \"Sandal\",       # index 5\n",
    "                        \"Shirt\",        # index 6 \n",
    "                        \"Sneaker\",      # index 7 \n",
    "                        \"Bag\",          # index 8 \n",
    "                        \"Ankle boot\"]   # index 9"
   ]
  },
  {
   "cell_type": "markdown",
   "metadata": {
    "colab_type": "text",
    "id": "lDAYzkwyOIUj"
   },
   "source": [
    "### Convert both training and testing labels into one-hot vectors.\n",
    "\n",
    "**Hint:** check **tf.keras.utils.to_categorical()**"
   ]
  },
  {
   "cell_type": "code",
   "execution_count": 0,
   "metadata": {
    "colab": {},
    "colab_type": "code",
    "id": "vBlfYlANOIUk"
   },
   "outputs": [],
   "source": [
    "trainlabels = tf.keras.utils.to_categorical(trainlabels, num_classes=10)\n",
    "testlabels = tf.keras.utils.to_categorical(testlabels, num_classes=10)"
   ]
  },
  {
   "cell_type": "code",
   "execution_count": 9,
   "metadata": {
    "colab": {
     "base_uri": "https://localhost:8080/",
     "height": 121
    },
    "colab_type": "code",
    "id": "RHV3b9mzOIUq",
    "outputId": "418f7578-2e1a-4ba2-fe2b-262a46d41a22",
    "scrolled": true
   },
   "outputs": [
    {
     "name": "stdout",
     "output_type": "stream",
     "text": [
      "(10000, 10)\n",
      "First 5 examples now are:  [[0. 0. 0. 0. 0. 0. 0. 0. 0. 1.]\n",
      " [1. 0. 0. 0. 0. 0. 0. 0. 0. 0.]\n",
      " [1. 0. 0. 0. 0. 0. 0. 0. 0. 0.]\n",
      " [0. 0. 0. 1. 0. 0. 0. 0. 0. 0.]\n",
      " [1. 0. 0. 0. 0. 0. 0. 0. 0. 0.]]\n"
     ]
    }
   ],
   "source": [
    "print(testlabels.shape)\n",
    "print('First 5 examples now are: ', trainlabels[0:5])"
   ]
  },
  {
   "cell_type": "code",
   "execution_count": 0,
   "metadata": {
    "colab": {},
    "colab_type": "code",
    "id": "ssxjTNH7idd9"
   },
   "outputs": [],
   "source": [
    "# scale the values to a range of 0 to 1 of both data sets\n",
    "#trainimages = trainimages.astype('float32')/ 255.0\n",
    "#testimages = testimages.astype('float32') / 255.0"
   ]
  },
  {
   "cell_type": "markdown",
   "metadata": {
    "colab_type": "text",
    "id": "FwhQ8e7VOIUw"
   },
   "source": [
    "### Visualize the data\n",
    "\n",
    "Plot first 10 images in the triaining set and their labels."
   ]
  },
  {
   "cell_type": "code",
   "execution_count": 11,
   "metadata": {
    "colab": {
     "base_uri": "https://localhost:8080/",
     "height": 292
    },
    "colab_type": "code",
    "id": "AvDML2OoOIUx",
    "outputId": "b7a40760-20ca-4b8b-b55b-9445ad3e081e"
   },
   "outputs": [
    {
     "data": {
      "image/png": "[encoded data removed]",
      "text/plain": [
       "<Figure size 864x864 with 10 Axes>"
      ]
     },
     "metadata": {
      "tags": []
     },
     "output_type": "display_data"
    }
   ],
   "source": [
    "plt.figure(figsize=(12,12))\n",
    "for i in range(0,10):\n",
    "  plt.subplot(5,5, i+1)\n",
    "  plt.xticks([])\n",
    "  plt.yticks([])\n",
    "  plt.imshow(trainimages[i])\n",
    "  label_index = np.argmax(trainlabels[i])\n",
    "  plt.xlabel(fashion_mnist_labels[label_index])"
   ]
  },
  {
   "cell_type": "markdown",
   "metadata": {
    "colab_type": "text",
    "id": "l4TbJGeSOIU4"
   },
   "source": [
    "### Build a neural Network with a cross entropy loss function and sgd optimizer in Keras. The output layer with 10 neurons as we have 10 classes."
   ]
  },
  {
   "cell_type": "code",
   "execution_count": 12,
   "metadata": {
    "colab": {
     "base_uri": "https://localhost:8080/",
     "height": 225
    },
    "colab_type": "code",
    "id": "Ac06XZZTOIU6",
    "outputId": "97748c56-ab5f-446f-8c6e-f9ecfd7f7133"
   },
   "outputs": [
    {
     "name": "stdout",
     "output_type": "stream",
     "text": [
      "Model: \"sequential\"\n",
      "_________________________________________________________________\n",
      "Layer (type)                 Output Shape              Param #   \n",
      "=================================================================\n",
      "reshape (Reshape)            (None, 784)               0         \n",
      "_________________________________________________________________\n",
      "dense (Dense)                (None, 10)                7850      \n",
      "=================================================================\n",
      "Total params: 7,850\n",
      "Trainable params: 7,850\n",
      "Non-trainable params: 0\n",
      "_________________________________________________________________\n"
     ]
    }
   ],
   "source": [
    "### Build the architecture\n",
    "\n",
    "# Initialize Sequential model\n",
    "model = tf.keras.models.Sequential()\n",
    "\n",
    "# Reshape data from 2D to 1D -> 28x28 to 784\n",
    "model.add(tf.keras.layers.Reshape((784,),input_shape=(28,28,)))\n",
    "\n",
    "# Add Dense Layer which provides 10 Outputs after applying softmax\n",
    "model.add(tf.keras.layers.Dense(10, activation='softmax'))\n",
    "\n",
    "model.summary()\n",
    "\n",
    "### Compile the model\n",
    "model.compile(optimizer='sgd',\n",
    "              loss='categorical_crossentropy',\n",
    "              metrics=['accuracy'])"
   ]
  },
  {
   "cell_type": "markdown",
   "metadata": {
    "colab_type": "text",
    "id": "3hQpLv3aOIU_"
   },
   "source": [
    "### Execute the model using model.fit()"
   ]
  },
  {
   "cell_type": "code",
   "execution_count": 13,
   "metadata": {
    "colab": {
     "base_uri": "https://localhost:8080/",
     "height": 1000
    },
    "colab_type": "code",
    "id": "O59C_-IgOIVB",
    "outputId": "e6a96fac-75d4-4b61-ecd7-433c1dfeb07a"
   },
   "outputs": [
    {
     "name": "stdout",
     "output_type": "stream",
     "text": [
      "Train on 60000 samples\n",
      "Epoch 1/50\n",
      "60000/60000 [==============================] - 4s 73us/sample - loss: 2031.6057 - accuracy: 0.7405\n",
      "Epoch 2/50\n",
      "60000/60000 [==============================] - 4s 64us/sample - loss: 1625.9524 - accuracy: 0.7782\n",
      "Epoch 3/50\n",
      "60000/60000 [==============================] - 4s 63us/sample - loss: 1535.2947 - accuracy: 0.7863\n",
      "Epoch 4/50\n",
      "60000/60000 [==============================] - 4s 62us/sample - loss: 1525.4811 - accuracy: 0.7892\n",
      "Epoch 5/50\n",
      "60000/60000 [==============================] - 4s 63us/sample - loss: 1458.4508 - accuracy: 0.7936\n",
      "Epoch 6/50\n",
      "60000/60000 [==============================] - 4s 63us/sample - loss: 1488.6810 - accuracy: 0.7934\n",
      "Epoch 7/50\n",
      "60000/60000 [==============================] - 4s 63us/sample - loss: 1460.0388 - accuracy: 0.7966\n",
      "Epoch 8/50\n",
      "60000/60000 [==============================] - 4s 63us/sample - loss: 1454.9734 - accuracy: 0.7982\n",
      "Epoch 9/50\n",
      "60000/60000 [==============================] - 4s 63us/sample - loss: 1413.4321 - accuracy: 0.7990\n",
      "Epoch 10/50\n",
      "60000/60000 [==============================] - 4s 63us/sample - loss: 1453.9375 - accuracy: 0.7990\n",
      "Epoch 11/50\n",
      "60000/60000 [==============================] - 4s 64us/sample - loss: 1438.3114 - accuracy: 0.8007\n",
      "Epoch 12/50\n",
      "60000/60000 [==============================] - 4s 65us/sample - loss: 1429.9745 - accuracy: 0.7996\n",
      "Epoch 13/50\n",
      "60000/60000 [==============================] - 4s 64us/sample - loss: 1418.9621 - accuracy: 0.8024\n",
      "Epoch 14/50\n",
      "60000/60000 [==============================] - 4s 64us/sample - loss: 1418.0518 - accuracy: 0.8028\n",
      "Epoch 15/50\n",
      "60000/60000 [==============================] - 4s 63us/sample - loss: 1415.7358 - accuracy: 0.8024\n",
      "Epoch 16/50\n",
      "60000/60000 [==============================] - 4s 63us/sample - loss: 1418.0998 - accuracy: 0.8019\n",
      "Epoch 17/50\n",
      "60000/60000 [==============================] - 4s 62us/sample - loss: 1448.2000 - accuracy: 0.8028\n",
      "Epoch 18/50\n",
      "60000/60000 [==============================] - 4s 63us/sample - loss: 1426.9961 - accuracy: 0.8041\n",
      "Epoch 19/50\n",
      "60000/60000 [==============================] - 4s 63us/sample - loss: 1388.8550 - accuracy: 0.8051\n",
      "Epoch 20/50\n",
      "60000/60000 [==============================] - 4s 62us/sample - loss: 1423.4584 - accuracy: 0.8066\n",
      "Epoch 21/50\n",
      "60000/60000 [==============================] - 4s 63us/sample - loss: 1358.0338 - accuracy: 0.8066\n",
      "Epoch 22/50\n",
      "60000/60000 [==============================] - 4s 62us/sample - loss: 1405.3888 - accuracy: 0.8059\n",
      "Epoch 23/50\n",
      "60000/60000 [==============================] - 4s 64us/sample - loss: 1398.5531 - accuracy: 0.8066\n",
      "Epoch 24/50\n",
      "60000/60000 [==============================] - 4s 64us/sample - loss: 1397.4277 - accuracy: 0.8082\n",
      "Epoch 25/50\n",
      "60000/60000 [==============================] - 4s 63us/sample - loss: 1378.3770 - accuracy: 0.8058\n",
      "Epoch 26/50\n",
      "60000/60000 [==============================] - 4s 63us/sample - loss: 1356.9492 - accuracy: 0.8067\n",
      "Epoch 27/50\n",
      "60000/60000 [==============================] - 4s 64us/sample - loss: 1337.3661 - accuracy: 0.8084\n",
      "Epoch 28/50\n",
      "60000/60000 [==============================] - 4s 63us/sample - loss: 1378.1443 - accuracy: 0.8080\n",
      "Epoch 29/50\n",
      "60000/60000 [==============================] - 4s 66us/sample - loss: 1378.2648 - accuracy: 0.8068\n",
      "Epoch 30/50\n",
      "60000/60000 [==============================] - 4s 68us/sample - loss: 1351.2019 - accuracy: 0.8076\n",
      "Epoch 31/50\n",
      "60000/60000 [==============================] - 4s 68us/sample - loss: 1401.0910 - accuracy: 0.8056\n",
      "Epoch 32/50\n",
      "60000/60000 [==============================] - 4s 63us/sample - loss: 1353.1212 - accuracy: 0.8092\n",
      "Epoch 33/50\n",
      "60000/60000 [==============================] - 4s 65us/sample - loss: 1338.5581 - accuracy: 0.8087\n",
      "Epoch 34/50\n",
      "60000/60000 [==============================] - 4s 64us/sample - loss: 1318.5728 - accuracy: 0.8108\n",
      "Epoch 35/50\n",
      "60000/60000 [==============================] - 4s 64us/sample - loss: 1375.1497 - accuracy: 0.8080\n",
      "Epoch 36/50\n",
      "60000/60000 [==============================] - 4s 63us/sample - loss: 1356.3859 - accuracy: 0.8096\n",
      "Epoch 37/50\n",
      "60000/60000 [==============================] - 4s 62us/sample - loss: 1345.7156 - accuracy: 0.8098\n",
      "Epoch 38/50\n",
      "60000/60000 [==============================] - 4s 63us/sample - loss: 1346.0605 - accuracy: 0.8089\n",
      "Epoch 39/50\n",
      "60000/60000 [==============================] - 4s 64us/sample - loss: 1325.9998 - accuracy: 0.8117\n",
      "Epoch 40/50\n",
      "60000/60000 [==============================] - 4s 63us/sample - loss: 1365.6806 - accuracy: 0.8081\n",
      "Epoch 41/50\n",
      "60000/60000 [==============================] - 4s 64us/sample - loss: 1374.1567 - accuracy: 0.8089\n",
      "Epoch 42/50\n",
      "60000/60000 [==============================] - 4s 62us/sample - loss: 1359.4566 - accuracy: 0.8094\n",
      "Epoch 43/50\n",
      "60000/60000 [==============================] - 4s 63us/sample - loss: 1381.5133 - accuracy: 0.8094\n",
      "Epoch 44/50\n",
      "60000/60000 [==============================] - 4s 63us/sample - loss: 1343.8356 - accuracy: 0.8097\n",
      "Epoch 45/50\n",
      "60000/60000 [==============================] - 4s 62us/sample - loss: 1350.7416 - accuracy: 0.8108\n",
      "Epoch 46/50\n",
      "60000/60000 [==============================] - 4s 62us/sample - loss: 1337.6145 - accuracy: 0.8101\n",
      "Epoch 47/50\n",
      "60000/60000 [==============================] - 4s 62us/sample - loss: 1325.5419 - accuracy: 0.8117\n",
      "Epoch 48/50\n",
      "60000/60000 [==============================] - 4s 62us/sample - loss: 1360.4742 - accuracy: 0.8102\n",
      "Epoch 49/50\n",
      "60000/60000 [==============================] - 4s 62us/sample - loss: 1342.2431 - accuracy: 0.8115\n",
      "Epoch 50/50\n",
      "60000/60000 [==============================] - 4s 63us/sample - loss: 1337.7199 - accuracy: 0.8108\n"
     ]
    },
    {
     "data": {
      "text/plain": [
       "<tensorflow.python.keras.callbacks.History at 0x7fd81013bef0>"
      ]
     },
     "execution_count": 13,
     "metadata": {
      "tags": []
     },
     "output_type": "execute_result"
    }
   ],
   "source": [
    "model.fit( trainimages, trainlabels, epochs=50)"
   ]
  },
  {
   "cell_type": "code",
   "execution_count": 14,
   "metadata": {
    "colab": {
     "base_uri": "https://localhost:8080/",
     "height": 520
    },
    "colab_type": "code",
    "id": "tXZdv2Zd6dHe",
    "outputId": "7a8b004a-d89d-4157-9639-c04a835415f3"
   },
   "outputs": [
    {
     "name": "stdout",
     "output_type": "stream",
     "text": [
      "Model - test loss: 295555.19167968753\n",
      "Model - test accuracy: 75.06999969482422\n"
     ]
    },
    {
     "data": {
      "image/png": "[encoded data removed]",
      "text/plain": [
       "<Figure size 1440x576 with 15 Axes>"
      ]
     },
     "metadata": {
      "tags": []
     },
     "output_type": "display_data"
    }
   ],
   "source": [
    "### Evaluate the model\n",
    "test_loss, test_acc = model.evaluate(testimages, testlabels,verbose=0)\n",
    "print(\"Model - test loss:\", test_loss * 100)\n",
    "print(\"Model - test accuracy:\", test_acc * 100)\n",
    "\n",
    "image_predicted = model.predict(testimages)\n",
    "\n",
    "figure = plt.figure(figsize=(20, 8))\n",
    "\n",
    "for i, index in enumerate(np.random.choice(testimages.shape[0], size=15, replace=False)):\n",
    "    ax = figure.add_subplot(3, 5, i + 1, xticks=[], yticks=[])\n",
    "    ax.imshow(testimages[index])\n",
    "    predict_index = np.argmax(image_predicted[index])\n",
    "    true_index = np.argmax(testlabels[index])\n",
    "    # Set the title for each image\n",
    "    ax.set_title(\"{} ({})\".format(fashion_mnist_labels[predict_index], \n",
    "                                  fashion_mnist_labels[true_index]),\n",
    "                                  color=(\"green\" if predict_index == true_index else \"red\"))"
   ]
  },
  {
   "cell_type": "markdown",
   "metadata": {
    "colab_type": "text",
    "id": "JdzDtGwDOIVF"
   },
   "source": [
    "### In the above Neural Network model add Batch Normalization layer after the input layer and repeat the steps."
   ]
  },
  {
   "cell_type": "code",
   "execution_count": 15,
   "metadata": {
    "colab": {
     "base_uri": "https://localhost:8080/",
     "height": 260
    },
    "colab_type": "code",
    "id": "kndfpdidOIVI",
    "outputId": "7fa06f2c-c401-4d7d-e9bd-ec09f3aed56b"
   },
   "outputs": [
    {
     "name": "stdout",
     "output_type": "stream",
     "text": [
      "Model: \"sequential_1\"\n",
      "_________________________________________________________________\n",
      "Layer (type)                 Output Shape              Param #   \n",
      "=================================================================\n",
      "reshape_1 (Reshape)          (None, 784)               0         \n",
      "_________________________________________________________________\n",
      "batch_normalization (BatchNo (None, 784)               3136      \n",
      "_________________________________________________________________\n",
      "dense_1 (Dense)              (None, 10)                7850      \n",
      "=================================================================\n",
      "Total params: 10,986\n",
      "Trainable params: 9,418\n",
      "Non-trainable params: 1,568\n",
      "_________________________________________________________________\n"
     ]
    }
   ],
   "source": [
    "### Build the architecture\n",
    "\n",
    "# Initialize Sequential model\n",
    "model = tf.keras.models.Sequential()\n",
    "\n",
    "# Reshape data from 2D to 1D -> 28x28 to 784\n",
    "model.add(tf.keras.layers.Reshape((784,),input_shape=(28,28,)))\n",
    "\n",
    "# Normalize the data\n",
    "model.add(tf.keras.layers.BatchNormalization())\n",
    "\n",
    "# Add Dense Layer which provides 10 Outputs after applying softmax\n",
    "model.add(tf.keras.layers.Dense(10, activation='softmax'))\n",
    "\n",
    "model.summary()\n",
    "\n",
    "### Compile the model\n",
    "model.compile(optimizer='sgd',\n",
    "              loss='categorical_crossentropy',\n",
    "              metrics=['accuracy'])"
   ]
  },
  {
   "cell_type": "markdown",
   "metadata": {
    "colab_type": "text",
    "id": "mwk3T5LJOIVN"
   },
   "source": [
    "### Execute the model"
   ]
  },
  {
   "cell_type": "code",
   "execution_count": 16,
   "metadata": {
    "colab": {
     "base_uri": "https://localhost:8080/",
     "height": 1000
    },
    "colab_type": "code",
    "id": "JNLR8tcBOIVP",
    "outputId": "a01db7ff-5cec-4ddd-dad1-a305fd4d88c4"
   },
   "outputs": [
    {
     "name": "stdout",
     "output_type": "stream",
     "text": [
      "Train on 60000 samples\n",
      "Epoch 1/50\n",
      "60000/60000 [==============================] - 5s 75us/sample - loss: 0.5955 - accuracy: 0.7956\n",
      "Epoch 2/50\n",
      "60000/60000 [==============================] - 4s 69us/sample - loss: 0.4907 - accuracy: 0.8306\n",
      "Epoch 3/50\n",
      "60000/60000 [==============================] - 4s 69us/sample - loss: 0.4679 - accuracy: 0.8390\n",
      "Epoch 4/50\n",
      "60000/60000 [==============================] - 4s 70us/sample - loss: 0.4555 - accuracy: 0.8420\n",
      "Epoch 5/50\n",
      "60000/60000 [==============================] - 4s 71us/sample - loss: 0.4502 - accuracy: 0.8454\n",
      "Epoch 6/50\n",
      "60000/60000 [==============================] - 4s 70us/sample - loss: 0.4445 - accuracy: 0.8462\n",
      "Epoch 7/50\n",
      "60000/60000 [==============================] - 4s 71us/sample - loss: 0.4406 - accuracy: 0.8470\n",
      "Epoch 8/50\n",
      "60000/60000 [==============================] - 4s 71us/sample - loss: 0.4365 - accuracy: 0.8486\n",
      "Epoch 9/50\n",
      "60000/60000 [==============================] - 4s 70us/sample - loss: 0.4329 - accuracy: 0.8505\n",
      "Epoch 10/50\n",
      "60000/60000 [==============================] - 4s 70us/sample - loss: 0.4311 - accuracy: 0.8511\n",
      "Epoch 11/50\n",
      "60000/60000 [==============================] - 5s 76us/sample - loss: 0.4284 - accuracy: 0.8514\n",
      "Epoch 12/50\n",
      "60000/60000 [==============================] - 5s 77us/sample - loss: 0.4281 - accuracy: 0.8513\n",
      "Epoch 13/50\n",
      "60000/60000 [==============================] - 4s 73us/sample - loss: 0.4233 - accuracy: 0.8523\n",
      "Epoch 14/50\n",
      "60000/60000 [==============================] - 4s 75us/sample - loss: 0.4229 - accuracy: 0.8528\n",
      "Epoch 15/50\n",
      "60000/60000 [==============================] - 5s 75us/sample - loss: 0.4205 - accuracy: 0.8535\n",
      "Epoch 16/50\n",
      "60000/60000 [==============================] - 5s 77us/sample - loss: 0.4213 - accuracy: 0.8540\n",
      "Epoch 17/50\n",
      "60000/60000 [==============================] - 5s 76us/sample - loss: 0.4189 - accuracy: 0.8533\n",
      "Epoch 18/50\n",
      "60000/60000 [==============================] - 5s 77us/sample - loss: 0.4188 - accuracy: 0.8547\n",
      "Epoch 19/50\n",
      "60000/60000 [==============================] - 5s 76us/sample - loss: 0.4173 - accuracy: 0.8547\n",
      "Epoch 20/50\n",
      "60000/60000 [==============================] - 5s 78us/sample - loss: 0.4146 - accuracy: 0.8553\n",
      "Epoch 21/50\n",
      "60000/60000 [==============================] - 4s 73us/sample - loss: 0.4163 - accuracy: 0.8547\n",
      "Epoch 22/50\n",
      "60000/60000 [==============================] - 4s 73us/sample - loss: 0.4176 - accuracy: 0.8552\n",
      "Epoch 23/50\n",
      "60000/60000 [==============================] - 4s 71us/sample - loss: 0.4137 - accuracy: 0.8555\n",
      "Epoch 24/50\n",
      "60000/60000 [==============================] - 4s 73us/sample - loss: 0.4134 - accuracy: 0.8553\n",
      "Epoch 25/50\n",
      "60000/60000 [==============================] - 4s 71us/sample - loss: 0.4152 - accuracy: 0.8554\n",
      "Epoch 26/50\n",
      "60000/60000 [==============================] - 4s 71us/sample - loss: 0.4146 - accuracy: 0.8551\n",
      "Epoch 27/50\n",
      "60000/60000 [==============================] - 4s 74us/sample - loss: 0.4111 - accuracy: 0.8560\n",
      "Epoch 28/50\n",
      "60000/60000 [==============================] - 4s 70us/sample - loss: 0.4129 - accuracy: 0.8554\n",
      "Epoch 29/50\n",
      "60000/60000 [==============================] - 4s 72us/sample - loss: 0.4084 - accuracy: 0.8560\n",
      "Epoch 30/50\n",
      "60000/60000 [==============================] - 4s 71us/sample - loss: 0.4109 - accuracy: 0.8559\n",
      "Epoch 31/50\n",
      "60000/60000 [==============================] - 4s 73us/sample - loss: 0.4111 - accuracy: 0.8548\n",
      "Epoch 32/50\n",
      "60000/60000 [==============================] - 4s 71us/sample - loss: 0.4096 - accuracy: 0.8577\n",
      "Epoch 33/50\n",
      "60000/60000 [==============================] - 4s 71us/sample - loss: 0.4082 - accuracy: 0.8567\n",
      "Epoch 34/50\n",
      "60000/60000 [==============================] - 4s 72us/sample - loss: 0.4105 - accuracy: 0.8573\n",
      "Epoch 35/50\n",
      "60000/60000 [==============================] - 4s 72us/sample - loss: 0.4076 - accuracy: 0.8573\n",
      "Epoch 36/50\n",
      "60000/60000 [==============================] - 4s 72us/sample - loss: 0.4077 - accuracy: 0.8570\n",
      "Epoch 37/50\n",
      "60000/60000 [==============================] - 4s 70us/sample - loss: 0.4081 - accuracy: 0.8559\n",
      "Epoch 38/50\n",
      "60000/60000 [==============================] - 4s 71us/sample - loss: 0.4074 - accuracy: 0.8576\n",
      "Epoch 39/50\n",
      "60000/60000 [==============================] - 4s 70us/sample - loss: 0.4076 - accuracy: 0.8556\n",
      "Epoch 40/50\n",
      "60000/60000 [==============================] - 4s 71us/sample - loss: 0.4092 - accuracy: 0.8568\n",
      "Epoch 41/50\n",
      "60000/60000 [==============================] - 4s 72us/sample - loss: 0.4077 - accuracy: 0.8554\n",
      "Epoch 42/50\n",
      "60000/60000 [==============================] - 4s 71us/sample - loss: 0.4087 - accuracy: 0.8565\n",
      "Epoch 43/50\n",
      "60000/60000 [==============================] - 4s 70us/sample - loss: 0.4079 - accuracy: 0.8571\n",
      "Epoch 44/50\n",
      "60000/60000 [==============================] - 4s 69us/sample - loss: 0.4061 - accuracy: 0.8576\n",
      "Epoch 45/50\n",
      "60000/60000 [==============================] - 4s 71us/sample - loss: 0.4065 - accuracy: 0.8572\n",
      "Epoch 46/50\n",
      "60000/60000 [==============================] - 4s 70us/sample - loss: 0.4049 - accuracy: 0.8576\n",
      "Epoch 47/50\n",
      "60000/60000 [==============================] - 4s 71us/sample - loss: 0.4056 - accuracy: 0.8594\n",
      "Epoch 48/50\n",
      "60000/60000 [==============================] - 4s 72us/sample - loss: 0.4064 - accuracy: 0.8579\n",
      "Epoch 49/50\n",
      "60000/60000 [==============================] - 4s 72us/sample - loss: 0.4049 - accuracy: 0.8583\n",
      "Epoch 50/50\n",
      "60000/60000 [==============================] - 4s 70us/sample - loss: 0.4044 - accuracy: 0.8573\n",
      "Model - test loss: 47.25076379776001\n",
      "Model - test accuracy: 84.11999940872192\n"
     ]
    }
   ],
   "source": [
    "model.fit( trainimages, trainlabels, epochs=50)\n",
    "\n",
    "test_loss, test_acc = model.evaluate(testimages, testlabels,verbose=0)\n",
    "print(\"Model - test loss:\", test_loss * 100)\n",
    "print(\"Model - test accuracy:\", test_acc * 100)"
   ]
  },
  {
   "cell_type": "markdown",
   "metadata": {
    "colab_type": "text",
    "id": "Py-KwkmjOIVU"
   },
   "source": [
    "### Customize the learning rate to 0.001 in sgd optimizer and run the model"
   ]
  },
  {
   "cell_type": "code",
   "execution_count": 17,
   "metadata": {
    "colab": {
     "base_uri": "https://localhost:8080/",
     "height": 1000
    },
    "colab_type": "code",
    "id": "pJUqA5T4OIVc",
    "outputId": "557d76fb-f9f5-4651-e705-7ab09626aed6"
   },
   "outputs": [
    {
     "name": "stdout",
     "output_type": "stream",
     "text": [
      "Train on 60000 samples\n",
      "Epoch 1/50\n",
      "60000/60000 [==============================] - 5s 82us/sample - loss: 0.3944 - accuracy: 0.8614\n",
      "Epoch 2/50\n",
      "60000/60000 [==============================] - 5s 76us/sample - loss: 0.3931 - accuracy: 0.8610\n",
      "Epoch 3/50\n",
      "60000/60000 [==============================] - 5s 79us/sample - loss: 0.3928 - accuracy: 0.8612\n",
      "Epoch 4/50\n",
      "60000/60000 [==============================] - 5s 80us/sample - loss: 0.3918 - accuracy: 0.8629\n",
      "Epoch 5/50\n",
      "60000/60000 [==============================] - 5s 77us/sample - loss: 0.3935 - accuracy: 0.8616\n",
      "Epoch 6/50\n",
      "60000/60000 [==============================] - 5s 78us/sample - loss: 0.3928 - accuracy: 0.8616\n",
      "Epoch 7/50\n",
      "60000/60000 [==============================] - 5s 78us/sample - loss: 0.3933 - accuracy: 0.8612\n",
      "Epoch 8/50\n",
      "60000/60000 [==============================] - 5s 79us/sample - loss: 0.3937 - accuracy: 0.8609\n",
      "Epoch 9/50\n",
      "60000/60000 [==============================] - 5s 78us/sample - loss: 0.3923 - accuracy: 0.8628\n",
      "Epoch 10/50\n",
      "60000/60000 [==============================] - 5s 78us/sample - loss: 0.3932 - accuracy: 0.8621\n",
      "Epoch 11/50\n",
      "60000/60000 [==============================] - 4s 73us/sample - loss: 0.3926 - accuracy: 0.8622\n",
      "Epoch 12/50\n",
      "60000/60000 [==============================] - 4s 74us/sample - loss: 0.3935 - accuracy: 0.8617\n",
      "Epoch 13/50\n",
      "60000/60000 [==============================] - 4s 73us/sample - loss: 0.3903 - accuracy: 0.8624\n",
      "Epoch 14/50\n",
      "60000/60000 [==============================] - 4s 73us/sample - loss: 0.3920 - accuracy: 0.8619\n",
      "Epoch 15/50\n",
      "60000/60000 [==============================] - 4s 72us/sample - loss: 0.3902 - accuracy: 0.8624\n",
      "Epoch 16/50\n",
      "60000/60000 [==============================] - 4s 74us/sample - loss: 0.3925 - accuracy: 0.8619\n",
      "Epoch 17/50\n",
      "60000/60000 [==============================] - 4s 73us/sample - loss: 0.3905 - accuracy: 0.8622\n",
      "Epoch 18/50\n",
      "60000/60000 [==============================] - 4s 73us/sample - loss: 0.3917 - accuracy: 0.8631\n",
      "Epoch 19/50\n",
      "60000/60000 [==============================] - 4s 73us/sample - loss: 0.3915 - accuracy: 0.8619\n",
      "Epoch 20/50\n",
      "60000/60000 [==============================] - 4s 73us/sample - loss: 0.3899 - accuracy: 0.8638\n",
      "Epoch 21/50\n",
      "60000/60000 [==============================] - 4s 73us/sample - loss: 0.3921 - accuracy: 0.8621\n",
      "Epoch 22/50\n",
      "60000/60000 [==============================] - 4s 72us/sample - loss: 0.3936 - accuracy: 0.8619\n",
      "Epoch 23/50\n",
      "60000/60000 [==============================] - 4s 73us/sample - loss: 0.3904 - accuracy: 0.8629\n",
      "Epoch 24/50\n",
      "60000/60000 [==============================] - 4s 72us/sample - loss: 0.3907 - accuracy: 0.8623\n",
      "Epoch 25/50\n",
      "60000/60000 [==============================] - 4s 73us/sample - loss: 0.3933 - accuracy: 0.8625\n",
      "Epoch 26/50\n",
      "60000/60000 [==============================] - 4s 73us/sample - loss: 0.3935 - accuracy: 0.8613\n",
      "Epoch 27/50\n",
      "60000/60000 [==============================] - 4s 74us/sample - loss: 0.3903 - accuracy: 0.8623\n",
      "Epoch 28/50\n",
      "60000/60000 [==============================] - 4s 74us/sample - loss: 0.3924 - accuracy: 0.8607\n",
      "Epoch 29/50\n",
      "60000/60000 [==============================] - 4s 73us/sample - loss: 0.3890 - accuracy: 0.8624\n",
      "Epoch 30/50\n",
      "60000/60000 [==============================] - 4s 73us/sample - loss: 0.3914 - accuracy: 0.8619\n",
      "Epoch 31/50\n",
      "60000/60000 [==============================] - 4s 73us/sample - loss: 0.3916 - accuracy: 0.8618\n",
      "Epoch 32/50\n",
      "60000/60000 [==============================] - 4s 73us/sample - loss: 0.3911 - accuracy: 0.8639\n",
      "Epoch 33/50\n",
      "60000/60000 [==============================] - 5s 76us/sample - loss: 0.3897 - accuracy: 0.8630\n",
      "Epoch 34/50\n",
      "60000/60000 [==============================] - 5s 76us/sample - loss: 0.3922 - accuracy: 0.8627\n",
      "Epoch 35/50\n",
      "60000/60000 [==============================] - 4s 73us/sample - loss: 0.3897 - accuracy: 0.8629\n",
      "Epoch 36/50\n",
      "60000/60000 [==============================] - 4s 73us/sample - loss: 0.3904 - accuracy: 0.8633\n",
      "Epoch 37/50\n",
      "60000/60000 [==============================] - 4s 72us/sample - loss: 0.3913 - accuracy: 0.8622\n",
      "Epoch 38/50\n",
      "60000/60000 [==============================] - 4s 73us/sample - loss: 0.3902 - accuracy: 0.8628\n",
      "Epoch 39/50\n",
      "60000/60000 [==============================] - 4s 74us/sample - loss: 0.3909 - accuracy: 0.8612\n",
      "Epoch 40/50\n",
      "60000/60000 [==============================] - 4s 73us/sample - loss: 0.3923 - accuracy: 0.8615\n",
      "Epoch 41/50\n",
      "60000/60000 [==============================] - 4s 74us/sample - loss: 0.3920 - accuracy: 0.8619\n",
      "Epoch 42/50\n",
      "60000/60000 [==============================] - 4s 73us/sample - loss: 0.3926 - accuracy: 0.8619\n",
      "Epoch 43/50\n",
      "60000/60000 [==============================] - 4s 73us/sample - loss: 0.3920 - accuracy: 0.8619\n",
      "Epoch 44/50\n",
      "60000/60000 [==============================] - 4s 74us/sample - loss: 0.3906 - accuracy: 0.8634\n",
      "Epoch 45/50\n",
      "60000/60000 [==============================] - 4s 75us/sample - loss: 0.3909 - accuracy: 0.8632\n",
      "Epoch 46/50\n",
      "60000/60000 [==============================] - 5s 75us/sample - loss: 0.3896 - accuracy: 0.8626\n",
      "Epoch 47/50\n",
      "60000/60000 [==============================] - 4s 73us/sample - loss: 0.3906 - accuracy: 0.8638\n",
      "Epoch 48/50\n",
      "60000/60000 [==============================] - 4s 73us/sample - loss: 0.3912 - accuracy: 0.8630\n",
      "Epoch 49/50\n",
      "60000/60000 [==============================] - 4s 73us/sample - loss: 0.3900 - accuracy: 0.8640\n",
      "Epoch 50/50\n",
      "60000/60000 [==============================] - 4s 73us/sample - loss: 0.3899 - accuracy: 0.8631\n",
      "Model - test loss: 45.963968319892885\n",
      "Model - test accuracy: 84.36999917030334\n"
     ]
    }
   ],
   "source": [
    "opt = tf.keras.optimizers.SGD(learning_rate=0.001)\n",
    "\n",
    "### Compile the model\n",
    "model.compile(optimizer=opt,\n",
    "              loss='categorical_crossentropy',\n",
    "              metrics=['accuracy'])\n",
    "\n",
    "### Train the model\n",
    "model.fit( trainimages, trainlabels, epochs=50)\n",
    "\n",
    "### Evaluate the model\n",
    "test_loss, test_acc = model.evaluate(testimages, testlabels, verbose=0)\n",
    "print(\"Model - test loss:\", test_loss * 100)\n",
    "print(\"Model - test accuracy:\", test_acc * 100)"
   ]
  },
  {
   "cell_type": "markdown",
   "metadata": {
    "colab_type": "text",
    "id": "j9CSqKvpOIVk"
   },
   "source": [
    "### Build the Neural Network model with 3 Dense layers with 100,100,10 neurons respectively in each layer. Use cross entropy loss function and singmoid as activation in the hidden layers and softmax as activation function in the output layer. Use sgd optimizer with learning rate 0.03."
   ]
  },
  {
   "cell_type": "code",
   "execution_count": 18,
   "metadata": {
    "colab": {
     "base_uri": "https://localhost:8080/",
     "height": 329
    },
    "colab_type": "code",
    "id": "GGAad54JOIVm",
    "outputId": "9e98ff12-310b-4e46-8bb1-e15800a9612b"
   },
   "outputs": [
    {
     "name": "stdout",
     "output_type": "stream",
     "text": [
      "Model: \"sequential_2\"\n",
      "_________________________________________________________________\n",
      "Layer (type)                 Output Shape              Param #   \n",
      "=================================================================\n",
      "reshape_2 (Reshape)          (None, 784)               0         \n",
      "_________________________________________________________________\n",
      "dense_2 (Dense)              (None, 100)               78500     \n",
      "_________________________________________________________________\n",
      "dense_3 (Dense)              (None, 100)               10100     \n",
      "_________________________________________________________________\n",
      "batch_normalization_1 (Batch (None, 100)               400       \n",
      "_________________________________________________________________\n",
      "dense_4 (Dense)              (None, 10)                1010      \n",
      "=================================================================\n",
      "Total params: 90,010\n",
      "Trainable params: 89,810\n",
      "Non-trainable params: 200\n",
      "_________________________________________________________________\n"
     ]
    }
   ],
   "source": [
    "### Build the architecture\n",
    "\n",
    "# Initialize Sequential model\n",
    "model = tf.keras.models.Sequential()\n",
    "\n",
    "# Reshape data from 2D to 1D -> 28x28 to 784\n",
    "model.add(tf.keras.layers.Reshape((784,),input_shape=(28,28,)))\n",
    "\n",
    "# Add Dense Layer \n",
    "model.add(tf.keras.layers.Dense(100, activation='sigmoid'))\n",
    "model.add(tf.keras.layers.Dense(100, activation='sigmoid'))\n",
    "\n",
    "# Normalize the data\n",
    "model.add(tf.keras.layers.BatchNormalization())\n",
    "\n",
    "model.add(tf.keras.layers.Dense(10, activation='softmax'))\n",
    "\n",
    "model.summary()\n",
    "\n",
    "### Compile the model\n",
    "opt = tf.keras.optimizers.SGD(learning_rate=0.03)\n",
    "\n",
    "model.compile(optimizer='sgd',\n",
    "              loss='categorical_crossentropy',\n",
    "              metrics=['accuracy'])"
   ]
  },
  {
   "cell_type": "code",
   "execution_count": 19,
   "metadata": {
    "colab": {
     "base_uri": "https://localhost:8080/",
     "height": 1000
    },
    "colab_type": "code",
    "id": "MQ7oIymROIVp",
    "outputId": "db9fff2a-f7c0-4026-87dc-c368b2cb82bb"
   },
   "outputs": [
    {
     "name": "stdout",
     "output_type": "stream",
     "text": [
      "Train on 60000 samples\n",
      "Epoch 1/50\n",
      "60000/60000 [==============================] - 5s 87us/sample - loss: 1.2871 - accuracy: 0.5071\n",
      "Epoch 2/50\n",
      "60000/60000 [==============================] - 5s 88us/sample - loss: 1.2679 - accuracy: 0.4885\n",
      "Epoch 3/50\n",
      "60000/60000 [==============================] - 5s 84us/sample - loss: 1.0922 - accuracy: 0.5745\n",
      "Epoch 4/50\n",
      "60000/60000 [==============================] - 5s 81us/sample - loss: 1.1129 - accuracy: 0.5505\n",
      "Epoch 5/50\n",
      "60000/60000 [==============================] - 5s 82us/sample - loss: 0.9567 - accuracy: 0.6401\n",
      "Epoch 6/50\n",
      "60000/60000 [==============================] - 5s 82us/sample - loss: 1.0688 - accuracy: 0.5757\n",
      "Epoch 7/50\n",
      "60000/60000 [==============================] - 5s 81us/sample - loss: 1.0861 - accuracy: 0.5744\n",
      "Epoch 8/50\n",
      "60000/60000 [==============================] - 5s 81us/sample - loss: 0.9909 - accuracy: 0.6176\n",
      "Epoch 9/50\n",
      "60000/60000 [==============================] - 5s 82us/sample - loss: 1.0101 - accuracy: 0.6127\n",
      "Epoch 10/50\n",
      "60000/60000 [==============================] - 5s 81us/sample - loss: 1.0001 - accuracy: 0.6123\n",
      "Epoch 11/50\n",
      "60000/60000 [==============================] - 5s 82us/sample - loss: 0.9186 - accuracy: 0.6536\n",
      "Epoch 12/50\n",
      "60000/60000 [==============================] - 5s 82us/sample - loss: 0.9071 - accuracy: 0.6505\n",
      "Epoch 13/50\n",
      "60000/60000 [==============================] - 5s 83us/sample - loss: 0.9404 - accuracy: 0.6433\n",
      "Epoch 14/50\n",
      "60000/60000 [==============================] - 5s 83us/sample - loss: 0.8329 - accuracy: 0.6805\n",
      "Epoch 15/50\n",
      "60000/60000 [==============================] - 5s 81us/sample - loss: 0.8101 - accuracy: 0.6873\n",
      "Epoch 16/50\n",
      "60000/60000 [==============================] - 5s 80us/sample - loss: 0.8081 - accuracy: 0.7008\n",
      "Epoch 17/50\n",
      "60000/60000 [==============================] - 5s 83us/sample - loss: 0.7879 - accuracy: 0.7046\n",
      "Epoch 18/50\n",
      "60000/60000 [==============================] - 5s 82us/sample - loss: 0.8525 - accuracy: 0.6671\n",
      "Epoch 19/50\n",
      "60000/60000 [==============================] - 5s 81us/sample - loss: 0.8248 - accuracy: 0.6990\n",
      "Epoch 20/50\n",
      "60000/60000 [==============================] - 5s 86us/sample - loss: 0.7797 - accuracy: 0.7057\n",
      "Epoch 21/50\n",
      "60000/60000 [==============================] - 5s 86us/sample - loss: 0.7875 - accuracy: 0.7075\n",
      "Epoch 22/50\n",
      "60000/60000 [==============================] - 5s 82us/sample - loss: 0.7837 - accuracy: 0.6950\n",
      "Epoch 23/50\n",
      "60000/60000 [==============================] - 5s 80us/sample - loss: 0.8030 - accuracy: 0.6896\n",
      "Epoch 24/50\n",
      "60000/60000 [==============================] - 5s 81us/sample - loss: 0.8049 - accuracy: 0.6865\n",
      "Epoch 25/50\n",
      "60000/60000 [==============================] - 5s 80us/sample - loss: 0.7707 - accuracy: 0.7088\n",
      "Epoch 26/50\n",
      "60000/60000 [==============================] - 5s 81us/sample - loss: 0.7822 - accuracy: 0.7042\n",
      "Epoch 27/50\n",
      "60000/60000 [==============================] - 5s 82us/sample - loss: 0.8482 - accuracy: 0.6660\n",
      "Epoch 28/50\n",
      "60000/60000 [==============================] - 5s 82us/sample - loss: 0.9056 - accuracy: 0.6439\n",
      "Epoch 29/50\n",
      "60000/60000 [==============================] - 5s 81us/sample - loss: 0.8502 - accuracy: 0.6755\n",
      "Epoch 30/50\n",
      "60000/60000 [==============================] - 5s 81us/sample - loss: 0.8248 - accuracy: 0.6855\n",
      "Epoch 31/50\n",
      "60000/60000 [==============================] - 5s 82us/sample - loss: 0.8886 - accuracy: 0.6607\n",
      "Epoch 32/50\n",
      "60000/60000 [==============================] - 5s 81us/sample - loss: 0.8521 - accuracy: 0.6687\n",
      "Epoch 33/50\n",
      "60000/60000 [==============================] - 5s 80us/sample - loss: 0.8327 - accuracy: 0.6855\n",
      "Epoch 34/50\n",
      "60000/60000 [==============================] - 5s 81us/sample - loss: 0.8424 - accuracy: 0.6715\n",
      "Epoch 35/50\n",
      "60000/60000 [==============================] - 5s 81us/sample - loss: 0.8287 - accuracy: 0.6670\n",
      "Epoch 36/50\n",
      "60000/60000 [==============================] - 5s 81us/sample - loss: 0.8057 - accuracy: 0.6855\n",
      "Epoch 37/50\n",
      "60000/60000 [==============================] - 5s 80us/sample - loss: 0.7814 - accuracy: 0.7055\n",
      "Epoch 38/50\n",
      "60000/60000 [==============================] - 5s 81us/sample - loss: 0.7806 - accuracy: 0.7125\n",
      "Epoch 39/50\n",
      "60000/60000 [==============================] - 5s 81us/sample - loss: 0.7645 - accuracy: 0.7182\n",
      "Epoch 40/50\n",
      "60000/60000 [==============================] - 5s 80us/sample - loss: 0.7406 - accuracy: 0.7166\n",
      "Epoch 41/50\n",
      "60000/60000 [==============================] - 5s 80us/sample - loss: 0.7320 - accuracy: 0.7241\n",
      "Epoch 42/50\n",
      "60000/60000 [==============================] - 5s 81us/sample - loss: 0.7233 - accuracy: 0.7279\n",
      "Epoch 43/50\n",
      "60000/60000 [==============================] - 5s 81us/sample - loss: 0.7426 - accuracy: 0.7254\n",
      "Epoch 44/50\n",
      "60000/60000 [==============================] - 5s 82us/sample - loss: 0.7898 - accuracy: 0.6943\n",
      "Epoch 45/50\n",
      "60000/60000 [==============================] - 5s 80us/sample - loss: 0.7568 - accuracy: 0.7207\n",
      "Epoch 46/50\n",
      "60000/60000 [==============================] - 5s 80us/sample - loss: 0.7545 - accuracy: 0.7146\n",
      "Epoch 47/50\n",
      "60000/60000 [==============================] - 5s 82us/sample - loss: 0.7278 - accuracy: 0.7363\n",
      "Epoch 48/50\n",
      "60000/60000 [==============================] - 5s 80us/sample - loss: 0.7083 - accuracy: 0.7525\n",
      "Epoch 49/50\n",
      "60000/60000 [==============================] - 5s 80us/sample - loss: 0.7426 - accuracy: 0.7384\n",
      "Epoch 50/50\n",
      "60000/60000 [==============================] - 5s 82us/sample - loss: 0.7580 - accuracy: 0.7228\n",
      "Model - test loss: 75.93278111934661\n",
      "Model - test accuracy: 70.77999711036682\n"
     ]
    }
   ],
   "source": [
    "model.fit( trainimages, trainlabels, epochs=50)\n",
    "\n",
    "test_loss, test_acc = model.evaluate(testimages, testlabels, verbose=0)\n",
    "print(\"Model - test loss:\", test_loss * 100)\n",
    "print(\"Model - test accuracy:\", test_acc * 100)"
   ]
  },
  {
   "cell_type": "markdown",
   "metadata": {
    "colab_type": "text",
    "id": "Nr2YsZV0OIV0"
   },
   "source": [
    "## Review model"
   ]
  },
  {
   "cell_type": "code",
   "execution_count": 0,
   "metadata": {
    "colab": {},
    "colab_type": "code",
    "id": "JMgPfmK1nCZT"
   },
   "outputs": [],
   "source": [
    "### Build NN model with hidden layers for differenct acivation function and output layer with softmax as an activation function\n",
    "\n",
    "def Build_NN_3layer(hidden_layer_activation_func):\n",
    "  ### Build the architecture\n",
    "  print('Build NN model with 3 dense layer and for hidden layer activation func is {} '.format(hidden_layer_activation_func))\n",
    "\n",
    "  # Initialize Sequential model\n",
    "  model = tf.keras.models.Sequential()\n",
    "\n",
    "  # Reshape data from 2D to 1D -> 28x28 to 784\n",
    "  model.add(tf.keras.layers.Reshape((784,),input_shape=(28,28,)))\n",
    "\n",
    "  # Add Dense Layer \n",
    "  model.add(tf.keras.layers.Dense(100, activation=hidden_layer_activation_func))\n",
    "  model.add(tf.keras.layers.Dense(100, activation=hidden_layer_activation_func))\n",
    "\n",
    "  # Normalize the data\n",
    "  model.add(tf.keras.layers.BatchNormalization())\n",
    "\n",
    "  model.add(tf.keras.layers.Dense(10, activation='softmax'))\n",
    "\n",
    "  model.summary()\n",
    "\n",
    "  opt = tf.keras.optimizers.SGD(learning_rate=0.001)\n",
    "\n",
    "  ### Compile the model\n",
    "  model.compile(optimizer='sgd',\n",
    "                loss='categorical_crossentropy',\n",
    "                metrics=['accuracy'])\n",
    "\n",
    "  ### Train the model\n",
    "  model_history = model.fit( trainimages, trainlabels, epochs=50, validation_split=0.2)\n",
    "\n",
    "  ### Evaluate the model\n",
    "  test_loss, test_acc = model.evaluate(testimages, testlabels, verbose=0)\n",
    "  print(\"Model - test loss:\", test_loss * 100)\n",
    "  print(\"Model - test accuracy:\", test_acc * 100)\n",
    "\n",
    "  return model_history"
   ]
  },
  {
   "cell_type": "code",
   "execution_count": 21,
   "metadata": {
    "colab": {
     "base_uri": "https://localhost:8080/",
     "height": 1000
    },
    "colab_type": "code",
    "id": "Ot1BKORankma",
    "outputId": "48997760-7eea-49a1-b1ad-6ad76c05917f"
   },
   "outputs": [
    {
     "name": "stdout",
     "output_type": "stream",
     "text": [
      "Build NN model with 3 dense layer and for hidden layer activation func is sigmoid \n",
      "Model: \"sequential_3\"\n",
      "_________________________________________________________________\n",
      "Layer (type)                 Output Shape              Param #   \n",
      "=================================================================\n",
      "reshape_3 (Reshape)          (None, 784)               0         \n",
      "_________________________________________________________________\n",
      "dense_5 (Dense)              (None, 100)               78500     \n",
      "_________________________________________________________________\n",
      "dense_6 (Dense)              (None, 100)               10100     \n",
      "_________________________________________________________________\n",
      "batch_normalization_2 (Batch (None, 100)               400       \n",
      "_________________________________________________________________\n",
      "dense_7 (Dense)              (None, 10)                1010      \n",
      "=================================================================\n",
      "Total params: 90,010\n",
      "Trainable params: 89,810\n",
      "Non-trainable params: 200\n",
      "_________________________________________________________________\n",
      "Train on 48000 samples, validate on 12000 samples\n",
      "Epoch 1/50\n",
      "48000/48000 [==============================] - 5s 108us/sample - loss: 1.3202 - accuracy: 0.4960 - val_loss: 1.0779 - val_accuracy: 0.5337\n",
      "Epoch 2/50\n",
      "48000/48000 [==============================] - 5s 99us/sample - loss: 1.1808 - accuracy: 0.5356 - val_loss: 1.4300 - val_accuracy: 0.4703\n",
      "Epoch 3/50\n",
      "48000/48000 [==============================] - 5s 97us/sample - loss: 1.1347 - accuracy: 0.5556 - val_loss: 1.2071 - val_accuracy: 0.4879\n",
      "Epoch 4/50\n",
      "48000/48000 [==============================] - 5s 96us/sample - loss: 1.1028 - accuracy: 0.5662 - val_loss: 1.1113 - val_accuracy: 0.5368\n",
      "Epoch 5/50\n",
      "48000/48000 [==============================] - 5s 97us/sample - loss: 1.0924 - accuracy: 0.5559 - val_loss: 1.1191 - val_accuracy: 0.5728\n",
      "Epoch 6/50\n",
      "48000/48000 [==============================] - 5s 97us/sample - loss: 1.1006 - accuracy: 0.5583 - val_loss: 1.0563 - val_accuracy: 0.5493\n",
      "Epoch 7/50\n",
      "48000/48000 [==============================] - 5s 96us/sample - loss: 1.1022 - accuracy: 0.5635 - val_loss: 1.8538 - val_accuracy: 0.4370\n",
      "Epoch 8/50\n",
      "48000/48000 [==============================] - 5s 95us/sample - loss: 1.1003 - accuracy: 0.5484 - val_loss: 1.1018 - val_accuracy: 0.5545\n",
      "Epoch 9/50\n",
      "48000/48000 [==============================] - 5s 94us/sample - loss: 0.9257 - accuracy: 0.6344 - val_loss: 0.8815 - val_accuracy: 0.6706\n",
      "Epoch 10/50\n",
      "48000/48000 [==============================] - 5s 94us/sample - loss: 0.9475 - accuracy: 0.6346 - val_loss: 1.0629 - val_accuracy: 0.5922\n",
      "Epoch 11/50\n",
      "48000/48000 [==============================] - 5s 94us/sample - loss: 0.9377 - accuracy: 0.6381 - val_loss: 0.9209 - val_accuracy: 0.6522\n",
      "Epoch 12/50\n",
      "48000/48000 [==============================] - 5s 96us/sample - loss: 0.8920 - accuracy: 0.6660 - val_loss: 0.8389 - val_accuracy: 0.6836\n",
      "Epoch 13/50\n",
      "48000/48000 [==============================] - 5s 97us/sample - loss: 0.8758 - accuracy: 0.6699 - val_loss: 0.9310 - val_accuracy: 0.6481\n",
      "Epoch 14/50\n",
      "48000/48000 [==============================] - 5s 97us/sample - loss: 1.0377 - accuracy: 0.5973 - val_loss: 1.2344 - val_accuracy: 0.4693\n",
      "Epoch 15/50\n",
      "48000/48000 [==============================] - 5s 95us/sample - loss: 1.0988 - accuracy: 0.5790 - val_loss: 0.9273 - val_accuracy: 0.6628\n",
      "Epoch 16/50\n",
      "48000/48000 [==============================] - 5s 95us/sample - loss: 0.9269 - accuracy: 0.6225 - val_loss: 0.9330 - val_accuracy: 0.6342\n",
      "Epoch 17/50\n",
      "48000/48000 [==============================] - 5s 95us/sample - loss: 0.9405 - accuracy: 0.6334 - val_loss: 0.8724 - val_accuracy: 0.6520\n",
      "Epoch 18/50\n",
      "48000/48000 [==============================] - 5s 96us/sample - loss: 0.9514 - accuracy: 0.6278 - val_loss: 0.8660 - val_accuracy: 0.6722\n",
      "Epoch 19/50\n",
      "48000/48000 [==============================] - 5s 97us/sample - loss: 0.8705 - accuracy: 0.6571 - val_loss: 0.8782 - val_accuracy: 0.6707\n",
      "Epoch 20/50\n",
      "48000/48000 [==============================] - 5s 99us/sample - loss: 0.8816 - accuracy: 0.6496 - val_loss: 0.8637 - val_accuracy: 0.6682\n",
      "Epoch 21/50\n",
      "48000/48000 [==============================] - 5s 96us/sample - loss: 0.8513 - accuracy: 0.6644 - val_loss: 0.8601 - val_accuracy: 0.6555\n",
      "Epoch 22/50\n",
      "48000/48000 [==============================] - 5s 95us/sample - loss: 0.8636 - accuracy: 0.6575 - val_loss: 0.7854 - val_accuracy: 0.7002\n",
      "Epoch 23/50\n",
      "48000/48000 [==============================] - 5s 96us/sample - loss: 0.8201 - accuracy: 0.6676 - val_loss: 0.7823 - val_accuracy: 0.6853\n",
      "Epoch 24/50\n",
      "48000/48000 [==============================] - 5s 98us/sample - loss: 0.8241 - accuracy: 0.6690 - val_loss: 0.8223 - val_accuracy: 0.6628\n",
      "Epoch 25/50\n",
      "48000/48000 [==============================] - 5s 95us/sample - loss: 0.8217 - accuracy: 0.6838 - val_loss: 0.8633 - val_accuracy: 0.6643\n",
      "Epoch 26/50\n",
      "48000/48000 [==============================] - 5s 98us/sample - loss: 0.8367 - accuracy: 0.6729 - val_loss: 0.8229 - val_accuracy: 0.6768\n",
      "Epoch 27/50\n",
      "48000/48000 [==============================] - 5s 98us/sample - loss: 0.8025 - accuracy: 0.6861 - val_loss: 0.8102 - val_accuracy: 0.6878\n",
      "Epoch 28/50\n",
      "48000/48000 [==============================] - 5s 97us/sample - loss: 0.7618 - accuracy: 0.6950 - val_loss: 0.7352 - val_accuracy: 0.7039\n",
      "Epoch 29/50\n",
      "48000/48000 [==============================] - 5s 100us/sample - loss: 0.7638 - accuracy: 0.6934 - val_loss: 0.7093 - val_accuracy: 0.7170\n",
      "Epoch 30/50\n",
      "48000/48000 [==============================] - 5s 99us/sample - loss: 0.7391 - accuracy: 0.7081 - val_loss: 0.7138 - val_accuracy: 0.7118\n",
      "Epoch 31/50\n",
      "48000/48000 [==============================] - 5s 97us/sample - loss: 0.7486 - accuracy: 0.6929 - val_loss: 0.8694 - val_accuracy: 0.6383\n",
      "Epoch 32/50\n",
      "48000/48000 [==============================] - 5s 95us/sample - loss: 0.7477 - accuracy: 0.7031 - val_loss: 0.7171 - val_accuracy: 0.7077\n",
      "Epoch 33/50\n",
      "48000/48000 [==============================] - 5s 99us/sample - loss: 0.7702 - accuracy: 0.6859 - val_loss: 0.7343 - val_accuracy: 0.6967\n",
      "Epoch 34/50\n",
      "48000/48000 [==============================] - 5s 96us/sample - loss: 0.8104 - accuracy: 0.6706 - val_loss: 0.7582 - val_accuracy: 0.6855\n",
      "Epoch 35/50\n",
      "48000/48000 [==============================] - 5s 101us/sample - loss: 0.7470 - accuracy: 0.7017 - val_loss: 0.7076 - val_accuracy: 0.7253\n",
      "Epoch 36/50\n",
      "48000/48000 [==============================] - 5s 101us/sample - loss: 0.7305 - accuracy: 0.7185 - val_loss: 0.7361 - val_accuracy: 0.7101\n",
      "Epoch 37/50\n",
      "48000/48000 [==============================] - 5s 97us/sample - loss: 0.7459 - accuracy: 0.7026 - val_loss: 0.7073 - val_accuracy: 0.7068\n",
      "Epoch 38/50\n",
      "48000/48000 [==============================] - 5s 96us/sample - loss: 0.7657 - accuracy: 0.6844 - val_loss: 0.7750 - val_accuracy: 0.6679\n",
      "Epoch 39/50\n",
      "48000/48000 [==============================] - 5s 96us/sample - loss: 0.7542 - accuracy: 0.6997 - val_loss: 0.7358 - val_accuracy: 0.7071\n",
      "Epoch 40/50\n",
      "48000/48000 [==============================] - 5s 98us/sample - loss: 0.7773 - accuracy: 0.7035 - val_loss: 0.7364 - val_accuracy: 0.7125\n",
      "Epoch 41/50\n",
      "48000/48000 [==============================] - 5s 95us/sample - loss: 0.7524 - accuracy: 0.7254 - val_loss: 0.7565 - val_accuracy: 0.7205\n",
      "Epoch 42/50\n",
      "48000/48000 [==============================] - 5s 95us/sample - loss: 0.7213 - accuracy: 0.7125 - val_loss: 0.7146 - val_accuracy: 0.7016\n",
      "Epoch 43/50\n",
      "48000/48000 [==============================] - 5s 96us/sample - loss: 0.7298 - accuracy: 0.7030 - val_loss: 0.7206 - val_accuracy: 0.7139\n",
      "Epoch 44/50\n",
      "48000/48000 [==============================] - 5s 96us/sample - loss: 0.7391 - accuracy: 0.7000 - val_loss: 0.8121 - val_accuracy: 0.6913\n",
      "Epoch 45/50\n",
      "48000/48000 [==============================] - 5s 96us/sample - loss: 0.7467 - accuracy: 0.6978 - val_loss: 0.7362 - val_accuracy: 0.7001\n",
      "Epoch 46/50\n",
      "48000/48000 [==============================] - 5s 98us/sample - loss: 0.7702 - accuracy: 0.6773 - val_loss: 0.7521 - val_accuracy: 0.6817\n",
      "Epoch 47/50\n",
      "48000/48000 [==============================] - 5s 98us/sample - loss: 0.7161 - accuracy: 0.7276 - val_loss: 0.6908 - val_accuracy: 0.7356\n",
      "Epoch 48/50\n",
      "48000/48000 [==============================] - 5s 95us/sample - loss: 0.7166 - accuracy: 0.7301 - val_loss: 0.7035 - val_accuracy: 0.7448\n",
      "Epoch 49/50\n",
      "48000/48000 [==============================] - 5s 97us/sample - loss: 0.7083 - accuracy: 0.7121 - val_loss: 0.7101 - val_accuracy: 0.7036\n",
      "Epoch 50/50\n",
      "48000/48000 [==============================] - 5s 95us/sample - loss: 0.7069 - accuracy: 0.7219 - val_loss: 0.7025 - val_accuracy: 0.7207\n",
      "Model - test loss: 71.6757496881485\n",
      "Model - test accuracy: 72.11999893188477\n"
     ]
    }
   ],
   "source": [
    "sigmoid_model_history = Build_NN_3layer('sigmoid')"
   ]
  },
  {
   "cell_type": "code",
   "execution_count": 22,
   "metadata": {
    "colab": {
     "base_uri": "https://localhost:8080/",
     "height": 1000
    },
    "colab_type": "code",
    "id": "-dYuNCdqpsll",
    "outputId": "40092b4e-69ee-4782-c742-c742803c9738"
   },
   "outputs": [
    {
     "name": "stdout",
     "output_type": "stream",
     "text": [
      "Build NN model with 3 dense layer and for hidden layer activation func is tanh \n",
      "Model: \"sequential_4\"\n",
      "_________________________________________________________________\n",
      "Layer (type)                 Output Shape              Param #   \n",
      "=================================================================\n",
      "reshape_4 (Reshape)          (None, 784)               0         \n",
      "_________________________________________________________________\n",
      "dense_8 (Dense)              (None, 100)               78500     \n",
      "_________________________________________________________________\n",
      "dense_9 (Dense)              (None, 100)               10100     \n",
      "_________________________________________________________________\n",
      "batch_normalization_3 (Batch (None, 100)               400       \n",
      "_________________________________________________________________\n",
      "dense_10 (Dense)             (None, 10)                1010      \n",
      "=================================================================\n",
      "Total params: 90,010\n",
      "Trainable params: 89,810\n",
      "Non-trainable params: 200\n",
      "_________________________________________________________________\n",
      "Train on 48000 samples, validate on 12000 samples\n",
      "Epoch 1/50\n",
      "48000/48000 [==============================] - 5s 109us/sample - loss: 1.7798 - accuracy: 0.2975 - val_loss: 1.5917 - val_accuracy: 0.3544\n",
      "Epoch 2/50\n",
      "48000/48000 [==============================] - 5s 97us/sample - loss: 1.5426 - accuracy: 0.3618 - val_loss: 1.4136 - val_accuracy: 0.4007\n",
      "Epoch 3/50\n",
      "48000/48000 [==============================] - 5s 96us/sample - loss: 1.5320 - accuracy: 0.3566 - val_loss: 1.7896 - val_accuracy: 0.2878\n",
      "Epoch 4/50\n",
      "48000/48000 [==============================] - 5s 95us/sample - loss: 1.6092 - accuracy: 0.3186 - val_loss: 1.5568 - val_accuracy: 0.3147\n",
      "Epoch 5/50\n",
      "48000/48000 [==============================] - 5s 97us/sample - loss: 1.6670 - accuracy: 0.2860 - val_loss: 1.5818 - val_accuracy: 0.2963\n",
      "Epoch 6/50\n",
      "48000/48000 [==============================] - 5s 96us/sample - loss: 1.6500 - accuracy: 0.3239 - val_loss: 1.5974 - val_accuracy: 0.3254\n",
      "Epoch 7/50\n",
      "48000/48000 [==============================] - 5s 95us/sample - loss: 1.5913 - accuracy: 0.3030 - val_loss: 1.7450 - val_accuracy: 0.3060\n",
      "Epoch 8/50\n",
      "48000/48000 [==============================] - 5s 96us/sample - loss: 1.8101 - accuracy: 0.2479 - val_loss: 1.9616 - val_accuracy: 0.2575\n",
      "Epoch 9/50\n",
      "48000/48000 [==============================] - 5s 96us/sample - loss: 1.8307 - accuracy: 0.2811 - val_loss: 2.7714 - val_accuracy: 0.1568\n",
      "Epoch 10/50\n",
      "48000/48000 [==============================] - 5s 98us/sample - loss: 1.7047 - accuracy: 0.3226 - val_loss: 1.5790 - val_accuracy: 0.3638\n",
      "Epoch 11/50\n",
      "48000/48000 [==============================] - 5s 96us/sample - loss: 1.6829 - accuracy: 0.3203 - val_loss: 1.8279 - val_accuracy: 0.2918\n",
      "Epoch 12/50\n",
      "48000/48000 [==============================] - 5s 100us/sample - loss: 1.8221 - accuracy: 0.2686 - val_loss: 1.7967 - val_accuracy: 0.2798\n",
      "Epoch 13/50\n",
      "48000/48000 [==============================] - 5s 100us/sample - loss: 1.8730 - accuracy: 0.2555 - val_loss: 1.6300 - val_accuracy: 0.2608\n",
      "Epoch 14/50\n",
      "48000/48000 [==============================] - 5s 100us/sample - loss: 1.5685 - accuracy: 0.3577 - val_loss: 1.5764 - val_accuracy: 0.3386\n",
      "Epoch 15/50\n",
      "48000/48000 [==============================] - 5s 98us/sample - loss: 1.6111 - accuracy: 0.3476 - val_loss: 1.6572 - val_accuracy: 0.3339\n",
      "Epoch 16/50\n",
      "48000/48000 [==============================] - 5s 96us/sample - loss: 1.5176 - accuracy: 0.3439 - val_loss: 1.5512 - val_accuracy: 0.3099\n",
      "Epoch 17/50\n",
      "48000/48000 [==============================] - 5s 96us/sample - loss: 1.5021 - accuracy: 0.3442 - val_loss: 1.4533 - val_accuracy: 0.3862\n",
      "Epoch 18/50\n",
      "48000/48000 [==============================] - 5s 97us/sample - loss: 1.4368 - accuracy: 0.3751 - val_loss: 1.4157 - val_accuracy: 0.3852\n",
      "Epoch 19/50\n",
      "48000/48000 [==============================] - 5s 96us/sample - loss: 1.4909 - accuracy: 0.3562 - val_loss: 1.4197 - val_accuracy: 0.3658\n",
      "Epoch 20/50\n",
      "48000/48000 [==============================] - 5s 96us/sample - loss: 1.4884 - accuracy: 0.3511 - val_loss: 1.4862 - val_accuracy: 0.3544\n",
      "Epoch 21/50\n",
      "48000/48000 [==============================] - 5s 97us/sample - loss: 1.4907 - accuracy: 0.3529 - val_loss: 1.4811 - val_accuracy: 0.3522\n",
      "Epoch 22/50\n",
      "48000/48000 [==============================] - 5s 94us/sample - loss: 1.3994 - accuracy: 0.3762 - val_loss: 1.3366 - val_accuracy: 0.4002\n",
      "Epoch 23/50\n",
      "48000/48000 [==============================] - 5s 96us/sample - loss: 1.3873 - accuracy: 0.4117 - val_loss: 1.3994 - val_accuracy: 0.4246\n",
      "Epoch 24/50\n",
      "48000/48000 [==============================] - 5s 97us/sample - loss: 1.3188 - accuracy: 0.4277 - val_loss: 1.3172 - val_accuracy: 0.4298\n",
      "Epoch 25/50\n",
      "48000/48000 [==============================] - 5s 96us/sample - loss: 1.3359 - accuracy: 0.3990 - val_loss: 1.3641 - val_accuracy: 0.3839\n",
      "Epoch 26/50\n",
      "48000/48000 [==============================] - 5s 96us/sample - loss: 1.3279 - accuracy: 0.3987 - val_loss: 1.2616 - val_accuracy: 0.5074\n",
      "Epoch 27/50\n",
      "48000/48000 [==============================] - 5s 96us/sample - loss: 1.1944 - accuracy: 0.4869 - val_loss: 1.2194 - val_accuracy: 0.4963\n",
      "Epoch 28/50\n",
      "48000/48000 [==============================] - 5s 96us/sample - loss: 1.2323 - accuracy: 0.4412 - val_loss: 1.2554 - val_accuracy: 0.3907\n",
      "Epoch 29/50\n",
      "48000/48000 [==============================] - 5s 95us/sample - loss: 1.4835 - accuracy: 0.3471 - val_loss: 1.2867 - val_accuracy: 0.4248\n",
      "Epoch 30/50\n",
      "48000/48000 [==============================] - 5s 97us/sample - loss: 1.3082 - accuracy: 0.4367 - val_loss: 1.3529 - val_accuracy: 0.3870\n",
      "Epoch 31/50\n",
      "48000/48000 [==============================] - 5s 99us/sample - loss: 1.3061 - accuracy: 0.4354 - val_loss: 1.2293 - val_accuracy: 0.4892\n",
      "Epoch 32/50\n",
      "48000/48000 [==============================] - 5s 97us/sample - loss: 1.2612 - accuracy: 0.4835 - val_loss: 1.3017 - val_accuracy: 0.4641\n",
      "Epoch 33/50\n",
      "48000/48000 [==============================] - 5s 97us/sample - loss: 1.3110 - accuracy: 0.4503 - val_loss: 1.2386 - val_accuracy: 0.4524\n",
      "Epoch 34/50\n",
      "48000/48000 [==============================] - 5s 95us/sample - loss: 1.1949 - accuracy: 0.5004 - val_loss: 1.2158 - val_accuracy: 0.4987\n",
      "Epoch 35/50\n",
      "48000/48000 [==============================] - 5s 95us/sample - loss: 1.1880 - accuracy: 0.5062 - val_loss: 1.0959 - val_accuracy: 0.5888\n",
      "Epoch 36/50\n",
      "48000/48000 [==============================] - 5s 96us/sample - loss: 1.0750 - accuracy: 0.5490 - val_loss: 1.0998 - val_accuracy: 0.4850\n",
      "Epoch 37/50\n",
      "48000/48000 [==============================] - 5s 97us/sample - loss: 1.1281 - accuracy: 0.5284 - val_loss: 1.1417 - val_accuracy: 0.5236\n",
      "Epoch 38/50\n",
      "48000/48000 [==============================] - 5s 96us/sample - loss: 1.1213 - accuracy: 0.5429 - val_loss: 1.2265 - val_accuracy: 0.4836\n",
      "Epoch 39/50\n",
      "48000/48000 [==============================] - 5s 97us/sample - loss: 1.2276 - accuracy: 0.5052 - val_loss: 1.2653 - val_accuracy: 0.4966\n",
      "Epoch 40/50\n",
      "48000/48000 [==============================] - 5s 97us/sample - loss: 1.1570 - accuracy: 0.5390 - val_loss: 1.1270 - val_accuracy: 0.5615\n",
      "Epoch 41/50\n",
      "48000/48000 [==============================] - 5s 98us/sample - loss: 1.1120 - accuracy: 0.5372 - val_loss: 1.2335 - val_accuracy: 0.4772\n",
      "Epoch 42/50\n",
      "48000/48000 [==============================] - 5s 96us/sample - loss: 1.2127 - accuracy: 0.4883 - val_loss: 1.1654 - val_accuracy: 0.5244\n",
      "Epoch 43/50\n",
      "48000/48000 [==============================] - 5s 96us/sample - loss: 1.2882 - accuracy: 0.4460 - val_loss: 1.3546 - val_accuracy: 0.4059\n",
      "Epoch 44/50\n",
      "48000/48000 [==============================] - 5s 97us/sample - loss: 1.3444 - accuracy: 0.3875 - val_loss: 1.2953 - val_accuracy: 0.4219\n",
      "Epoch 45/50\n",
      "48000/48000 [==============================] - 5s 96us/sample - loss: 1.2689 - accuracy: 0.4320 - val_loss: 1.2429 - val_accuracy: 0.4468\n",
      "Epoch 46/50\n",
      "48000/48000 [==============================] - 5s 97us/sample - loss: 1.2126 - accuracy: 0.4609 - val_loss: 1.1786 - val_accuracy: 0.5117\n",
      "Epoch 47/50\n",
      "48000/48000 [==============================] - 5s 97us/sample - loss: 1.1382 - accuracy: 0.5059 - val_loss: 1.1135 - val_accuracy: 0.5226\n",
      "Epoch 48/50\n",
      "48000/48000 [==============================] - 5s 97us/sample - loss: 1.2312 - accuracy: 0.4432 - val_loss: 1.1924 - val_accuracy: 0.4568\n",
      "Epoch 49/50\n",
      "48000/48000 [==============================] - 5s 96us/sample - loss: 1.2042 - accuracy: 0.4787 - val_loss: 1.0905 - val_accuracy: 0.5368\n",
      "Epoch 50/50\n",
      "48000/48000 [==============================] - 5s 97us/sample - loss: 1.1019 - accuracy: 0.5166 - val_loss: 1.3058 - val_accuracy: 0.3712\n",
      "Model - test loss: 132.50010482788085\n",
      "Model - test accuracy: 36.809998750686646\n"
     ]
    }
   ],
   "source": [
    "tan_model_history = Build_NN_3layer('tanh')"
   ]
  },
  {
   "cell_type": "code",
   "execution_count": 23,
   "metadata": {
    "colab": {
     "base_uri": "https://localhost:8080/",
     "height": 1000
    },
    "colab_type": "code",
    "id": "LbhPwQ1Dps7f",
    "outputId": "8a018a6c-bce8-4648-ae45-da651a2b37e3"
   },
   "outputs": [
    {
     "name": "stdout",
     "output_type": "stream",
     "text": [
      "Build NN model with 3 dense layer and for hidden layer activation func is relu \n",
      "Model: \"sequential_5\"\n",
      "_________________________________________________________________\n",
      "Layer (type)                 Output Shape              Param #   \n",
      "=================================================================\n",
      "reshape_5 (Reshape)          (None, 784)               0         \n",
      "_________________________________________________________________\n",
      "dense_11 (Dense)             (None, 100)               78500     \n",
      "_________________________________________________________________\n",
      "dense_12 (Dense)             (None, 100)               10100     \n",
      "_________________________________________________________________\n",
      "batch_normalization_4 (Batch (None, 100)               400       \n",
      "_________________________________________________________________\n",
      "dense_13 (Dense)             (None, 10)                1010      \n",
      "=================================================================\n",
      "Total params: 90,010\n",
      "Trainable params: 89,810\n",
      "Non-trainable params: 200\n",
      "_________________________________________________________________\n",
      "Train on 48000 samples, validate on 12000 samples\n",
      "Epoch 1/50\n",
      "48000/48000 [==============================] - 5s 112us/sample - loss: 0.6303 - accuracy: 0.7847 - val_loss: 0.5932 - val_accuracy: 0.7892\n",
      "Epoch 2/50\n",
      "48000/48000 [==============================] - 5s 102us/sample - loss: 0.5184 - accuracy: 0.8208 - val_loss: 0.5773 - val_accuracy: 0.8115\n",
      "Epoch 3/50\n",
      "48000/48000 [==============================] - 5s 100us/sample - loss: 0.4704 - accuracy: 0.8370 - val_loss: 0.4830 - val_accuracy: 0.8331\n",
      "Epoch 4/50\n",
      "48000/48000 [==============================] - 5s 98us/sample - loss: 0.4475 - accuracy: 0.8408 - val_loss: 0.4407 - val_accuracy: 0.8449\n",
      "Epoch 5/50\n",
      "48000/48000 [==============================] - 5s 95us/sample - loss: 0.4182 - accuracy: 0.8526 - val_loss: 0.4080 - val_accuracy: 0.8577\n",
      "Epoch 6/50\n",
      "48000/48000 [==============================] - 5s 98us/sample - loss: 0.3969 - accuracy: 0.8596 - val_loss: 0.4443 - val_accuracy: 0.8543\n",
      "Epoch 7/50\n",
      "48000/48000 [==============================] - 5s 98us/sample - loss: 0.3831 - accuracy: 0.8642 - val_loss: 0.4182 - val_accuracy: 0.8583\n",
      "Epoch 8/50\n",
      "48000/48000 [==============================] - 5s 97us/sample - loss: 0.3713 - accuracy: 0.8683 - val_loss: 0.4266 - val_accuracy: 0.8540\n",
      "Epoch 9/50\n",
      "48000/48000 [==============================] - 5s 98us/sample - loss: 0.3779 - accuracy: 0.8641 - val_loss: 0.4063 - val_accuracy: 0.8638\n",
      "Epoch 10/50\n",
      "48000/48000 [==============================] - 5s 96us/sample - loss: 0.3704 - accuracy: 0.8688 - val_loss: 0.4153 - val_accuracy: 0.8610\n",
      "Epoch 11/50\n",
      "48000/48000 [==============================] - 5s 96us/sample - loss: 0.3529 - accuracy: 0.8739 - val_loss: 0.3996 - val_accuracy: 0.8606\n",
      "Epoch 12/50\n",
      "48000/48000 [==============================] - 5s 98us/sample - loss: 0.3490 - accuracy: 0.8758 - val_loss: 0.4099 - val_accuracy: 0.8593\n",
      "Epoch 13/50\n",
      "48000/48000 [==============================] - 5s 97us/sample - loss: 0.3423 - accuracy: 0.8780 - val_loss: 0.4196 - val_accuracy: 0.8552\n",
      "Epoch 14/50\n",
      "48000/48000 [==============================] - 5s 98us/sample - loss: 0.3274 - accuracy: 0.8821 - val_loss: 0.3696 - val_accuracy: 0.8752\n",
      "Epoch 15/50\n",
      "48000/48000 [==============================] - 5s 100us/sample - loss: 0.3660 - accuracy: 0.8693 - val_loss: 0.4607 - val_accuracy: 0.8305\n",
      "Epoch 16/50\n",
      "48000/48000 [==============================] - 5s 98us/sample - loss: 0.3461 - accuracy: 0.8759 - val_loss: 0.3883 - val_accuracy: 0.8683\n",
      "Epoch 17/50\n",
      "48000/48000 [==============================] - 5s 96us/sample - loss: 0.3327 - accuracy: 0.8812 - val_loss: 0.4245 - val_accuracy: 0.8517\n",
      "Epoch 18/50\n",
      "48000/48000 [==============================] - 5s 95us/sample - loss: 0.3190 - accuracy: 0.8842 - val_loss: 0.3543 - val_accuracy: 0.8739\n",
      "Epoch 19/50\n",
      "48000/48000 [==============================] - 5s 97us/sample - loss: 0.3109 - accuracy: 0.8874 - val_loss: 0.3533 - val_accuracy: 0.8777\n",
      "Epoch 20/50\n",
      "48000/48000 [==============================] - 5s 98us/sample - loss: 0.3047 - accuracy: 0.8890 - val_loss: 0.3524 - val_accuracy: 0.8763\n",
      "Epoch 21/50\n",
      "48000/48000 [==============================] - 5s 97us/sample - loss: 0.2990 - accuracy: 0.8930 - val_loss: 0.3603 - val_accuracy: 0.8758\n",
      "Epoch 22/50\n",
      "48000/48000 [==============================] - 5s 97us/sample - loss: 0.3044 - accuracy: 0.8914 - val_loss: 0.3665 - val_accuracy: 0.8708\n",
      "Epoch 23/50\n",
      "48000/48000 [==============================] - 5s 96us/sample - loss: 0.2940 - accuracy: 0.8930 - val_loss: 0.3600 - val_accuracy: 0.8755\n",
      "Epoch 24/50\n",
      "48000/48000 [==============================] - 5s 97us/sample - loss: 0.2880 - accuracy: 0.8971 - val_loss: 0.3704 - val_accuracy: 0.8754\n",
      "Epoch 25/50\n",
      "48000/48000 [==============================] - 5s 96us/sample - loss: 0.2786 - accuracy: 0.8990 - val_loss: 0.3459 - val_accuracy: 0.8788\n",
      "Epoch 26/50\n",
      "48000/48000 [==============================] - 5s 97us/sample - loss: 0.2808 - accuracy: 0.8985 - val_loss: 0.4960 - val_accuracy: 0.8614\n",
      "Epoch 27/50\n",
      "48000/48000 [==============================] - 5s 100us/sample - loss: 0.2852 - accuracy: 0.8967 - val_loss: 0.3761 - val_accuracy: 0.8786\n",
      "Epoch 28/50\n",
      "48000/48000 [==============================] - 5s 99us/sample - loss: 0.2730 - accuracy: 0.9014 - val_loss: 0.3463 - val_accuracy: 0.8823\n",
      "Epoch 29/50\n",
      "48000/48000 [==============================] - 5s 96us/sample - loss: 0.2681 - accuracy: 0.9025 - val_loss: 0.4187 - val_accuracy: 0.8773\n",
      "Epoch 30/50\n",
      "48000/48000 [==============================] - 5s 95us/sample - loss: 0.2598 - accuracy: 0.9046 - val_loss: 0.3773 - val_accuracy: 0.8777\n",
      "Epoch 31/50\n",
      "48000/48000 [==============================] - 5s 97us/sample - loss: 0.2573 - accuracy: 0.9062 - val_loss: 0.3736 - val_accuracy: 0.8796\n",
      "Epoch 32/50\n",
      "48000/48000 [==============================] - 5s 96us/sample - loss: 0.2537 - accuracy: 0.9085 - val_loss: 0.4086 - val_accuracy: 0.8776\n",
      "Epoch 33/50\n",
      "48000/48000 [==============================] - 5s 98us/sample - loss: 0.2510 - accuracy: 0.9091 - val_loss: 0.4060 - val_accuracy: 0.8737\n",
      "Epoch 34/50\n",
      "48000/48000 [==============================] - 5s 97us/sample - loss: 0.2466 - accuracy: 0.9104 - val_loss: 0.3512 - val_accuracy: 0.8823\n",
      "Epoch 35/50\n",
      "48000/48000 [==============================] - 5s 97us/sample - loss: 0.2440 - accuracy: 0.9105 - val_loss: 0.3531 - val_accuracy: 0.8764\n",
      "Epoch 36/50\n",
      "48000/48000 [==============================] - 5s 96us/sample - loss: 0.2380 - accuracy: 0.9150 - val_loss: 0.4435 - val_accuracy: 0.8770\n",
      "Epoch 37/50\n",
      "48000/48000 [==============================] - 5s 95us/sample - loss: 0.2362 - accuracy: 0.9136 - val_loss: 0.4596 - val_accuracy: 0.8819\n",
      "Epoch 38/50\n",
      "48000/48000 [==============================] - 5s 96us/sample - loss: 0.2579 - accuracy: 0.9070 - val_loss: 0.3918 - val_accuracy: 0.8821\n",
      "Epoch 39/50\n",
      "48000/48000 [==============================] - 5s 96us/sample - loss: 0.2436 - accuracy: 0.9120 - val_loss: 0.4219 - val_accuracy: 0.8811\n",
      "Epoch 40/50\n",
      "48000/48000 [==============================] - 5s 95us/sample - loss: 0.2345 - accuracy: 0.9148 - val_loss: 0.4073 - val_accuracy: 0.8839\n",
      "Epoch 41/50\n",
      "48000/48000 [==============================] - 5s 99us/sample - loss: 0.2307 - accuracy: 0.9162 - val_loss: 0.4356 - val_accuracy: 0.8837\n",
      "Epoch 42/50\n",
      "48000/48000 [==============================] - 5s 98us/sample - loss: 0.2345 - accuracy: 0.9141 - val_loss: 0.3650 - val_accuracy: 0.8857\n",
      "Epoch 43/50\n",
      "48000/48000 [==============================] - 5s 96us/sample - loss: 0.2302 - accuracy: 0.9156 - val_loss: 0.3750 - val_accuracy: 0.8829\n",
      "Epoch 44/50\n",
      "48000/48000 [==============================] - 5s 94us/sample - loss: 0.2213 - accuracy: 0.9199 - val_loss: 0.3941 - val_accuracy: 0.8821\n",
      "Epoch 45/50\n",
      "48000/48000 [==============================] - 5s 97us/sample - loss: 0.2216 - accuracy: 0.9192 - val_loss: 0.3589 - val_accuracy: 0.8831\n",
      "Epoch 46/50\n",
      "48000/48000 [==============================] - 5s 95us/sample - loss: 0.2152 - accuracy: 0.9222 - val_loss: 0.4350 - val_accuracy: 0.8821\n",
      "Epoch 47/50\n",
      "48000/48000 [==============================] - 5s 96us/sample - loss: 0.2193 - accuracy: 0.9192 - val_loss: 0.4847 - val_accuracy: 0.8816\n",
      "Epoch 48/50\n",
      "48000/48000 [==============================] - 5s 96us/sample - loss: 0.2133 - accuracy: 0.9219 - val_loss: 0.4195 - val_accuracy: 0.8835\n",
      "Epoch 49/50\n",
      "48000/48000 [==============================] - 5s 98us/sample - loss: 0.2098 - accuracy: 0.9239 - val_loss: 0.4289 - val_accuracy: 0.8827\n",
      "Epoch 50/50\n",
      "48000/48000 [==============================] - 5s 96us/sample - loss: 0.2146 - accuracy: 0.9220 - val_loss: 0.4158 - val_accuracy: 0.8818\n",
      "Model - test loss: 49.99462525963783\n",
      "Model - test accuracy: 87.11000084877014\n"
     ]
    }
   ],
   "source": [
    "relu_model_history = Build_NN_3layer('relu')"
   ]
  },
  {
   "cell_type": "code",
   "execution_count": 42,
   "metadata": {
    "colab": {
     "base_uri": "https://localhost:8080/",
     "height": 683
    },
    "colab_type": "code",
    "id": "z9MGoZBcFqV_",
    "outputId": "8fd4e1f3-c73a-4e2a-b86f-06aac23a64da"
   },
   "outputs": [
    {
     "data": {
      "image/png": "[encoded data removed]",
      "text/plain": [
       "<Figure size 1296x360 with 3 Axes>"
      ]
     },
     "metadata": {
      "tags": []
     },
     "output_type": "display_data"
    },
    {
     "data": {
      "image/png": "[encoded data removed]",
      "text/plain": [
       "<Figure size 1296x360 with 3 Axes>"
      ]
     },
     "metadata": {
      "tags": []
     },
     "output_type": "display_data"
    }
   ],
   "source": [
    "def plot_model_history(ax, history, train_metric, val_metric, actv_func ):\n",
    "  ax.plot(history[train_metric], 'green',label='train data-set')\n",
    "  ax.plot(history[val_metric], 'red',label='validate data-set')\n",
    "  ax.set_title('Model {} for the {} transfer function'.format(train_metric,actv_func))\n",
    "  ax.set_ylabel(train_metric)\n",
    "  ax.set_xlabel('epoch')\n",
    "  ax.legend()\n",
    "\n",
    "\n",
    "fig, ax = plt.subplots(1, 3, figsize=(18,5))\n",
    "plot_model_history(ax[0], sigmoid_model_history.history, 'accuracy', 'val_accuracy', 'sigmoid')\n",
    "plot_model_history(ax[1], tan_model_history.history, 'accuracy', 'val_accuracy', 'tanh')\n",
    "plot_model_history(ax[2], relu_model_history.history, 'accuracy', 'val_accuracy', 'relu')\n",
    "  \n",
    "fig, ax = plt.subplots(1, 3, figsize=(18,5))\n",
    "plot_model_history(ax[0], sigmoid_model_history.history, 'loss', 'val_loss', 'sigmoid')\n",
    "plot_model_history(ax[1], tan_model_history.history, 'loss', 'val_loss', 'tanh')\n",
    "plot_model_history(ax[2], relu_model_history.history, 'loss', 'val_loss', 'relu')\n",
    "\n",
    "plt.show()"
   ]
  },
  {
   "cell_type": "markdown",
   "metadata": {
    "colab_type": "text",
    "id": "0-xK_2KUku6u"
   },
   "source": [
    "\n",
    "## Inferences:\n",
    "\n",
    "* With Batch normalisation the loss and accuracy improves and along with better learning rater it is improved further.\n",
    "\n",
    "* From the above it can be infered that model(learning rate=0.001 and batch normalisation applied) with hidden layer that has relu as a activation function has better accuracy and loss while compared to other activation models.\n",
    "\n",
    "1. Model without normalisation:\n",
    "\n",
    "    test loss: 295555.19167968753\n",
    "    test accuracy: 75.06999969482422\n",
    "\n",
    "2. With Batch normlisation applied between hidden and outpt layer:\n",
    "\n",
    "    test loss: 47.25076379776001\n",
    "    test accuracy: 84.11999940872192\n",
    "\n",
    "3. Along with Batch normalisation and better learning rate:\n",
    "\n",
    "    test loss: 45.963968319892885\n",
    "    test accuracy: 84.36999917030334\n",
    "\n",
    "4. Model's hidden layer activation function-sigmoid:\n",
    "\n",
    "    test loss: 71.6757496881485\n",
    "    test accuracy: 72.11999893188477\n",
    "\n",
    "5. Model's hidden layer activation function-tanh:\n",
    "    \n",
    "    test loss: 132.50010482788085\n",
    "    test accuracy: 36.809998750686646\n",
    "\n",
    "6. Model's hidden layer activation function-relu:\n",
    "  \n",
    "    Model - test loss: 49.99462525963783\n",
    "    Model - test accuracy: 87.11000084877014\n",
    "\n",
    "For the given example, from the above results it can be observed that observation-6 is better than others."
   ]
  }
 ],
 "metadata": {
  "accelerator": "GPU",
  "colab": {
   "collapsed_sections": [],
   "name": "R6_ExternalLab_AIML-1.ipynb",
   "provenance": []
  },
  "kernelspec": {
   "display_name": "Python 3",
   "language": "python",
   "name": "python3"
  },
  "language_info": {
   "codemirror_mode": {
    "name": "ipython",
    "version": 3
   },
   "file_extension": ".py",
   "mimetype": "text/x-python",
   "name": "python",
   "nbconvert_exporter": "python",
   "pygments_lexer": "ipython3",
   "version": "3.7.3"
  }
 },
 "nbformat": 4,
 "nbformat_minor": 1
}
