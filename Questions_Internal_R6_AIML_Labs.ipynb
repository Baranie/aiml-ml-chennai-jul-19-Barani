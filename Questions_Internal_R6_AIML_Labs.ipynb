{
 "cells": [
  {
   "cell_type": "markdown",
   "metadata": {
    "colab_type": "text",
    "id": "zUZjPnVXGz0Z"
   },
   "source": [
    "# The Iris Dataset\n",
    "The data set consists of 50 samples from each of three species of Iris (Iris setosa, Iris virginica and Iris versicolor). Four features were measured from each sample: the length and the width of the sepals and petals, in centimeters.\n",
    "\n",
    "The dataset contains a set of 150 records under five attributes - petal length, petal width, sepal length, sepal width and species."
   ]
  },
  {
   "cell_type": "markdown",
   "metadata": {
    "colab_type": "text",
    "id": "RMbmpriavLE9"
   },
   "source": [
    "### Specifying the TensorFlow version\n",
    "Running `import tensorflow` will import the default version (currently 1.x). You can use 2.x by running a cell with the `tensorflow_version` magic **before** you run `import tensorflow`."
   ]
  },
  {
   "cell_type": "code",
   "execution_count": 1,
   "metadata": {
    "colab": {
     "base_uri": "https://localhost:8080/",
     "height": 35
    },
    "colab_type": "code",
    "id": "fu8bUU__oa7h",
    "outputId": "6046ad1b-9aab-4b43-d8aa-3ef0830c5243"
   },
   "outputs": [
    {
     "name": "stdout",
     "output_type": "stream",
     "text": [
      "TensorFlow 2.x selected.\n"
     ]
    }
   ],
   "source": [
    "%tensorflow_version 2.x"
   ]
  },
  {
   "cell_type": "markdown",
   "metadata": {
    "colab_type": "text",
    "id": "bLz1Ckvfvn6D"
   },
   "source": [
    "### Import TensorFlow\n",
    "Once you have specified a version via this magic, you can run `import tensorflow` as normal and verify which version was imported as follows:"
   ]
  },
  {
   "cell_type": "code",
   "execution_count": 2,
   "metadata": {
    "colab": {
     "base_uri": "https://localhost:8080/",
     "height": 35
    },
    "colab_type": "code",
    "id": "CWrzVTLOvn6M",
    "outputId": "f46f5f84-7a74-4d60-cb19-d8d5b2eb5b21"
   },
   "outputs": [
    {
     "name": "stdout",
     "output_type": "stream",
     "text": [
      "2.0.0\n"
     ]
    }
   ],
   "source": [
    "import tensorflow as tf\n",
    "print(tf.__version__)"
   ]
  },
  {
   "cell_type": "markdown",
   "metadata": {
    "colab_type": "text",
    "id": "_uYeJgkNuXNC"
   },
   "source": [
    "### Set random seed"
   ]
  },
  {
   "cell_type": "code",
   "execution_count": 0,
   "metadata": {
    "colab": {},
    "colab_type": "code",
    "id": "lcASNsewsfQX"
   },
   "outputs": [],
   "source": [
    "tf.random.set_seed(42)"
   ]
  },
  {
   "cell_type": "markdown",
   "metadata": {
    "colab_type": "text",
    "id": "5-vVQBBqg7DI"
   },
   "source": [
    "## Question 1"
   ]
  },
  {
   "cell_type": "markdown",
   "metadata": {
    "colab_type": "text",
    "id": "kE0EDKvQhEIe"
   },
   "source": [
    "### Import dataset\n",
    "- Import iris dataset\n",
    "- Import the dataset using sklearn library"
   ]
  },
  {
   "cell_type": "code",
   "execution_count": 4,
   "metadata": {
    "colab": {
     "base_uri": "https://localhost:8080/",
     "height": 35
    },
    "colab_type": "code",
    "id": "IOOWpD26Haq3",
    "outputId": "539c2902-c15c-4f96-ac09-216c438e94f8"
   },
   "outputs": [
    {
     "data": {
      "text/plain": [
       "sklearn.utils.Bunch"
      ]
     },
     "execution_count": 4,
     "metadata": {
      "tags": []
     },
     "output_type": "execute_result"
    }
   ],
   "source": [
    "from sklearn.datasets import load_iris\n",
    "data = load_iris()\n",
    "type(data)"
   ]
  },
  {
   "cell_type": "markdown",
   "metadata": {
    "colab_type": "text",
    "id": "ta8YqInTh5v5"
   },
   "source": [
    "## Question 2"
   ]
  },
  {
   "cell_type": "markdown",
   "metadata": {
    "colab_type": "text",
    "id": "HERt3drbhX0i"
   },
   "source": [
    "### Get features and label from the dataset in separate variable\n",
    "- you can get the features using .data method\n",
    "- you can get the features using .target method"
   ]
  },
  {
   "cell_type": "code",
   "execution_count": 0,
   "metadata": {
    "colab": {},
    "colab_type": "code",
    "id": "0cV-_qHAHyvE"
   },
   "outputs": [],
   "source": [
    "features = data.data\n",
    "target = data.target"
   ]
  },
  {
   "cell_type": "markdown",
   "metadata": {
    "colab_type": "text",
    "id": "Qg1A2lkUjFak"
   },
   "source": [
    "## Question 3"
   ]
  },
  {
   "cell_type": "markdown",
   "metadata": {
    "colab_type": "text",
    "id": "3YErwYLCH0N_"
   },
   "source": [
    "### Create train and test data\n",
    "- use train_test_split to get train and test set\n",
    "- set a random_state\n",
    "- test_size: 0.25"
   ]
  },
  {
   "cell_type": "code",
   "execution_count": 6,
   "metadata": {
    "colab": {
     "base_uri": "https://localhost:8080/",
     "height": 104
    },
    "colab_type": "code",
    "id": "TYKNJL85h7pQ",
    "outputId": "9fe74776-6e33-4801-b7a1-c643b0230751"
   },
   "outputs": [
    {
     "name": "stdout",
     "output_type": "stream",
     "text": [
      "Train set size (112, 4) (112,)\n",
      "Test set size (38, 4) (38,)\n"
     ]
    },
    {
     "data": {
      "text/plain": [
       "array([[6.4, 2.7, 5.3, 1.9],\n",
       "       [6.2, 2.2, 4.5, 1.5],\n",
       "       [6.4, 2.8, 5.6, 2.1]])"
      ]
     },
     "execution_count": 6,
     "metadata": {
      "tags": []
     },
     "output_type": "execute_result"
    }
   ],
   "source": [
    "from sklearn.model_selection import train_test_split\n",
    "x_train,x_test,y_train,y_test = train_test_split(features,target,test_size=0.25,random_state=3)\n",
    "print('Train set size {} {}'.format(x_train.shape,y_train.shape))\n",
    "print('Test set size {} {}'.format(x_test.shape,y_test.shape))\n",
    "x_train[:3]"
   ]
  },
  {
   "cell_type": "markdown",
   "metadata": {
    "colab_type": "text",
    "id": "g0KVP17Ozaix"
   },
   "source": [
    "## Question 4"
   ]
  },
  {
   "cell_type": "markdown",
   "metadata": {
    "colab_type": "text",
    "id": "SIjqxbhWv1zv"
   },
   "source": [
    "### One-hot encode the labels\n",
    "- convert class vectors (integers) to binary class matrix\n",
    "- convert labels\n",
    "- number of classes: 3\n",
    "- we are doing this to use categorical_crossentropy as loss"
   ]
  },
  {
   "cell_type": "code",
   "execution_count": 7,
   "metadata": {
    "colab": {
     "base_uri": "https://localhost:8080/",
     "height": 35
    },
    "colab_type": "code",
    "id": "R9vv-_gpyLY9",
    "outputId": "62309a99-daef-4e20-cb42-1d38efa2634c"
   },
   "outputs": [
    {
     "name": "stdout",
     "output_type": "stream",
     "text": [
      "(112, 3)\n"
     ]
    }
   ],
   "source": [
    "y_train = tf.keras.utils.to_categorical(y_train, num_classes=3)\n",
    "y_test = tf.keras.utils.to_categorical(y_test, num_classes=3)\n",
    "print(y_train.shape)\n"
   ]
  },
  {
   "cell_type": "code",
   "execution_count": 8,
   "metadata": {
    "colab": {
     "base_uri": "https://localhost:8080/",
     "height": 104
    },
    "colab_type": "code",
    "id": "0xwrUHWs4DB7",
    "outputId": "210bc29a-475f-4cb9-95be-b00ef848fbda"
   },
   "outputs": [
    {
     "data": {
      "text/plain": [
       "array([[0., 0., 1.],\n",
       "       [0., 1., 0.],\n",
       "       [0., 0., 1.],\n",
       "       [0., 1., 0.],\n",
       "       [1., 0., 0.]], dtype=float32)"
      ]
     },
     "execution_count": 8,
     "metadata": {
      "tags": []
     },
     "output_type": "execute_result"
    }
   ],
   "source": [
    "y_train[:5]"
   ]
  },
  {
   "cell_type": "markdown",
   "metadata": {
    "colab_type": "text",
    "id": "ovjLyYzWkO9s"
   },
   "source": [
    "## Question 5"
   ]
  },
  {
   "cell_type": "markdown",
   "metadata": {
    "colab_type": "text",
    "id": "hbIFzoPNSyYo"
   },
   "source": [
    "### Initialize a sequential model\n",
    "- Define a sequential model"
   ]
  },
  {
   "cell_type": "code",
   "execution_count": 0,
   "metadata": {
    "colab": {},
    "colab_type": "code",
    "id": "4FvSbf1UjHtl"
   },
   "outputs": [],
   "source": [
    "model = tf.keras.models.Sequential()"
   ]
  },
  {
   "cell_type": "markdown",
   "metadata": {
    "colab_type": "text",
    "id": "dGMy999vlacX"
   },
   "source": [
    "## Question 6"
   ]
  },
  {
   "cell_type": "markdown",
   "metadata": {
    "colab_type": "text",
    "id": "72ibK5Jxm8iL"
   },
   "source": [
    "### Add a layer\n",
    "- Use Dense Layer  with input shape of 4 (according to the feature set) and number of outputs set to 3\n",
    "- Apply Softmax on Dense Layer outputs"
   ]
  },
  {
   "cell_type": "code",
   "execution_count": 0,
   "metadata": {
    "colab": {},
    "colab_type": "code",
    "id": "uZKrBNSRm_o9"
   },
   "outputs": [],
   "source": [
    "model.add(tf.keras.layers.Dense(3, input_shape=(4,),activation='softmax'))"
   ]
  },
  {
   "cell_type": "markdown",
   "metadata": {
    "colab_type": "text",
    "id": "i4uiTH8plmNX"
   },
   "source": [
    "## Question 7"
   ]
  },
  {
   "cell_type": "markdown",
   "metadata": {
    "colab_type": "text",
    "id": "yJL8n8vcSyYz"
   },
   "source": [
    "### Compile the model\n",
    "- Use SGD as Optimizer\n",
    "- Use categorical_crossentropy as loss function\n",
    "- Use accuracy as metrics"
   ]
  },
  {
   "cell_type": "code",
   "execution_count": 0,
   "metadata": {
    "colab": {},
    "colab_type": "code",
    "id": "Tc_-fjIEk1ve"
   },
   "outputs": [],
   "source": [
    "model.compile(optimizer='sgd', loss='categorical_crossentropy', metrics=['accuracy'])"
   ]
  },
  {
   "cell_type": "markdown",
   "metadata": {
    "colab_type": "text",
    "id": "sihIGbRll_jT"
   },
   "source": [
    "## Question 8"
   ]
  },
  {
   "cell_type": "markdown",
   "metadata": {
    "colab_type": "text",
    "id": "54ZZCfNGlu0i"
   },
   "source": [
    "### Summarize the model\n",
    "- Check model layers\n",
    "- Understand number of trainable parameters"
   ]
  },
  {
   "cell_type": "code",
   "execution_count": 12,
   "metadata": {
    "colab": {
     "base_uri": "https://localhost:8080/",
     "height": 191
    },
    "colab_type": "code",
    "id": "elER3F_4ln8n",
    "outputId": "db6b1e41-b8d4-48dc-ca45-b916f904d326"
   },
   "outputs": [
    {
     "name": "stdout",
     "output_type": "stream",
     "text": [
      "Model: \"sequential\"\n",
      "_________________________________________________________________\n",
      "Layer (type)                 Output Shape              Param #   \n",
      "=================================================================\n",
      "dense (Dense)                (None, 3)                 15        \n",
      "=================================================================\n",
      "Total params: 15\n",
      "Trainable params: 15\n",
      "Non-trainable params: 0\n",
      "_________________________________________________________________\n"
     ]
    }
   ],
   "source": [
    "model.summary()"
   ]
  },
  {
   "cell_type": "markdown",
   "metadata": {
    "colab_type": "text",
    "id": "2PiP7j3Vmj4p"
   },
   "source": [
    "## Question 9"
   ]
  },
  {
   "cell_type": "markdown",
   "metadata": {
    "colab_type": "text",
    "id": "rWdbfFCXmCHt"
   },
   "source": [
    "### Fit the model\n",
    "- Give train data as training features and labels\n",
    "- Epochs: 100\n",
    "- Give validation data as testing features and labels"
   ]
  },
  {
   "cell_type": "code",
   "execution_count": 13,
   "metadata": {
    "colab": {
     "base_uri": "https://localhost:8080/",
     "height": 1000
    },
    "colab_type": "code",
    "id": "cO1c-5tjmBVZ",
    "outputId": "333bf428-483f-4c7a-9379-23648c35b706"
   },
   "outputs": [
    {
     "name": "stdout",
     "output_type": "stream",
     "text": [
      "Train on 112 samples, validate on 38 samples\n",
      "Epoch 1/100\n",
      "112/112 [==============================] - 1s 5ms/sample - loss: 2.7386 - accuracy: 0.3125 - val_loss: 1.6346 - val_accuracy: 0.3947\n",
      "Epoch 2/100\n",
      "112/112 [==============================] - 0s 222us/sample - loss: 1.6264 - accuracy: 0.3125 - val_loss: 1.2849 - val_accuracy: 0.1316\n",
      "Epoch 3/100\n",
      "112/112 [==============================] - 0s 224us/sample - loss: 1.3145 - accuracy: 0.1161 - val_loss: 1.2082 - val_accuracy: 0.2105\n",
      "Epoch 4/100\n",
      "112/112 [==============================] - 0s 229us/sample - loss: 1.2283 - accuracy: 0.2054 - val_loss: 1.1679 - val_accuracy: 0.2632\n",
      "Epoch 5/100\n",
      "112/112 [==============================] - 0s 230us/sample - loss: 1.1872 - accuracy: 0.2411 - val_loss: 1.1283 - val_accuracy: 0.2632\n",
      "Epoch 6/100\n",
      "112/112 [==============================] - 0s 196us/sample - loss: 1.1412 - accuracy: 0.2857 - val_loss: 1.1000 - val_accuracy: 0.2632\n",
      "Epoch 7/100\n",
      "112/112 [==============================] - 0s 223us/sample - loss: 1.1028 - accuracy: 0.2321 - val_loss: 1.0728 - val_accuracy: 0.2895\n",
      "Epoch 8/100\n",
      "112/112 [==============================] - 0s 201us/sample - loss: 1.0809 - accuracy: 0.2143 - val_loss: 1.0480 - val_accuracy: 0.3158\n",
      "Epoch 9/100\n",
      "112/112 [==============================] - 0s 200us/sample - loss: 1.0505 - accuracy: 0.2679 - val_loss: 1.0107 - val_accuracy: 0.2895\n",
      "Epoch 10/100\n",
      "112/112 [==============================] - 0s 206us/sample - loss: 1.0227 - accuracy: 0.2411 - val_loss: 0.9825 - val_accuracy: 0.2895\n",
      "Epoch 11/100\n",
      "112/112 [==============================] - 0s 219us/sample - loss: 0.9926 - accuracy: 0.2411 - val_loss: 0.9558 - val_accuracy: 0.3947\n",
      "Epoch 12/100\n",
      "112/112 [==============================] - 0s 228us/sample - loss: 0.9825 - accuracy: 0.3750 - val_loss: 0.9397 - val_accuracy: 0.3158\n",
      "Epoch 13/100\n",
      "112/112 [==============================] - 0s 218us/sample - loss: 0.9505 - accuracy: 0.3125 - val_loss: 0.9143 - val_accuracy: 0.3421\n",
      "Epoch 14/100\n",
      "112/112 [==============================] - 0s 201us/sample - loss: 0.9345 - accuracy: 0.3571 - val_loss: 0.8875 - val_accuracy: 0.5789\n",
      "Epoch 15/100\n",
      "112/112 [==============================] - 0s 202us/sample - loss: 0.9136 - accuracy: 0.4732 - val_loss: 0.8739 - val_accuracy: 0.5263\n",
      "Epoch 16/100\n",
      "112/112 [==============================] - 0s 214us/sample - loss: 0.8910 - accuracy: 0.5179 - val_loss: 0.8526 - val_accuracy: 0.5789\n",
      "Epoch 17/100\n",
      "112/112 [==============================] - 0s 199us/sample - loss: 0.8757 - accuracy: 0.5536 - val_loss: 0.8343 - val_accuracy: 0.6316\n",
      "Epoch 18/100\n",
      "112/112 [==============================] - 0s 204us/sample - loss: 0.8554 - accuracy: 0.5357 - val_loss: 0.8121 - val_accuracy: 0.7368\n",
      "Epoch 19/100\n",
      "112/112 [==============================] - 0s 233us/sample - loss: 0.8461 - accuracy: 0.5625 - val_loss: 0.8033 - val_accuracy: 0.7105\n",
      "Epoch 20/100\n",
      "112/112 [==============================] - 0s 208us/sample - loss: 0.8269 - accuracy: 0.5893 - val_loss: 0.7795 - val_accuracy: 0.7632\n",
      "Epoch 21/100\n",
      "112/112 [==============================] - 0s 215us/sample - loss: 0.8160 - accuracy: 0.6071 - val_loss: 0.7687 - val_accuracy: 0.7105\n",
      "Epoch 22/100\n",
      "112/112 [==============================] - 0s 257us/sample - loss: 0.8010 - accuracy: 0.6250 - val_loss: 0.7543 - val_accuracy: 0.7368\n",
      "Epoch 23/100\n",
      "112/112 [==============================] - 0s 227us/sample - loss: 0.7849 - accuracy: 0.6161 - val_loss: 0.7390 - val_accuracy: 0.7368\n",
      "Epoch 24/100\n",
      "112/112 [==============================] - 0s 220us/sample - loss: 0.7739 - accuracy: 0.6339 - val_loss: 0.7283 - val_accuracy: 0.7632\n",
      "Epoch 25/100\n",
      "112/112 [==============================] - 0s 185us/sample - loss: 0.7672 - accuracy: 0.6429 - val_loss: 0.7164 - val_accuracy: 0.7632\n",
      "Epoch 26/100\n",
      "112/112 [==============================] - 0s 217us/sample - loss: 0.7541 - accuracy: 0.7054 - val_loss: 0.7058 - val_accuracy: 0.7368\n",
      "Epoch 27/100\n",
      "112/112 [==============================] - 0s 231us/sample - loss: 0.7411 - accuracy: 0.6696 - val_loss: 0.6998 - val_accuracy: 0.7105\n",
      "Epoch 28/100\n",
      "112/112 [==============================] - 0s 209us/sample - loss: 0.7313 - accuracy: 0.6429 - val_loss: 0.6865 - val_accuracy: 0.7368\n",
      "Epoch 29/100\n",
      "112/112 [==============================] - 0s 200us/sample - loss: 0.7233 - accuracy: 0.6518 - val_loss: 0.6767 - val_accuracy: 0.7632\n",
      "Epoch 30/100\n",
      "112/112 [==============================] - 0s 278us/sample - loss: 0.7131 - accuracy: 0.6964 - val_loss: 0.6679 - val_accuracy: 0.7368\n",
      "Epoch 31/100\n",
      "112/112 [==============================] - 0s 203us/sample - loss: 0.7058 - accuracy: 0.6786 - val_loss: 0.6650 - val_accuracy: 0.7368\n",
      "Epoch 32/100\n",
      "112/112 [==============================] - 0s 222us/sample - loss: 0.7005 - accuracy: 0.6696 - val_loss: 0.6545 - val_accuracy: 0.7632\n",
      "Epoch 33/100\n",
      "112/112 [==============================] - 0s 264us/sample - loss: 0.6919 - accuracy: 0.6875 - val_loss: 0.6498 - val_accuracy: 0.7368\n",
      "Epoch 34/100\n",
      "112/112 [==============================] - 0s 267us/sample - loss: 0.6844 - accuracy: 0.6518 - val_loss: 0.6351 - val_accuracy: 0.7368\n",
      "Epoch 35/100\n",
      "112/112 [==============================] - 0s 223us/sample - loss: 0.6752 - accuracy: 0.6786 - val_loss: 0.6261 - val_accuracy: 0.7368\n",
      "Epoch 36/100\n",
      "112/112 [==============================] - 0s 219us/sample - loss: 0.6714 - accuracy: 0.6786 - val_loss: 0.6197 - val_accuracy: 0.7368\n",
      "Epoch 37/100\n",
      "112/112 [==============================] - 0s 239us/sample - loss: 0.6636 - accuracy: 0.6696 - val_loss: 0.6166 - val_accuracy: 0.8421\n",
      "Epoch 38/100\n",
      "112/112 [==============================] - 0s 199us/sample - loss: 0.6570 - accuracy: 0.7321 - val_loss: 0.6091 - val_accuracy: 0.7368\n",
      "Epoch 39/100\n",
      "112/112 [==============================] - 0s 272us/sample - loss: 0.6485 - accuracy: 0.7143 - val_loss: 0.6042 - val_accuracy: 0.7895\n",
      "Epoch 40/100\n",
      "112/112 [==============================] - 0s 299us/sample - loss: 0.6464 - accuracy: 0.6875 - val_loss: 0.5979 - val_accuracy: 0.7895\n",
      "Epoch 41/100\n",
      "112/112 [==============================] - 0s 285us/sample - loss: 0.6382 - accuracy: 0.6786 - val_loss: 0.5904 - val_accuracy: 0.7632\n",
      "Epoch 42/100\n",
      "112/112 [==============================] - 0s 236us/sample - loss: 0.6315 - accuracy: 0.7321 - val_loss: 0.5850 - val_accuracy: 0.7632\n",
      "Epoch 43/100\n",
      "112/112 [==============================] - 0s 221us/sample - loss: 0.6314 - accuracy: 0.7321 - val_loss: 0.5807 - val_accuracy: 0.7895\n",
      "Epoch 44/100\n",
      "112/112 [==============================] - 0s 232us/sample - loss: 0.6227 - accuracy: 0.7232 - val_loss: 0.5746 - val_accuracy: 0.7632\n",
      "Epoch 45/100\n",
      "112/112 [==============================] - 0s 216us/sample - loss: 0.6172 - accuracy: 0.7321 - val_loss: 0.5699 - val_accuracy: 0.8684\n",
      "Epoch 46/100\n",
      "112/112 [==============================] - 0s 236us/sample - loss: 0.6132 - accuracy: 0.7589 - val_loss: 0.5637 - val_accuracy: 0.8421\n",
      "Epoch 47/100\n",
      "112/112 [==============================] - 0s 219us/sample - loss: 0.6081 - accuracy: 0.7411 - val_loss: 0.5593 - val_accuracy: 0.8684\n",
      "Epoch 48/100\n",
      "112/112 [==============================] - 0s 238us/sample - loss: 0.6054 - accuracy: 0.7500 - val_loss: 0.5560 - val_accuracy: 0.8684\n",
      "Epoch 49/100\n",
      "112/112 [==============================] - 0s 227us/sample - loss: 0.6035 - accuracy: 0.7411 - val_loss: 0.5511 - val_accuracy: 0.8684\n",
      "Epoch 50/100\n",
      "112/112 [==============================] - 0s 217us/sample - loss: 0.5952 - accuracy: 0.7589 - val_loss: 0.5472 - val_accuracy: 0.8158\n",
      "Epoch 51/100\n",
      "112/112 [==============================] - 0s 222us/sample - loss: 0.5903 - accuracy: 0.7500 - val_loss: 0.5427 - val_accuracy: 0.8421\n",
      "Epoch 52/100\n",
      "112/112 [==============================] - 0s 221us/sample - loss: 0.5908 - accuracy: 0.7679 - val_loss: 0.5410 - val_accuracy: 0.7895\n",
      "Epoch 53/100\n",
      "112/112 [==============================] - 0s 198us/sample - loss: 0.5843 - accuracy: 0.7500 - val_loss: 0.5359 - val_accuracy: 0.7895\n",
      "Epoch 54/100\n",
      "112/112 [==============================] - 0s 215us/sample - loss: 0.5795 - accuracy: 0.7500 - val_loss: 0.5321 - val_accuracy: 0.8421\n",
      "Epoch 55/100\n",
      "112/112 [==============================] - 0s 227us/sample - loss: 0.5784 - accuracy: 0.7679 - val_loss: 0.5331 - val_accuracy: 0.7368\n",
      "Epoch 56/100\n",
      "112/112 [==============================] - 0s 231us/sample - loss: 0.5761 - accuracy: 0.7143 - val_loss: 0.5280 - val_accuracy: 0.7895\n",
      "Epoch 57/100\n",
      "112/112 [==============================] - 0s 211us/sample - loss: 0.5765 - accuracy: 0.7232 - val_loss: 0.5214 - val_accuracy: 0.8947\n",
      "Epoch 58/100\n",
      "112/112 [==============================] - 0s 219us/sample - loss: 0.5669 - accuracy: 0.7857 - val_loss: 0.5189 - val_accuracy: 0.7895\n",
      "Epoch 59/100\n",
      "112/112 [==============================] - 0s 226us/sample - loss: 0.5707 - accuracy: 0.7321 - val_loss: 0.5147 - val_accuracy: 0.8947\n",
      "Epoch 60/100\n",
      "112/112 [==============================] - 0s 257us/sample - loss: 0.5622 - accuracy: 0.7589 - val_loss: 0.5122 - val_accuracy: 0.8947\n",
      "Epoch 61/100\n",
      "112/112 [==============================] - 0s 217us/sample - loss: 0.5563 - accuracy: 0.7768 - val_loss: 0.5093 - val_accuracy: 0.8947\n",
      "Epoch 62/100\n",
      "112/112 [==============================] - 0s 255us/sample - loss: 0.5548 - accuracy: 0.7679 - val_loss: 0.5070 - val_accuracy: 0.8684\n",
      "Epoch 63/100\n",
      "112/112 [==============================] - 0s 286us/sample - loss: 0.5556 - accuracy: 0.7679 - val_loss: 0.5055 - val_accuracy: 0.8684\n",
      "Epoch 64/100\n",
      "112/112 [==============================] - 0s 244us/sample - loss: 0.5589 - accuracy: 0.7768 - val_loss: 0.5006 - val_accuracy: 0.8684\n",
      "Epoch 65/100\n",
      "112/112 [==============================] - 0s 222us/sample - loss: 0.5460 - accuracy: 0.7679 - val_loss: 0.4980 - val_accuracy: 0.8421\n",
      "Epoch 66/100\n",
      "112/112 [==============================] - 0s 211us/sample - loss: 0.5471 - accuracy: 0.7589 - val_loss: 0.4947 - val_accuracy: 0.8947\n",
      "Epoch 67/100\n",
      "112/112 [==============================] - 0s 230us/sample - loss: 0.5422 - accuracy: 0.8036 - val_loss: 0.4919 - val_accuracy: 0.8947\n",
      "Epoch 68/100\n",
      "112/112 [==============================] - 0s 258us/sample - loss: 0.5438 - accuracy: 0.7589 - val_loss: 0.4893 - val_accuracy: 0.8947\n",
      "Epoch 69/100\n",
      "112/112 [==============================] - 0s 237us/sample - loss: 0.5356 - accuracy: 0.7857 - val_loss: 0.4881 - val_accuracy: 0.8421\n",
      "Epoch 70/100\n",
      "112/112 [==============================] - 0s 280us/sample - loss: 0.5342 - accuracy: 0.7679 - val_loss: 0.4882 - val_accuracy: 0.7895\n",
      "Epoch 71/100\n",
      "112/112 [==============================] - 0s 257us/sample - loss: 0.5329 - accuracy: 0.7321 - val_loss: 0.4824 - val_accuracy: 0.8947\n",
      "Epoch 72/100\n",
      "112/112 [==============================] - 0s 258us/sample - loss: 0.5282 - accuracy: 0.7768 - val_loss: 0.4793 - val_accuracy: 0.8947\n",
      "Epoch 73/100\n",
      "112/112 [==============================] - 0s 210us/sample - loss: 0.5264 - accuracy: 0.8125 - val_loss: 0.4787 - val_accuracy: 0.8421\n",
      "Epoch 74/100\n",
      "112/112 [==============================] - 0s 217us/sample - loss: 0.5242 - accuracy: 0.7589 - val_loss: 0.4753 - val_accuracy: 0.8947\n",
      "Epoch 75/100\n",
      "112/112 [==============================] - 0s 217us/sample - loss: 0.5252 - accuracy: 0.7857 - val_loss: 0.4728 - val_accuracy: 0.8947\n",
      "Epoch 76/100\n",
      "112/112 [==============================] - 0s 230us/sample - loss: 0.5203 - accuracy: 0.7679 - val_loss: 0.4712 - val_accuracy: 0.9211\n",
      "Epoch 77/100\n",
      "112/112 [==============================] - 0s 220us/sample - loss: 0.5197 - accuracy: 0.8125 - val_loss: 0.4685 - val_accuracy: 0.8947\n",
      "Epoch 78/100\n",
      "112/112 [==============================] - 0s 223us/sample - loss: 0.5170 - accuracy: 0.7857 - val_loss: 0.4679 - val_accuracy: 0.8421\n",
      "Epoch 79/100\n",
      "112/112 [==============================] - 0s 260us/sample - loss: 0.5157 - accuracy: 0.7768 - val_loss: 0.4647 - val_accuracy: 0.8947\n",
      "Epoch 80/100\n",
      "112/112 [==============================] - 0s 252us/sample - loss: 0.5146 - accuracy: 0.7589 - val_loss: 0.4658 - val_accuracy: 0.8947\n",
      "Epoch 81/100\n",
      "112/112 [==============================] - 0s 239us/sample - loss: 0.5148 - accuracy: 0.7946 - val_loss: 0.4613 - val_accuracy: 0.9211\n",
      "Epoch 82/100\n",
      "112/112 [==============================] - 0s 254us/sample - loss: 0.5138 - accuracy: 0.7946 - val_loss: 0.4594 - val_accuracy: 0.8947\n",
      "Epoch 83/100\n",
      "112/112 [==============================] - 0s 228us/sample - loss: 0.5092 - accuracy: 0.7946 - val_loss: 0.4583 - val_accuracy: 0.8421\n",
      "Epoch 84/100\n",
      "112/112 [==============================] - 0s 241us/sample - loss: 0.5042 - accuracy: 0.7589 - val_loss: 0.4551 - val_accuracy: 0.8947\n",
      "Epoch 85/100\n",
      "112/112 [==============================] - 0s 209us/sample - loss: 0.5028 - accuracy: 0.7946 - val_loss: 0.4532 - val_accuracy: 0.8947\n",
      "Epoch 86/100\n",
      "112/112 [==============================] - 0s 246us/sample - loss: 0.5023 - accuracy: 0.8036 - val_loss: 0.4566 - val_accuracy: 0.8158\n",
      "Epoch 87/100\n",
      "112/112 [==============================] - 0s 231us/sample - loss: 0.5011 - accuracy: 0.7321 - val_loss: 0.4506 - val_accuracy: 0.9211\n",
      "Epoch 88/100\n",
      "112/112 [==============================] - 0s 218us/sample - loss: 0.5035 - accuracy: 0.7768 - val_loss: 0.4580 - val_accuracy: 0.7368\n",
      "Epoch 89/100\n",
      "112/112 [==============================] - 0s 234us/sample - loss: 0.5024 - accuracy: 0.7589 - val_loss: 0.4482 - val_accuracy: 0.8684\n",
      "Epoch 90/100\n",
      "112/112 [==============================] - 0s 231us/sample - loss: 0.4949 - accuracy: 0.7679 - val_loss: 0.4449 - val_accuracy: 0.8947\n",
      "Epoch 91/100\n",
      "112/112 [==============================] - 0s 242us/sample - loss: 0.4964 - accuracy: 0.8125 - val_loss: 0.4432 - val_accuracy: 0.8947\n",
      "Epoch 92/100\n",
      "112/112 [==============================] - 0s 227us/sample - loss: 0.4900 - accuracy: 0.8125 - val_loss: 0.4421 - val_accuracy: 0.9211\n",
      "Epoch 93/100\n",
      "112/112 [==============================] - 0s 247us/sample - loss: 0.4918 - accuracy: 0.7768 - val_loss: 0.4405 - val_accuracy: 0.9211\n",
      "Epoch 94/100\n",
      "112/112 [==============================] - 0s 223us/sample - loss: 0.4898 - accuracy: 0.8214 - val_loss: 0.4392 - val_accuracy: 0.9211\n",
      "Epoch 95/100\n",
      "112/112 [==============================] - 0s 226us/sample - loss: 0.4902 - accuracy: 0.8214 - val_loss: 0.4368 - val_accuracy: 0.8947\n",
      "Epoch 96/100\n",
      "112/112 [==============================] - 0s 248us/sample - loss: 0.4852 - accuracy: 0.8393 - val_loss: 0.4352 - val_accuracy: 0.8947\n",
      "Epoch 97/100\n",
      "112/112 [==============================] - 0s 249us/sample - loss: 0.4834 - accuracy: 0.7857 - val_loss: 0.4336 - val_accuracy: 0.8947\n",
      "Epoch 98/100\n",
      "112/112 [==============================] - 0s 261us/sample - loss: 0.4826 - accuracy: 0.8214 - val_loss: 0.4321 - val_accuracy: 0.9211\n",
      "Epoch 99/100\n",
      "112/112 [==============================] - 0s 231us/sample - loss: 0.4797 - accuracy: 0.8036 - val_loss: 0.4303 - val_accuracy: 0.9211\n",
      "Epoch 100/100\n",
      "112/112 [==============================] - 0s 252us/sample - loss: 0.4833 - accuracy: 0.8036 - val_loss: 0.4285 - val_accuracy: 0.9211\n"
     ]
    },
    {
     "data": {
      "text/plain": [
       "<tensorflow.python.keras.callbacks.History at 0x7fda45be5f98>"
      ]
     },
     "execution_count": 13,
     "metadata": {
      "tags": []
     },
     "output_type": "execute_result"
    }
   ],
   "source": [
    "model.fit(x_train, y_train, validation_data=(x_test, y_test), epochs=100)"
   ]
  },
  {
   "cell_type": "markdown",
   "metadata": {
    "colab_type": "text",
    "id": "re9ItAR3yS3J"
   },
   "source": [
    "## Question 10"
   ]
  },
  {
   "cell_type": "markdown",
   "metadata": {
    "colab_type": "text",
    "id": "liw0IFf9yVqH"
   },
   "source": [
    "### Make predictions\n",
    "- Predict labels on one row"
   ]
  },
  {
   "cell_type": "code",
   "execution_count": 14,
   "metadata": {
    "colab": {
     "base_uri": "https://localhost:8080/",
     "height": 69
    },
    "colab_type": "code",
    "id": "H5sBybi6mlLl",
    "outputId": "c28b6256-29d1-4476-fad3-189b0ab56cc4"
   },
   "outputs": [
    {
     "data": {
      "text/plain": [
       "array([[0.83714974, 0.10537941, 0.05747084],\n",
       "       [0.81002283, 0.12566939, 0.06430771],\n",
       "       [0.8497275 , 0.09821844, 0.05205395]], dtype=float32)"
      ]
     },
     "execution_count": 14,
     "metadata": {
      "tags": []
     },
     "output_type": "execute_result"
    }
   ],
   "source": [
    "y_predicted = model.predict(x_test)\n",
    "y_predicted[:3]"
   ]
  },
  {
   "cell_type": "markdown",
   "metadata": {
    "colab_type": "text",
    "id": "hSUgMq3m0bG7"
   },
   "source": [
    "### Compare the prediction with actual label\n",
    "- Print the same row as done in the previous step but of actual labels"
   ]
  },
  {
   "cell_type": "code",
   "execution_count": 15,
   "metadata": {
    "colab": {
     "base_uri": "https://localhost:8080/",
     "height": 69
    },
    "colab_type": "code",
    "id": "K5WbwVPyz-qQ",
    "outputId": "f6066786-a8bd-423f-ba7b-bcf70dcda994"
   },
   "outputs": [
    {
     "data": {
      "text/plain": [
       "array([[1., 0., 0.],\n",
       "       [1., 0., 0.],\n",
       "       [1., 0., 0.]], dtype=float32)"
      ]
     },
     "execution_count": 15,
     "metadata": {
      "tags": []
     },
     "output_type": "execute_result"
    }
   ],
   "source": [
    "y_test[:3]"
   ]
  },
  {
   "cell_type": "markdown",
   "metadata": {
    "colab_type": "text",
    "id": "FrTKwbgE7NFT"
   },
   "source": [
    "\n",
    "\n",
    "---\n",
    "\n"
   ]
  },
  {
   "cell_type": "markdown",
   "metadata": {
    "colab_type": "text",
    "id": "a1UBYPNp5Tn1"
   },
   "source": [
    "# Stock prices dataset\n",
    "The data is of tock exchange's stock listings for each trading day of 2010 to 2016.\n",
    "\n",
    "## Description\n",
    "A brief description of columns.\n",
    "- open: The opening market price of the equity symbol on the date\n",
    "- high: The highest market price of the equity symbol on the date\n",
    "- low: The lowest recorded market price of the equity symbol on the date\n",
    "- close: The closing recorded price of the equity symbol on the date\n",
    "- symbol: Symbol of the listed company\n",
    "- volume: Total traded volume of the equity symbol on the date\n",
    "- date: Date of record"
   ]
  },
  {
   "cell_type": "markdown",
   "metadata": {
    "colab_type": "text",
    "id": "ctH_ZW5g-M3g"
   },
   "source": [
    "### Specifying the TensorFlow version\n",
    "Running `import tensorflow` will import the default version (currently 1.x). You can use 2.x by running a cell with the `tensorflow_version` magic **before** you run `import tensorflow`."
   ]
  },
  {
   "cell_type": "code",
   "execution_count": 0,
   "metadata": {
    "colab": {},
    "colab_type": "code",
    "id": "vQbdODpH-M3r"
   },
   "outputs": [],
   "source": [
    "%tensorflow_version 2.x"
   ]
  },
  {
   "cell_type": "markdown",
   "metadata": {
    "colab_type": "text",
    "id": "nFQWH1tj-M38"
   },
   "source": [
    "### Import TensorFlow\n",
    "Once you have specified a version via this magic, you can run `import tensorflow` as normal and verify which version was imported as follows:"
   ]
  },
  {
   "cell_type": "code",
   "execution_count": 17,
   "metadata": {
    "colab": {
     "base_uri": "https://localhost:8080/",
     "height": 35
    },
    "colab_type": "code",
    "id": "Ho5n-xhd-M3_",
    "outputId": "1dceb28b-aa15-425a-edb4-f9de6323c02c"
   },
   "outputs": [
    {
     "name": "stdout",
     "output_type": "stream",
     "text": [
      "2.0.0\n"
     ]
    }
   ],
   "source": [
    "import tensorflow as tf\n",
    "print(tf.__version__)"
   ]
  },
  {
   "cell_type": "markdown",
   "metadata": {
    "colab_type": "text",
    "id": "tgkl0qu6-M4F"
   },
   "source": [
    "### Set random seed"
   ]
  },
  {
   "cell_type": "code",
   "execution_count": 0,
   "metadata": {
    "colab": {},
    "colab_type": "code",
    "id": "TKgTyuA3-M4G"
   },
   "outputs": [],
   "source": [
    "tf.random.set_seed(42)"
   ]
  },
  {
   "cell_type": "markdown",
   "metadata": {
    "colab_type": "text",
    "id": "_88voqAH-O6J"
   },
   "source": [
    "## Question 1"
   ]
  },
  {
   "cell_type": "markdown",
   "metadata": {
    "colab_type": "text",
    "id": "dRHCeJqP-evf"
   },
   "source": [
    "### Load the data\n",
    "- load the csv file and read it using pandas\n",
    "- file name is prices.csv"
   ]
  },
  {
   "cell_type": "code",
   "execution_count": 0,
   "metadata": {
    "colab": {},
    "colab_type": "code",
    "id": "cKVH5v7r-RmC"
   },
   "outputs": [],
   "source": [
    "# run this cell to upload file if you are using google colab\n",
    "#"
   ]
  },
  {
   "cell_type": "code",
   "execution_count": 20,
   "metadata": {
    "colab": {
     "base_uri": "https://localhost:8080/",
     "height": 35
    },
    "colab_type": "code",
    "id": "-gDC6cSW_FSK",
    "outputId": "4d8f6885-7310-4d1d-d9bd-e4378715b7c2"
   },
   "outputs": [
    {
     "name": "stdout",
     "output_type": "stream",
     "text": [
      "Drive already mounted at /content/drive; to attempt to forcibly remount, call drive.mount(\"/content/drive\", force_remount=True).\n"
     ]
    }
   ],
   "source": [
    "from google.colab import drive\n",
    "drive.mount('/content/drive')"
   ]
  },
  {
   "cell_type": "markdown",
   "metadata": {
    "colab_type": "text",
    "id": "HlLKVPVH_BCT"
   },
   "source": [
    "## Question 2"
   ]
  },
  {
   "cell_type": "markdown",
   "metadata": {
    "colab_type": "text",
    "id": "9J4BlzVA_gZd"
   },
   "source": [
    "### Drop columnns\n",
    "- drop \"date\" and \"symbol\" column from the data"
   ]
  },
  {
   "cell_type": "code",
   "execution_count": 21,
   "metadata": {
    "colab": {
     "base_uri": "https://localhost:8080/",
     "height": 202
    },
    "colab_type": "code",
    "id": "IKEK8aEE_Csx",
    "outputId": "33955c1a-0a54-4bf4-cc24-50c493831257"
   },
   "outputs": [
    {
     "data": {
      "text/html": [
       "<div>\n",
       "<style scoped>\n",
       "    .dataframe tbody tr th:only-of-type {\n",
       "        vertical-align: middle;\n",
       "    }\n",
       "\n",
       "    .dataframe tbody tr th {\n",
       "        vertical-align: top;\n",
       "    }\n",
       "\n",
       "    .dataframe thead th {\n",
       "        text-align: right;\n",
       "    }\n",
       "</style>\n",
       "<table border=\"1\" class=\"dataframe\">\n",
       "  <thead>\n",
       "    <tr style=\"text-align: right;\">\n",
       "      <th></th>\n",
       "      <th>date</th>\n",
       "      <th>symbol</th>\n",
       "      <th>open</th>\n",
       "      <th>close</th>\n",
       "      <th>low</th>\n",
       "      <th>high</th>\n",
       "      <th>volume</th>\n",
       "    </tr>\n",
       "  </thead>\n",
       "  <tbody>\n",
       "    <tr>\n",
       "      <th>0</th>\n",
       "      <td>2016-01-05 00:00:00</td>\n",
       "      <td>WLTW</td>\n",
       "      <td>123.430000</td>\n",
       "      <td>125.839996</td>\n",
       "      <td>122.309998</td>\n",
       "      <td>126.250000</td>\n",
       "      <td>2163600.0</td>\n",
       "    </tr>\n",
       "    <tr>\n",
       "      <th>1</th>\n",
       "      <td>2016-01-06 00:00:00</td>\n",
       "      <td>WLTW</td>\n",
       "      <td>125.239998</td>\n",
       "      <td>119.980003</td>\n",
       "      <td>119.940002</td>\n",
       "      <td>125.540001</td>\n",
       "      <td>2386400.0</td>\n",
       "    </tr>\n",
       "    <tr>\n",
       "      <th>2</th>\n",
       "      <td>2016-01-07 00:00:00</td>\n",
       "      <td>WLTW</td>\n",
       "      <td>116.379997</td>\n",
       "      <td>114.949997</td>\n",
       "      <td>114.930000</td>\n",
       "      <td>119.739998</td>\n",
       "      <td>2489500.0</td>\n",
       "    </tr>\n",
       "    <tr>\n",
       "      <th>3</th>\n",
       "      <td>2016-01-08 00:00:00</td>\n",
       "      <td>WLTW</td>\n",
       "      <td>115.480003</td>\n",
       "      <td>116.620003</td>\n",
       "      <td>113.500000</td>\n",
       "      <td>117.440002</td>\n",
       "      <td>2006300.0</td>\n",
       "    </tr>\n",
       "    <tr>\n",
       "      <th>4</th>\n",
       "      <td>2016-01-11 00:00:00</td>\n",
       "      <td>WLTW</td>\n",
       "      <td>117.010002</td>\n",
       "      <td>114.970001</td>\n",
       "      <td>114.089996</td>\n",
       "      <td>117.330002</td>\n",
       "      <td>1408600.0</td>\n",
       "    </tr>\n",
       "  </tbody>\n",
       "</table>\n",
       "</div>"
      ],
      "text/plain": [
       "                  date symbol        open  ...         low        high     volume\n",
       "0  2016-01-05 00:00:00   WLTW  123.430000  ...  122.309998  126.250000  2163600.0\n",
       "1  2016-01-06 00:00:00   WLTW  125.239998  ...  119.940002  125.540001  2386400.0\n",
       "2  2016-01-07 00:00:00   WLTW  116.379997  ...  114.930000  119.739998  2489500.0\n",
       "3  2016-01-08 00:00:00   WLTW  115.480003  ...  113.500000  117.440002  2006300.0\n",
       "4  2016-01-11 00:00:00   WLTW  117.010002  ...  114.089996  117.330002  1408600.0\n",
       "\n",
       "[5 rows x 7 columns]"
      ]
     },
     "execution_count": 21,
     "metadata": {
      "tags": []
     },
     "output_type": "execute_result"
    }
   ],
   "source": [
    "import numpy as np\n",
    "import pandas as pd\n",
    "\n",
    "df = pd.read_csv('/content/drive/My Drive/prices.csv')\n",
    "df.head()"
   ]
  },
  {
   "cell_type": "code",
   "execution_count": 22,
   "metadata": {
    "colab": {
     "base_uri": "https://localhost:8080/",
     "height": 35
    },
    "colab_type": "code",
    "id": "RdNnOvF-K1DO",
    "outputId": "fcb795d6-cea2-476c-abb0-0f0825f7b24b"
   },
   "outputs": [
    {
     "data": {
      "text/plain": [
       "(851264, 7)"
      ]
     },
     "execution_count": 22,
     "metadata": {
      "tags": []
     },
     "output_type": "execute_result"
    }
   ],
   "source": [
    "df.shape"
   ]
  },
  {
   "cell_type": "code",
   "execution_count": 0,
   "metadata": {
    "colab": {},
    "colab_type": "code",
    "id": "2QUViuETK_jh"
   },
   "outputs": [],
   "source": [
    "df.drop(columns=['date','symbol'],inplace=True)\n"
   ]
  },
  {
   "cell_type": "code",
   "execution_count": 24,
   "metadata": {
    "colab": {
     "base_uri": "https://localhost:8080/",
     "height": 35
    },
    "colab_type": "code",
    "id": "lTXp9QCBLsNJ",
    "outputId": "6a50c69c-0a97-4d26-b928-d54a6533173a"
   },
   "outputs": [
    {
     "data": {
      "text/plain": [
       "Index(['open', 'close', 'low', 'high', 'volume'], dtype='object')"
      ]
     },
     "execution_count": 24,
     "metadata": {
      "tags": []
     },
     "output_type": "execute_result"
    }
   ],
   "source": [
    "df.columns"
   ]
  },
  {
   "cell_type": "markdown",
   "metadata": {
    "colab_type": "text",
    "id": "cTPhO6v-AiZt"
   },
   "source": [
    "## Question 3"
   ]
  },
  {
   "cell_type": "markdown",
   "metadata": {
    "colab_type": "text",
    "id": "SsZXmF3NAkna"
   },
   "source": [
    "### Take initial rows\n",
    "- Take first 1000 rows from the data\n",
    "- This step is done to make the execution faster"
   ]
  },
  {
   "cell_type": "code",
   "execution_count": 0,
   "metadata": {
    "colab": {},
    "colab_type": "code",
    "id": "aKs04iIHAjxN"
   },
   "outputs": [],
   "source": [
    "df1 = df[:1000]"
   ]
  },
  {
   "cell_type": "code",
   "execution_count": 26,
   "metadata": {
    "colab": {
     "base_uri": "https://localhost:8080/",
     "height": 35
    },
    "colab_type": "code",
    "id": "imaCSGOpMAix",
    "outputId": "0d93522c-bb77-40e7-9bbe-1e8a1a5674f3"
   },
   "outputs": [
    {
     "data": {
      "text/plain": [
       "(1000, 5)"
      ]
     },
     "execution_count": 26,
     "metadata": {
      "tags": []
     },
     "output_type": "execute_result"
    }
   ],
   "source": [
    "df1.shape"
   ]
  },
  {
   "cell_type": "code",
   "execution_count": 27,
   "metadata": {
    "colab": {
     "base_uri": "https://localhost:8080/",
     "height": 202
    },
    "colab_type": "code",
    "id": "RbVG6VYFMES6",
    "outputId": "75d06b20-6647-4849-bc85-5fce1d4ecd92"
   },
   "outputs": [
    {
     "data": {
      "text/html": [
       "<div>\n",
       "<style scoped>\n",
       "    .dataframe tbody tr th:only-of-type {\n",
       "        vertical-align: middle;\n",
       "    }\n",
       "\n",
       "    .dataframe tbody tr th {\n",
       "        vertical-align: top;\n",
       "    }\n",
       "\n",
       "    .dataframe thead th {\n",
       "        text-align: right;\n",
       "    }\n",
       "</style>\n",
       "<table border=\"1\" class=\"dataframe\">\n",
       "  <thead>\n",
       "    <tr style=\"text-align: right;\">\n",
       "      <th></th>\n",
       "      <th>open</th>\n",
       "      <th>close</th>\n",
       "      <th>low</th>\n",
       "      <th>high</th>\n",
       "      <th>volume</th>\n",
       "    </tr>\n",
       "  </thead>\n",
       "  <tbody>\n",
       "    <tr>\n",
       "      <th>0</th>\n",
       "      <td>123.430000</td>\n",
       "      <td>125.839996</td>\n",
       "      <td>122.309998</td>\n",
       "      <td>126.250000</td>\n",
       "      <td>2163600.0</td>\n",
       "    </tr>\n",
       "    <tr>\n",
       "      <th>1</th>\n",
       "      <td>125.239998</td>\n",
       "      <td>119.980003</td>\n",
       "      <td>119.940002</td>\n",
       "      <td>125.540001</td>\n",
       "      <td>2386400.0</td>\n",
       "    </tr>\n",
       "    <tr>\n",
       "      <th>2</th>\n",
       "      <td>116.379997</td>\n",
       "      <td>114.949997</td>\n",
       "      <td>114.930000</td>\n",
       "      <td>119.739998</td>\n",
       "      <td>2489500.0</td>\n",
       "    </tr>\n",
       "    <tr>\n",
       "      <th>3</th>\n",
       "      <td>115.480003</td>\n",
       "      <td>116.620003</td>\n",
       "      <td>113.500000</td>\n",
       "      <td>117.440002</td>\n",
       "      <td>2006300.0</td>\n",
       "    </tr>\n",
       "    <tr>\n",
       "      <th>4</th>\n",
       "      <td>117.010002</td>\n",
       "      <td>114.970001</td>\n",
       "      <td>114.089996</td>\n",
       "      <td>117.330002</td>\n",
       "      <td>1408600.0</td>\n",
       "    </tr>\n",
       "  </tbody>\n",
       "</table>\n",
       "</div>"
      ],
      "text/plain": [
       "         open       close         low        high     volume\n",
       "0  123.430000  125.839996  122.309998  126.250000  2163600.0\n",
       "1  125.239998  119.980003  119.940002  125.540001  2386400.0\n",
       "2  116.379997  114.949997  114.930000  119.739998  2489500.0\n",
       "3  115.480003  116.620003  113.500000  117.440002  2006300.0\n",
       "4  117.010002  114.970001  114.089996  117.330002  1408600.0"
      ]
     },
     "execution_count": 27,
     "metadata": {
      "tags": []
     },
     "output_type": "execute_result"
    }
   ],
   "source": [
    "df1.head()"
   ]
  },
  {
   "cell_type": "markdown",
   "metadata": {
    "colab_type": "text",
    "id": "6vGtnapgBIJm"
   },
   "source": [
    "## Question 4"
   ]
  },
  {
   "cell_type": "markdown",
   "metadata": {
    "colab_type": "text",
    "id": "C8u_jlbABTip"
   },
   "source": [
    "### Get features and label from the dataset in separate variable\n",
    "- Take \"open\", \"close\", \"low\", \"high\" columns as features\n",
    "- Take \"volume\" column as label\n",
    "- Normalize label column by dividing it with 1000000"
   ]
  },
  {
   "cell_type": "code",
   "execution_count": 0,
   "metadata": {
    "colab": {},
    "colab_type": "code",
    "id": "xQjCMzUXBJbg"
   },
   "outputs": [],
   "source": [
    "X = df1.drop(columns='volume')"
   ]
  },
  {
   "cell_type": "code",
   "execution_count": 29,
   "metadata": {
    "colab": {
     "base_uri": "https://localhost:8080/",
     "height": 202
    },
    "colab_type": "code",
    "id": "Q6h4ExDFMVpK",
    "outputId": "fc3c8b81-faa6-4696-e00d-8a789b8d644d"
   },
   "outputs": [
    {
     "data": {
      "text/html": [
       "<div>\n",
       "<style scoped>\n",
       "    .dataframe tbody tr th:only-of-type {\n",
       "        vertical-align: middle;\n",
       "    }\n",
       "\n",
       "    .dataframe tbody tr th {\n",
       "        vertical-align: top;\n",
       "    }\n",
       "\n",
       "    .dataframe thead th {\n",
       "        text-align: right;\n",
       "    }\n",
       "</style>\n",
       "<table border=\"1\" class=\"dataframe\">\n",
       "  <thead>\n",
       "    <tr style=\"text-align: right;\">\n",
       "      <th></th>\n",
       "      <th>open</th>\n",
       "      <th>close</th>\n",
       "      <th>low</th>\n",
       "      <th>high</th>\n",
       "    </tr>\n",
       "  </thead>\n",
       "  <tbody>\n",
       "    <tr>\n",
       "      <th>0</th>\n",
       "      <td>123.430000</td>\n",
       "      <td>125.839996</td>\n",
       "      <td>122.309998</td>\n",
       "      <td>126.250000</td>\n",
       "    </tr>\n",
       "    <tr>\n",
       "      <th>1</th>\n",
       "      <td>125.239998</td>\n",
       "      <td>119.980003</td>\n",
       "      <td>119.940002</td>\n",
       "      <td>125.540001</td>\n",
       "    </tr>\n",
       "    <tr>\n",
       "      <th>2</th>\n",
       "      <td>116.379997</td>\n",
       "      <td>114.949997</td>\n",
       "      <td>114.930000</td>\n",
       "      <td>119.739998</td>\n",
       "    </tr>\n",
       "    <tr>\n",
       "      <th>3</th>\n",
       "      <td>115.480003</td>\n",
       "      <td>116.620003</td>\n",
       "      <td>113.500000</td>\n",
       "      <td>117.440002</td>\n",
       "    </tr>\n",
       "    <tr>\n",
       "      <th>4</th>\n",
       "      <td>117.010002</td>\n",
       "      <td>114.970001</td>\n",
       "      <td>114.089996</td>\n",
       "      <td>117.330002</td>\n",
       "    </tr>\n",
       "  </tbody>\n",
       "</table>\n",
       "</div>"
      ],
      "text/plain": [
       "         open       close         low        high\n",
       "0  123.430000  125.839996  122.309998  126.250000\n",
       "1  125.239998  119.980003  119.940002  125.540001\n",
       "2  116.379997  114.949997  114.930000  119.739998\n",
       "3  115.480003  116.620003  113.500000  117.440002\n",
       "4  117.010002  114.970001  114.089996  117.330002"
      ]
     },
     "execution_count": 29,
     "metadata": {
      "tags": []
     },
     "output_type": "execute_result"
    }
   ],
   "source": [
    "X.head()"
   ]
  },
  {
   "cell_type": "code",
   "execution_count": 0,
   "metadata": {
    "colab": {},
    "colab_type": "code",
    "id": "gQC59eDYMYpr"
   },
   "outputs": [],
   "source": [
    "y = df1['volume'] / 10000000"
   ]
  },
  {
   "cell_type": "markdown",
   "metadata": {
    "colab_type": "text",
    "id": "aTAKzlxZBz0z"
   },
   "source": [
    "## Question 5"
   ]
  },
  {
   "cell_type": "markdown",
   "metadata": {
    "colab_type": "text",
    "id": "IfY8Km1Zzyt2"
   },
   "source": [
    "### Convert data\n",
    "- Convert features and labels to numpy array\n",
    "- Convert their data type to \"float32\""
   ]
  },
  {
   "cell_type": "code",
   "execution_count": 0,
   "metadata": {
    "colab": {},
    "colab_type": "code",
    "id": "Ko7nnQVbYENh"
   },
   "outputs": [],
   "source": [
    "y = np.array(y)\n",
    "X = np.array(X)"
   ]
  },
  {
   "cell_type": "code",
   "execution_count": 0,
   "metadata": {
    "colab": {},
    "colab_type": "code",
    "id": "FwFJSgzyMwk6"
   },
   "outputs": [],
   "source": [
    "y = y.astype(np.float32)\n",
    "X = X.astype(np.float32)"
   ]
  },
  {
   "cell_type": "markdown",
   "metadata": {
    "colab_type": "text",
    "id": "3TWpN0nVTpUx"
   },
   "source": [
    "## Question 6"
   ]
  },
  {
   "cell_type": "markdown",
   "metadata": {
    "colab_type": "text",
    "id": "WQ1FKEs-4btX"
   },
   "source": [
    "### Normalize data\n",
    "- Normalize features\n",
    "- Use tf.math.l2_normalize to normalize features\n",
    "- You can read more about it here https://www.tensorflow.org/api_docs/python/tf/math/l2_normalize"
   ]
  },
  {
   "cell_type": "code",
   "execution_count": 0,
   "metadata": {
    "colab": {},
    "colab_type": "code",
    "id": "V0Tfe00X78wB"
   },
   "outputs": [],
   "source": [
    "X = tf.math.l2_normalize(X)"
   ]
  },
  {
   "cell_type": "markdown",
   "metadata": {
    "colab_type": "text",
    "id": "wmXUGc2oTspa"
   },
   "source": [
    "## Question 7"
   ]
  },
  {
   "cell_type": "markdown",
   "metadata": {
    "colab_type": "text",
    "id": "VJelDMpzxs0L"
   },
   "source": [
    "### Define weight and bias\n",
    "- Initialize weight and bias with tf.zeros\n",
    "- tf.zeros is an initializer that generates tensors initialized to 0\n",
    "- Specify the value for shape"
   ]
  },
  {
   "cell_type": "code",
   "execution_count": 0,
   "metadata": {
    "colab": {},
    "colab_type": "code",
    "id": "8o9RPWVTxs0O"
   },
   "outputs": [],
   "source": [
    "W = tf.zeros(shape=(4, 1))\n",
    "b = tf.zeros(shape=(1))"
   ]
  },
  {
   "cell_type": "markdown",
   "metadata": {
    "colab_type": "text",
    "id": "8a0wr94aTyjg"
   },
   "source": [
    "## Question 8"
   ]
  },
  {
   "cell_type": "markdown",
   "metadata": {
    "colab_type": "text",
    "id": "zMXXYdOSxs0Q"
   },
   "source": [
    "### Get prediction\n",
    "- Define a function to get prediction\n",
    "- Approach: prediction = (X * W) + b; here is X is features"
   ]
  },
  {
   "cell_type": "code",
   "execution_count": 0,
   "metadata": {
    "colab": {},
    "colab_type": "code",
    "id": "U8Cty1y0xs0S"
   },
   "outputs": [],
   "source": [
    "def prediction(features, W, b):\n",
    "    y_pred = tf.add(tf.matmul(features, W), b)\n",
    "    return y_pred"
   ]
  },
  {
   "cell_type": "markdown",
   "metadata": {
    "colab_type": "text",
    "id": "lQmS3Tauxs0V"
   },
   "source": [
    "### Calculate loss\n",
    "- Calculate loss using predictions\n",
    "- Define a function to calculate loss\n",
    "- We are calculating mean squared error"
   ]
  },
  {
   "cell_type": "code",
   "execution_count": 0,
   "metadata": {
    "colab": {},
    "colab_type": "code",
    "id": "-FRXmDd5xs0X"
   },
   "outputs": [],
   "source": [
    "def loss(y_actual, y_predicted):\n",
    "    diff = y_actual - y_predicted\n",
    "    sqr = tf.square(diff)\n",
    "    avg = tf.reduce_mean(sqr)\n",
    "    return avg"
   ]
  },
  {
   "cell_type": "markdown",
   "metadata": {
    "colab_type": "text",
    "id": "ZbBpnOtfT0wd"
   },
   "source": [
    "## Question 9"
   ]
  },
  {
   "cell_type": "markdown",
   "metadata": {
    "colab_type": "text",
    "id": "bkOzAUUsTmF_"
   },
   "source": [
    "### Define a function to train the model\n",
    "1.   Record all the mathematical steps to calculate Loss\n",
    "2.   Calculate Gradients of Loss w.r.t weights and bias\n",
    "3.   Update Weights and Bias based on gradients and learning rate to minimize loss"
   ]
  },
  {
   "cell_type": "code",
   "execution_count": 0,
   "metadata": {
    "colab": {},
    "colab_type": "code",
    "id": "2R4uieGYLYtM"
   },
   "outputs": [],
   "source": [
    "def train(x, y_actual, w, b, learning_rate=0.01):\n",
    "    \n",
    "    # Record mathematical operations on 'tape' to calculate loss\n",
    "    with tf.GradientTape() as t:\n",
    "        t.watch([w,b])\n",
    "        current_prediction = prediction(x, w, b)\n",
    "        current_loss = loss(y_actual, current_prediction)\n",
    "    \n",
    "    # Calculate Gradients for Loss with respect to Weights and Bias\n",
    "    dw, db = t.gradient(current_loss,[w, b])\n",
    "    \n",
    "    # Update Weights and Bias\n",
    "    w = w - learning_rate * dw\n",
    "    b = b - learning_rate * db\n",
    "    \n",
    "    return w, b"
   ]
  },
  {
   "cell_type": "markdown",
   "metadata": {
    "colab_type": "text",
    "id": "AW4SEP8kT2ls"
   },
   "source": [
    "## Question 10"
   ]
  },
  {
   "cell_type": "markdown",
   "metadata": {
    "colab_type": "text",
    "id": "yeN0deOvT81N"
   },
   "source": [
    "### Train the model for 100 epochs \n",
    "- Observe the training loss at every iteration"
   ]
  },
  {
   "cell_type": "code",
   "execution_count": 38,
   "metadata": {
    "colab": {
     "base_uri": "https://localhost:8080/",
     "height": 1000
    },
    "colab_type": "code",
    "id": "Jjkn4gUgLevE",
    "outputId": "876db4e5-a342-481a-c96e-0774746dbe56"
   },
   "outputs": [
    {
     "name": "stdout",
     "output_type": "stream",
     "text": [
      "Current Training Loss on iteration 0 2.3616786\n",
      "Current Training Loss on iteration 1 2.3509305\n",
      "Current Training Loss on iteration 2 2.34061\n",
      "Current Training Loss on iteration 3 2.3306973\n",
      "Current Training Loss on iteration 4 2.321179\n",
      "Current Training Loss on iteration 5 2.312037\n",
      "Current Training Loss on iteration 6 2.303258\n",
      "Current Training Loss on iteration 7 2.2948263\n",
      "Current Training Loss on iteration 8 2.2867281\n",
      "Current Training Loss on iteration 9 2.278953\n",
      "Current Training Loss on iteration 10 2.2714846\n",
      "Current Training Loss on iteration 11 2.2643125\n",
      "Current Training Loss on iteration 12 2.257422\n",
      "Current Training Loss on iteration 13 2.2508075\n",
      "Current Training Loss on iteration 14 2.2444534\n",
      "Current Training Loss on iteration 15 2.2383513\n",
      "Current Training Loss on iteration 16 2.232492\n",
      "Current Training Loss on iteration 17 2.2268639\n",
      "Current Training Loss on iteration 18 2.221459\n",
      "Current Training Loss on iteration 19 2.216269\n",
      "Current Training Loss on iteration 20 2.2112837\n",
      "Current Training Loss on iteration 21 2.2064958\n",
      "Current Training Loss on iteration 22 2.2018993\n",
      "Current Training Loss on iteration 23 2.1974835\n",
      "Current Training Loss on iteration 24 2.1932435\n",
      "Current Training Loss on iteration 25 2.1891708\n",
      "Current Training Loss on iteration 26 2.1852582\n",
      "Current Training Loss on iteration 27 2.181503\n",
      "Current Training Loss on iteration 28 2.1778955\n",
      "Current Training Loss on iteration 29 2.174431\n",
      "Current Training Loss on iteration 30 2.1711044\n",
      "Current Training Loss on iteration 31 2.1679091\n",
      "Current Training Loss on iteration 32 2.1648397\n",
      "Current Training Loss on iteration 33 2.161893\n",
      "Current Training Loss on iteration 34 2.1590617\n",
      "Current Training Loss on iteration 35 2.1563442\n",
      "Current Training Loss on iteration 36 2.153733\n",
      "Current Training Loss on iteration 37 2.1512265\n",
      "Current Training Loss on iteration 38 2.1488175\n",
      "Current Training Loss on iteration 39 2.1465056\n",
      "Current Training Loss on iteration 40 2.144285\n",
      "Current Training Loss on iteration 41 2.1421523\n",
      "Current Training Loss on iteration 42 2.140104\n",
      "Current Training Loss on iteration 43 2.1381364\n",
      "Current Training Loss on iteration 44 2.136247\n",
      "Current Training Loss on iteration 45 2.1344335\n",
      "Current Training Loss on iteration 46 2.1326914\n",
      "Current Training Loss on iteration 47 2.131018\n",
      "Current Training Loss on iteration 48 2.1294105\n",
      "Current Training Loss on iteration 49 2.127867\n",
      "Current Training Loss on iteration 50 2.1263855\n",
      "Current Training Loss on iteration 51 2.1249616\n",
      "Current Training Loss on iteration 52 2.1235945\n",
      "Current Training Loss on iteration 53 2.1222816\n",
      "Current Training Loss on iteration 54 2.1210208\n",
      "Current Training Loss on iteration 55 2.1198087\n",
      "Current Training Loss on iteration 56 2.1186461\n",
      "Current Training Loss on iteration 57 2.1175299\n",
      "Current Training Loss on iteration 58 2.116457\n",
      "Current Training Loss on iteration 59 2.115427\n",
      "Current Training Loss on iteration 60 2.1144385\n",
      "Current Training Loss on iteration 61 2.113488\n",
      "Current Training Loss on iteration 62 2.1125746\n",
      "Current Training Loss on iteration 63 2.1116982\n",
      "Current Training Loss on iteration 64 2.110857\n",
      "Current Training Loss on iteration 65 2.1100485\n",
      "Current Training Loss on iteration 66 2.109273\n",
      "Current Training Loss on iteration 67 2.1085272\n",
      "Current Training Loss on iteration 68 2.1078112\n",
      "Current Training Loss on iteration 69 2.1071239\n",
      "Current Training Loss on iteration 70 2.106463\n",
      "Current Training Loss on iteration 71 2.105829\n",
      "Current Training Loss on iteration 72 2.10522\n",
      "Current Training Loss on iteration 73 2.1046348\n",
      "Current Training Loss on iteration 74 2.1040726\n",
      "Current Training Loss on iteration 75 2.1035337\n",
      "Current Training Loss on iteration 76 2.103016\n",
      "Current Training Loss on iteration 77 2.1025176\n",
      "Current Training Loss on iteration 78 2.1020405\n",
      "Current Training Loss on iteration 79 2.1015813\n",
      "Current Training Loss on iteration 80 2.10114\n",
      "Current Training Loss on iteration 81 2.1007178\n",
      "Current Training Loss on iteration 82 2.100311\n",
      "Current Training Loss on iteration 83 2.09992\n",
      "Current Training Loss on iteration 84 2.099545\n",
      "Current Training Loss on iteration 85 2.0991855\n",
      "Current Training Loss on iteration 86 2.0988393\n",
      "Current Training Loss on iteration 87 2.0985065\n",
      "Current Training Loss on iteration 88 2.098189\n",
      "Current Training Loss on iteration 89 2.0978823\n",
      "Current Training Loss on iteration 90 2.0975876\n",
      "Current Training Loss on iteration 91 2.097306\n",
      "Current Training Loss on iteration 92 2.0970342\n",
      "Current Training Loss on iteration 93 2.0967731\n",
      "Current Training Loss on iteration 94 2.0965226\n",
      "Current Training Loss on iteration 95 2.0962832\n",
      "Current Training Loss on iteration 96 2.0960522\n",
      "Current Training Loss on iteration 97 2.0958314\n",
      "Current Training Loss on iteration 98 2.095617\n",
      "Current Training Loss on iteration 99 2.0954123\n"
     ]
    }
   ],
   "source": [
    "for i in range(100):    \n",
    "    W, b = train(X, y, W, b)\n",
    "    print('Current Training Loss on iteration', i, loss(y, prediction(X, W, b)).numpy())"
   ]
  },
  {
   "cell_type": "markdown",
   "metadata": {
    "colab_type": "text",
    "id": "vanvD93FV0_k"
   },
   "source": [
    "### Observe values of Weight\n",
    "- Print the updated values"
   ]
  },
  {
   "cell_type": "code",
   "execution_count": 39,
   "metadata": {
    "colab": {
     "base_uri": "https://localhost:8080/",
     "height": 87
    },
    "colab_type": "code",
    "id": "QSqpy4gtWaOD",
    "outputId": "4276b27d-d908-46ff-b2e1-a57897d548d6"
   },
   "outputs": [
    {
     "data": {
      "text/plain": [
       "array([[0.00547828],\n",
       "       [0.00548819],\n",
       "       [0.00542273],\n",
       "       [0.00553312]], dtype=float32)"
      ]
     },
     "execution_count": 39,
     "metadata": {
      "tags": []
     },
     "output_type": "execute_result"
    }
   ],
   "source": [
    "W.numpy()"
   ]
  },
  {
   "cell_type": "markdown",
   "metadata": {
    "colab_type": "text",
    "id": "y9KpRupYUEwy"
   },
   "source": [
    "### Observe values of Bias\n",
    "- Print the updated values"
   ]
  },
  {
   "cell_type": "code",
   "execution_count": 40,
   "metadata": {
    "colab": {
     "base_uri": "https://localhost:8080/",
     "height": 35
    },
    "colab_type": "code",
    "id": "bhEWkGqHWohg",
    "outputId": "02422d93-48ca-4fa5-ed35-d342b2f398a1"
   },
   "outputs": [
    {
     "data": {
      "text/plain": [
       "array([0.46076566], dtype=float32)"
      ]
     },
     "execution_count": 40,
     "metadata": {
      "tags": []
     },
     "output_type": "execute_result"
    }
   ],
   "source": [
    "b.numpy()"
   ]
  },
  {
   "cell_type": "code",
   "execution_count": 0,
   "metadata": {
    "colab": {},
    "colab_type": "code",
    "id": "NA2Eu34FRIJ2"
   },
   "outputs": [],
   "source": []
  }
 ],
 "metadata": {
  "colab": {
   "collapsed_sections": [],
   "name": "Questions - Internal - R6 - AIML Labs.ipynb",
   "provenance": []
  },
  "kernelspec": {
   "display_name": "Python 3",
   "language": "python",
   "name": "python3"
  },
  "language_info": {
   "codemirror_mode": {
    "name": "ipython",
    "version": 3
   },
   "file_extension": ".py",
   "mimetype": "text/x-python",
   "name": "python",
   "nbconvert_exporter": "python",
   "pygments_lexer": "ipython3",
   "version": "3.7.3"
  }
 },
 "nbformat": 4,
 "nbformat_minor": 1
}
