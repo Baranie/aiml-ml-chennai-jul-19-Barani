{
 "cells": [
  {
   "cell_type": "markdown",
   "metadata": {},
   "source": [
    "# External Lab"
   ]
  },
  {
   "cell_type": "markdown",
   "metadata": {},
   "source": [
    "# Part-1"
   ]
  },
  {
   "cell_type": "markdown",
   "metadata": {},
   "source": [
    "## About the dataset\n",
    "\n",
    "This is perhaps the best known database to be found in the pattern recognition literature. The data set contains 3 classes of 50 instances each, where each class refers to a type of iris plant.  One class is linearly separable from the other 2; the latter are NOT linearly separable from each other.\n",
    "\n",
    "Attribute Information:\n",
    "   1. sepal length in cm\n",
    "   2. sepal width in cm\n",
    "   3. petal length in cm\n",
    "   4. petal width in cm\n",
    "   5. class: \n",
    "      -- Iris Setosa\n",
    "      -- Iris Versicolour\n",
    "      -- Iris Virginica"
   ]
  },
  {
   "cell_type": "markdown",
   "metadata": {},
   "source": [
    "### Read the dataset and store it in the dataframe named Iris"
   ]
  },
  {
   "cell_type": "code",
   "execution_count": 1,
   "metadata": {},
   "outputs": [],
   "source": [
    "import pandas as pd"
   ]
  },
  {
   "cell_type": "code",
   "execution_count": 2,
   "metadata": {},
   "outputs": [
    {
     "name": "stdout",
     "output_type": "stream",
     "text": [
      "   Sepal Length (in cm)  Sepal Width in (cm)  Petal length (in cm)  \\\n",
      "0                   5.1                  3.5                   1.4   \n",
      "1                   4.9                  3.0                   1.4   \n",
      "2                   4.7                  3.2                   1.3   \n",
      "\n",
      "   Petal width (in cm)        Class  \n",
      "0                  0.2  Iris-setosa  \n",
      "1                  0.2  Iris-setosa  \n",
      "2                  0.2  Iris-setosa  \n"
     ]
    }
   ],
   "source": [
    "Iris = pd.read_csv(\"Iris.csv\")\n",
    "print(Iris.head(3))"
   ]
  },
  {
   "cell_type": "markdown",
   "metadata": {},
   "source": [
    "### Find out the datatypes of each and every column"
   ]
  },
  {
   "cell_type": "code",
   "execution_count": 3,
   "metadata": {},
   "outputs": [
    {
     "name": "stdout",
     "output_type": "stream",
     "text": [
      "Sepal Length (in cm)    float64\n",
      "Sepal Width in (cm)     float64\n",
      "Petal length (in cm)    float64\n",
      "Petal width (in cm)     float64\n",
      "Class                    object\n",
      "dtype: object\n"
     ]
    }
   ],
   "source": [
    "print(Iris.dtypes)"
   ]
  },
  {
   "cell_type": "markdown",
   "metadata": {},
   "source": [
    "### Print top 10 & bottom 10 samples from the dataframe"
   ]
  },
  {
   "cell_type": "code",
   "execution_count": 4,
   "metadata": {},
   "outputs": [
    {
     "name": "stdout",
     "output_type": "stream",
     "text": [
      "DataFrame Output for top 10 row:\n",
      "\n",
      "\n",
      "    Sepal Length (in cm)  Sepal Width in (cm)  Petal length (in cm)  \\\n",
      "0                   5.1                  3.5                   1.4   \n",
      "1                   4.9                  3.0                   1.4   \n",
      "2                   4.7                  3.2                   1.3   \n",
      "3                   4.6                  3.1                   1.5   \n",
      "4                   5.0                  3.6                   1.4   \n",
      "5                   5.4                  3.9                   1.7   \n",
      "6                   4.6                  3.4                   1.4   \n",
      "7                   5.0                  3.4                   1.5   \n",
      "8                   4.4                  2.9                   1.4   \n",
      "9                   4.9                  3.1                   1.5   \n",
      "\n",
      "   Petal width (in cm)        Class  \n",
      "0                  0.2  Iris-setosa  \n",
      "1                  0.2  Iris-setosa  \n",
      "2                  0.2  Iris-setosa  \n",
      "3                  0.2  Iris-setosa  \n",
      "4                  0.2  Iris-setosa  \n",
      "5                  0.4  Iris-setosa  \n",
      "6                  0.3  Iris-setosa  \n",
      "7                  0.2  Iris-setosa  \n",
      "8                  0.2  Iris-setosa  \n",
      "9                  0.1  Iris-setosa  \n"
     ]
    }
   ],
   "source": [
    "print(\"DataFrame Output for top 10 row:\\n\\n\\n\",Iris.head(10))"
   ]
  },
  {
   "cell_type": "code",
   "execution_count": 5,
   "metadata": {},
   "outputs": [
    {
     "name": "stdout",
     "output_type": "stream",
     "text": [
      "DataFrame Output for Last 10 row:\n",
      "\n",
      "\n",
      "      Sepal Length (in cm)  Sepal Width in (cm)  Petal length (in cm)  \\\n",
      "140                   6.7                  3.1                   5.6   \n",
      "141                   6.9                  3.1                   5.1   \n",
      "142                   5.8                  2.7                   5.1   \n",
      "143                   6.8                  3.2                   5.9   \n",
      "144                   6.7                  3.3                   5.7   \n",
      "145                   6.7                  3.0                   5.2   \n",
      "146                   6.3                  2.5                   5.0   \n",
      "147                   6.5                  3.0                   5.2   \n",
      "148                   6.2                  3.4                   5.4   \n",
      "149                   5.9                  3.0                   5.1   \n",
      "\n",
      "     Petal width (in cm)           Class  \n",
      "140                  2.4  Iris-virginica  \n",
      "141                  2.3  Iris-virginica  \n",
      "142                  1.9  Iris-virginica  \n",
      "143                  2.3  Iris-virginica  \n",
      "144                  2.5  Iris-virginica  \n",
      "145                  2.3  Iris-virginica  \n",
      "146                  1.9  Iris-virginica  \n",
      "147                  2.0  Iris-virginica  \n",
      "148                  2.3  Iris-virginica  \n",
      "149                  1.8  Iris-virginica  \n"
     ]
    }
   ],
   "source": [
    "print(\"DataFrame Output for Last 10 row:\\n\\n\\n\",Iris.tail(10))"
   ]
  },
  {
   "cell_type": "markdown",
   "metadata": {},
   "source": [
    "### Find the shape of the dataset"
   ]
  },
  {
   "cell_type": "code",
   "execution_count": 6,
   "metadata": {},
   "outputs": [
    {
     "name": "stdout",
     "output_type": "stream",
     "text": [
      "Shape of the given data set is: (150, 5)\n"
     ]
    }
   ],
   "source": [
    "# Shape of given is dataset is 150 rows and 5 columns\n",
    "print(\"Shape of the given data set is:\",Iris.shape)"
   ]
  },
  {
   "cell_type": "markdown",
   "metadata": {},
   "source": [
    "### Set the index of the dataframe to be the first column"
   ]
  },
  {
   "cell_type": "code",
   "execution_count": 7,
   "metadata": {},
   "outputs": [
    {
     "name": "stdout",
     "output_type": "stream",
     "text": [
      "                      Sepal Width in (cm)  Petal length (in cm)  \\\n",
      "Sepal Length (in cm)                                              \n",
      "5.1                                   3.5                   1.4   \n",
      "4.9                                   3.0                   1.4   \n",
      "4.7                                   3.2                   1.3   \n",
      "4.6                                   3.1                   1.5   \n",
      "5.0                                   3.6                   1.4   \n",
      "5.4                                   3.9                   1.7   \n",
      "4.6                                   3.4                   1.4   \n",
      "5.0                                   3.4                   1.5   \n",
      "4.4                                   2.9                   1.4   \n",
      "4.9                                   3.1                   1.5   \n",
      "5.4                                   3.7                   1.5   \n",
      "4.8                                   3.4                   1.6   \n",
      "4.8                                   3.0                   1.4   \n",
      "4.3                                   3.0                   1.1   \n",
      "5.8                                   4.0                   1.2   \n",
      "5.7                                   4.4                   1.5   \n",
      "5.4                                   3.9                   1.3   \n",
      "5.1                                   3.5                   1.4   \n",
      "5.7                                   3.8                   1.7   \n",
      "5.1                                   3.8                   1.5   \n",
      "5.4                                   3.4                   1.7   \n",
      "5.1                                   3.7                   1.5   \n",
      "4.6                                   3.6                   1.0   \n",
      "5.1                                   3.3                   1.7   \n",
      "4.8                                   3.4                   1.9   \n",
      "5.0                                   3.0                   1.6   \n",
      "5.0                                   3.4                   1.6   \n",
      "5.2                                   3.5                   1.5   \n",
      "5.2                                   3.4                   1.4   \n",
      "4.7                                   3.2                   1.6   \n",
      "...                                   ...                   ...   \n",
      "6.9                                   3.2                   5.7   \n",
      "5.6                                   2.8                   4.9   \n",
      "7.7                                   2.8                   6.7   \n",
      "6.3                                   2.7                   4.9   \n",
      "6.7                                   3.3                   5.7   \n",
      "7.2                                   3.2                   6.0   \n",
      "6.2                                   2.8                   4.8   \n",
      "6.1                                   3.0                   4.9   \n",
      "6.4                                   2.8                   5.6   \n",
      "7.2                                   3.0                   5.8   \n",
      "7.4                                   2.8                   6.1   \n",
      "7.9                                   3.8                   6.4   \n",
      "6.4                                   2.8                   5.6   \n",
      "6.3                                   2.8                   5.1   \n",
      "6.1                                   2.6                   5.6   \n",
      "7.7                                   3.0                   6.1   \n",
      "6.3                                   3.4                   5.6   \n",
      "6.4                                   3.1                   5.5   \n",
      "6.0                                   3.0                   4.8   \n",
      "6.9                                   3.1                   5.4   \n",
      "6.7                                   3.1                   5.6   \n",
      "6.9                                   3.1                   5.1   \n",
      "5.8                                   2.7                   5.1   \n",
      "6.8                                   3.2                   5.9   \n",
      "6.7                                   3.3                   5.7   \n",
      "6.7                                   3.0                   5.2   \n",
      "6.3                                   2.5                   5.0   \n",
      "6.5                                   3.0                   5.2   \n",
      "6.2                                   3.4                   5.4   \n",
      "5.9                                   3.0                   5.1   \n",
      "\n",
      "                      Petal width (in cm)           Class  \n",
      "Sepal Length (in cm)                                       \n",
      "5.1                                   0.2     Iris-setosa  \n",
      "4.9                                   0.2     Iris-setosa  \n",
      "4.7                                   0.2     Iris-setosa  \n",
      "4.6                                   0.2     Iris-setosa  \n",
      "5.0                                   0.2     Iris-setosa  \n",
      "5.4                                   0.4     Iris-setosa  \n",
      "4.6                                   0.3     Iris-setosa  \n",
      "5.0                                   0.2     Iris-setosa  \n",
      "4.4                                   0.2     Iris-setosa  \n",
      "4.9                                   0.1     Iris-setosa  \n",
      "5.4                                   0.2     Iris-setosa  \n",
      "4.8                                   0.2     Iris-setosa  \n",
      "4.8                                   0.1     Iris-setosa  \n",
      "4.3                                   0.1     Iris-setosa  \n",
      "5.8                                   0.2     Iris-setosa  \n",
      "5.7                                   0.4     Iris-setosa  \n",
      "5.4                                   0.4     Iris-setosa  \n",
      "5.1                                   0.3     Iris-setosa  \n",
      "5.7                                   0.3     Iris-setosa  \n",
      "5.1                                   0.3     Iris-setosa  \n",
      "5.4                                   0.2     Iris-setosa  \n",
      "5.1                                   0.4     Iris-setosa  \n",
      "4.6                                   0.2     Iris-setosa  \n",
      "5.1                                   0.5     Iris-setosa  \n",
      "4.8                                   0.2     Iris-setosa  \n",
      "5.0                                   0.2     Iris-setosa  \n",
      "5.0                                   0.4     Iris-setosa  \n",
      "5.2                                   0.2     Iris-setosa  \n",
      "5.2                                   0.2     Iris-setosa  \n",
      "4.7                                   0.2     Iris-setosa  \n",
      "...                                   ...             ...  \n",
      "6.9                                   2.3  Iris-virginica  \n",
      "5.6                                   2.0  Iris-virginica  \n",
      "7.7                                   2.0  Iris-virginica  \n",
      "6.3                                   1.8  Iris-virginica  \n",
      "6.7                                   2.1  Iris-virginica  \n",
      "7.2                                   1.8  Iris-virginica  \n",
      "6.2                                   1.8  Iris-virginica  \n",
      "6.1                                   1.8  Iris-virginica  \n",
      "6.4                                   2.1  Iris-virginica  \n",
      "7.2                                   1.6  Iris-virginica  \n",
      "7.4                                   1.9  Iris-virginica  \n",
      "7.9                                   2.0  Iris-virginica  \n",
      "6.4                                   2.2  Iris-virginica  \n",
      "6.3                                   1.5  Iris-virginica  \n",
      "6.1                                   1.4  Iris-virginica  \n",
      "7.7                                   2.3  Iris-virginica  \n",
      "6.3                                   2.4  Iris-virginica  \n",
      "6.4                                   1.8  Iris-virginica  \n",
      "6.0                                   1.8  Iris-virginica  \n",
      "6.9                                   2.1  Iris-virginica  \n",
      "6.7                                   2.4  Iris-virginica  \n",
      "6.9                                   2.3  Iris-virginica  \n",
      "5.8                                   1.9  Iris-virginica  \n",
      "6.8                                   2.3  Iris-virginica  \n",
      "6.7                                   2.5  Iris-virginica  \n",
      "6.7                                   2.3  Iris-virginica  \n",
      "6.3                                   1.9  Iris-virginica  \n",
      "6.5                                   2.0  Iris-virginica  \n",
      "6.2                                   2.3  Iris-virginica  \n",
      "5.9                                   1.8  Iris-virginica  \n",
      "\n",
      "[150 rows x 4 columns]\n"
     ]
    }
   ],
   "source": [
    "# As though column can be re-named, for readability while evaluating did not change. Also it is a temporal change \n",
    "print(Iris.set_index('Sepal Length (in cm)'))"
   ]
  },
  {
   "cell_type": "markdown",
   "metadata": {},
   "source": [
    "### Use iloc function to print all the rows of the 3rd column "
   ]
  },
  {
   "cell_type": "code",
   "execution_count": 8,
   "metadata": {},
   "outputs": [
    {
     "name": "stdout",
     "output_type": "stream",
     "text": [
      "     Petal length (in cm)\n",
      "0                     1.4\n",
      "1                     1.4\n",
      "2                     1.3\n",
      "3                     1.5\n",
      "4                     1.4\n",
      "5                     1.7\n",
      "6                     1.4\n",
      "7                     1.5\n",
      "8                     1.4\n",
      "9                     1.5\n",
      "10                    1.5\n",
      "11                    1.6\n",
      "12                    1.4\n",
      "13                    1.1\n",
      "14                    1.2\n",
      "15                    1.5\n",
      "16                    1.3\n",
      "17                    1.4\n",
      "18                    1.7\n",
      "19                    1.5\n",
      "20                    1.7\n",
      "21                    1.5\n",
      "22                    1.0\n",
      "23                    1.7\n",
      "24                    1.9\n",
      "25                    1.6\n",
      "26                    1.6\n",
      "27                    1.5\n",
      "28                    1.4\n",
      "29                    1.6\n",
      "..                    ...\n",
      "120                   5.7\n",
      "121                   4.9\n",
      "122                   6.7\n",
      "123                   4.9\n",
      "124                   5.7\n",
      "125                   6.0\n",
      "126                   4.8\n",
      "127                   4.9\n",
      "128                   5.6\n",
      "129                   5.8\n",
      "130                   6.1\n",
      "131                   6.4\n",
      "132                   5.6\n",
      "133                   5.1\n",
      "134                   5.6\n",
      "135                   6.1\n",
      "136                   5.6\n",
      "137                   5.5\n",
      "138                   4.8\n",
      "139                   5.4\n",
      "140                   5.6\n",
      "141                   5.1\n",
      "142                   5.1\n",
      "143                   5.9\n",
      "144                   5.7\n",
      "145                   5.2\n",
      "146                   5.0\n",
      "147                   5.2\n",
      "148                   5.4\n",
      "149                   5.1\n",
      "\n",
      "[150 rows x 1 columns]\n"
     ]
    }
   ],
   "source": [
    "#Here, I interpret the term '3rd column' as column index=2 as where an index starts from 0.\n",
    "print(Iris.iloc[:,2:3]) "
   ]
  },
  {
   "cell_type": "markdown",
   "metadata": {},
   "source": [
    "### Slicing\n",
    "Print only the Sepal width and Sepal Length for first 10 rows "
   ]
  },
  {
   "cell_type": "code",
   "execution_count": 9,
   "metadata": {},
   "outputs": [
    {
     "name": "stdout",
     "output_type": "stream",
     "text": [
      "   Sepal Length (in cm)  Sepal Width in (cm)\n",
      "0                   5.1                  3.5\n",
      "1                   4.9                  3.0\n",
      "2                   4.7                  3.2\n",
      "3                   4.6                  3.1\n",
      "4                   5.0                  3.6\n",
      "5                   5.4                  3.9\n",
      "6                   4.6                  3.4\n",
      "7                   5.0                  3.4\n",
      "8                   4.4                  2.9\n",
      "9                   4.9                  3.1\n"
     ]
    }
   ],
   "source": [
    "print(Iris.iloc[:10,:2])"
   ]
  },
  {
   "cell_type": "markdown",
   "metadata": {},
   "source": [
    "### Using Logical statements for indexing\n",
    "Print all the columns of row which has class name \"Iris-setosa\""
   ]
  },
  {
   "cell_type": "code",
   "execution_count": 10,
   "metadata": {},
   "outputs": [
    {
     "name": "stdout",
     "output_type": "stream",
     "text": [
      "    Sepal Length (in cm)  Sepal Width in (cm)  Petal length (in cm)  \\\n",
      "0                    5.1                  3.5                   1.4   \n",
      "1                    4.9                  3.0                   1.4   \n",
      "2                    4.7                  3.2                   1.3   \n",
      "3                    4.6                  3.1                   1.5   \n",
      "4                    5.0                  3.6                   1.4   \n",
      "5                    5.4                  3.9                   1.7   \n",
      "6                    4.6                  3.4                   1.4   \n",
      "7                    5.0                  3.4                   1.5   \n",
      "8                    4.4                  2.9                   1.4   \n",
      "9                    4.9                  3.1                   1.5   \n",
      "10                   5.4                  3.7                   1.5   \n",
      "11                   4.8                  3.4                   1.6   \n",
      "12                   4.8                  3.0                   1.4   \n",
      "13                   4.3                  3.0                   1.1   \n",
      "14                   5.8                  4.0                   1.2   \n",
      "15                   5.7                  4.4                   1.5   \n",
      "16                   5.4                  3.9                   1.3   \n",
      "17                   5.1                  3.5                   1.4   \n",
      "18                   5.7                  3.8                   1.7   \n",
      "19                   5.1                  3.8                   1.5   \n",
      "20                   5.4                  3.4                   1.7   \n",
      "21                   5.1                  3.7                   1.5   \n",
      "22                   4.6                  3.6                   1.0   \n",
      "23                   5.1                  3.3                   1.7   \n",
      "24                   4.8                  3.4                   1.9   \n",
      "25                   5.0                  3.0                   1.6   \n",
      "26                   5.0                  3.4                   1.6   \n",
      "27                   5.2                  3.5                   1.5   \n",
      "28                   5.2                  3.4                   1.4   \n",
      "29                   4.7                  3.2                   1.6   \n",
      "30                   4.8                  3.1                   1.6   \n",
      "31                   5.4                  3.4                   1.5   \n",
      "32                   5.2                  4.1                   1.5   \n",
      "33                   5.5                  4.2                   1.4   \n",
      "34                   4.9                  3.1                   1.5   \n",
      "35                   5.0                  3.2                   1.2   \n",
      "36                   5.5                  3.5                   1.3   \n",
      "37                   4.9                  3.1                   1.5   \n",
      "38                   4.4                  3.0                   1.3   \n",
      "39                   5.1                  3.4                   1.5   \n",
      "40                   5.0                  3.5                   1.3   \n",
      "41                   4.5                  2.3                   1.3   \n",
      "42                   4.4                  3.2                   1.3   \n",
      "43                   5.0                  3.5                   1.6   \n",
      "44                   5.1                  3.8                   1.9   \n",
      "45                   4.8                  3.0                   1.4   \n",
      "46                   5.1                  3.8                   1.6   \n",
      "47                   4.6                  3.2                   1.4   \n",
      "48                   5.3                  3.7                   1.5   \n",
      "49                   5.0                  3.3                   1.4   \n",
      "\n",
      "    Petal width (in cm)        Class  \n",
      "0                   0.2  Iris-setosa  \n",
      "1                   0.2  Iris-setosa  \n",
      "2                   0.2  Iris-setosa  \n",
      "3                   0.2  Iris-setosa  \n",
      "4                   0.2  Iris-setosa  \n",
      "5                   0.4  Iris-setosa  \n",
      "6                   0.3  Iris-setosa  \n",
      "7                   0.2  Iris-setosa  \n",
      "8                   0.2  Iris-setosa  \n",
      "9                   0.1  Iris-setosa  \n",
      "10                  0.2  Iris-setosa  \n",
      "11                  0.2  Iris-setosa  \n",
      "12                  0.1  Iris-setosa  \n",
      "13                  0.1  Iris-setosa  \n",
      "14                  0.2  Iris-setosa  \n",
      "15                  0.4  Iris-setosa  \n",
      "16                  0.4  Iris-setosa  \n",
      "17                  0.3  Iris-setosa  \n",
      "18                  0.3  Iris-setosa  \n",
      "19                  0.3  Iris-setosa  \n",
      "20                  0.2  Iris-setosa  \n",
      "21                  0.4  Iris-setosa  \n",
      "22                  0.2  Iris-setosa  \n",
      "23                  0.5  Iris-setosa  \n",
      "24                  0.2  Iris-setosa  \n",
      "25                  0.2  Iris-setosa  \n",
      "26                  0.4  Iris-setosa  \n",
      "27                  0.2  Iris-setosa  \n",
      "28                  0.2  Iris-setosa  \n",
      "29                  0.2  Iris-setosa  \n",
      "30                  0.2  Iris-setosa  \n",
      "31                  0.4  Iris-setosa  \n",
      "32                  0.1  Iris-setosa  \n",
      "33                  0.2  Iris-setosa  \n",
      "34                  0.1  Iris-setosa  \n",
      "35                  0.2  Iris-setosa  \n",
      "36                  0.2  Iris-setosa  \n",
      "37                  0.1  Iris-setosa  \n",
      "38                  0.2  Iris-setosa  \n",
      "39                  0.2  Iris-setosa  \n",
      "40                  0.3  Iris-setosa  \n",
      "41                  0.3  Iris-setosa  \n",
      "42                  0.2  Iris-setosa  \n",
      "43                  0.6  Iris-setosa  \n",
      "44                  0.4  Iris-setosa  \n",
      "45                  0.3  Iris-setosa  \n",
      "46                  0.2  Iris-setosa  \n",
      "47                  0.2  Iris-setosa  \n",
      "48                  0.2  Iris-setosa  \n",
      "49                  0.2  Iris-setosa  \n"
     ]
    }
   ],
   "source": [
    "print(Iris[Iris.Class == 'Iris-setosa'])"
   ]
  },
  {
   "cell_type": "markdown",
   "metadata": {},
   "source": [
    "### Multiply Sepal Length and width and store it under the column name \"SepalExtra\" in the same Iris dataframe"
   ]
  },
  {
   "cell_type": "code",
   "execution_count": 11,
   "metadata": {},
   "outputs": [
    {
     "name": "stdout",
     "output_type": "stream",
     "text": [
      "   Sepal Length (in cm)  Sepal Width in (cm)  Petal length (in cm)  \\\n",
      "0                   5.1                  3.5                   1.4   \n",
      "1                   4.9                  3.0                   1.4   \n",
      "2                   4.7                  3.2                   1.3   \n",
      "3                   4.6                  3.1                   1.5   \n",
      "4                   5.0                  3.6                   1.4   \n",
      "\n",
      "   Petal width (in cm)        Class  SepalExtra  \n",
      "0                  0.2  Iris-setosa       17.85  \n",
      "1                  0.2  Iris-setosa       14.70  \n",
      "2                  0.2  Iris-setosa       15.04  \n",
      "3                  0.2  Iris-setosa       14.26  \n",
      "4                  0.2  Iris-setosa       18.00  \n"
     ]
    }
   ],
   "source": [
    "Prod = Iris['Sepal Length (in cm)']*Iris['Sepal Width in (cm)']\n",
    "Iris = Iris.assign(SepalExtra=Prod)  # As below, there were a question to remove it. Adding the new column to DF.\n",
    "print(Iris.head(5))"
   ]
  },
  {
   "cell_type": "markdown",
   "metadata": {},
   "source": [
    "### Find out the mean and variance for each column but for class column "
   ]
  },
  {
   "cell_type": "code",
   "execution_count": 12,
   "metadata": {},
   "outputs": [
    {
     "data": {
      "text/plain": [
       "Sepal Length (in cm)     5.843333\n",
       "Sepal Width in (cm)      3.054000\n",
       "Petal length (in cm)     3.758667\n",
       "Petal width (in cm)      1.198667\n",
       "SepalExtra              17.806533\n",
       "dtype: float64"
      ]
     },
     "execution_count": 12,
     "metadata": {},
     "output_type": "execute_result"
    }
   ],
   "source": [
    "Iris.mean(axis=0,numeric_only=bool)"
   ]
  },
  {
   "cell_type": "code",
   "execution_count": 13,
   "metadata": {},
   "outputs": [
    {
     "data": {
      "text/plain": [
       "Sepal Length (in cm)     0.685694\n",
       "Sepal Width in (cm)      0.188004\n",
       "Petal length (in cm)     3.113179\n",
       "Petal width (in cm)      0.582414\n",
       "SepalExtra              11.348090\n",
       "dtype: float64"
      ]
     },
     "execution_count": 13,
     "metadata": {},
     "output_type": "execute_result"
    }
   ],
   "source": [
    "Iris.var(axis=0,numeric_only=bool)"
   ]
  },
  {
   "cell_type": "markdown",
   "metadata": {},
   "source": [
    "### Write a function that accepts two numbers as input and prints them - Pass the Sepal length and sepal width of 5th row and print the output"
   ]
  },
  {
   "cell_type": "code",
   "execution_count": 14,
   "metadata": {},
   "outputs": [],
   "source": [
    "def usr_print(p1, p2):\n",
    "    print(\"Sepal Length:\",p1,\"Sepal Width:\",p2)"
   ]
  },
  {
   "cell_type": "code",
   "execution_count": 15,
   "metadata": {},
   "outputs": [
    {
     "name": "stdout",
     "output_type": "stream",
     "text": [
      "Sepal Length: 5.0 Sepal Width: 3.6\n"
     ]
    }
   ],
   "source": [
    "usr_print(Iris.iat[4,0], Iris.iat[4,1])"
   ]
  },
  {
   "cell_type": "markdown",
   "metadata": {},
   "source": [
    "### Find the range of all the columns in the dataset\n",
    "\n",
    "*Range = Max value - Min value (in the column)*"
   ]
  },
  {
   "cell_type": "code",
   "execution_count": 16,
   "metadata": {},
   "outputs": [
    {
     "name": "stdout",
     "output_type": "stream",
     "text": [
      "Range is:\n",
      " Sepal Length (in cm)     3.60\n",
      "Sepal Width in (cm)      2.40\n",
      "Petal length (in cm)     5.90\n",
      "Petal width (in cm)      2.40\n",
      "SepalExtra              20.02\n",
      "dtype: float64\n"
     ]
    }
   ],
   "source": [
    "print(\"Range is:\\n\",Iris.max(numeric_only=bool)- Iris.min(numeric_only=bool))"
   ]
  },
  {
   "cell_type": "markdown",
   "metadata": {},
   "source": [
    "### Sort the entire dataset according to the column Petal width"
   ]
  },
  {
   "cell_type": "code",
   "execution_count": 17,
   "metadata": {},
   "outputs": [
    {
     "name": "stdout",
     "output_type": "stream",
     "text": [
      "     Sepal Length (in cm)  Sepal Width in (cm)  Petal length (in cm)  \\\n",
      "32                    5.2                  4.1                   1.5   \n",
      "13                    4.3                  3.0                   1.1   \n",
      "37                    4.9                  3.1                   1.5   \n",
      "9                     4.9                  3.1                   1.5   \n",
      "12                    4.8                  3.0                   1.4   \n",
      "34                    4.9                  3.1                   1.5   \n",
      "0                     5.1                  3.5                   1.4   \n",
      "27                    5.2                  3.5                   1.5   \n",
      "28                    5.2                  3.4                   1.4   \n",
      "29                    4.7                  3.2                   1.6   \n",
      "30                    4.8                  3.1                   1.6   \n",
      "33                    5.5                  4.2                   1.4   \n",
      "36                    5.5                  3.5                   1.3   \n",
      "38                    4.4                  3.0                   1.3   \n",
      "39                    5.1                  3.4                   1.5   \n",
      "42                    4.4                  3.2                   1.3   \n",
      "46                    5.1                  3.8                   1.6   \n",
      "47                    4.6                  3.2                   1.4   \n",
      "48                    5.3                  3.7                   1.5   \n",
      "49                    5.0                  3.3                   1.4   \n",
      "25                    5.0                  3.0                   1.6   \n",
      "24                    4.8                  3.4                   1.9   \n",
      "35                    5.0                  3.2                   1.2   \n",
      "3                     4.6                  3.1                   1.5   \n",
      "2                     4.7                  3.2                   1.3   \n",
      "7                     5.0                  3.4                   1.5   \n",
      "8                     4.4                  2.9                   1.4   \n",
      "10                    5.4                  3.7                   1.5   \n",
      "4                     5.0                  3.6                   1.4   \n",
      "11                    4.8                  3.4                   1.6   \n",
      "..                    ...                  ...                   ...   \n",
      "111                   6.4                  2.7                   5.3   \n",
      "121                   5.6                  2.8                   4.9   \n",
      "122                   7.7                  2.8                   6.7   \n",
      "147                   6.5                  3.0                   5.2   \n",
      "113                   5.7                  2.5                   5.0   \n",
      "131                   7.9                  3.8                   6.4   \n",
      "110                   6.5                  3.2                   5.1   \n",
      "139                   6.9                  3.1                   5.4   \n",
      "102                   7.1                  3.0                   5.9   \n",
      "112                   6.8                  3.0                   5.5   \n",
      "105                   7.6                  3.0                   6.6   \n",
      "124                   6.7                  3.3                   5.7   \n",
      "128                   6.4                  2.8                   5.6   \n",
      "117                   7.7                  3.8                   6.7   \n",
      "132                   6.4                  2.8                   5.6   \n",
      "104                   6.5                  3.0                   5.8   \n",
      "120                   6.9                  3.2                   5.7   \n",
      "115                   6.4                  3.2                   5.3   \n",
      "148                   6.2                  3.4                   5.4   \n",
      "141                   6.9                  3.1                   5.1   \n",
      "143                   6.8                  3.2                   5.9   \n",
      "145                   6.7                  3.0                   5.2   \n",
      "118                   7.7                  2.6                   6.9   \n",
      "135                   7.7                  3.0                   6.1   \n",
      "136                   6.3                  3.4                   5.6   \n",
      "140                   6.7                  3.1                   5.6   \n",
      "114                   5.8                  2.8                   5.1   \n",
      "100                   6.3                  3.3                   6.0   \n",
      "144                   6.7                  3.3                   5.7   \n",
      "109                   7.2                  3.6                   6.1   \n",
      "\n",
      "     Petal width (in cm)           Class  SepalExtra  \n",
      "32                   0.1     Iris-setosa       21.32  \n",
      "13                   0.1     Iris-setosa       12.90  \n",
      "37                   0.1     Iris-setosa       15.19  \n",
      "9                    0.1     Iris-setosa       15.19  \n",
      "12                   0.1     Iris-setosa       14.40  \n",
      "34                   0.1     Iris-setosa       15.19  \n",
      "0                    0.2     Iris-setosa       17.85  \n",
      "27                   0.2     Iris-setosa       18.20  \n",
      "28                   0.2     Iris-setosa       17.68  \n",
      "29                   0.2     Iris-setosa       15.04  \n",
      "30                   0.2     Iris-setosa       14.88  \n",
      "33                   0.2     Iris-setosa       23.10  \n",
      "36                   0.2     Iris-setosa       19.25  \n",
      "38                   0.2     Iris-setosa       13.20  \n",
      "39                   0.2     Iris-setosa       17.34  \n",
      "42                   0.2     Iris-setosa       14.08  \n",
      "46                   0.2     Iris-setosa       19.38  \n",
      "47                   0.2     Iris-setosa       14.72  \n",
      "48                   0.2     Iris-setosa       19.61  \n",
      "49                   0.2     Iris-setosa       16.50  \n",
      "25                   0.2     Iris-setosa       15.00  \n",
      "24                   0.2     Iris-setosa       16.32  \n",
      "35                   0.2     Iris-setosa       16.00  \n",
      "3                    0.2     Iris-setosa       14.26  \n",
      "2                    0.2     Iris-setosa       15.04  \n",
      "7                    0.2     Iris-setosa       17.00  \n",
      "8                    0.2     Iris-setosa       12.76  \n",
      "10                   0.2     Iris-setosa       19.98  \n",
      "4                    0.2     Iris-setosa       18.00  \n",
      "11                   0.2     Iris-setosa       16.32  \n",
      "..                   ...             ...         ...  \n",
      "111                  1.9  Iris-virginica       17.28  \n",
      "121                  2.0  Iris-virginica       15.68  \n",
      "122                  2.0  Iris-virginica       21.56  \n",
      "147                  2.0  Iris-virginica       19.50  \n",
      "113                  2.0  Iris-virginica       14.25  \n",
      "131                  2.0  Iris-virginica       30.02  \n",
      "110                  2.0  Iris-virginica       20.80  \n",
      "139                  2.1  Iris-virginica       21.39  \n",
      "102                  2.1  Iris-virginica       21.30  \n",
      "112                  2.1  Iris-virginica       20.40  \n",
      "105                  2.1  Iris-virginica       22.80  \n",
      "124                  2.1  Iris-virginica       22.11  \n",
      "128                  2.1  Iris-virginica       17.92  \n",
      "117                  2.2  Iris-virginica       29.26  \n",
      "132                  2.2  Iris-virginica       17.92  \n",
      "104                  2.2  Iris-virginica       19.50  \n",
      "120                  2.3  Iris-virginica       22.08  \n",
      "115                  2.3  Iris-virginica       20.48  \n",
      "148                  2.3  Iris-virginica       21.08  \n",
      "141                  2.3  Iris-virginica       21.39  \n",
      "143                  2.3  Iris-virginica       21.76  \n",
      "145                  2.3  Iris-virginica       20.10  \n",
      "118                  2.3  Iris-virginica       20.02  \n",
      "135                  2.3  Iris-virginica       23.10  \n",
      "136                  2.4  Iris-virginica       21.42  \n",
      "140                  2.4  Iris-virginica       20.77  \n",
      "114                  2.4  Iris-virginica       16.24  \n",
      "100                  2.5  Iris-virginica       20.79  \n",
      "144                  2.5  Iris-virginica       22.11  \n",
      "109                  2.5  Iris-virginica       25.92  \n",
      "\n",
      "[150 rows x 6 columns]\n"
     ]
    }
   ],
   "source": [
    "print(Iris.nsmallest(Iris.size,'Petal width (in cm)'))"
   ]
  },
  {
   "cell_type": "markdown",
   "metadata": {},
   "source": [
    "### Remove the new column \"SepalExtra\" from the dataframe"
   ]
  },
  {
   "cell_type": "code",
   "execution_count": 18,
   "metadata": {},
   "outputs": [
    {
     "name": "stdout",
     "output_type": "stream",
     "text": [
      "   Sepal Length (in cm)  Sepal Width in (cm)  Petal length (in cm)  \\\n",
      "0                   5.1                  3.5                   1.4   \n",
      "1                   4.9                  3.0                   1.4   \n",
      "2                   4.7                  3.2                   1.3   \n",
      "3                   4.6                  3.1                   1.5   \n",
      "4                   5.0                  3.6                   1.4   \n",
      "\n",
      "   Petal width (in cm)        Class  \n",
      "0                  0.2  Iris-setosa  \n",
      "1                  0.2  Iris-setosa  \n",
      "2                  0.2  Iris-setosa  \n",
      "3                  0.2  Iris-setosa  \n",
      "4                  0.2  Iris-setosa  \n"
     ]
    }
   ],
   "source": [
    "Iris = Iris.drop(columns='SepalExtra')\n",
    "print(Iris.head(5))"
   ]
  },
  {
   "cell_type": "markdown",
   "metadata": {},
   "source": [
    "### Take only the top 10 rows of the dataset with only first 3 columns and store it in a dataframe named \"IrisSubset\" "
   ]
  },
  {
   "cell_type": "code",
   "execution_count": 19,
   "metadata": {},
   "outputs": [
    {
     "name": "stdout",
     "output_type": "stream",
     "text": [
      "   Sepal Length (in cm)  Sepal Width in (cm)  Petal length (in cm)\n",
      "0                   5.1                  3.5                   1.4\n",
      "1                   4.9                  3.0                   1.4\n",
      "2                   4.7                  3.2                   1.3\n",
      "3                   4.6                  3.1                   1.5\n",
      "4                   5.0                  3.6                   1.4\n",
      "5                   5.4                  3.9                   1.7\n",
      "6                   4.6                  3.4                   1.4\n",
      "7                   5.0                  3.4                   1.5\n",
      "8                   4.4                  2.9                   1.4\n",
      "9                   4.9                  3.1                   1.5\n"
     ]
    }
   ],
   "source": [
    "IrisSubset = Iris.iloc[:10,:3] #Here the column(index:0) starts from Sepal Length\n",
    "print(IrisSubset)"
   ]
  },
  {
   "cell_type": "markdown",
   "metadata": {},
   "source": [
    "# Part-2"
   ]
  },
  {
   "cell_type": "markdown",
   "metadata": {},
   "source": [
    "## The dataset HR contains information collected from the survey floated by a HR within the company.\n",
    "\n",
    "\n",
    "As a part of this lab, you are expected to answer the below questions"
   ]
  },
  {
   "cell_type": "markdown",
   "metadata": {},
   "source": [
    "### Import numpy and Pandas "
   ]
  },
  {
   "cell_type": "code",
   "execution_count": 20,
   "metadata": {},
   "outputs": [],
   "source": [
    "import numpy as np\n",
    "import pandas as pd"
   ]
  },
  {
   "cell_type": "markdown",
   "metadata": {},
   "source": [
    "### Import the dataset (Note: The dataset is in .txt format) - Make sure to use delimiters"
   ]
  },
  {
   "cell_type": "code",
   "execution_count": 21,
   "metadata": {},
   "outputs": [
    {
     "data": {
      "text/html": [
       "<div>\n",
       "<style scoped>\n",
       "    .dataframe tbody tr th:only-of-type {\n",
       "        vertical-align: middle;\n",
       "    }\n",
       "\n",
       "    .dataframe tbody tr th {\n",
       "        vertical-align: top;\n",
       "    }\n",
       "\n",
       "    .dataframe thead th {\n",
       "        text-align: right;\n",
       "    }\n",
       "</style>\n",
       "<table border=\"1\" class=\"dataframe\">\n",
       "  <thead>\n",
       "    <tr style=\"text-align: right;\">\n",
       "      <th></th>\n",
       "      <th>Individual</th>\n",
       "      <th>Attrition</th>\n",
       "      <th>Age</th>\n",
       "      <th>BusinessTravel</th>\n",
       "      <th>DailyRate</th>\n",
       "      <th>Department</th>\n",
       "      <th>DistanceFromHome</th>\n",
       "      <th>Education</th>\n",
       "      <th>EducationField</th>\n",
       "      <th>EmployeeCount</th>\n",
       "      <th>...</th>\n",
       "      <th>RelationshipSatisfaction</th>\n",
       "      <th>StandardHours</th>\n",
       "      <th>StockOptionLevel</th>\n",
       "      <th>TotalWorkingYears</th>\n",
       "      <th>TrainingTimesLastYear</th>\n",
       "      <th>WorkLifeBalance</th>\n",
       "      <th>YearsAtCompany</th>\n",
       "      <th>YearsInCurrentRole</th>\n",
       "      <th>YearsSinceLastPromotion</th>\n",
       "      <th>YearsWithCurrManager</th>\n",
       "    </tr>\n",
       "  </thead>\n",
       "  <tbody>\n",
       "    <tr>\n",
       "      <th>0</th>\n",
       "      <td>Ind1</td>\n",
       "      <td>Yes</td>\n",
       "      <td>41</td>\n",
       "      <td>1</td>\n",
       "      <td>1102</td>\n",
       "      <td>1</td>\n",
       "      <td>1</td>\n",
       "      <td>2</td>\n",
       "      <td>1</td>\n",
       "      <td>1</td>\n",
       "      <td>...</td>\n",
       "      <td>1</td>\n",
       "      <td>80</td>\n",
       "      <td>0</td>\n",
       "      <td>8</td>\n",
       "      <td>0</td>\n",
       "      <td>1</td>\n",
       "      <td>6</td>\n",
       "      <td>4</td>\n",
       "      <td>0</td>\n",
       "      <td>5</td>\n",
       "    </tr>\n",
       "    <tr>\n",
       "      <th>1</th>\n",
       "      <td>Ind2</td>\n",
       "      <td>No</td>\n",
       "      <td>49</td>\n",
       "      <td>2</td>\n",
       "      <td>279</td>\n",
       "      <td>2</td>\n",
       "      <td>8</td>\n",
       "      <td>1</td>\n",
       "      <td>1</td>\n",
       "      <td>1</td>\n",
       "      <td>...</td>\n",
       "      <td>4</td>\n",
       "      <td>80</td>\n",
       "      <td>1</td>\n",
       "      <td>10</td>\n",
       "      <td>3</td>\n",
       "      <td>3</td>\n",
       "      <td>10</td>\n",
       "      <td>7</td>\n",
       "      <td>1</td>\n",
       "      <td>7</td>\n",
       "    </tr>\n",
       "    <tr>\n",
       "      <th>2</th>\n",
       "      <td>Ind3</td>\n",
       "      <td>Yes</td>\n",
       "      <td>37</td>\n",
       "      <td>1</td>\n",
       "      <td>1373</td>\n",
       "      <td>2</td>\n",
       "      <td>2</td>\n",
       "      <td>2</td>\n",
       "      <td>6</td>\n",
       "      <td>1</td>\n",
       "      <td>...</td>\n",
       "      <td>2</td>\n",
       "      <td>80</td>\n",
       "      <td>0</td>\n",
       "      <td>7</td>\n",
       "      <td>3</td>\n",
       "      <td>3</td>\n",
       "      <td>0</td>\n",
       "      <td>0</td>\n",
       "      <td>0</td>\n",
       "      <td>0</td>\n",
       "    </tr>\n",
       "    <tr>\n",
       "      <th>3</th>\n",
       "      <td>Ind4</td>\n",
       "      <td>No</td>\n",
       "      <td>33</td>\n",
       "      <td>2</td>\n",
       "      <td>1392</td>\n",
       "      <td>2</td>\n",
       "      <td>3</td>\n",
       "      <td>4</td>\n",
       "      <td>1</td>\n",
       "      <td>1</td>\n",
       "      <td>...</td>\n",
       "      <td>3</td>\n",
       "      <td>80</td>\n",
       "      <td>0</td>\n",
       "      <td>8</td>\n",
       "      <td>3</td>\n",
       "      <td>3</td>\n",
       "      <td>8</td>\n",
       "      <td>7</td>\n",
       "      <td>3</td>\n",
       "      <td>0</td>\n",
       "    </tr>\n",
       "    <tr>\n",
       "      <th>4</th>\n",
       "      <td>Ind5</td>\n",
       "      <td>No</td>\n",
       "      <td>27</td>\n",
       "      <td>1</td>\n",
       "      <td>591</td>\n",
       "      <td>2</td>\n",
       "      <td>2</td>\n",
       "      <td>1</td>\n",
       "      <td>2</td>\n",
       "      <td>1</td>\n",
       "      <td>...</td>\n",
       "      <td>4</td>\n",
       "      <td>80</td>\n",
       "      <td>1</td>\n",
       "      <td>6</td>\n",
       "      <td>3</td>\n",
       "      <td>3</td>\n",
       "      <td>2</td>\n",
       "      <td>2</td>\n",
       "      <td>2</td>\n",
       "      <td>2</td>\n",
       "    </tr>\n",
       "  </tbody>\n",
       "</table>\n",
       "<p>5 rows × 35 columns</p>\n",
       "</div>"
      ],
      "text/plain": [
       "  Individual  Attrition  Age  BusinessTravel  DailyRate  Department  \\\n",
       "0        Ind1       Yes   41               1       1102           1   \n",
       "1        Ind2        No   49               2        279           2   \n",
       "2        Ind3       Yes   37               1       1373           2   \n",
       "3        Ind4        No   33               2       1392           2   \n",
       "4        Ind5        No   27               1        591           2   \n",
       "\n",
       "   DistanceFromHome  Education  EducationField  EmployeeCount  ...  \\\n",
       "0                 1          2               1              1  ...   \n",
       "1                 8          1               1              1  ...   \n",
       "2                 2          2               6              1  ...   \n",
       "3                 3          4               1              1  ...   \n",
       "4                 2          1               2              1  ...   \n",
       "\n",
       "   RelationshipSatisfaction  StandardHours  StockOptionLevel  \\\n",
       "0                         1             80                 0   \n",
       "1                         4             80                 1   \n",
       "2                         2             80                 0   \n",
       "3                         3             80                 0   \n",
       "4                         4             80                 1   \n",
       "\n",
       "   TotalWorkingYears  TrainingTimesLastYear  WorkLifeBalance  YearsAtCompany  \\\n",
       "0                  8                      0                1               6   \n",
       "1                 10                      3                3              10   \n",
       "2                  7                      3                3               0   \n",
       "3                  8                      3                3               8   \n",
       "4                  6                      3                3               2   \n",
       "\n",
       "   YearsInCurrentRole  YearsSinceLastPromotion  YearsWithCurrManager  \n",
       "0                   4                        0                     5  \n",
       "1                   7                        1                     7  \n",
       "2                   0                        0                     0  \n",
       "3                   7                        3                     0  \n",
       "4                   2                        2                     2  \n",
       "\n",
       "[5 rows x 35 columns]"
      ]
     },
     "execution_count": 21,
     "metadata": {},
     "output_type": "execute_result"
    }
   ],
   "source": [
    "dataset=pd.read_csv('HR_external.txt',delimiter=\"\\t\")\n",
    "dataset.to_csv('HR_external.csv')\n",
    "dataset.head()"
   ]
  },
  {
   "cell_type": "markdown",
   "metadata": {},
   "source": [
    "### Print the no of rows and columns in the dataset "
   ]
  },
  {
   "cell_type": "code",
   "execution_count": 22,
   "metadata": {},
   "outputs": [
    {
     "data": {
      "text/plain": [
       "(1470, 35)"
      ]
     },
     "execution_count": 22,
     "metadata": {},
     "output_type": "execute_result"
    }
   ],
   "source": [
    "# Suvery has 1470 rows and 35 columns \n",
    "dataset.shape"
   ]
  },
  {
   "cell_type": "markdown",
   "metadata": {},
   "source": [
    "### Find out the type of each and every column in the dataset "
   ]
  },
  {
   "cell_type": "code",
   "execution_count": 23,
   "metadata": {},
   "outputs": [
    {
     "data": {
      "text/plain": [
       "Individual                  object\n",
       "Attrition                   object\n",
       "Age                          int64\n",
       "BusinessTravel               int64\n",
       "DailyRate                    int64\n",
       "Department                   int64\n",
       "DistanceFromHome             int64\n",
       "Education                    int64\n",
       "EducationField               int64\n",
       "EmployeeCount                int64\n",
       "EmployeeNumber               int64\n",
       "EnvironmentSatisfaction      int64\n",
       "Gender                       int64\n",
       "HourlyRate                   int64\n",
       "JobInvolvement               int64\n",
       "JobLevel                     int64\n",
       "JobRole                      int64\n",
       "JobSatisfaction              int64\n",
       "MaritalStatus                int64\n",
       "MonthlyIncome                int64\n",
       "MonthlyRate                  int64\n",
       "NumCompaniesWorked           int64\n",
       "OverTime                     int64\n",
       "PercentSalaryHike            int64\n",
       "PerformanceRating            int64\n",
       "RelationshipSatisfaction     int64\n",
       "StandardHours                int64\n",
       "StockOptionLevel             int64\n",
       "TotalWorkingYears            int64\n",
       "TrainingTimesLastYear        int64\n",
       "WorkLifeBalance              int64\n",
       "YearsAtCompany               int64\n",
       "YearsInCurrentRole           int64\n",
       "YearsSinceLastPromotion      int64\n",
       "YearsWithCurrManager         int64\n",
       "dtype: object"
      ]
     },
     "execution_count": 23,
     "metadata": {},
     "output_type": "execute_result"
    }
   ],
   "source": [
    "dataset.dtypes"
   ]
  },
  {
   "cell_type": "markdown",
   "metadata": {},
   "source": [
    "### Print out all the rows from 3rd column to 10th columns  "
   ]
  },
  {
   "cell_type": "code",
   "execution_count": 24,
   "metadata": {},
   "outputs": [
    {
     "data": {
      "text/html": [
       "<div>\n",
       "<style scoped>\n",
       "    .dataframe tbody tr th:only-of-type {\n",
       "        vertical-align: middle;\n",
       "    }\n",
       "\n",
       "    .dataframe tbody tr th {\n",
       "        vertical-align: top;\n",
       "    }\n",
       "\n",
       "    .dataframe thead th {\n",
       "        text-align: right;\n",
       "    }\n",
       "</style>\n",
       "<table border=\"1\" class=\"dataframe\">\n",
       "  <thead>\n",
       "    <tr style=\"text-align: right;\">\n",
       "      <th></th>\n",
       "      <th>Age</th>\n",
       "      <th>BusinessTravel</th>\n",
       "      <th>DailyRate</th>\n",
       "      <th>Department</th>\n",
       "      <th>DistanceFromHome</th>\n",
       "      <th>Education</th>\n",
       "      <th>EducationField</th>\n",
       "      <th>EmployeeCount</th>\n",
       "    </tr>\n",
       "  </thead>\n",
       "  <tbody>\n",
       "    <tr>\n",
       "      <th>0</th>\n",
       "      <td>41</td>\n",
       "      <td>1</td>\n",
       "      <td>1102</td>\n",
       "      <td>1</td>\n",
       "      <td>1</td>\n",
       "      <td>2</td>\n",
       "      <td>1</td>\n",
       "      <td>1</td>\n",
       "    </tr>\n",
       "    <tr>\n",
       "      <th>1</th>\n",
       "      <td>49</td>\n",
       "      <td>2</td>\n",
       "      <td>279</td>\n",
       "      <td>2</td>\n",
       "      <td>8</td>\n",
       "      <td>1</td>\n",
       "      <td>1</td>\n",
       "      <td>1</td>\n",
       "    </tr>\n",
       "    <tr>\n",
       "      <th>2</th>\n",
       "      <td>37</td>\n",
       "      <td>1</td>\n",
       "      <td>1373</td>\n",
       "      <td>2</td>\n",
       "      <td>2</td>\n",
       "      <td>2</td>\n",
       "      <td>6</td>\n",
       "      <td>1</td>\n",
       "    </tr>\n",
       "    <tr>\n",
       "      <th>3</th>\n",
       "      <td>33</td>\n",
       "      <td>2</td>\n",
       "      <td>1392</td>\n",
       "      <td>2</td>\n",
       "      <td>3</td>\n",
       "      <td>4</td>\n",
       "      <td>1</td>\n",
       "      <td>1</td>\n",
       "    </tr>\n",
       "    <tr>\n",
       "      <th>4</th>\n",
       "      <td>27</td>\n",
       "      <td>1</td>\n",
       "      <td>591</td>\n",
       "      <td>2</td>\n",
       "      <td>2</td>\n",
       "      <td>1</td>\n",
       "      <td>2</td>\n",
       "      <td>1</td>\n",
       "    </tr>\n",
       "    <tr>\n",
       "      <th>5</th>\n",
       "      <td>32</td>\n",
       "      <td>2</td>\n",
       "      <td>1005</td>\n",
       "      <td>2</td>\n",
       "      <td>2</td>\n",
       "      <td>2</td>\n",
       "      <td>1</td>\n",
       "      <td>1</td>\n",
       "    </tr>\n",
       "    <tr>\n",
       "      <th>6</th>\n",
       "      <td>59</td>\n",
       "      <td>1</td>\n",
       "      <td>1324</td>\n",
       "      <td>2</td>\n",
       "      <td>3</td>\n",
       "      <td>3</td>\n",
       "      <td>2</td>\n",
       "      <td>1</td>\n",
       "    </tr>\n",
       "    <tr>\n",
       "      <th>7</th>\n",
       "      <td>30</td>\n",
       "      <td>1</td>\n",
       "      <td>1358</td>\n",
       "      <td>2</td>\n",
       "      <td>24</td>\n",
       "      <td>1</td>\n",
       "      <td>1</td>\n",
       "      <td>1</td>\n",
       "    </tr>\n",
       "    <tr>\n",
       "      <th>8</th>\n",
       "      <td>38</td>\n",
       "      <td>2</td>\n",
       "      <td>216</td>\n",
       "      <td>2</td>\n",
       "      <td>23</td>\n",
       "      <td>3</td>\n",
       "      <td>1</td>\n",
       "      <td>1</td>\n",
       "    </tr>\n",
       "    <tr>\n",
       "      <th>9</th>\n",
       "      <td>36</td>\n",
       "      <td>1</td>\n",
       "      <td>1299</td>\n",
       "      <td>2</td>\n",
       "      <td>27</td>\n",
       "      <td>3</td>\n",
       "      <td>2</td>\n",
       "      <td>1</td>\n",
       "    </tr>\n",
       "    <tr>\n",
       "      <th>10</th>\n",
       "      <td>35</td>\n",
       "      <td>1</td>\n",
       "      <td>809</td>\n",
       "      <td>2</td>\n",
       "      <td>16</td>\n",
       "      <td>3</td>\n",
       "      <td>2</td>\n",
       "      <td>1</td>\n",
       "    </tr>\n",
       "    <tr>\n",
       "      <th>11</th>\n",
       "      <td>29</td>\n",
       "      <td>1</td>\n",
       "      <td>153</td>\n",
       "      <td>2</td>\n",
       "      <td>15</td>\n",
       "      <td>2</td>\n",
       "      <td>1</td>\n",
       "      <td>1</td>\n",
       "    </tr>\n",
       "    <tr>\n",
       "      <th>12</th>\n",
       "      <td>31</td>\n",
       "      <td>1</td>\n",
       "      <td>670</td>\n",
       "      <td>2</td>\n",
       "      <td>26</td>\n",
       "      <td>1</td>\n",
       "      <td>1</td>\n",
       "      <td>1</td>\n",
       "    </tr>\n",
       "    <tr>\n",
       "      <th>13</th>\n",
       "      <td>34</td>\n",
       "      <td>1</td>\n",
       "      <td>1346</td>\n",
       "      <td>2</td>\n",
       "      <td>19</td>\n",
       "      <td>2</td>\n",
       "      <td>2</td>\n",
       "      <td>1</td>\n",
       "    </tr>\n",
       "    <tr>\n",
       "      <th>14</th>\n",
       "      <td>28</td>\n",
       "      <td>1</td>\n",
       "      <td>103</td>\n",
       "      <td>2</td>\n",
       "      <td>24</td>\n",
       "      <td>3</td>\n",
       "      <td>1</td>\n",
       "      <td>1</td>\n",
       "    </tr>\n",
       "    <tr>\n",
       "      <th>15</th>\n",
       "      <td>29</td>\n",
       "      <td>1</td>\n",
       "      <td>1389</td>\n",
       "      <td>2</td>\n",
       "      <td>21</td>\n",
       "      <td>4</td>\n",
       "      <td>1</td>\n",
       "      <td>1</td>\n",
       "    </tr>\n",
       "    <tr>\n",
       "      <th>16</th>\n",
       "      <td>32</td>\n",
       "      <td>1</td>\n",
       "      <td>334</td>\n",
       "      <td>2</td>\n",
       "      <td>5</td>\n",
       "      <td>2</td>\n",
       "      <td>1</td>\n",
       "      <td>1</td>\n",
       "    </tr>\n",
       "    <tr>\n",
       "      <th>17</th>\n",
       "      <td>22</td>\n",
       "      <td>3</td>\n",
       "      <td>1123</td>\n",
       "      <td>2</td>\n",
       "      <td>16</td>\n",
       "      <td>2</td>\n",
       "      <td>2</td>\n",
       "      <td>1</td>\n",
       "    </tr>\n",
       "    <tr>\n",
       "      <th>18</th>\n",
       "      <td>53</td>\n",
       "      <td>1</td>\n",
       "      <td>1219</td>\n",
       "      <td>1</td>\n",
       "      <td>2</td>\n",
       "      <td>4</td>\n",
       "      <td>1</td>\n",
       "      <td>1</td>\n",
       "    </tr>\n",
       "    <tr>\n",
       "      <th>19</th>\n",
       "      <td>38</td>\n",
       "      <td>1</td>\n",
       "      <td>371</td>\n",
       "      <td>2</td>\n",
       "      <td>2</td>\n",
       "      <td>3</td>\n",
       "      <td>1</td>\n",
       "      <td>1</td>\n",
       "    </tr>\n",
       "    <tr>\n",
       "      <th>20</th>\n",
       "      <td>24</td>\n",
       "      <td>3</td>\n",
       "      <td>673</td>\n",
       "      <td>2</td>\n",
       "      <td>11</td>\n",
       "      <td>2</td>\n",
       "      <td>6</td>\n",
       "      <td>1</td>\n",
       "    </tr>\n",
       "    <tr>\n",
       "      <th>21</th>\n",
       "      <td>36</td>\n",
       "      <td>1</td>\n",
       "      <td>1218</td>\n",
       "      <td>1</td>\n",
       "      <td>9</td>\n",
       "      <td>4</td>\n",
       "      <td>1</td>\n",
       "      <td>1</td>\n",
       "    </tr>\n",
       "    <tr>\n",
       "      <th>22</th>\n",
       "      <td>34</td>\n",
       "      <td>1</td>\n",
       "      <td>419</td>\n",
       "      <td>2</td>\n",
       "      <td>7</td>\n",
       "      <td>4</td>\n",
       "      <td>1</td>\n",
       "      <td>1</td>\n",
       "    </tr>\n",
       "    <tr>\n",
       "      <th>23</th>\n",
       "      <td>21</td>\n",
       "      <td>1</td>\n",
       "      <td>391</td>\n",
       "      <td>2</td>\n",
       "      <td>15</td>\n",
       "      <td>2</td>\n",
       "      <td>1</td>\n",
       "      <td>1</td>\n",
       "    </tr>\n",
       "    <tr>\n",
       "      <th>24</th>\n",
       "      <td>34</td>\n",
       "      <td>1</td>\n",
       "      <td>699</td>\n",
       "      <td>2</td>\n",
       "      <td>6</td>\n",
       "      <td>1</td>\n",
       "      <td>2</td>\n",
       "      <td>1</td>\n",
       "    </tr>\n",
       "    <tr>\n",
       "      <th>25</th>\n",
       "      <td>53</td>\n",
       "      <td>1</td>\n",
       "      <td>1282</td>\n",
       "      <td>2</td>\n",
       "      <td>5</td>\n",
       "      <td>3</td>\n",
       "      <td>6</td>\n",
       "      <td>1</td>\n",
       "    </tr>\n",
       "    <tr>\n",
       "      <th>26</th>\n",
       "      <td>32</td>\n",
       "      <td>2</td>\n",
       "      <td>1125</td>\n",
       "      <td>2</td>\n",
       "      <td>16</td>\n",
       "      <td>1</td>\n",
       "      <td>1</td>\n",
       "      <td>1</td>\n",
       "    </tr>\n",
       "    <tr>\n",
       "      <th>27</th>\n",
       "      <td>42</td>\n",
       "      <td>1</td>\n",
       "      <td>691</td>\n",
       "      <td>1</td>\n",
       "      <td>8</td>\n",
       "      <td>4</td>\n",
       "      <td>3</td>\n",
       "      <td>1</td>\n",
       "    </tr>\n",
       "    <tr>\n",
       "      <th>28</th>\n",
       "      <td>44</td>\n",
       "      <td>1</td>\n",
       "      <td>477</td>\n",
       "      <td>2</td>\n",
       "      <td>7</td>\n",
       "      <td>4</td>\n",
       "      <td>2</td>\n",
       "      <td>1</td>\n",
       "    </tr>\n",
       "    <tr>\n",
       "      <th>29</th>\n",
       "      <td>46</td>\n",
       "      <td>1</td>\n",
       "      <td>705</td>\n",
       "      <td>1</td>\n",
       "      <td>2</td>\n",
       "      <td>4</td>\n",
       "      <td>3</td>\n",
       "      <td>1</td>\n",
       "    </tr>\n",
       "    <tr>\n",
       "      <th>...</th>\n",
       "      <td>...</td>\n",
       "      <td>...</td>\n",
       "      <td>...</td>\n",
       "      <td>...</td>\n",
       "      <td>...</td>\n",
       "      <td>...</td>\n",
       "      <td>...</td>\n",
       "      <td>...</td>\n",
       "    </tr>\n",
       "    <tr>\n",
       "      <th>1440</th>\n",
       "      <td>36</td>\n",
       "      <td>2</td>\n",
       "      <td>688</td>\n",
       "      <td>2</td>\n",
       "      <td>4</td>\n",
       "      <td>2</td>\n",
       "      <td>1</td>\n",
       "      <td>1</td>\n",
       "    </tr>\n",
       "    <tr>\n",
       "      <th>1441</th>\n",
       "      <td>56</td>\n",
       "      <td>3</td>\n",
       "      <td>667</td>\n",
       "      <td>2</td>\n",
       "      <td>1</td>\n",
       "      <td>4</td>\n",
       "      <td>1</td>\n",
       "      <td>1</td>\n",
       "    </tr>\n",
       "    <tr>\n",
       "      <th>1442</th>\n",
       "      <td>29</td>\n",
       "      <td>1</td>\n",
       "      <td>1092</td>\n",
       "      <td>2</td>\n",
       "      <td>1</td>\n",
       "      <td>4</td>\n",
       "      <td>2</td>\n",
       "      <td>1</td>\n",
       "    </tr>\n",
       "    <tr>\n",
       "      <th>1443</th>\n",
       "      <td>42</td>\n",
       "      <td>1</td>\n",
       "      <td>300</td>\n",
       "      <td>2</td>\n",
       "      <td>2</td>\n",
       "      <td>3</td>\n",
       "      <td>1</td>\n",
       "      <td>1</td>\n",
       "    </tr>\n",
       "    <tr>\n",
       "      <th>1444</th>\n",
       "      <td>56</td>\n",
       "      <td>1</td>\n",
       "      <td>310</td>\n",
       "      <td>2</td>\n",
       "      <td>7</td>\n",
       "      <td>2</td>\n",
       "      <td>4</td>\n",
       "      <td>1</td>\n",
       "    </tr>\n",
       "    <tr>\n",
       "      <th>1445</th>\n",
       "      <td>41</td>\n",
       "      <td>1</td>\n",
       "      <td>582</td>\n",
       "      <td>2</td>\n",
       "      <td>28</td>\n",
       "      <td>4</td>\n",
       "      <td>1</td>\n",
       "      <td>1</td>\n",
       "    </tr>\n",
       "    <tr>\n",
       "      <th>1446</th>\n",
       "      <td>34</td>\n",
       "      <td>1</td>\n",
       "      <td>704</td>\n",
       "      <td>1</td>\n",
       "      <td>28</td>\n",
       "      <td>3</td>\n",
       "      <td>3</td>\n",
       "      <td>1</td>\n",
       "    </tr>\n",
       "    <tr>\n",
       "      <th>1447</th>\n",
       "      <td>36</td>\n",
       "      <td>3</td>\n",
       "      <td>301</td>\n",
       "      <td>1</td>\n",
       "      <td>15</td>\n",
       "      <td>4</td>\n",
       "      <td>3</td>\n",
       "      <td>1</td>\n",
       "    </tr>\n",
       "    <tr>\n",
       "      <th>1448</th>\n",
       "      <td>41</td>\n",
       "      <td>1</td>\n",
       "      <td>930</td>\n",
       "      <td>1</td>\n",
       "      <td>3</td>\n",
       "      <td>3</td>\n",
       "      <td>1</td>\n",
       "      <td>1</td>\n",
       "    </tr>\n",
       "    <tr>\n",
       "      <th>1449</th>\n",
       "      <td>32</td>\n",
       "      <td>1</td>\n",
       "      <td>529</td>\n",
       "      <td>2</td>\n",
       "      <td>2</td>\n",
       "      <td>3</td>\n",
       "      <td>4</td>\n",
       "      <td>1</td>\n",
       "    </tr>\n",
       "    <tr>\n",
       "      <th>1450</th>\n",
       "      <td>35</td>\n",
       "      <td>1</td>\n",
       "      <td>1146</td>\n",
       "      <td>3</td>\n",
       "      <td>26</td>\n",
       "      <td>4</td>\n",
       "      <td>1</td>\n",
       "      <td>1</td>\n",
       "    </tr>\n",
       "    <tr>\n",
       "      <th>1451</th>\n",
       "      <td>38</td>\n",
       "      <td>1</td>\n",
       "      <td>345</td>\n",
       "      <td>1</td>\n",
       "      <td>10</td>\n",
       "      <td>2</td>\n",
       "      <td>1</td>\n",
       "      <td>1</td>\n",
       "    </tr>\n",
       "    <tr>\n",
       "      <th>1452</th>\n",
       "      <td>50</td>\n",
       "      <td>2</td>\n",
       "      <td>878</td>\n",
       "      <td>1</td>\n",
       "      <td>1</td>\n",
       "      <td>4</td>\n",
       "      <td>1</td>\n",
       "      <td>1</td>\n",
       "    </tr>\n",
       "    <tr>\n",
       "      <th>1453</th>\n",
       "      <td>36</td>\n",
       "      <td>1</td>\n",
       "      <td>1120</td>\n",
       "      <td>1</td>\n",
       "      <td>11</td>\n",
       "      <td>4</td>\n",
       "      <td>3</td>\n",
       "      <td>1</td>\n",
       "    </tr>\n",
       "    <tr>\n",
       "      <th>1454</th>\n",
       "      <td>45</td>\n",
       "      <td>1</td>\n",
       "      <td>374</td>\n",
       "      <td>1</td>\n",
       "      <td>20</td>\n",
       "      <td>3</td>\n",
       "      <td>1</td>\n",
       "      <td>1</td>\n",
       "    </tr>\n",
       "    <tr>\n",
       "      <th>1455</th>\n",
       "      <td>40</td>\n",
       "      <td>1</td>\n",
       "      <td>1322</td>\n",
       "      <td>2</td>\n",
       "      <td>2</td>\n",
       "      <td>4</td>\n",
       "      <td>1</td>\n",
       "      <td>1</td>\n",
       "    </tr>\n",
       "    <tr>\n",
       "      <th>1456</th>\n",
       "      <td>35</td>\n",
       "      <td>2</td>\n",
       "      <td>1199</td>\n",
       "      <td>2</td>\n",
       "      <td>18</td>\n",
       "      <td>4</td>\n",
       "      <td>1</td>\n",
       "      <td>1</td>\n",
       "    </tr>\n",
       "    <tr>\n",
       "      <th>1457</th>\n",
       "      <td>40</td>\n",
       "      <td>1</td>\n",
       "      <td>1194</td>\n",
       "      <td>2</td>\n",
       "      <td>2</td>\n",
       "      <td>4</td>\n",
       "      <td>2</td>\n",
       "      <td>1</td>\n",
       "    </tr>\n",
       "    <tr>\n",
       "      <th>1458</th>\n",
       "      <td>35</td>\n",
       "      <td>1</td>\n",
       "      <td>287</td>\n",
       "      <td>2</td>\n",
       "      <td>1</td>\n",
       "      <td>4</td>\n",
       "      <td>1</td>\n",
       "      <td>1</td>\n",
       "    </tr>\n",
       "    <tr>\n",
       "      <th>1459</th>\n",
       "      <td>29</td>\n",
       "      <td>1</td>\n",
       "      <td>1378</td>\n",
       "      <td>2</td>\n",
       "      <td>13</td>\n",
       "      <td>2</td>\n",
       "      <td>6</td>\n",
       "      <td>1</td>\n",
       "    </tr>\n",
       "    <tr>\n",
       "      <th>1460</th>\n",
       "      <td>29</td>\n",
       "      <td>1</td>\n",
       "      <td>468</td>\n",
       "      <td>2</td>\n",
       "      <td>28</td>\n",
       "      <td>4</td>\n",
       "      <td>2</td>\n",
       "      <td>1</td>\n",
       "    </tr>\n",
       "    <tr>\n",
       "      <th>1461</th>\n",
       "      <td>50</td>\n",
       "      <td>1</td>\n",
       "      <td>410</td>\n",
       "      <td>1</td>\n",
       "      <td>28</td>\n",
       "      <td>3</td>\n",
       "      <td>3</td>\n",
       "      <td>1</td>\n",
       "    </tr>\n",
       "    <tr>\n",
       "      <th>1462</th>\n",
       "      <td>39</td>\n",
       "      <td>1</td>\n",
       "      <td>722</td>\n",
       "      <td>1</td>\n",
       "      <td>24</td>\n",
       "      <td>1</td>\n",
       "      <td>3</td>\n",
       "      <td>1</td>\n",
       "    </tr>\n",
       "    <tr>\n",
       "      <th>1463</th>\n",
       "      <td>31</td>\n",
       "      <td>3</td>\n",
       "      <td>325</td>\n",
       "      <td>2</td>\n",
       "      <td>5</td>\n",
       "      <td>3</td>\n",
       "      <td>2</td>\n",
       "      <td>1</td>\n",
       "    </tr>\n",
       "    <tr>\n",
       "      <th>1464</th>\n",
       "      <td>26</td>\n",
       "      <td>1</td>\n",
       "      <td>1167</td>\n",
       "      <td>1</td>\n",
       "      <td>5</td>\n",
       "      <td>3</td>\n",
       "      <td>6</td>\n",
       "      <td>1</td>\n",
       "    </tr>\n",
       "    <tr>\n",
       "      <th>1465</th>\n",
       "      <td>36</td>\n",
       "      <td>2</td>\n",
       "      <td>884</td>\n",
       "      <td>2</td>\n",
       "      <td>23</td>\n",
       "      <td>2</td>\n",
       "      <td>2</td>\n",
       "      <td>1</td>\n",
       "    </tr>\n",
       "    <tr>\n",
       "      <th>1466</th>\n",
       "      <td>39</td>\n",
       "      <td>1</td>\n",
       "      <td>613</td>\n",
       "      <td>2</td>\n",
       "      <td>6</td>\n",
       "      <td>1</td>\n",
       "      <td>2</td>\n",
       "      <td>1</td>\n",
       "    </tr>\n",
       "    <tr>\n",
       "      <th>1467</th>\n",
       "      <td>27</td>\n",
       "      <td>1</td>\n",
       "      <td>155</td>\n",
       "      <td>2</td>\n",
       "      <td>4</td>\n",
       "      <td>3</td>\n",
       "      <td>1</td>\n",
       "      <td>1</td>\n",
       "    </tr>\n",
       "    <tr>\n",
       "      <th>1468</th>\n",
       "      <td>49</td>\n",
       "      <td>2</td>\n",
       "      <td>1023</td>\n",
       "      <td>1</td>\n",
       "      <td>2</td>\n",
       "      <td>3</td>\n",
       "      <td>2</td>\n",
       "      <td>1</td>\n",
       "    </tr>\n",
       "    <tr>\n",
       "      <th>1469</th>\n",
       "      <td>34</td>\n",
       "      <td>1</td>\n",
       "      <td>628</td>\n",
       "      <td>2</td>\n",
       "      <td>8</td>\n",
       "      <td>3</td>\n",
       "      <td>2</td>\n",
       "      <td>1</td>\n",
       "    </tr>\n",
       "  </tbody>\n",
       "</table>\n",
       "<p>1470 rows × 8 columns</p>\n",
       "</div>"
      ],
      "text/plain": [
       "      Age  BusinessTravel  DailyRate  Department  DistanceFromHome  Education  \\\n",
       "0      41               1       1102           1                 1          2   \n",
       "1      49               2        279           2                 8          1   \n",
       "2      37               1       1373           2                 2          2   \n",
       "3      33               2       1392           2                 3          4   \n",
       "4      27               1        591           2                 2          1   \n",
       "5      32               2       1005           2                 2          2   \n",
       "6      59               1       1324           2                 3          3   \n",
       "7      30               1       1358           2                24          1   \n",
       "8      38               2        216           2                23          3   \n",
       "9      36               1       1299           2                27          3   \n",
       "10     35               1        809           2                16          3   \n",
       "11     29               1        153           2                15          2   \n",
       "12     31               1        670           2                26          1   \n",
       "13     34               1       1346           2                19          2   \n",
       "14     28               1        103           2                24          3   \n",
       "15     29               1       1389           2                21          4   \n",
       "16     32               1        334           2                 5          2   \n",
       "17     22               3       1123           2                16          2   \n",
       "18     53               1       1219           1                 2          4   \n",
       "19     38               1        371           2                 2          3   \n",
       "20     24               3        673           2                11          2   \n",
       "21     36               1       1218           1                 9          4   \n",
       "22     34               1        419           2                 7          4   \n",
       "23     21               1        391           2                15          2   \n",
       "24     34               1        699           2                 6          1   \n",
       "25     53               1       1282           2                 5          3   \n",
       "26     32               2       1125           2                16          1   \n",
       "27     42               1        691           1                 8          4   \n",
       "28     44               1        477           2                 7          4   \n",
       "29     46               1        705           1                 2          4   \n",
       "...   ...             ...        ...         ...               ...        ...   \n",
       "1440   36               2        688           2                 4          2   \n",
       "1441   56               3        667           2                 1          4   \n",
       "1442   29               1       1092           2                 1          4   \n",
       "1443   42               1        300           2                 2          3   \n",
       "1444   56               1        310           2                 7          2   \n",
       "1445   41               1        582           2                28          4   \n",
       "1446   34               1        704           1                28          3   \n",
       "1447   36               3        301           1                15          4   \n",
       "1448   41               1        930           1                 3          3   \n",
       "1449   32               1        529           2                 2          3   \n",
       "1450   35               1       1146           3                26          4   \n",
       "1451   38               1        345           1                10          2   \n",
       "1452   50               2        878           1                 1          4   \n",
       "1453   36               1       1120           1                11          4   \n",
       "1454   45               1        374           1                20          3   \n",
       "1455   40               1       1322           2                 2          4   \n",
       "1456   35               2       1199           2                18          4   \n",
       "1457   40               1       1194           2                 2          4   \n",
       "1458   35               1        287           2                 1          4   \n",
       "1459   29               1       1378           2                13          2   \n",
       "1460   29               1        468           2                28          4   \n",
       "1461   50               1        410           1                28          3   \n",
       "1462   39               1        722           1                24          1   \n",
       "1463   31               3        325           2                 5          3   \n",
       "1464   26               1       1167           1                 5          3   \n",
       "1465   36               2        884           2                23          2   \n",
       "1466   39               1        613           2                 6          1   \n",
       "1467   27               1        155           2                 4          3   \n",
       "1468   49               2       1023           1                 2          3   \n",
       "1469   34               1        628           2                 8          3   \n",
       "\n",
       "      EducationField  EmployeeCount  \n",
       "0                  1              1  \n",
       "1                  1              1  \n",
       "2                  6              1  \n",
       "3                  1              1  \n",
       "4                  2              1  \n",
       "5                  1              1  \n",
       "6                  2              1  \n",
       "7                  1              1  \n",
       "8                  1              1  \n",
       "9                  2              1  \n",
       "10                 2              1  \n",
       "11                 1              1  \n",
       "12                 1              1  \n",
       "13                 2              1  \n",
       "14                 1              1  \n",
       "15                 1              1  \n",
       "16                 1              1  \n",
       "17                 2              1  \n",
       "18                 1              1  \n",
       "19                 1              1  \n",
       "20                 6              1  \n",
       "21                 1              1  \n",
       "22                 1              1  \n",
       "23                 1              1  \n",
       "24                 2              1  \n",
       "25                 6              1  \n",
       "26                 1              1  \n",
       "27                 3              1  \n",
       "28                 2              1  \n",
       "29                 3              1  \n",
       "...              ...            ...  \n",
       "1440               1              1  \n",
       "1441               1              1  \n",
       "1442               2              1  \n",
       "1443               1              1  \n",
       "1444               4              1  \n",
       "1445               1              1  \n",
       "1446               3              1  \n",
       "1447               3              1  \n",
       "1448               1              1  \n",
       "1449               4              1  \n",
       "1450               1              1  \n",
       "1451               1              1  \n",
       "1452               1              1  \n",
       "1453               3              1  \n",
       "1454               1              1  \n",
       "1455               1              1  \n",
       "1456               1              1  \n",
       "1457               2              1  \n",
       "1458               1              1  \n",
       "1459               6              1  \n",
       "1460               2              1  \n",
       "1461               3              1  \n",
       "1462               3              1  \n",
       "1463               2              1  \n",
       "1464               6              1  \n",
       "1465               2              1  \n",
       "1466               2              1  \n",
       "1467               1              1  \n",
       "1468               2              1  \n",
       "1469               2              1  \n",
       "\n",
       "[1470 rows x 8 columns]"
      ]
     },
     "execution_count": 24,
     "metadata": {},
     "output_type": "execute_result"
    }
   ],
   "source": [
    "dataset.iloc[:,2:10] # i.e. as a index starts from 0 print 2nd to 9th columns"
   ]
  },
  {
   "cell_type": "markdown",
   "metadata": {},
   "source": [
    "### Find out the no of male & female employees in the company\n",
    "\n",
    "*Hint: Use can use a condition to find out the no of 1s and 0s in gender and sum it*"
   ]
  },
  {
   "cell_type": "code",
   "execution_count": 25,
   "metadata": {
    "scrolled": true
   },
   "outputs": [
    {
     "name": "stdout",
     "output_type": "stream",
     "text": [
      "Total no of male gender is: 882\n",
      "Total no of female gender is: 588\n",
      "Sum: 1470\n"
     ]
    }
   ],
   "source": [
    "#Here, the assumption is male gender=1 and female gender=2\n",
    "\n",
    "#print(dataset['Gender'].value_counts())\n",
    "#dataset[dataset['Gender']==1].count()\n",
    "\n",
    "g_male   = dataset[dataset['Gender']==1] \n",
    "g_female = dataset[dataset['Gender']>1]\n",
    "\n",
    "print(\"Total no of male gender is:\", g_male['Gender'].count())\n",
    "print(\"Total no of female gender is:\", g_female['Gender'].count())\n",
    "print(\"Sum:\",g_male['Gender'].count()+ g_female['Gender'].count())"
   ]
  },
  {
   "cell_type": "markdown",
   "metadata": {},
   "source": [
    "### Find out the IQR for the column - Age \n",
    "\n",
    "*Hint: IQR - Interquartile range = 75th percentile - 25th percentile* "
   ]
  },
  {
   "cell_type": "code",
   "execution_count": 26,
   "metadata": {
    "scrolled": true
   },
   "outputs": [
    {
     "name": "stdout",
     "output_type": "stream",
     "text": [
      "IQR for Age 13.0\n"
     ]
    }
   ],
   "source": [
    "Age_IQR = (dataset['Age'].quantile(0.75) - dataset['Age'].quantile(0.25))\n",
    "print(\"IQR for Age\",Age_IQR)"
   ]
  },
  {
   "cell_type": "markdown",
   "metadata": {},
   "source": [
    "### Find out the mean, median and variance for the column - DailyRate "
   ]
  },
  {
   "cell_type": "code",
   "execution_count": 27,
   "metadata": {
    "scrolled": true
   },
   "outputs": [
    {
     "name": "stdout",
     "output_type": "stream",
     "text": [
      "Median for DailyRate 802.0\n"
     ]
    }
   ],
   "source": [
    "print(\"Median for DailyRate\",dataset['DailyRate'].median())"
   ]
  },
  {
   "cell_type": "code",
   "execution_count": 28,
   "metadata": {},
   "outputs": [
    {
     "name": "stdout",
     "output_type": "stream",
     "text": [
      "Mean for DailyRate 802.4857142857143\n"
     ]
    }
   ],
   "source": [
    "print(\"Mean for DailyRate\",dataset['DailyRate'].mean())"
   ]
  },
  {
   "cell_type": "code",
   "execution_count": 29,
   "metadata": {},
   "outputs": [
    {
     "name": "stdout",
     "output_type": "stream",
     "text": [
      "Variance for DailyRate 162819.59373723628\n"
     ]
    }
   ],
   "source": [
    "print(\"Variance for DailyRate\",dataset['DailyRate'].var())"
   ]
  },
  {
   "cell_type": "markdown",
   "metadata": {},
   "source": [
    "### Plot the attrition column (Since it is a categorical variable, chose the plot accordingly)"
   ]
  },
  {
   "cell_type": "code",
   "execution_count": 30,
   "metadata": {
    "scrolled": false
   },
   "outputs": [
    {
     "name": "stdout",
     "output_type": "stream",
     "text": [
      "Categorised Gender count:\n",
      "1    882\n",
      "2    588\n",
      "Name: Gender, dtype: int64\n"
     ]
    }
   ],
   "source": [
    "import matplotlib.pyplot as plt\n",
    "import seaborn as sns\n",
    "\n",
    "print('Categorised Gender count:')\n",
    "print(dataset['Gender'].value_counts())"
   ]
  },
  {
   "cell_type": "code",
   "execution_count": 31,
   "metadata": {},
   "outputs": [
    {
     "data": {
      "image/png": "[encoded data removed]",
      "text/plain": [
       "<Figure size 432x288 with 1 Axes>"
      ]
     },
     "metadata": {
      "needs_background": "light"
     },
     "output_type": "display_data"
    }
   ],
   "source": [
    "#Based on the survey conducted, possible attrition count(~200) been derived which has to be considered and act upon\n",
    "sns.countplot(x='Attrition',data=dataset,hue='Gender')\n",
    "plt.show()"
   ]
  },
  {
   "cell_type": "code",
   "execution_count": 32,
   "metadata": {
    "scrolled": false
   },
   "outputs": [
    {
     "data": {
      "image/png": "[encoded data removed]",
      "text/plain": [
       "<Figure size 432x288 with 1 Axes>"
      ]
     },
     "metadata": {
      "needs_background": "light"
     },
     "output_type": "display_data"
    }
   ],
   "source": [
    "#Based on the survey conducted, possible attrition count derived for each department\n",
    "sns.countplot(x='Attrition',hue='Department',data=dataset,)\n",
    "plt.show()"
   ]
  },
  {
   "cell_type": "markdown",
   "metadata": {},
   "source": [
    "So Monthly income is the cause of job dis-satisfaction and in turn attrition !"
   ]
  },
  {
   "cell_type": "code",
   "execution_count": 33,
   "metadata": {
    "scrolled": true
   },
   "outputs": [
    {
     "data": {
      "image/png": "[encoded data removed]",
      "text/plain": [
       "<Figure size 432x288 with 1 Axes>"
      ]
     },
     "metadata": {
      "needs_background": "light"
     },
     "output_type": "display_data"
    }
   ],
   "source": [
    "sns.boxplot(x='Attrition',y='MonthlyIncome',hue='Gender',data=dataset)\n",
    "plt.show()"
   ]
  },
  {
   "cell_type": "code",
   "execution_count": 34,
   "metadata": {},
   "outputs": [
    {
     "data": {
      "image/png": "[encoded data removed]",
      "text/plain": [
       "<Figure size 432x288 with 1 Axes>"
      ]
     },
     "metadata": {
      "needs_background": "light"
     },
     "output_type": "display_data"
    }
   ],
   "source": [
    "sns.boxplot(x='Attrition',y='MonthlyIncome',hue='JobSatisfaction',data=dataset)\n",
    "plt.show()"
   ]
  },
  {
   "cell_type": "markdown",
   "metadata": {},
   "source": [
    "### Plot Total working years using matplotlib plot function"
   ]
  },
  {
   "cell_type": "code",
   "execution_count": 35,
   "metadata": {},
   "outputs": [],
   "source": [
    "import matplotlib.pyplot as plt"
   ]
  },
  {
   "cell_type": "code",
   "execution_count": 36,
   "metadata": {},
   "outputs": [
    {
     "data": {
      "image/png": "[encoded data removed]",
      "text/plain": [
       "<Figure size 432x288 with 1 Axes>"
      ]
     },
     "metadata": {},
     "output_type": "display_data"
    }
   ],
   "source": [
    "slice_chunk = dataset['TotalWorkingYears'].value_counts(bins=8,ascending=True).tolist()\n",
    "yrs_of_exp = dataset['TotalWorkingYears'].value_counts(bins=8,ascending=True).index.tolist()\n",
    "\n",
    "plt.pie(slice_chunk, labels = yrs_of_exp,autopct = '%.2f%%')\n",
    "\n",
    "plt.title(\"Employees Experience distrubution\")\n",
    "plt.show()\n"
   ]
  },
  {
   "cell_type": "code",
   "execution_count": 37,
   "metadata": {},
   "outputs": [
    {
     "data": {
      "image/png": "[encoded data removed]",
      "text/plain": [
       "<Figure size 432x288 with 1 Axes>"
      ]
     },
     "metadata": {
      "needs_background": "light"
     },
     "output_type": "display_data"
    }
   ],
   "source": [
    "counts = dataset['TotalWorkingYears'].value_counts(ascending=True)\n",
    "exp =  dataset['TotalWorkingYears'].value_counts(ascending=True).index.tolist()\n",
    "\n",
    "plt.plot(counts,exp)\n",
    "\n",
    "plt.title(\"Total working experience\\n (vs)\\n Employees count in that Category\")\n",
    "plt.xlabel(\"Employees Count for the given experience\")\n",
    "plt.ylabel(\"Total experience of an Employee\")\n",
    "plt.show()"
   ]
  }
 ],
 "metadata": {
  "kernelspec": {
   "display_name": "Python 3",
   "language": "python",
   "name": "python3"
  },
  "language_info": {
   "codemirror_mode": {
    "name": "ipython",
    "version": 3
   },
   "file_extension": ".py",
   "mimetype": "text/x-python",
   "name": "python",
   "nbconvert_exporter": "python",
   "pygments_lexer": "ipython3",
   "version": "3.7.3"
  }
 },
 "nbformat": 4,
 "nbformat_minor": 2
}
