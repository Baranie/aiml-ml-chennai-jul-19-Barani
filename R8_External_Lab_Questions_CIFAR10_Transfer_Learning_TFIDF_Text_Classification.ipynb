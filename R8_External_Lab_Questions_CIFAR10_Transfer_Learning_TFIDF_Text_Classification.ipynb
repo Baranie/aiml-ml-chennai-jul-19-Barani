{
  "nbformat": 4,
  "nbformat_minor": 0,
  "metadata": {
    "colab": {
      "name": "R8_External_Lab_Questions_CIFAR10_Transfer_Learning_TFIDF_Text_Classification_(1) (2).ipynb",
      "provenance": [],
      "collapsed_sections": []
    },
    "kernelspec": {
      "display_name": "Python 3",
      "language": "python",
      "name": "python3"
    },
    "language_info": {
      "codemirror_mode": {
        "name": "ipython",
        "version": 3
      },
      "file_extension": ".py",
      "mimetype": "text/x-python",
      "name": "python",
      "nbconvert_exporter": "python",
      "pygments_lexer": "ipython3",
      "version": "3.7.3"
    }
  },
  "cells": [
    {
      "cell_type": "markdown",
      "metadata": {
        "colab_type": "text",
        "id": "QGIsF1ADyJ58"
      },
      "source": [
        "# Transfer Learning CIFAR10"
      ]
    },
    {
      "cell_type": "markdown",
      "metadata": {
        "colab_type": "text",
        "id": "E-n6tVFayGBe"
      },
      "source": [
        "* Train a simple convnet on the CIFAR dataset the first 5 output classes [0..4].\n",
        "* Freeze convolutional layers and fine-tune dense layers for the last 5 ouput classes [5..9].\n"
      ]
    },
    {
      "cell_type": "code",
      "metadata": {
        "id": "R79mRVcaF_uR",
        "colab_type": "code",
        "colab": {
          "base_uri": "https://localhost:8080/",
          "height": 81
        },
        "outputId": "a7a97e7b-a1f7-4fa7-8f64-af5792c338fe"
      },
      "source": [
        "import numpy as np\n",
        "import pandas as pd\n",
        "import matplotlib.pyplot as plt\n",
        "\n",
        "import seaborn as sns\n",
        "\n",
        "import tensorflow\n",
        "\n",
        "import keras\n",
        "from keras.models import Sequential\n",
        "from keras.layers import Conv2D, MaxPooling2D, AveragePooling2D, Dropout, BatchNormalization, Flatten, Activation, Dense, MaxPooling2D, AveragePooling2D\n",
        "from keras.callbacks import EarlyStopping\n",
        "\n",
        "from keras.datasets import cifar10\n",
        "\n",
        "from sklearn.feature_extraction.text import TfidfVectorizer\n",
        "from sklearn.linear_model import LogisticRegression\n",
        "from sklearn import metrics\n",
        "\n",
        "\n",
        "import warnings\n",
        "warnings.filterwarnings('ignore')\n"
      ],
      "execution_count": 1,
      "outputs": [
        {
          "output_type": "display_data",
          "data": {
            "text/html": [
              "<p style=\"color: red;\">\n",
              "The default version of TensorFlow in Colab will soon switch to TensorFlow 2.x.<br>\n",
              "We recommend you <a href=\"https://www.tensorflow.org/guide/migrate\" target=\"_blank\">upgrade</a> now \n",
              "or ensure your notebook will continue to use TensorFlow 1.x via the <code>%tensorflow_version 1.x</code> magic:\n",
              "<a href=\"https://colab.research.google.com/notebooks/tensorflow_version.ipynb\" target=\"_blank\">more info</a>.</p>\n"
            ],
            "text/plain": [
              "<IPython.core.display.HTML object>"
            ]
          },
          "metadata": {
            "tags": []
          }
        },
        {
          "output_type": "stream",
          "text": [
            "Using TensorFlow backend.\n"
          ],
          "name": "stderr"
        }
      ]
    },
    {
      "cell_type": "markdown",
      "metadata": {
        "colab_type": "text",
        "id": "Cq8ejXHJyGYq"
      },
      "source": [
        "### 1. Import CIFAR10 data and create 2 datasets with one dataset having classes from 0 to 4 and other having classes from 5 to 9 "
      ]
    },
    {
      "cell_type": "code",
      "metadata": {
        "colab_type": "code",
        "id": "uWYbxnBayFUP",
        "outputId": "1379d490-6264-4ac7-ea9a-a3151f1c9dc2",
        "colab": {
          "base_uri": "https://localhost:8080/",
          "height": 34
        }
      },
      "source": [
        "type(cifar10)"
      ],
      "execution_count": 2,
      "outputs": [
        {
          "output_type": "execute_result",
          "data": {
            "text/plain": [
              "module"
            ]
          },
          "metadata": {
            "tags": []
          },
          "execution_count": 2
        }
      ]
    },
    {
      "cell_type": "code",
      "metadata": {
        "id": "ov8ffG_xHMpc",
        "colab_type": "code",
        "colab": {}
      },
      "source": [
        "(x_train,y_train), (x_test,y_test) = cifar10.load_data()"
      ],
      "execution_count": 0,
      "outputs": []
    },
    {
      "cell_type": "code",
      "metadata": {
        "id": "Wtc9goueVloW",
        "colab_type": "code",
        "outputId": "3a386480-9ea4-4dd5-b175-6c07fe1cfde2",
        "colab": {
          "base_uri": "https://localhost:8080/",
          "height": 52
        }
      },
      "source": [
        "print('shape for CIFAR10 train data-set are {} {}'.format(x_train.shape, y_train.shape))\n",
        "print('shape for CIFAR10 train data-set are {} {}'.format(x_test.shape, y_test.shape))"
      ],
      "execution_count": 4,
      "outputs": [
        {
          "output_type": "stream",
          "text": [
            "shape for CIFAR10 train data-set are (50000, 32, 32, 3) (50000, 1)\n",
            "shape for CIFAR10 train data-set are (10000, 32, 32, 3) (10000, 1)\n"
          ],
          "name": "stdout"
        }
      ]
    },
    {
      "cell_type": "code",
      "metadata": {
        "id": "FKSz-QldV9w7",
        "colab_type": "code",
        "outputId": "6d30ad50-27b4-4916-8dc5-0ba5a3f5a38a",
        "colab": {
          "base_uri": "https://localhost:8080/",
          "height": 52
        }
      },
      "source": [
        "print('unique labels in train data-set are',np.unique(y_train))\n",
        "print('unique labels in test data-set are',np.unique(y_test))"
      ],
      "execution_count": 5,
      "outputs": [
        {
          "output_type": "stream",
          "text": [
            "unique labels in train data-set are [0 1 2 3 4 5 6 7 8 9]\n",
            "unique labels in test data-set are [0 1 2 3 4 5 6 7 8 9]\n"
          ],
          "name": "stdout"
        }
      ]
    },
    {
      "cell_type": "code",
      "metadata": {
        "id": "xnbwLHMDeNVj",
        "colab_type": "code",
        "outputId": "19533ac8-808d-4337-db2c-21d562a30543",
        "colab": {
          "base_uri": "https://localhost:8080/",
          "height": 334
        }
      },
      "source": [
        "def cnt_plt(x, axes, x_label):\n",
        "  sns.countplot(x, ax=axes)\n",
        "  plt.xlabel(x_label)\n",
        "  #plt.show()\n",
        "\n",
        "fig, ax = plt.subplots(1,2,figsize=(12,5))\n",
        "cnt_plt( np.reshape( y_train, (y_train.shape[0],) ) , ax[0], \"train data-set\")\n",
        "cnt_plt( np.reshape( y_test, (y_test.shape[0],) ) , ax[1],  \"test data-set\")\n",
        "\n",
        "plt.show()\n"
      ],
      "execution_count": 6,
      "outputs": [
        {
          "output_type": "display_data",
          "data": {
            "image/png": "[encoded data removed]",
            "text/plain": [
              "<Figure size 864x360 with 2 Axes>"
            ]
          },
          "metadata": {
            "tags": []
          }
        }
      ]
    },
    {
      "cell_type": "code",
      "metadata": {
        "id": "d4BvdSQ1YteV",
        "colab_type": "code",
        "outputId": "074eaba9-7578-4833-a66c-c735c4e129ad",
        "colab": {
          "base_uri": "https://localhost:8080/",
          "height": 806
        }
      },
      "source": [
        "def dis_img(x_data, y_data):\n",
        "\n",
        "  rnd_n = np.random.randint(low=0, high=x_data.shape[0],size=3)\n",
        "  \n",
        "  for idx in rnd_n:\n",
        "    plt.imshow(x_train[idx])\n",
        "    plt.xlabel(y_train[idx])\n",
        "    plt.show()\n",
        "\n",
        "dis_img(x_train,y_train)"
      ],
      "execution_count": 7,
      "outputs": [
        {
          "output_type": "display_data",
          "data": {
            "image/png": "[encoded data removed]",
            "text/plain": [
              "<Figure size 432x288 with 1 Axes>"
            ]
          },
          "metadata": {
            "tags": []
          }
        },
        {
          "output_type": "display_data",
          "data": {
            "image/png": "[encoded data removed]",
            "text/plain": [
              "<Figure size 432x288 with 1 Axes>"
            ]
          },
          "metadata": {
            "tags": []
          }
        },
        {
          "output_type": "display_data",
          "data": {
            "image/png": "[encoded data removed]",
            "text/plain": [
              "<Figure size 432x288 with 1 Axes>"
            ]
          },
          "metadata": {
            "tags": []
          }
        }
      ]
    },
    {
      "cell_type": "code",
      "metadata": {
        "id": "jtjjAdMxAXGh",
        "colab_type": "code",
        "outputId": "c590e2a1-ef47-4b07-c1a7-368aea27be62",
        "colab": {
          "base_uri": "https://localhost:8080/",
          "height": 70
        }
      },
      "source": [
        "\n",
        "y = np.reshape(y_train, (y_train.shape[0],))\n",
        "cnn_x_train = x_train[y < 5]\n",
        "\n",
        "cnn_y_train = y_train[y_train < 5]\n",
        "print(np.unique(cnn_y_train))\n",
        "print(cnn_x_train.shape)\n",
        "print(cnn_y_train.shape)"
      ],
      "execution_count": 8,
      "outputs": [
        {
          "output_type": "stream",
          "text": [
            "[0 1 2 3 4]\n",
            "(25000, 32, 32, 3)\n",
            "(25000,)\n"
          ],
          "name": "stdout"
        }
      ]
    },
    {
      "cell_type": "code",
      "metadata": {
        "id": "jq2bAUePFp5F",
        "colab_type": "code",
        "outputId": "12e64e06-a3aa-4e34-8a2f-9b319b769cbc",
        "colab": {
          "base_uri": "https://localhost:8080/",
          "height": 70
        }
      },
      "source": [
        "y = np.reshape(y_test, (y_test.shape[0],))\n",
        "cnn_x_test = x_test[y < 5]\n",
        "\n",
        "cnn_y_test = y_test[y_test < 5]\n",
        "print(np.unique(cnn_y_test))\n",
        "print(cnn_x_test.shape)\n",
        "print(cnn_y_test.shape)"
      ],
      "execution_count": 9,
      "outputs": [
        {
          "output_type": "stream",
          "text": [
            "[0 1 2 3 4]\n",
            "(5000, 32, 32, 3)\n",
            "(5000,)\n"
          ],
          "name": "stdout"
        }
      ]
    },
    {
      "cell_type": "markdown",
      "metadata": {
        "colab_type": "text",
        "id": "xtCKmQh4yXhT"
      },
      "source": [
        "### 2. Use One-hot encoding to divide y_train and y_test into required no of output classes"
      ]
    },
    {
      "cell_type": "code",
      "metadata": {
        "colab_type": "code",
        "id": "uN5O2kJ3yYa6",
        "colab": {}
      },
      "source": [
        "cnn_y_train = keras.utils.to_categorical(cnn_y_train,num_classes=5)\n",
        "cnn_y_test = keras.utils.to_categorical(cnn_y_test,num_classes=5)\n"
      ],
      "execution_count": 0,
      "outputs": []
    },
    {
      "cell_type": "code",
      "metadata": {
        "id": "fhZ0mimWLP84",
        "colab_type": "code",
        "outputId": "b2729b8c-40df-443e-c592-cb09208b0c58",
        "colab": {
          "base_uri": "https://localhost:8080/",
          "height": 34
        }
      },
      "source": [
        "cnn_y_test.shape"
      ],
      "execution_count": 11,
      "outputs": [
        {
          "output_type": "execute_result",
          "data": {
            "text/plain": [
              "(5000, 5)"
            ]
          },
          "metadata": {
            "tags": []
          },
          "execution_count": 11
        }
      ]
    },
    {
      "cell_type": "code",
      "metadata": {
        "id": "ck1O7aoHLZ_M",
        "colab_type": "code",
        "outputId": "89a7fabe-c5ef-4be1-bc9d-80b15bbc061d",
        "colab": {
          "base_uri": "https://localhost:8080/",
          "height": 34
        }
      },
      "source": [
        "cnn_y_test[0]"
      ],
      "execution_count": 12,
      "outputs": [
        {
          "output_type": "execute_result",
          "data": {
            "text/plain": [
              "array([0., 0., 0., 1., 0.], dtype=float32)"
            ]
          },
          "metadata": {
            "tags": []
          },
          "execution_count": 12
        }
      ]
    },
    {
      "cell_type": "code",
      "metadata": {
        "id": "820J1blrL1nX",
        "colab_type": "code",
        "colab": {}
      },
      "source": [
        "cnn_x_train = cnn_x_train.astype(np.float32) / 255\n",
        "cnn_x_test = cnn_x_test.astype(np.float32) / 255\n"
      ],
      "execution_count": 0,
      "outputs": []
    },
    {
      "cell_type": "markdown",
      "metadata": {
        "colab_type": "text",
        "id": "cuOiKWfeybAl"
      },
      "source": [
        "### 3. Build a sequential neural network model which can classify the classes 0 to 4 of CIFAR10 dataset with at least 80% accuracy on test data"
      ]
    },
    {
      "cell_type": "code",
      "metadata": {
        "id": "_yO-EmJut8uS",
        "colab_type": "code",
        "outputId": "02cff3d3-e555-4531-e739-82905043a0da",
        "colab": {
          "base_uri": "https://localhost:8080/",
          "height": 34
        }
      },
      "source": [
        "cnn_x_train = cnn_x_train.reshape(cnn_x_train.shape[0],32,32,3)\n",
        "cnn_x_test = cnn_x_test.reshape(cnn_x_test.shape[0],32,32,3)\n",
        "cnn_x_train.shape"
      ],
      "execution_count": 14,
      "outputs": [
        {
          "output_type": "execute_result",
          "data": {
            "text/plain": [
              "(25000, 32, 32, 3)"
            ]
          },
          "metadata": {
            "tags": []
          },
          "execution_count": 14
        }
      ]
    },
    {
      "cell_type": "code",
      "metadata": {
        "id": "DDGRk-y57wRI",
        "colab_type": "code",
        "colab": {}
      },
      "source": [
        "i_shape = cnn_x_train.shape[1:]"
      ],
      "execution_count": 0,
      "outputs": []
    },
    {
      "cell_type": "code",
      "metadata": {
        "id": "NtBOUDbqVIOo",
        "colab_type": "code",
        "outputId": "239abdcf-ed24-464f-e72c-2a9bc71119d3",
        "colab": {
          "base_uri": "https://localhost:8080/",
          "height": 1000
        }
      },
      "source": [
        "model = Sequential()\n",
        "model.add(Conv2D(32, (3, 3), padding='same', input_shape=cnn_x_train.shape[1:]))\n",
        "model.add(Activation('relu'))\n",
        "\n",
        "model.add(Conv2D(32, (3, 3)))\n",
        "model.add(Activation('relu'))\n",
        "\n",
        "model.add(MaxPooling2D(pool_size=(2, 2)))\n",
        "model.add(Dropout(0.25))\n",
        "\n",
        "model.add(Conv2D(64, (3, 3), padding='same'))\n",
        "model.add(Activation('relu'))\n",
        "\n",
        "model.add(Conv2D(64, (3, 3)))\n",
        "model.add(Activation('relu'))\n",
        "\n",
        "model.add(MaxPooling2D(pool_size=(2, 2)))\n",
        "model.add(Dropout(0.25))\n",
        "\n",
        "model.add(Flatten())\n",
        "\n",
        "model.add(Dense(512))\n",
        "model.add(Activation('relu'))\n",
        "\n",
        "model.add(Dropout(0.5))\n",
        "\n",
        "model.add(Dense(5))\n",
        "model.add(Activation('softmax'))\n",
        "\n",
        "model.summary()\n",
        "\n",
        "# initiate RMSprop optimizer\n",
        "opt = keras.optimizers.RMSprop(lr=0.0001, decay=1e-6)\n",
        "\n",
        "# Let's train the model using RMSprop\n",
        "model.compile(loss='categorical_crossentropy',\n",
        "              optimizer=opt,\n",
        "              metrics=['accuracy'])\n",
        "\n",
        "cb_es = EarlyStopping(monitor='val_loss', min_delta=0.001, patience=10)\n",
        "m_his = model.fit(cnn_x_train, cnn_y_train, epochs=50,validation_split=0.20, callbacks=[cb_es])\n",
        "\n",
        "# Score trained model.\n",
        "scores = model.evaluate(cnn_x_test, cnn_y_test, verbose=1)\n",
        "print('Test loss:', scores[0])\n",
        "print('Test accuracy:', scores[1])\n"
      ],
      "execution_count": 16,
      "outputs": [
        {
          "output_type": "stream",
          "text": [
            "WARNING:tensorflow:From /usr/local/lib/python3.6/dist-packages/keras/backend/tensorflow_backend.py:66: The name tf.get_default_graph is deprecated. Please use tf.compat.v1.get_default_graph instead.\n",
            "\n",
            "WARNING:tensorflow:From /usr/local/lib/python3.6/dist-packages/keras/backend/tensorflow_backend.py:541: The name tf.placeholder is deprecated. Please use tf.compat.v1.placeholder instead.\n",
            "\n",
            "WARNING:tensorflow:From /usr/local/lib/python3.6/dist-packages/keras/backend/tensorflow_backend.py:4432: The name tf.random_uniform is deprecated. Please use tf.random.uniform instead.\n",
            "\n",
            "WARNING:tensorflow:From /usr/local/lib/python3.6/dist-packages/keras/backend/tensorflow_backend.py:4267: The name tf.nn.max_pool is deprecated. Please use tf.nn.max_pool2d instead.\n",
            "\n",
            "WARNING:tensorflow:From /usr/local/lib/python3.6/dist-packages/keras/backend/tensorflow_backend.py:148: The name tf.placeholder_with_default is deprecated. Please use tf.compat.v1.placeholder_with_default instead.\n",
            "\n",
            "WARNING:tensorflow:From /usr/local/lib/python3.6/dist-packages/keras/backend/tensorflow_backend.py:3733: calling dropout (from tensorflow.python.ops.nn_ops) with keep_prob is deprecated and will be removed in a future version.\n",
            "Instructions for updating:\n",
            "Please use `rate` instead of `keep_prob`. Rate should be set to `rate = 1 - keep_prob`.\n",
            "Model: \"sequential_1\"\n",
            "_________________________________________________________________\n",
            "Layer (type)                 Output Shape              Param #   \n",
            "=================================================================\n",
            "conv2d_1 (Conv2D)            (None, 32, 32, 32)        896       \n",
            "_________________________________________________________________\n",
            "activation_1 (Activation)    (None, 32, 32, 32)        0         \n",
            "_________________________________________________________________\n",
            "conv2d_2 (Conv2D)            (None, 30, 30, 32)        9248      \n",
            "_________________________________________________________________\n",
            "activation_2 (Activation)    (None, 30, 30, 32)        0         \n",
            "_________________________________________________________________\n",
            "max_pooling2d_1 (MaxPooling2 (None, 15, 15, 32)        0         \n",
            "_________________________________________________________________\n",
            "dropout_1 (Dropout)          (None, 15, 15, 32)        0         \n",
            "_________________________________________________________________\n",
            "conv2d_3 (Conv2D)            (None, 15, 15, 64)        18496     \n",
            "_________________________________________________________________\n",
            "activation_3 (Activation)    (None, 15, 15, 64)        0         \n",
            "_________________________________________________________________\n",
            "conv2d_4 (Conv2D)            (None, 13, 13, 64)        36928     \n",
            "_________________________________________________________________\n",
            "activation_4 (Activation)    (None, 13, 13, 64)        0         \n",
            "_________________________________________________________________\n",
            "max_pooling2d_2 (MaxPooling2 (None, 6, 6, 64)          0         \n",
            "_________________________________________________________________\n",
            "dropout_2 (Dropout)          (None, 6, 6, 64)          0         \n",
            "_________________________________________________________________\n",
            "flatten_1 (Flatten)          (None, 2304)              0         \n",
            "_________________________________________________________________\n",
            "dense_1 (Dense)              (None, 512)               1180160   \n",
            "_________________________________________________________________\n",
            "activation_5 (Activation)    (None, 512)               0         \n",
            "_________________________________________________________________\n",
            "dropout_3 (Dropout)          (None, 512)               0         \n",
            "_________________________________________________________________\n",
            "dense_2 (Dense)              (None, 5)                 2565      \n",
            "_________________________________________________________________\n",
            "activation_6 (Activation)    (None, 5)                 0         \n",
            "=================================================================\n",
            "Total params: 1,248,293\n",
            "Trainable params: 1,248,293\n",
            "Non-trainable params: 0\n",
            "_________________________________________________________________\n",
            "WARNING:tensorflow:From /usr/local/lib/python3.6/dist-packages/keras/optimizers.py:793: The name tf.train.Optimizer is deprecated. Please use tf.compat.v1.train.Optimizer instead.\n",
            "\n",
            "WARNING:tensorflow:From /usr/local/lib/python3.6/dist-packages/keras/backend/tensorflow_backend.py:3576: The name tf.log is deprecated. Please use tf.math.log instead.\n",
            "\n",
            "WARNING:tensorflow:From /usr/local/lib/python3.6/dist-packages/tensorflow_core/python/ops/math_grad.py:1424: where (from tensorflow.python.ops.array_ops) is deprecated and will be removed in a future version.\n",
            "Instructions for updating:\n",
            "Use tf.where in 2.0, which has the same broadcast rule as np.where\n",
            "WARNING:tensorflow:From /usr/local/lib/python3.6/dist-packages/keras/backend/tensorflow_backend.py:1033: The name tf.assign_add is deprecated. Please use tf.compat.v1.assign_add instead.\n",
            "\n",
            "WARNING:tensorflow:From /usr/local/lib/python3.6/dist-packages/keras/backend/tensorflow_backend.py:1020: The name tf.assign is deprecated. Please use tf.compat.v1.assign instead.\n",
            "\n",
            "WARNING:tensorflow:From /usr/local/lib/python3.6/dist-packages/keras/backend/tensorflow_backend.py:3005: The name tf.Session is deprecated. Please use tf.compat.v1.Session instead.\n",
            "\n",
            "Train on 20000 samples, validate on 5000 samples\n",
            "Epoch 1/50\n",
            "WARNING:tensorflow:From /usr/local/lib/python3.6/dist-packages/keras/backend/tensorflow_backend.py:190: The name tf.get_default_session is deprecated. Please use tf.compat.v1.get_default_session instead.\n",
            "\n",
            "WARNING:tensorflow:From /usr/local/lib/python3.6/dist-packages/keras/backend/tensorflow_backend.py:197: The name tf.ConfigProto is deprecated. Please use tf.compat.v1.ConfigProto instead.\n",
            "\n",
            "WARNING:tensorflow:From /usr/local/lib/python3.6/dist-packages/keras/backend/tensorflow_backend.py:207: The name tf.global_variables is deprecated. Please use tf.compat.v1.global_variables instead.\n",
            "\n",
            "WARNING:tensorflow:From /usr/local/lib/python3.6/dist-packages/keras/backend/tensorflow_backend.py:216: The name tf.is_variable_initialized is deprecated. Please use tf.compat.v1.is_variable_initialized instead.\n",
            "\n",
            "WARNING:tensorflow:From /usr/local/lib/python3.6/dist-packages/keras/backend/tensorflow_backend.py:223: The name tf.variables_initializer is deprecated. Please use tf.compat.v1.variables_initializer instead.\n",
            "\n",
            "20000/20000 [==============================] - 125s 6ms/step - loss: 1.3106 - acc: 0.4462 - val_loss: 1.1019 - val_acc: 0.5604\n",
            "Epoch 2/50\n",
            "20000/20000 [==============================] - 122s 6ms/step - loss: 1.0508 - acc: 0.5702 - val_loss: 0.9787 - val_acc: 0.6188\n",
            "Epoch 3/50\n",
            "20000/20000 [==============================] - 122s 6ms/step - loss: 0.9621 - acc: 0.6077 - val_loss: 0.9685 - val_acc: 0.6020\n",
            "Epoch 4/50\n",
            "20000/20000 [==============================] - 123s 6ms/step - loss: 0.9019 - acc: 0.6403 - val_loss: 0.8856 - val_acc: 0.6386\n",
            "Epoch 5/50\n",
            "20000/20000 [==============================] - 122s 6ms/step - loss: 0.8641 - acc: 0.6597 - val_loss: 0.8188 - val_acc: 0.6862\n",
            "Epoch 6/50\n",
            "20000/20000 [==============================] - 122s 6ms/step - loss: 0.8273 - acc: 0.6763 - val_loss: 0.7905 - val_acc: 0.6954\n",
            "Epoch 7/50\n",
            "20000/20000 [==============================] - 122s 6ms/step - loss: 0.7934 - acc: 0.6915 - val_loss: 0.7778 - val_acc: 0.6974\n",
            "Epoch 8/50\n",
            "20000/20000 [==============================] - 121s 6ms/step - loss: 0.7648 - acc: 0.7023 - val_loss: 0.7490 - val_acc: 0.7142\n",
            "Epoch 9/50\n",
            "20000/20000 [==============================] - 122s 6ms/step - loss: 0.7419 - acc: 0.7148 - val_loss: 0.7259 - val_acc: 0.7228\n",
            "Epoch 10/50\n",
            "20000/20000 [==============================] - 122s 6ms/step - loss: 0.7161 - acc: 0.7277 - val_loss: 0.7388 - val_acc: 0.7150\n",
            "Epoch 11/50\n",
            "20000/20000 [==============================] - 122s 6ms/step - loss: 0.6923 - acc: 0.7379 - val_loss: 0.6833 - val_acc: 0.7384\n",
            "Epoch 12/50\n",
            "20000/20000 [==============================] - 120s 6ms/step - loss: 0.6676 - acc: 0.7443 - val_loss: 0.6824 - val_acc: 0.7432\n",
            "Epoch 13/50\n",
            "20000/20000 [==============================] - 121s 6ms/step - loss: 0.6475 - acc: 0.7524 - val_loss: 0.6391 - val_acc: 0.7638\n",
            "Epoch 14/50\n",
            "20000/20000 [==============================] - 122s 6ms/step - loss: 0.6308 - acc: 0.7620 - val_loss: 0.6297 - val_acc: 0.7678\n",
            "Epoch 15/50\n",
            "20000/20000 [==============================] - 121s 6ms/step - loss: 0.6134 - acc: 0.7703 - val_loss: 0.6079 - val_acc: 0.7738\n",
            "Epoch 16/50\n",
            "20000/20000 [==============================] - 122s 6ms/step - loss: 0.5964 - acc: 0.7736 - val_loss: 0.6054 - val_acc: 0.7744\n",
            "Epoch 17/50\n",
            "20000/20000 [==============================] - 120s 6ms/step - loss: 0.5780 - acc: 0.7843 - val_loss: 0.5891 - val_acc: 0.7772\n",
            "Epoch 18/50\n",
            "20000/20000 [==============================] - 121s 6ms/step - loss: 0.5720 - acc: 0.7889 - val_loss: 0.6124 - val_acc: 0.7740\n",
            "Epoch 19/50\n",
            "20000/20000 [==============================] - 122s 6ms/step - loss: 0.5556 - acc: 0.7896 - val_loss: 0.5594 - val_acc: 0.7884\n",
            "Epoch 20/50\n",
            "20000/20000 [==============================] - 121s 6ms/step - loss: 0.5464 - acc: 0.7989 - val_loss: 0.5533 - val_acc: 0.7908\n",
            "Epoch 21/50\n",
            "20000/20000 [==============================] - 120s 6ms/step - loss: 0.5357 - acc: 0.7998 - val_loss: 0.6210 - val_acc: 0.7718\n",
            "Epoch 22/50\n",
            "20000/20000 [==============================] - 122s 6ms/step - loss: 0.5230 - acc: 0.8032 - val_loss: 0.5587 - val_acc: 0.7892\n",
            "Epoch 23/50\n",
            "20000/20000 [==============================] - 121s 6ms/step - loss: 0.5087 - acc: 0.8121 - val_loss: 0.5391 - val_acc: 0.7984\n",
            "Epoch 24/50\n",
            "20000/20000 [==============================] - 123s 6ms/step - loss: 0.5014 - acc: 0.8153 - val_loss: 0.5526 - val_acc: 0.8020\n",
            "Epoch 25/50\n",
            "20000/20000 [==============================] - 121s 6ms/step - loss: 0.4902 - acc: 0.8193 - val_loss: 0.5352 - val_acc: 0.8012\n",
            "Epoch 26/50\n",
            "20000/20000 [==============================] - 121s 6ms/step - loss: 0.4882 - acc: 0.8210 - val_loss: 0.5355 - val_acc: 0.8028\n",
            "Epoch 27/50\n",
            "20000/20000 [==============================] - 121s 6ms/step - loss: 0.4808 - acc: 0.8232 - val_loss: 0.5251 - val_acc: 0.8114\n",
            "Epoch 28/50\n",
            "20000/20000 [==============================] - 121s 6ms/step - loss: 0.4679 - acc: 0.8271 - val_loss: 0.5200 - val_acc: 0.8082\n",
            "Epoch 29/50\n",
            "20000/20000 [==============================] - 122s 6ms/step - loss: 0.4660 - acc: 0.8275 - val_loss: 0.5102 - val_acc: 0.8236\n",
            "Epoch 30/50\n",
            "20000/20000 [==============================] - 121s 6ms/step - loss: 0.4562 - acc: 0.8317 - val_loss: 0.5034 - val_acc: 0.8170\n",
            "Epoch 31/50\n",
            "20000/20000 [==============================] - 123s 6ms/step - loss: 0.4511 - acc: 0.8319 - val_loss: 0.5110 - val_acc: 0.8188\n",
            "Epoch 32/50\n",
            "20000/20000 [==============================] - 122s 6ms/step - loss: 0.4461 - acc: 0.8340 - val_loss: 0.5008 - val_acc: 0.8214\n",
            "Epoch 33/50\n",
            "20000/20000 [==============================] - 122s 6ms/step - loss: 0.4413 - acc: 0.8362 - val_loss: 0.5225 - val_acc: 0.8070\n",
            "Epoch 34/50\n",
            "20000/20000 [==============================] - 123s 6ms/step - loss: 0.4350 - acc: 0.8422 - val_loss: 0.5054 - val_acc: 0.8178\n",
            "Epoch 35/50\n",
            "20000/20000 [==============================] - 121s 6ms/step - loss: 0.4270 - acc: 0.8439 - val_loss: 0.5003 - val_acc: 0.8232\n",
            "Epoch 36/50\n",
            "20000/20000 [==============================] - 122s 6ms/step - loss: 0.4270 - acc: 0.8436 - val_loss: 0.4908 - val_acc: 0.8282\n",
            "Epoch 37/50\n",
            "20000/20000 [==============================] - 123s 6ms/step - loss: 0.4188 - acc: 0.8477 - val_loss: 0.5023 - val_acc: 0.8186\n",
            "Epoch 38/50\n",
            "20000/20000 [==============================] - 122s 6ms/step - loss: 0.4177 - acc: 0.8466 - val_loss: 0.4953 - val_acc: 0.8222\n",
            "Epoch 39/50\n",
            "20000/20000 [==============================] - 122s 6ms/step - loss: 0.4162 - acc: 0.8489 - val_loss: 0.4854 - val_acc: 0.8278\n",
            "Epoch 40/50\n",
            "20000/20000 [==============================] - 122s 6ms/step - loss: 0.4143 - acc: 0.8496 - val_loss: 0.4794 - val_acc: 0.8280\n",
            "Epoch 41/50\n",
            "20000/20000 [==============================] - 121s 6ms/step - loss: 0.4100 - acc: 0.8523 - val_loss: 0.4875 - val_acc: 0.8258\n",
            "Epoch 42/50\n",
            "20000/20000 [==============================] - 123s 6ms/step - loss: 0.4009 - acc: 0.8554 - val_loss: 0.4879 - val_acc: 0.8234\n",
            "Epoch 43/50\n",
            "20000/20000 [==============================] - 122s 6ms/step - loss: 0.3999 - acc: 0.8534 - val_loss: 0.4850 - val_acc: 0.8280\n",
            "Epoch 44/50\n",
            "20000/20000 [==============================] - 122s 6ms/step - loss: 0.3931 - acc: 0.8580 - val_loss: 0.4821 - val_acc: 0.8296\n",
            "Epoch 45/50\n",
            "20000/20000 [==============================] - 123s 6ms/step - loss: 0.3937 - acc: 0.8573 - val_loss: 0.5163 - val_acc: 0.8264\n",
            "Epoch 46/50\n",
            "20000/20000 [==============================] - 123s 6ms/step - loss: 0.3905 - acc: 0.8586 - val_loss: 0.4886 - val_acc: 0.8284\n",
            "Epoch 47/50\n",
            "20000/20000 [==============================] - 123s 6ms/step - loss: 0.3914 - acc: 0.8599 - val_loss: 0.5061 - val_acc: 0.8284\n",
            "Epoch 48/50\n",
            "20000/20000 [==============================] - 122s 6ms/step - loss: 0.3885 - acc: 0.8602 - val_loss: 0.4894 - val_acc: 0.8294\n",
            "Epoch 49/50\n",
            "20000/20000 [==============================] - 124s 6ms/step - loss: 0.3884 - acc: 0.8619 - val_loss: 0.4772 - val_acc: 0.8358\n",
            "Epoch 50/50\n",
            "20000/20000 [==============================] - 123s 6ms/step - loss: 0.3767 - acc: 0.8633 - val_loss: 0.5058 - val_acc: 0.8292\n",
            "5000/5000 [==============================] - 7s 1ms/step\n",
            "Test loss: 0.520568305015564\n",
            "Test accuracy: 0.8234\n"
          ],
          "name": "stdout"
        }
      ]
    },
    {
      "cell_type": "code",
      "metadata": {
        "id": "X8iA-qQ6rObk",
        "colab_type": "code",
        "colab": {
          "base_uri": "https://localhost:8080/",
          "height": 370
        },
        "outputId": "abbd1984-3709-4cc6-eccc-06046f3baacc"
      },
      "source": [
        "def plot_model_history(ax, history, train_metric, val_metric, actv_func ):\n",
        "  ax.plot(history[train_metric], 'green',label='train data-set')\n",
        "  ax.plot(history[val_metric], 'red',label='validate data-set')\n",
        "  ax.set_title('Model {} for the {} transfer function'.format(train_metric,actv_func))\n",
        "  ax.set_ylabel(train_metric)\n",
        "  ax.set_xlabel('epoch')\n",
        "  ax.legend()\n",
        "\n",
        "fig, ax = plt.subplots(1, 2, figsize=(18,5))\n",
        "plot_model_history(ax[0], m_his.history, 'acc', 'val_acc', 'RMSprop-category_cross-entropy')\n",
        "plot_model_history(ax[1], m_his.history, 'loss', 'val_loss', 'RMSprop-category_cross-entropy')"
      ],
      "execution_count": 48,
      "outputs": [
        {
          "output_type": "display_data",
          "data": {
            "image/png": "[encoded data removed]",
            "text/plain": [
              "<Figure size 1296x360 with 2 Axes>"
            ]
          },
          "metadata": {
            "tags": []
          }
        }
      ]
    },
    {
      "cell_type": "markdown",
      "metadata": {
        "colab_type": "text",
        "id": "woTfNst_ynRG"
      },
      "source": [
        "### 4. In the model which was built above (for classification of classes 0-4 in CIFAR10), make only the dense layers to be trainable and conv layers to be non-trainable"
      ]
    },
    {
      "cell_type": "code",
      "metadata": {
        "colab_type": "code",
        "id": "o_VCDB3Byb1a",
        "outputId": "caa6afab-7cb7-4b53-8aef-6fbd2c2039c1",
        "colab": {
          "base_uri": "https://localhost:8080/",
          "height": 790
        }
      },
      "source": [
        "# create the model for transfer learning\n",
        "TL_model = Sequential()\n",
        "\n",
        "# mark trainable parameters as false for conv layers being added from earlier build model \n",
        "for layer in model.layers:\n",
        "  if ( 0 == layer.name.find('conv') ):\n",
        "     layer.trainable = False\n",
        "\n",
        "  TL_model.add(layer)\n",
        "\n",
        "TL_model.summary()"
      ],
      "execution_count": 18,
      "outputs": [
        {
          "output_type": "stream",
          "text": [
            "Model: \"sequential_2\"\n",
            "_________________________________________________________________\n",
            "Layer (type)                 Output Shape              Param #   \n",
            "=================================================================\n",
            "conv2d_1 (Conv2D)            (None, 32, 32, 32)        896       \n",
            "_________________________________________________________________\n",
            "activation_1 (Activation)    (None, 32, 32, 32)        0         \n",
            "_________________________________________________________________\n",
            "conv2d_2 (Conv2D)            (None, 30, 30, 32)        9248      \n",
            "_________________________________________________________________\n",
            "activation_2 (Activation)    (None, 30, 30, 32)        0         \n",
            "_________________________________________________________________\n",
            "max_pooling2d_1 (MaxPooling2 (None, 15, 15, 32)        0         \n",
            "_________________________________________________________________\n",
            "dropout_1 (Dropout)          (None, 15, 15, 32)        0         \n",
            "_________________________________________________________________\n",
            "conv2d_3 (Conv2D)            (None, 15, 15, 64)        18496     \n",
            "_________________________________________________________________\n",
            "activation_3 (Activation)    (None, 15, 15, 64)        0         \n",
            "_________________________________________________________________\n",
            "conv2d_4 (Conv2D)            (None, 13, 13, 64)        36928     \n",
            "_________________________________________________________________\n",
            "activation_4 (Activation)    (None, 13, 13, 64)        0         \n",
            "_________________________________________________________________\n",
            "max_pooling2d_2 (MaxPooling2 (None, 6, 6, 64)          0         \n",
            "_________________________________________________________________\n",
            "dropout_2 (Dropout)          (None, 6, 6, 64)          0         \n",
            "_________________________________________________________________\n",
            "flatten_1 (Flatten)          (None, 2304)              0         \n",
            "_________________________________________________________________\n",
            "dense_1 (Dense)              (None, 512)               1180160   \n",
            "_________________________________________________________________\n",
            "activation_5 (Activation)    (None, 512)               0         \n",
            "_________________________________________________________________\n",
            "dropout_3 (Dropout)          (None, 512)               0         \n",
            "_________________________________________________________________\n",
            "dense_2 (Dense)              (None, 5)                 2565      \n",
            "_________________________________________________________________\n",
            "activation_6 (Activation)    (None, 5)                 0         \n",
            "=================================================================\n",
            "Total params: 1,248,293\n",
            "Trainable params: 1,182,725\n",
            "Non-trainable params: 65,568\n",
            "_________________________________________________________________\n"
          ],
          "name": "stdout"
        }
      ]
    },
    {
      "cell_type": "markdown",
      "metadata": {
        "colab_type": "text",
        "id": "1-uUPqWpyeyX"
      },
      "source": [
        "### 5. Utilize the the model trained on CIFAR 10 (classes 0 to 4) to classify the classes 5 to 9 of CIFAR 10  (Use Transfer Learning) <br>\n",
        "Achieve an accuracy of more than 85% on test data"
      ]
    },
    {
      "cell_type": "code",
      "metadata": {
        "colab_type": "code",
        "id": "szHjJgDvyfCt",
        "outputId": "a478aed6-0488-4549-a5cb-c23ee7616a5d",
        "colab": {
          "base_uri": "https://localhost:8080/",
          "height": 193
        }
      },
      "source": [
        "y = np.reshape(y_train, (y_train.shape[0],))\n",
        "TL_x_train = x_train[y >= 5]\n",
        "\n",
        "TL_y_train = y_train[y_train >= 5]\n",
        "print('\\nTransfer learning Train data-set details')\n",
        "print(np.unique(TL_y_train))\n",
        "print(TL_x_train.shape)\n",
        "print(TL_y_train.shape)\n",
        "\n",
        "y = np.reshape(y_test, (y_test.shape[0],))\n",
        "TL_x_test = x_test[y >= 5]\n",
        "\n",
        "TL_y_test = y_test[y_test >= 5]\n",
        "print('\\nTransfer learning Test data-set details')\n",
        "print(np.unique(TL_y_test))\n",
        "print(TL_x_test.shape)\n",
        "print(TL_y_test.shape)"
      ],
      "execution_count": 19,
      "outputs": [
        {
          "output_type": "stream",
          "text": [
            "\n",
            "Transfer learning Train data-set details\n",
            "[5 6 7 8 9]\n",
            "(25000, 32, 32, 3)\n",
            "(25000,)\n",
            "\n",
            "Transfer learning Test data-set details\n",
            "[5 6 7 8 9]\n",
            "(5000, 32, 32, 3)\n",
            "(5000,)\n"
          ],
          "name": "stdout"
        }
      ]
    },
    {
      "cell_type": "code",
      "metadata": {
        "id": "cimfZChEzfj0",
        "colab_type": "code",
        "outputId": "7a408368-0425-4cfe-cc75-bbc602c64cca",
        "colab": {
          "base_uri": "https://localhost:8080/",
          "height": 34
        }
      },
      "source": [
        "TL_y_train = TL_y_train - 5 \n",
        "TL_y_test = TL_y_test - 5\n",
        "\n",
        "np.unique(TL_y_train)"
      ],
      "execution_count": 20,
      "outputs": [
        {
          "output_type": "execute_result",
          "data": {
            "text/plain": [
              "array([0, 1, 2, 3, 4], dtype=uint8)"
            ]
          },
          "metadata": {
            "tags": []
          },
          "execution_count": 20
        }
      ]
    },
    {
      "cell_type": "code",
      "metadata": {
        "id": "2nG4Zgb7w01k",
        "colab_type": "code",
        "colab": {}
      },
      "source": [
        "TL_y_train = keras.utils.to_categorical(TL_y_train,num_classes=5)\n",
        "TL_y_test = keras.utils.to_categorical(TL_y_test,num_classes=5)"
      ],
      "execution_count": 0,
      "outputs": []
    },
    {
      "cell_type": "code",
      "metadata": {
        "id": "--O_cPb-w-Oi",
        "colab_type": "code",
        "colab": {}
      },
      "source": [
        "TL_x_train = TL_x_train.astype(np.float32) / 255\n",
        "TL_x_test = TL_x_test.astype(np.float32) / 255"
      ],
      "execution_count": 0,
      "outputs": []
    },
    {
      "cell_type": "code",
      "metadata": {
        "id": "7Pfo4AgrxIKd",
        "colab_type": "code",
        "colab": {}
      },
      "source": [
        "TL_x_train = TL_x_train.reshape(TL_x_train.shape[0],32,32,3)\n",
        "TL_x_test = TL_x_test.reshape(TL_x_test.shape[0],32,32,3)\n"
      ],
      "execution_count": 0,
      "outputs": []
    },
    {
      "cell_type": "code",
      "metadata": {
        "id": "dp2PHIrk0HE_",
        "colab_type": "code",
        "outputId": "8724a91f-5a6c-4abf-fd6d-e550345f5657",
        "colab": {
          "base_uri": "https://localhost:8080/",
          "height": 52
        }
      },
      "source": [
        "print('shape for transfer learning train data-set are{}{}'.format(TL_x_train.shape,TL_y_train.shape))\n",
        "print('shape for transfer learning test data-set are{}{}'.format(TL_x_test.shape, TL_y_test.shape))"
      ],
      "execution_count": 24,
      "outputs": [
        {
          "output_type": "stream",
          "text": [
            "shape for transfer learning train data-set are(25000, 32, 32, 3)(25000, 5)\n",
            "shape for transfer learning test data-set are(5000, 32, 32, 3)(5000, 5)\n"
          ],
          "name": "stdout"
        }
      ]
    },
    {
      "cell_type": "code",
      "metadata": {
        "id": "QnNAXtu10Xz6",
        "colab_type": "code",
        "outputId": "47a0b7d3-8ff0-4393-b1d7-b513b1f76962",
        "colab": {
          "base_uri": "https://localhost:8080/",
          "height": 1000
        }
      },
      "source": [
        "# initiate RMSprop optimizer\n",
        "opt = keras.optimizers.RMSprop(lr=0.0001, decay=1e-6)\n",
        "\n",
        "# Let's train the model using RMSprop\n",
        "TL_model.compile(loss='categorical_crossentropy', optimizer=opt,  metrics=['accuracy'])\n",
        "\n",
        "cb_es = EarlyStopping(monitor='val_loss', min_delta=0.001, patience=10)\n",
        "tl_m_his = TL_model.fit(TL_x_train, TL_y_train, epochs=50,validation_split=0.20, callbacks=[cb_es])\n",
        "\n",
        "# Score trained model.\n",
        "scores = TL_model.evaluate(TL_x_test, TL_y_test, verbose=1)\n",
        "print('Test loss:', scores[0])\n",
        "print('Test accuracy:', scores[1])"
      ],
      "execution_count": 25,
      "outputs": [
        {
          "output_type": "stream",
          "text": [
            "Train on 20000 samples, validate on 5000 samples\n",
            "Epoch 1/50\n",
            "20000/20000 [==============================] - 48s 2ms/step - loss: 1.7677 - acc: 0.4106 - val_loss: 0.9426 - val_acc: 0.6940\n",
            "Epoch 2/50\n",
            "20000/20000 [==============================] - 47s 2ms/step - loss: 0.8584 - acc: 0.6941 - val_loss: 0.6882 - val_acc: 0.7640\n",
            "Epoch 3/50\n",
            "20000/20000 [==============================] - 49s 2ms/step - loss: 0.7032 - acc: 0.7452 - val_loss: 0.5904 - val_acc: 0.7956\n",
            "Epoch 4/50\n",
            "20000/20000 [==============================] - 47s 2ms/step - loss: 0.6310 - acc: 0.7706 - val_loss: 0.5450 - val_acc: 0.8088\n",
            "Epoch 5/50\n",
            "20000/20000 [==============================] - 49s 2ms/step - loss: 0.5911 - acc: 0.7853 - val_loss: 0.5136 - val_acc: 0.8190\n",
            "Epoch 6/50\n",
            "20000/20000 [==============================] - 47s 2ms/step - loss: 0.5599 - acc: 0.7946 - val_loss: 0.4906 - val_acc: 0.8266\n",
            "Epoch 7/50\n",
            "20000/20000 [==============================] - 47s 2ms/step - loss: 0.5352 - acc: 0.8084 - val_loss: 0.4780 - val_acc: 0.8288\n",
            "Epoch 8/50\n",
            "20000/20000 [==============================] - 48s 2ms/step - loss: 0.5195 - acc: 0.8143 - val_loss: 0.4605 - val_acc: 0.8398\n",
            "Epoch 9/50\n",
            "20000/20000 [==============================] - 47s 2ms/step - loss: 0.5060 - acc: 0.8210 - val_loss: 0.4505 - val_acc: 0.8416\n",
            "Epoch 10/50\n",
            "20000/20000 [==============================] - 49s 2ms/step - loss: 0.4927 - acc: 0.8234 - val_loss: 0.4420 - val_acc: 0.8458\n",
            "Epoch 11/50\n",
            "20000/20000 [==============================] - 48s 2ms/step - loss: 0.4866 - acc: 0.8262 - val_loss: 0.4364 - val_acc: 0.8492\n",
            "Epoch 12/50\n",
            "20000/20000 [==============================] - 48s 2ms/step - loss: 0.4772 - acc: 0.8306 - val_loss: 0.4318 - val_acc: 0.8504\n",
            "Epoch 13/50\n",
            "20000/20000 [==============================] - 47s 2ms/step - loss: 0.4685 - acc: 0.8352 - val_loss: 0.4234 - val_acc: 0.8528\n",
            "Epoch 14/50\n",
            "20000/20000 [==============================] - 48s 2ms/step - loss: 0.4619 - acc: 0.8373 - val_loss: 0.4181 - val_acc: 0.8532\n",
            "Epoch 15/50\n",
            "20000/20000 [==============================] - 47s 2ms/step - loss: 0.4560 - acc: 0.8409 - val_loss: 0.4131 - val_acc: 0.8550\n",
            "Epoch 16/50\n",
            "20000/20000 [==============================] - 48s 2ms/step - loss: 0.4505 - acc: 0.8402 - val_loss: 0.4101 - val_acc: 0.8582\n",
            "Epoch 17/50\n",
            "20000/20000 [==============================] - 47s 2ms/step - loss: 0.4388 - acc: 0.8469 - val_loss: 0.4058 - val_acc: 0.8592\n",
            "Epoch 18/50\n",
            "20000/20000 [==============================] - 48s 2ms/step - loss: 0.4419 - acc: 0.8483 - val_loss: 0.4039 - val_acc: 0.8608\n",
            "Epoch 19/50\n",
            "20000/20000 [==============================] - 47s 2ms/step - loss: 0.4312 - acc: 0.8491 - val_loss: 0.4026 - val_acc: 0.8582\n",
            "Epoch 20/50\n",
            "20000/20000 [==============================] - 48s 2ms/step - loss: 0.4298 - acc: 0.8502 - val_loss: 0.3957 - val_acc: 0.8602\n",
            "Epoch 21/50\n",
            "20000/20000 [==============================] - 47s 2ms/step - loss: 0.4299 - acc: 0.8512 - val_loss: 0.3928 - val_acc: 0.8638\n",
            "Epoch 22/50\n",
            "20000/20000 [==============================] - 48s 2ms/step - loss: 0.4241 - acc: 0.8510 - val_loss: 0.3938 - val_acc: 0.8614\n",
            "Epoch 23/50\n",
            "20000/20000 [==============================] - 47s 2ms/step - loss: 0.4208 - acc: 0.8558 - val_loss: 0.3900 - val_acc: 0.8630\n",
            "Epoch 24/50\n",
            "20000/20000 [==============================] - 48s 2ms/step - loss: 0.4179 - acc: 0.8578 - val_loss: 0.3893 - val_acc: 0.8652\n",
            "Epoch 25/50\n",
            "20000/20000 [==============================] - 47s 2ms/step - loss: 0.4127 - acc: 0.8582 - val_loss: 0.3868 - val_acc: 0.8644\n",
            "Epoch 26/50\n",
            "20000/20000 [==============================] - 48s 2ms/step - loss: 0.4152 - acc: 0.8569 - val_loss: 0.3833 - val_acc: 0.8668\n",
            "Epoch 27/50\n",
            "20000/20000 [==============================] - 47s 2ms/step - loss: 0.4095 - acc: 0.8565 - val_loss: 0.3815 - val_acc: 0.8640\n",
            "Epoch 28/50\n",
            "20000/20000 [==============================] - 48s 2ms/step - loss: 0.4093 - acc: 0.8579 - val_loss: 0.3832 - val_acc: 0.8646\n",
            "Epoch 29/50\n",
            "20000/20000 [==============================] - 47s 2ms/step - loss: 0.4064 - acc: 0.8597 - val_loss: 0.3802 - val_acc: 0.8650\n",
            "Epoch 30/50\n",
            "20000/20000 [==============================] - 47s 2ms/step - loss: 0.3996 - acc: 0.8646 - val_loss: 0.3780 - val_acc: 0.8676\n",
            "Epoch 31/50\n",
            "20000/20000 [==============================] - 47s 2ms/step - loss: 0.3966 - acc: 0.8659 - val_loss: 0.3764 - val_acc: 0.8668\n",
            "Epoch 32/50\n",
            "20000/20000 [==============================] - 46s 2ms/step - loss: 0.3965 - acc: 0.8637 - val_loss: 0.3763 - val_acc: 0.8688\n",
            "Epoch 33/50\n",
            "20000/20000 [==============================] - 46s 2ms/step - loss: 0.3940 - acc: 0.8630 - val_loss: 0.3745 - val_acc: 0.8672\n",
            "Epoch 34/50\n",
            "20000/20000 [==============================] - 46s 2ms/step - loss: 0.3881 - acc: 0.8651 - val_loss: 0.3730 - val_acc: 0.8676\n",
            "Epoch 35/50\n",
            "20000/20000 [==============================] - 47s 2ms/step - loss: 0.3883 - acc: 0.8693 - val_loss: 0.3761 - val_acc: 0.8700\n",
            "Epoch 36/50\n",
            "20000/20000 [==============================] - 47s 2ms/step - loss: 0.3872 - acc: 0.8681 - val_loss: 0.3742 - val_acc: 0.8696\n",
            "Epoch 37/50\n",
            "20000/20000 [==============================] - 47s 2ms/step - loss: 0.3832 - acc: 0.8708 - val_loss: 0.3757 - val_acc: 0.8690\n",
            "Epoch 38/50\n",
            "20000/20000 [==============================] - 47s 2ms/step - loss: 0.3896 - acc: 0.8673 - val_loss: 0.3709 - val_acc: 0.8696\n",
            "Epoch 39/50\n",
            "20000/20000 [==============================] - 46s 2ms/step - loss: 0.3920 - acc: 0.8683 - val_loss: 0.3729 - val_acc: 0.8680\n",
            "Epoch 40/50\n",
            "20000/20000 [==============================] - 46s 2ms/step - loss: 0.3811 - acc: 0.8717 - val_loss: 0.3687 - val_acc: 0.8718\n",
            "Epoch 41/50\n",
            "20000/20000 [==============================] - 47s 2ms/step - loss: 0.3803 - acc: 0.8698 - val_loss: 0.3713 - val_acc: 0.8708\n",
            "Epoch 42/50\n",
            "20000/20000 [==============================] - 46s 2ms/step - loss: 0.3815 - acc: 0.8723 - val_loss: 0.3685 - val_acc: 0.8724\n",
            "Epoch 43/50\n",
            "20000/20000 [==============================] - 48s 2ms/step - loss: 0.3817 - acc: 0.8712 - val_loss: 0.3673 - val_acc: 0.8726\n",
            "Epoch 44/50\n",
            "20000/20000 [==============================] - 46s 2ms/step - loss: 0.3801 - acc: 0.8737 - val_loss: 0.3662 - val_acc: 0.8734\n",
            "Epoch 45/50\n",
            "20000/20000 [==============================] - 47s 2ms/step - loss: 0.3786 - acc: 0.8738 - val_loss: 0.3657 - val_acc: 0.8750\n",
            "Epoch 46/50\n",
            "20000/20000 [==============================] - 45s 2ms/step - loss: 0.3771 - acc: 0.8731 - val_loss: 0.3695 - val_acc: 0.8726\n",
            "Epoch 47/50\n",
            "20000/20000 [==============================] - 46s 2ms/step - loss: 0.3726 - acc: 0.8736 - val_loss: 0.3660 - val_acc: 0.8734\n",
            "Epoch 48/50\n",
            "20000/20000 [==============================] - 45s 2ms/step - loss: 0.3663 - acc: 0.8741 - val_loss: 0.3640 - val_acc: 0.8768\n",
            "Epoch 49/50\n",
            "20000/20000 [==============================] - 47s 2ms/step - loss: 0.3709 - acc: 0.8755 - val_loss: 0.3657 - val_acc: 0.8732\n",
            "Epoch 50/50\n",
            "20000/20000 [==============================] - 46s 2ms/step - loss: 0.3722 - acc: 0.8769 - val_loss: 0.3660 - val_acc: 0.8736\n",
            "5000/5000 [==============================] - 7s 1ms/step\n",
            "Test loss: 0.37062386112213136\n",
            "Test accuracy: 0.8756\n"
          ],
          "name": "stdout"
        }
      ]
    },
    {
      "cell_type": "markdown",
      "metadata": {
        "colab_type": "text",
        "id": "0zDuRecXzEtr"
      },
      "source": [
        "# Text classification using TF-IDF"
      ]
    },
    {
      "cell_type": "markdown",
      "metadata": {
        "colab_type": "text",
        "id": "xMPlEJhHzb6P"
      },
      "source": [
        "### 6. Load the dataset from sklearn.datasets"
      ]
    },
    {
      "cell_type": "code",
      "metadata": {
        "colab_type": "code",
        "id": "Fe-B59u3zHNb",
        "colab": {}
      },
      "source": [
        "from sklearn.datasets import fetch_20newsgroups"
      ],
      "execution_count": 0,
      "outputs": []
    },
    {
      "cell_type": "code",
      "metadata": {
        "colab_type": "code",
        "id": "PRrMemVQzbHU",
        "colab": {}
      },
      "source": [
        "categories = ['alt.atheism', 'soc.religion.christian', 'comp.graphics', 'sci.med']"
      ],
      "execution_count": 0,
      "outputs": []
    },
    {
      "cell_type": "markdown",
      "metadata": {
        "colab_type": "text",
        "id": "-sZX0UbJzmg5"
      },
      "source": [
        "### 7. Training data"
      ]
    },
    {
      "cell_type": "code",
      "metadata": {
        "colab_type": "code",
        "id": "CITr_5aXziJ2",
        "colab": {}
      },
      "source": [
        "twenty_train = fetch_20newsgroups(subset='train', categories=categories, shuffle=True, random_state=42)"
      ],
      "execution_count": 0,
      "outputs": []
    },
    {
      "cell_type": "code",
      "metadata": {
        "id": "gYgPV3N4Hrju",
        "colab_type": "code",
        "outputId": "cfb19cb9-f5e7-49a7-c5b0-3dbb7d373635",
        "colab": {
          "base_uri": "https://localhost:8080/",
          "height": 52
        }
      },
      "source": [
        "print(twenty_train.target.ndim)\n",
        "print(twenty_train.target.shape)"
      ],
      "execution_count": 29,
      "outputs": [
        {
          "output_type": "stream",
          "text": [
            "1\n",
            "(2257,)\n"
          ],
          "name": "stdout"
        }
      ]
    },
    {
      "cell_type": "markdown",
      "metadata": {
        "colab_type": "text",
        "id": "xcESc5QXzr6p"
      },
      "source": [
        "### 8. Test data"
      ]
    },
    {
      "cell_type": "code",
      "metadata": {
        "colab_type": "code",
        "id": "ysInblUMzpvl",
        "colab": {}
      },
      "source": [
        "twenty_test = fetch_20newsgroups(subset='test', categories=categories, shuffle=True, random_state=42)"
      ],
      "execution_count": 0,
      "outputs": []
    },
    {
      "cell_type": "code",
      "metadata": {
        "id": "13-x1ZoOGH3v",
        "colab_type": "code",
        "outputId": "d5f7f34c-efa7-4bb8-88b3-f60db86ccd29",
        "colab": {
          "base_uri": "https://localhost:8080/",
          "height": 52
        }
      },
      "source": [
        "print(twenty_test.target.ndim)\n",
        "print(twenty_test.target.shape)"
      ],
      "execution_count": 31,
      "outputs": [
        {
          "output_type": "stream",
          "text": [
            "1\n",
            "(1502,)\n"
          ],
          "name": "stdout"
        }
      ]
    },
    {
      "cell_type": "markdown",
      "metadata": {
        "colab_type": "text",
        "id": "DriL2yZ50DQq"
      },
      "source": [
        "###  a.  You can access the values for the target variable using .target attribute \n",
        "###  b. You can access the name of the class in the target variable with .target_names\n"
      ]
    },
    {
      "cell_type": "code",
      "metadata": {
        "colab_type": "code",
        "id": "vlUuai99z1hX",
        "outputId": "b398bdd1-c839-4b70-f91a-67886a96e97f",
        "colab": {
          "base_uri": "https://localhost:8080/",
          "height": 34
        }
      },
      "source": [
        "twenty_train.target"
      ],
      "execution_count": 32,
      "outputs": [
        {
          "output_type": "execute_result",
          "data": {
            "text/plain": [
              "array([1, 1, 3, ..., 2, 2, 2])"
            ]
          },
          "metadata": {
            "tags": []
          },
          "execution_count": 32
        }
      ]
    },
    {
      "cell_type": "code",
      "metadata": {
        "colab_type": "code",
        "id": "VEKzaDfSz5E-",
        "outputId": "1e1bd0e3-5301-452e-c24d-e03e449062f8",
        "colab": {
          "base_uri": "https://localhost:8080/",
          "height": 34
        }
      },
      "source": [
        "twenty_train.target_names"
      ],
      "execution_count": 33,
      "outputs": [
        {
          "output_type": "execute_result",
          "data": {
            "text/plain": [
              "['alt.atheism', 'comp.graphics', 'sci.med', 'soc.religion.christian']"
            ]
          },
          "metadata": {
            "tags": []
          },
          "execution_count": 33
        }
      ]
    },
    {
      "cell_type": "code",
      "metadata": {
        "colab_type": "code",
        "id": "clBMKHzC0_N1",
        "outputId": "059f6b42-2938-4011-dcc2-14d73856fdaf",
        "colab": {
          "base_uri": "https://localhost:8080/",
          "height": 125
        }
      },
      "source": [
        "twenty_train.data[0:5]"
      ],
      "execution_count": 34,
      "outputs": [
        {
          "output_type": "execute_result",
          "data": {
            "text/plain": [
              "['From: sd345@city.ac.uk (Michael Collier)\\nSubject: Converting images to HP LaserJet III?\\nNntp-Posting-Host: hampton\\nOrganization: The City University\\nLines: 14\\n\\nDoes anyone know of a good way (standard PC application/PD utility) to\\nconvert tif/img/tga files into LaserJet III format.  We would also like to\\ndo the same, converting to HPGL (HP plotter) files.\\n\\nPlease email any response.\\n\\nIs this the correct group?\\n\\nThanks in advance.  Michael.\\n-- \\nMichael Collier (Programmer)                 The Computer Unit,\\nEmail: M.P.Collier@uk.ac.city                The City University,\\nTel: 071 477-8000 x3769                      London,\\nFax: 071 477-8565                            EC1V 0HB.\\n',\n",
              " \"From: ani@ms.uky.edu (Aniruddha B. Deglurkar)\\nSubject: help: Splitting a trimming region along a mesh \\nOrganization: University Of Kentucky, Dept. of Math Sciences\\nLines: 28\\n\\n\\n\\n\\tHi,\\n\\n\\tI have a problem, I hope some of the 'gurus' can help me solve.\\n\\n\\tBackground of the problem:\\n\\tI have a rectangular mesh in the uv domain, i.e  the mesh is a \\n\\tmapping of a 3d Bezier patch into 2d. The area in this domain\\n\\twhich is inside a trimming loop had to be rendered. The trimming\\n\\tloop is a set of 2d Bezier curve segments.\\n\\tFor the sake of notation: the mesh is made up of cells.\\n\\n\\tMy problem is this :\\n\\tThe trimming area has to be split up into individual smaller\\n\\tcells bounded by the trimming curve segments. If a cell\\n\\tis wholly inside the area...then it is output as a whole ,\\n\\telse it is trivially rejected. \\n\\n\\tDoes any body know how thiss can be done, or is there any algo. \\n\\tsomewhere for doing this.\\n\\n\\tAny help would be appreciated.\\n\\n\\tThanks, \\n\\tAni.\\n-- \\nTo get irritated is human, to stay cool, divine.\\n\",\n",
              " \"From: djohnson@cs.ucsd.edu (Darin Johnson)\\nSubject: Re: harrassed at work, could use some prayers\\nOrganization: =CSE Dept., U.C. San Diego\\nLines: 63\\n\\n(Well, I'll email also, but this may apply to other people, so\\nI'll post also.)\\n\\n>I've been working at this company for eight years in various\\n>engineering jobs.  I'm female.  Yesterday I counted and realized that\\n>on seven different occasions I've been sexually harrassed at this\\n>company.\\n\\n>I dreaded coming back to work today.  What if my boss comes in to ask\\n>me some kind of question...\\n\\nYour boss should be the person bring these problems to.  If he/she\\ndoes not seem to take any action, keep going up higher and higher.\\nSexual harrassment does not need to be tolerated, and it can be an\\nenormous emotional support to discuss this with someone and know that\\nthey are trying to do something about it.  If you feel you can not\\ndiscuss this with your boss, perhaps your company has a personnel\\ndepartment that can work for you while preserving your privacy.  Most\\ncompanies will want to deal with this problem because constant anxiety\\ndoes seriously affect how effectively employees do their jobs.\\n\\nIt is unclear from your letter if you have done this or not.  It is\\nnot inconceivable that management remains ignorant of employee\\nproblems/strife even after eight years (it's a miracle if they do\\nnotice).  Perhaps your manager did not bring to the attention of\\nhigher ups?  If the company indeed does seem to want to ignore the\\nentire problem, there may be a state agency willing to fight with\\nyou.  (check with a lawyer, a women's resource center, etc to find out)\\n\\nYou may also want to discuss this with your paster, priest, husband,\\netc.  That is, someone you know will not be judgemental and that is\\nsupportive, comforting, etc.  This will bring a lot of healing.\\n\\n>So I returned at 11:25, only to find that ever single\\n>person had already left for lunch.  They left at 11:15 or so.  No one\\n>could be bothered to call me at the other building, even though my\\n>number was posted.\\n\\nThis happens to a lot of people.  Honest.  I believe it may seem\\nto be due to gross insensitivity because of the feelings you are\\ngoing through.  People in offices tend to be more insensitive while\\nworking than they normally are (maybe it's the hustle or stress or...)\\nI've had this happen to me a lot, often because they didn't realize\\nmy car was broken, etc.  Then they will come back and wonder why I\\ndidn't want to go (this would tend to make me stop being angry at\\nbeing ignored and make me laugh).  Once, we went off without our\\nboss, who was paying for the lunch :-)\\n\\n>For this\\n>reason I hope good Mr. Moderator allows me this latest indulgence.\\n\\nWell, if you can't turn to the computer for support, what would\\nwe do?  (signs of the computer age :-)\\n\\nIn closing, please don't let the hateful actions of a single person\\nharm you.  They are doing it because they are still the playground\\nbully and enjoy seeing the hurt they cause.  And you should not\\naccept the opinions of an imbecile that you are worthless - much\\nwiser people hold you in great esteem.\\n-- \\nDarin Johnson\\ndjohnson@ucsd.edu\\n  - Luxury!  In MY day, we had to make do with 5 bytes of swap...\\n\",\n",
              " 'From: s0612596@let.rug.nl (M.M. Zwart)\\nSubject: catholic church poland\\nOrganization: Faculteit der Letteren, Rijksuniversiteit Groningen, NL\\nLines: 10\\n\\nHello,\\n\\nI\\'m writing a paper on the role of the catholic church in Poland after 1989. \\nCan anyone tell me more about this, or fill me in on recent books/articles(\\nin english, german or french). Most important for me is the role of the \\nchurch concerning the abortion-law, religious education at schools,\\nbirth-control and the relation church-state(government). Thanx,\\n\\n                                                 Masja,\\n\"M.M.Zwart\"<s0612596@let.rug.nl>\\n',\n",
              " 'From: stanly@grok11.columbiasc.ncr.com (stanly)\\nSubject: Re: Elder Brother\\nOrganization: NCR Corp., Columbia SC\\nLines: 15\\n\\nIn article <Apr.8.00.57.41.1993.28246@athos.rutgers.edu> REXLEX@fnal.gov writes:\\n>In article <Apr.7.01.56.56.1993.22824@athos.rutgers.edu> shrum@hpfcso.fc.hp.com\\n>Matt. 22:9-14 \\'Go therefore to the main highways, and as many as you find\\n>there, invite to the wedding feast.\\'...\\n\\n>hmmmmmm.  Sounds like your theology and Christ\\'s are at odds. Which one am I \\n>to believe?\\n\\nIn this parable, Jesus tells the parable of the wedding feast. \"The kingdom\\nof heaven is like unto a certain king which made a marriage for his son\".\\nSo the wedding clothes were customary,  and \"given\" to those who \"chose\" to\\nattend.  This man \"refused\" to wear the clothes.  The wedding clothes are\\nequalivant to the \"clothes of righteousness\".  When Jesus died for our sins,\\nthose \"clothes\" were then provided.  Like that man, it is our decision to\\nput the clothes on.\\n']"
            ]
          },
          "metadata": {
            "tags": []
          },
          "execution_count": 34
        }
      ]
    },
    {
      "cell_type": "code",
      "metadata": {
        "id": "VX1wF2z6J89_",
        "colab_type": "code",
        "outputId": "e34f674a-27d2-4bdd-80f4-ecde23571b20",
        "colab": {
          "base_uri": "https://localhost:8080/",
          "height": 334
        }
      },
      "source": [
        "fig,ax = plt.subplots(1,2,figsize=(12,5))\n",
        "cnt_plt(twenty_train.target, ax[0],'train')\n",
        "cnt_plt(twenty_test.target, ax[1], 'test')\n"
      ],
      "execution_count": 35,
      "outputs": [
        {
          "output_type": "display_data",
          "data": {
            "image/png": "[encoded data removed]",
            "text/plain": [
              "<Figure size 864x360 with 2 Axes>"
            ]
          },
          "metadata": {
            "tags": []
          }
        }
      ]
    },
    {
      "cell_type": "markdown",
      "metadata": {
        "colab_type": "text",
        "id": "hTz4EaN_1WGc"
      },
      "source": [
        "### 9.  Now with dependent and independent data available for both train and test datasets, using TfidfVectorizer fit and transform the training data and test data and get the tfidf features for both"
      ]
    },
    {
      "cell_type": "code",
      "metadata": {
        "colab_type": "code",
        "id": "H5G477f81C0Z",
        "outputId": "369da4cd-1981-46f3-f870-10c59b53755d",
        "colab": {
          "base_uri": "https://localhost:8080/",
          "height": 1000
        }
      },
      "source": [
        "print(twenty_train.DESCR)"
      ],
      "execution_count": 36,
      "outputs": [
        {
          "output_type": "stream",
          "text": [
            ".. _20newsgroups_dataset:\n",
            "\n",
            "The 20 newsgroups text dataset\n",
            "------------------------------\n",
            "\n",
            "The 20 newsgroups dataset comprises around 18000 newsgroups posts on\n",
            "20 topics split in two subsets: one for training (or development)\n",
            "and the other one for testing (or for performance evaluation). The split\n",
            "between the train and test set is based upon a messages posted before\n",
            "and after a specific date.\n",
            "\n",
            "This module contains two loaders. The first one,\n",
            ":func:`sklearn.datasets.fetch_20newsgroups`,\n",
            "returns a list of the raw texts that can be fed to text feature\n",
            "extractors such as :class:`sklearn.feature_extraction.text.CountVectorizer`\n",
            "with custom parameters so as to extract feature vectors.\n",
            "The second one, :func:`sklearn.datasets.fetch_20newsgroups_vectorized`,\n",
            "returns ready-to-use features, i.e., it is not necessary to use a feature\n",
            "extractor.\n",
            "\n",
            "**Data Set Characteristics:**\n",
            "\n",
            "    =================   ==========\n",
            "    Classes                     20\n",
            "    Samples total            18846\n",
            "    Dimensionality               1\n",
            "    Features                  text\n",
            "    =================   ==========\n",
            "\n",
            "Usage\n",
            "~~~~~\n",
            "\n",
            "The :func:`sklearn.datasets.fetch_20newsgroups` function is a data\n",
            "fetching / caching functions that downloads the data archive from\n",
            "the original `20 newsgroups website`_, extracts the archive contents\n",
            "in the ``~/scikit_learn_data/20news_home`` folder and calls the\n",
            ":func:`sklearn.datasets.load_files` on either the training or\n",
            "testing set folder, or both of them::\n",
            "\n",
            "  >>> from sklearn.datasets import fetch_20newsgroups\n",
            "  >>> newsgroups_train = fetch_20newsgroups(subset='train')\n",
            "\n",
            "  >>> from pprint import pprint\n",
            "  >>> pprint(list(newsgroups_train.target_names))\n",
            "  ['alt.atheism',\n",
            "   'comp.graphics',\n",
            "   'comp.os.ms-windows.misc',\n",
            "   'comp.sys.ibm.pc.hardware',\n",
            "   'comp.sys.mac.hardware',\n",
            "   'comp.windows.x',\n",
            "   'misc.forsale',\n",
            "   'rec.autos',\n",
            "   'rec.motorcycles',\n",
            "   'rec.sport.baseball',\n",
            "   'rec.sport.hockey',\n",
            "   'sci.crypt',\n",
            "   'sci.electronics',\n",
            "   'sci.med',\n",
            "   'sci.space',\n",
            "   'soc.religion.christian',\n",
            "   'talk.politics.guns',\n",
            "   'talk.politics.mideast',\n",
            "   'talk.politics.misc',\n",
            "   'talk.religion.misc']\n",
            "\n",
            "The real data lies in the ``filenames`` and ``target`` attributes. The target\n",
            "attribute is the integer index of the category::\n",
            "\n",
            "  >>> newsgroups_train.filenames.shape\n",
            "  (11314,)\n",
            "  >>> newsgroups_train.target.shape\n",
            "  (11314,)\n",
            "  >>> newsgroups_train.target[:10]\n",
            "  array([ 7,  4,  4,  1, 14, 16, 13,  3,  2,  4])\n",
            "\n",
            "It is possible to load only a sub-selection of the categories by passing the\n",
            "list of the categories to load to the\n",
            ":func:`sklearn.datasets.fetch_20newsgroups` function::\n",
            "\n",
            "  >>> cats = ['alt.atheism', 'sci.space']\n",
            "  >>> newsgroups_train = fetch_20newsgroups(subset='train', categories=cats)\n",
            "\n",
            "  >>> list(newsgroups_train.target_names)\n",
            "  ['alt.atheism', 'sci.space']\n",
            "  >>> newsgroups_train.filenames.shape\n",
            "  (1073,)\n",
            "  >>> newsgroups_train.target.shape\n",
            "  (1073,)\n",
            "  >>> newsgroups_train.target[:10]\n",
            "  array([0, 1, 1, 1, 0, 1, 1, 0, 0, 0])\n",
            "\n",
            "Converting text to vectors\n",
            "~~~~~~~~~~~~~~~~~~~~~~~~~~\n",
            "\n",
            "In order to feed predictive or clustering models with the text data,\n",
            "one first need to turn the text into vectors of numerical values suitable\n",
            "for statistical analysis. This can be achieved with the utilities of the\n",
            "``sklearn.feature_extraction.text`` as demonstrated in the following\n",
            "example that extract `TF-IDF`_ vectors of unigram tokens\n",
            "from a subset of 20news::\n",
            "\n",
            "  >>> from sklearn.feature_extraction.text import TfidfVectorizer\n",
            "  >>> categories = ['alt.atheism', 'talk.religion.misc',\n",
            "  ...               'comp.graphics', 'sci.space']\n",
            "  >>> newsgroups_train = fetch_20newsgroups(subset='train',\n",
            "  ...                                       categories=categories)\n",
            "  >>> vectorizer = TfidfVectorizer()\n",
            "  >>> vectors = vectorizer.fit_transform(newsgroups_train.data)\n",
            "  >>> vectors.shape\n",
            "  (2034, 34118)\n",
            "\n",
            "The extracted TF-IDF vectors are very sparse, with an average of 159 non-zero\n",
            "components by sample in a more than 30000-dimensional space\n",
            "(less than .5% non-zero features)::\n",
            "\n",
            "  >>> vectors.nnz / float(vectors.shape[0])\n",
            "  159.01327...\n",
            "\n",
            ":func:`sklearn.datasets.fetch_20newsgroups_vectorized` is a function which \n",
            "returns ready-to-use token counts features instead of file names.\n",
            "\n",
            ".. _`20 newsgroups website`: http://people.csail.mit.edu/jrennie/20Newsgroups/\n",
            ".. _`TF-IDF`: https://en.wikipedia.org/wiki/Tf-idf\n",
            "\n",
            "\n",
            "Filtering text for more realistic training\n",
            "~~~~~~~~~~~~~~~~~~~~~~~~~~~~~~~~~~~~~~~~~~\n",
            "\n",
            "It is easy for a classifier to overfit on particular things that appear in the\n",
            "20 Newsgroups data, such as newsgroup headers. Many classifiers achieve very\n",
            "high F-scores, but their results would not generalize to other documents that\n",
            "aren't from this window of time.\n",
            "\n",
            "For example, let's look at the results of a multinomial Naive Bayes classifier,\n",
            "which is fast to train and achieves a decent F-score::\n",
            "\n",
            "  >>> from sklearn.naive_bayes import MultinomialNB\n",
            "  >>> from sklearn import metrics\n",
            "  >>> newsgroups_test = fetch_20newsgroups(subset='test',\n",
            "  ...                                      categories=categories)\n",
            "  >>> vectors_test = vectorizer.transform(newsgroups_test.data)\n",
            "  >>> clf = MultinomialNB(alpha=.01)\n",
            "  >>> clf.fit(vectors, newsgroups_train.target)\n",
            "  MultinomialNB(alpha=0.01, class_prior=None, fit_prior=True)\n",
            "\n",
            "  >>> pred = clf.predict(vectors_test)\n",
            "  >>> metrics.f1_score(newsgroups_test.target, pred, average='macro')\n",
            "  0.88213...\n",
            "\n",
            "(The example :ref:`sphx_glr_auto_examples_text_plot_document_classification_20newsgroups.py` shuffles\n",
            "the training and test data, instead of segmenting by time, and in that case\n",
            "multinomial Naive Bayes gets a much higher F-score of 0.88. Are you suspicious\n",
            "yet of what's going on inside this classifier?)\n",
            "\n",
            "Let's take a look at what the most informative features are:\n",
            "\n",
            "  >>> import numpy as np\n",
            "  >>> def show_top10(classifier, vectorizer, categories):\n",
            "  ...     feature_names = np.asarray(vectorizer.get_feature_names())\n",
            "  ...     for i, category in enumerate(categories):\n",
            "  ...         top10 = np.argsort(classifier.coef_[i])[-10:]\n",
            "  ...         print(\"%s: %s\" % (category, \" \".join(feature_names[top10])))\n",
            "  ...\n",
            "  >>> show_top10(clf, vectorizer, newsgroups_train.target_names)\n",
            "  alt.atheism: edu it and in you that is of to the\n",
            "  comp.graphics: edu in graphics it is for and of to the\n",
            "  sci.space: edu it that is in and space to of the\n",
            "  talk.religion.misc: not it you in is that and to of the\n",
            "\n",
            "\n",
            "You can now see many things that these features have overfit to:\n",
            "\n",
            "- Almost every group is distinguished by whether headers such as\n",
            "  ``NNTP-Posting-Host:`` and ``Distribution:`` appear more or less often.\n",
            "- Another significant feature involves whether the sender is affiliated with\n",
            "  a university, as indicated either by their headers or their signature.\n",
            "- The word \"article\" is a significant feature, based on how often people quote\n",
            "  previous posts like this: \"In article [article ID], [name] <[e-mail address]>\n",
            "  wrote:\"\n",
            "- Other features match the names and e-mail addresses of particular people who\n",
            "  were posting at the time.\n",
            "\n",
            "With such an abundance of clues that distinguish newsgroups, the classifiers\n",
            "barely have to identify topics from text at all, and they all perform at the\n",
            "same high level.\n",
            "\n",
            "For this reason, the functions that load 20 Newsgroups data provide a\n",
            "parameter called **remove**, telling it what kinds of information to strip out\n",
            "of each file. **remove** should be a tuple containing any subset of\n",
            "``('headers', 'footers', 'quotes')``, telling it to remove headers, signature\n",
            "blocks, and quotation blocks respectively.\n",
            "\n",
            "  >>> newsgroups_test = fetch_20newsgroups(subset='test',\n",
            "  ...                                      remove=('headers', 'footers', 'quotes'),\n",
            "  ...                                      categories=categories)\n",
            "  >>> vectors_test = vectorizer.transform(newsgroups_test.data)\n",
            "  >>> pred = clf.predict(vectors_test)\n",
            "  >>> metrics.f1_score(pred, newsgroups_test.target, average='macro')\n",
            "  0.77310...\n",
            "\n",
            "This classifier lost over a lot of its F-score, just because we removed\n",
            "metadata that has little to do with topic classification.\n",
            "It loses even more if we also strip this metadata from the training data:\n",
            "\n",
            "  >>> newsgroups_train = fetch_20newsgroups(subset='train',\n",
            "  ...                                       remove=('headers', 'footers', 'quotes'),\n",
            "  ...                                       categories=categories)\n",
            "  >>> vectors = vectorizer.fit_transform(newsgroups_train.data)\n",
            "  >>> clf = MultinomialNB(alpha=.01)\n",
            "  >>> clf.fit(vectors, newsgroups_train.target)\n",
            "  MultinomialNB(alpha=0.01, class_prior=None, fit_prior=True)\n",
            "\n",
            "  >>> vectors_test = vectorizer.transform(newsgroups_test.data)\n",
            "  >>> pred = clf.predict(vectors_test)\n",
            "  >>> metrics.f1_score(newsgroups_test.target, pred, average='macro')\n",
            "  0.76995...\n",
            "\n",
            "Some other classifiers cope better with this harder version of the task. Try\n",
            "running :ref:`sphx_glr_auto_examples_model_selection_grid_search_text_feature_extraction.py` with and without\n",
            "the ``--filter`` option to compare the results.\n",
            "\n",
            ".. topic:: Recommendation\n",
            "\n",
            "  When evaluating text classifiers on the 20 Newsgroups data, you\n",
            "  should strip newsgroup-related metadata. In scikit-learn, you can do this by\n",
            "  setting ``remove=('headers', 'footers', 'quotes')``. The F-score will be\n",
            "  lower because it is more realistic.\n",
            "\n",
            ".. topic:: Examples\n",
            "\n",
            "   * :ref:`sphx_glr_auto_examples_model_selection_grid_search_text_feature_extraction.py`\n",
            "\n",
            "   * :ref:`sphx_glr_auto_examples_text_plot_document_classification_20newsgroups.py`\n",
            "\n"
          ],
          "name": "stdout"
        }
      ]
    },
    {
      "cell_type": "code",
      "metadata": {
        "id": "oj2dWUiOar1m",
        "colab_type": "code",
        "colab": {}
      },
      "source": [
        "# instantiate the vectorizer\n",
        "vect = TfidfVectorizer(strip_accents='ascii', stop_words='english', ngram_range = (1,2), min_df = 2, max_features=9000 )\n",
        "\n",
        "# learn training data vocabulary, then use it to create a document-term matrix\n",
        "x_train_dtm  =  vect.fit_transform(twenty_train.data)"
      ],
      "execution_count": 0,
      "outputs": []
    },
    {
      "cell_type": "code",
      "metadata": {
        "id": "mjDnAV2kgoM_",
        "colab_type": "code",
        "outputId": "7d578db6-1e79-4fd0-b97b-26fd08c36d98",
        "colab": {
          "base_uri": "https://localhost:8080/",
          "height": 34
        }
      },
      "source": [
        "print('train DTM shape{}'.format(x_train_dtm.shape))\n"
      ],
      "execution_count": 38,
      "outputs": [
        {
          "output_type": "stream",
          "text": [
            "train DTM shape(2257, 9000)\n"
          ],
          "name": "stdout"
        }
      ]
    },
    {
      "cell_type": "code",
      "metadata": {
        "id": "k3LLv1ndhJpa",
        "colab_type": "code",
        "outputId": "3fb7d72b-c798-489f-d9be-fe71b7538251",
        "colab": {
          "base_uri": "https://localhost:8080/",
          "height": 193
        }
      },
      "source": [
        "vect.get_feature_names()[:10]\n"
      ],
      "execution_count": 39,
      "outputs": [
        {
          "output_type": "execute_result",
          "data": {
            "text/plain": [
              "['00',\n",
              " '00 08',\n",
              " '00 gmt',\n",
              " '000',\n",
              " '000 000',\n",
              " '00pm',\n",
              " '01',\n",
              " '01 09',\n",
              " '01 10',\n",
              " '01 11']"
            ]
          },
          "metadata": {
            "tags": []
          },
          "execution_count": 39
        }
      ]
    },
    {
      "cell_type": "code",
      "metadata": {
        "id": "q2whk28shW1_",
        "colab_type": "code",
        "colab": {}
      },
      "source": [
        "# transform testing data into a document-term matrix\n",
        "x_test_dtm = vect.transform(twenty_test.data)"
      ],
      "execution_count": 0,
      "outputs": []
    },
    {
      "cell_type": "code",
      "metadata": {
        "id": "S6-P00cwhiB4",
        "colab_type": "code",
        "outputId": "50dee256-4cc2-4c36-f307-f608080fc0ae",
        "colab": {
          "base_uri": "https://localhost:8080/",
          "height": 34
        }
      },
      "source": [
        "print('test DTM shape{}'.format(x_test_dtm.shape))"
      ],
      "execution_count": 41,
      "outputs": [
        {
          "output_type": "stream",
          "text": [
            "test DTM shape(1502, 9000)\n"
          ],
          "name": "stdout"
        }
      ]
    },
    {
      "cell_type": "markdown",
      "metadata": {
        "colab_type": "text",
        "id": "tp_fDINJ1t4L"
      },
      "source": [
        "### 10. Use logisticRegression with tfidf features as input and targets as output and train the model and report the train and test accuracy score"
      ]
    },
    {
      "cell_type": "code",
      "metadata": {
        "colab_type": "code",
        "id": "THlN2b5d1yQp",
        "colab": {}
      },
      "source": [
        "# instantiate a logistic regression model\n",
        "logreg = LogisticRegression()"
      ],
      "execution_count": 0,
      "outputs": []
    },
    {
      "cell_type": "code",
      "metadata": {
        "id": "9O0qou_-h6yl",
        "colab_type": "code",
        "outputId": "04259f3b-d3d4-4458-c092-a43956b0be5c",
        "colab": {
          "base_uri": "https://localhost:8080/",
          "height": 105
        }
      },
      "source": [
        "# train the model using X_train_dtm\n",
        "logreg.fit(x_train_dtm, twenty_train.target)"
      ],
      "execution_count": 43,
      "outputs": [
        {
          "output_type": "execute_result",
          "data": {
            "text/plain": [
              "LogisticRegression(C=1.0, class_weight=None, dual=False, fit_intercept=True,\n",
              "                   intercept_scaling=1, l1_ratio=None, max_iter=100,\n",
              "                   multi_class='auto', n_jobs=None, penalty='l2',\n",
              "                   random_state=None, solver='lbfgs', tol=0.0001, verbose=0,\n",
              "                   warm_start=False)"
            ]
          },
          "metadata": {
            "tags": []
          },
          "execution_count": 43
        }
      ]
    },
    {
      "cell_type": "code",
      "metadata": {
        "id": "i-rnIz_yiKOV",
        "colab_type": "code",
        "colab": {}
      },
      "source": [
        "# make class predictions for X_test_dtm\n",
        "lr_y_pred = logreg.predict(x_test_dtm)"
      ],
      "execution_count": 0,
      "outputs": []
    },
    {
      "cell_type": "code",
      "metadata": {
        "id": "yVbVYALGFu8y",
        "colab_type": "code",
        "colab": {
          "base_uri": "https://localhost:8080/",
          "height": 87
        },
        "outputId": "3f9d9d49-f977-4433-b0c4-eb8281a1377e"
      },
      "source": [
        "metrics.confusion_matrix(twenty_test.target, lr_y_pred)"
      ],
      "execution_count": 45,
      "outputs": [
        {
          "output_type": "execute_result",
          "data": {
            "text/plain": [
              "array([[250,  14,  18,  37],\n",
              "       [  3, 375,   8,   3],\n",
              "       [  6,  28, 358,   4],\n",
              "       [  4,   9,   2, 383]])"
            ]
          },
          "metadata": {
            "tags": []
          },
          "execution_count": 45
        }
      ]
    },
    {
      "cell_type": "code",
      "metadata": {
        "id": "7SVQ7iCpqwPU",
        "colab_type": "code",
        "colab": {
          "base_uri": "https://localhost:8080/",
          "height": 34
        },
        "outputId": "52f87be1-e01e-4e13-f246-99fc968162c8"
      },
      "source": [
        "# calculate accuracy of class predictions\n",
        "metrics.accuracy_score(twenty_test.target, lr_y_pred)"
      ],
      "execution_count": 46,
      "outputs": [
        {
          "output_type": "execute_result",
          "data": {
            "text/plain": [
              "0.9094540612516645"
            ]
          },
          "metadata": {
            "tags": []
          },
          "execution_count": 46
        }
      ]
    }
  ]
}