{
 "cells": [
  {
   "cell_type": "markdown",
   "metadata": {},
   "source": [
    "### Import necessary packages"
   ]
  },
  {
   "cell_type": "code",
   "execution_count": 1,
   "metadata": {},
   "outputs": [],
   "source": [
    "import numpy as np\n",
    "import pandas as pd\n",
    "\n",
    "import scipy.stats as stats\n",
    "\n",
    "%matplotlib inline\n",
    "import matplotlib.pyplot as plt\n",
    "import seaborn as sns\n"
   ]
  },
  {
   "cell_type": "markdown",
   "metadata": {},
   "source": [
    "### Read the input data file"
   ]
  },
  {
   "cell_type": "code",
   "execution_count": 2,
   "metadata": {},
   "outputs": [],
   "source": [
    "resp_df = pd.read_csv('responses.csv')\n",
    "col_df  = pd.read_csv('columns.csv')"
   ]
  },
  {
   "cell_type": "code",
   "execution_count": 3,
   "metadata": {
    "scrolled": true
   },
   "outputs": [
    {
     "data": {
      "text/html": [
       "<div>\n",
       "<style scoped>\n",
       "    .dataframe tbody tr th:only-of-type {\n",
       "        vertical-align: middle;\n",
       "    }\n",
       "\n",
       "    .dataframe tbody tr th {\n",
       "        vertical-align: top;\n",
       "    }\n",
       "\n",
       "    .dataframe thead th {\n",
       "        text-align: right;\n",
       "    }\n",
       "</style>\n",
       "<table border=\"1\" class=\"dataframe\">\n",
       "  <thead>\n",
       "    <tr style=\"text-align: right;\">\n",
       "      <th></th>\n",
       "      <th>Music</th>\n",
       "      <th>Slow songs or fast songs</th>\n",
       "      <th>Dance</th>\n",
       "      <th>Folk</th>\n",
       "      <th>Country</th>\n",
       "      <th>Classical music</th>\n",
       "      <th>Musical</th>\n",
       "      <th>Pop</th>\n",
       "      <th>Rock</th>\n",
       "      <th>Metal or Hardrock</th>\n",
       "      <th>...</th>\n",
       "      <th>Age</th>\n",
       "      <th>Height</th>\n",
       "      <th>Weight</th>\n",
       "      <th>Number of siblings</th>\n",
       "      <th>Gender</th>\n",
       "      <th>Left - right handed</th>\n",
       "      <th>Education</th>\n",
       "      <th>Only child</th>\n",
       "      <th>Village - town</th>\n",
       "      <th>House - block of flats</th>\n",
       "    </tr>\n",
       "  </thead>\n",
       "  <tbody>\n",
       "    <tr>\n",
       "      <th>0</th>\n",
       "      <td>5.0</td>\n",
       "      <td>3.0</td>\n",
       "      <td>2.0</td>\n",
       "      <td>1.0</td>\n",
       "      <td>2.0</td>\n",
       "      <td>2.0</td>\n",
       "      <td>1.0</td>\n",
       "      <td>5.0</td>\n",
       "      <td>5.0</td>\n",
       "      <td>1.0</td>\n",
       "      <td>...</td>\n",
       "      <td>20.0</td>\n",
       "      <td>163.0</td>\n",
       "      <td>48.0</td>\n",
       "      <td>1.0</td>\n",
       "      <td>female</td>\n",
       "      <td>right handed</td>\n",
       "      <td>college/bachelor degree</td>\n",
       "      <td>no</td>\n",
       "      <td>village</td>\n",
       "      <td>block of flats</td>\n",
       "    </tr>\n",
       "    <tr>\n",
       "      <th>1</th>\n",
       "      <td>4.0</td>\n",
       "      <td>4.0</td>\n",
       "      <td>2.0</td>\n",
       "      <td>1.0</td>\n",
       "      <td>1.0</td>\n",
       "      <td>1.0</td>\n",
       "      <td>2.0</td>\n",
       "      <td>3.0</td>\n",
       "      <td>5.0</td>\n",
       "      <td>4.0</td>\n",
       "      <td>...</td>\n",
       "      <td>19.0</td>\n",
       "      <td>163.0</td>\n",
       "      <td>58.0</td>\n",
       "      <td>2.0</td>\n",
       "      <td>female</td>\n",
       "      <td>right handed</td>\n",
       "      <td>college/bachelor degree</td>\n",
       "      <td>no</td>\n",
       "      <td>city</td>\n",
       "      <td>block of flats</td>\n",
       "    </tr>\n",
       "    <tr>\n",
       "      <th>2</th>\n",
       "      <td>5.0</td>\n",
       "      <td>5.0</td>\n",
       "      <td>2.0</td>\n",
       "      <td>2.0</td>\n",
       "      <td>3.0</td>\n",
       "      <td>4.0</td>\n",
       "      <td>5.0</td>\n",
       "      <td>3.0</td>\n",
       "      <td>5.0</td>\n",
       "      <td>3.0</td>\n",
       "      <td>...</td>\n",
       "      <td>20.0</td>\n",
       "      <td>176.0</td>\n",
       "      <td>67.0</td>\n",
       "      <td>2.0</td>\n",
       "      <td>female</td>\n",
       "      <td>right handed</td>\n",
       "      <td>secondary school</td>\n",
       "      <td>no</td>\n",
       "      <td>city</td>\n",
       "      <td>block of flats</td>\n",
       "    </tr>\n",
       "    <tr>\n",
       "      <th>3</th>\n",
       "      <td>5.0</td>\n",
       "      <td>3.0</td>\n",
       "      <td>2.0</td>\n",
       "      <td>1.0</td>\n",
       "      <td>1.0</td>\n",
       "      <td>1.0</td>\n",
       "      <td>1.0</td>\n",
       "      <td>2.0</td>\n",
       "      <td>2.0</td>\n",
       "      <td>1.0</td>\n",
       "      <td>...</td>\n",
       "      <td>22.0</td>\n",
       "      <td>172.0</td>\n",
       "      <td>59.0</td>\n",
       "      <td>1.0</td>\n",
       "      <td>female</td>\n",
       "      <td>right handed</td>\n",
       "      <td>college/bachelor degree</td>\n",
       "      <td>yes</td>\n",
       "      <td>city</td>\n",
       "      <td>house/bungalow</td>\n",
       "    </tr>\n",
       "    <tr>\n",
       "      <th>4</th>\n",
       "      <td>5.0</td>\n",
       "      <td>3.0</td>\n",
       "      <td>4.0</td>\n",
       "      <td>3.0</td>\n",
       "      <td>2.0</td>\n",
       "      <td>4.0</td>\n",
       "      <td>3.0</td>\n",
       "      <td>5.0</td>\n",
       "      <td>3.0</td>\n",
       "      <td>1.0</td>\n",
       "      <td>...</td>\n",
       "      <td>20.0</td>\n",
       "      <td>170.0</td>\n",
       "      <td>59.0</td>\n",
       "      <td>1.0</td>\n",
       "      <td>female</td>\n",
       "      <td>right handed</td>\n",
       "      <td>secondary school</td>\n",
       "      <td>no</td>\n",
       "      <td>village</td>\n",
       "      <td>house/bungalow</td>\n",
       "    </tr>\n",
       "  </tbody>\n",
       "</table>\n",
       "<p>5 rows × 150 columns</p>\n",
       "</div>"
      ],
      "text/plain": [
       "   Music  Slow songs or fast songs  Dance  Folk  Country  Classical music  \\\n",
       "0    5.0                       3.0    2.0   1.0      2.0              2.0   \n",
       "1    4.0                       4.0    2.0   1.0      1.0              1.0   \n",
       "2    5.0                       5.0    2.0   2.0      3.0              4.0   \n",
       "3    5.0                       3.0    2.0   1.0      1.0              1.0   \n",
       "4    5.0                       3.0    4.0   3.0      2.0              4.0   \n",
       "\n",
       "   Musical  Pop  Rock  Metal or Hardrock  ...   Age  Height  Weight  \\\n",
       "0      1.0  5.0   5.0                1.0  ...  20.0   163.0    48.0   \n",
       "1      2.0  3.0   5.0                4.0  ...  19.0   163.0    58.0   \n",
       "2      5.0  3.0   5.0                3.0  ...  20.0   176.0    67.0   \n",
       "3      1.0  2.0   2.0                1.0  ...  22.0   172.0    59.0   \n",
       "4      3.0  5.0   3.0                1.0  ...  20.0   170.0    59.0   \n",
       "\n",
       "   Number of siblings  Gender  Left - right handed                Education  \\\n",
       "0                 1.0  female         right handed  college/bachelor degree   \n",
       "1                 2.0  female         right handed  college/bachelor degree   \n",
       "2                 2.0  female         right handed         secondary school   \n",
       "3                 1.0  female         right handed  college/bachelor degree   \n",
       "4                 1.0  female         right handed         secondary school   \n",
       "\n",
       "   Only child  Village - town  House - block of flats  \n",
       "0          no         village          block of flats  \n",
       "1          no            city          block of flats  \n",
       "2          no            city          block of flats  \n",
       "3         yes            city          house/bungalow  \n",
       "4          no         village          house/bungalow  \n",
       "\n",
       "[5 rows x 150 columns]"
      ]
     },
     "execution_count": 3,
     "metadata": {},
     "output_type": "execute_result"
    }
   ],
   "source": [
    "resp_df.head()"
   ]
  },
  {
   "cell_type": "code",
   "execution_count": 4,
   "metadata": {},
   "outputs": [
    {
     "data": {
      "text/html": [
       "<div>\n",
       "<style scoped>\n",
       "    .dataframe tbody tr th:only-of-type {\n",
       "        vertical-align: middle;\n",
       "    }\n",
       "\n",
       "    .dataframe tbody tr th {\n",
       "        vertical-align: top;\n",
       "    }\n",
       "\n",
       "    .dataframe thead th {\n",
       "        text-align: right;\n",
       "    }\n",
       "</style>\n",
       "<table border=\"1\" class=\"dataframe\">\n",
       "  <thead>\n",
       "    <tr style=\"text-align: right;\">\n",
       "      <th></th>\n",
       "      <th>original</th>\n",
       "      <th>short</th>\n",
       "    </tr>\n",
       "  </thead>\n",
       "  <tbody>\n",
       "    <tr>\n",
       "      <th>34</th>\n",
       "      <td>Mathematics</td>\n",
       "      <td>Mathematics</td>\n",
       "    </tr>\n",
       "    <tr>\n",
       "      <th>30</th>\n",
       "      <td>Action movies</td>\n",
       "      <td>Action</td>\n",
       "    </tr>\n",
       "    <tr>\n",
       "      <th>64</th>\n",
       "      <td>Thunder, lightning</td>\n",
       "      <td>Storm</td>\n",
       "    </tr>\n",
       "  </tbody>\n",
       "</table>\n",
       "</div>"
      ],
      "text/plain": [
       "              original        short\n",
       "34         Mathematics  Mathematics\n",
       "30       Action movies       Action\n",
       "64  Thunder, lightning        Storm"
      ]
     },
     "execution_count": 4,
     "metadata": {},
     "output_type": "execute_result"
    }
   ],
   "source": [
    "col_df.sample(n=3)"
   ]
  },
  {
   "cell_type": "markdown",
   "metadata": {},
   "source": [
    "### Print all the rows from the column file"
   ]
  },
  {
   "cell_type": "code",
   "execution_count": 5,
   "metadata": {},
   "outputs": [
    {
     "name": "stdout",
     "output_type": "stream",
     "text": [
      "original    I enjoy listening to music.\n",
      "short                             Music\n",
      "Name: 0, dtype: object \n",
      "\n",
      "original                   I prefer.\n",
      "short       Slow songs or fast songs\n",
      "Name: 1, dtype: object \n",
      "\n",
      "original    Dance, Disco, Funk\n",
      "short                    Dance\n",
      "Name: 2, dtype: object \n",
      "\n",
      "original    Folk music\n",
      "short             Folk\n",
      "Name: 3, dtype: object \n",
      "\n",
      "original    Country\n",
      "short       Country\n",
      "Name: 4, dtype: object \n",
      "\n",
      "original          Classical\n",
      "short       Classical music\n",
      "Name: 5, dtype: object \n",
      "\n",
      "original    Musicals\n",
      "short        Musical\n",
      "Name: 6, dtype: object \n",
      "\n",
      "original    Pop\n",
      "short       Pop\n",
      "Name: 7, dtype: object \n",
      "\n",
      "original    Rock\n",
      "short       Rock\n",
      "Name: 8, dtype: object \n",
      "\n",
      "original     Metal, Hard rock\n",
      "short       Metal or Hardrock\n",
      "Name: 9, dtype: object \n",
      "\n",
      "original    Punk\n",
      "short       Punk\n",
      "Name: 10, dtype: object \n",
      "\n",
      "original    Hip hop, Rap\n",
      "short        Hiphop, Rap\n",
      "Name: 11, dtype: object \n",
      "\n",
      "original    Reggae, Ska\n",
      "short       Reggae, Ska\n",
      "Name: 12, dtype: object \n",
      "\n",
      "original    Swing, Jazz\n",
      "short       Swing, Jazz\n",
      "Name: 13, dtype: object \n",
      "\n",
      "original    Rock n Roll\n",
      "short       Rock n roll\n",
      "Name: 14, dtype: object \n",
      "\n",
      "original    Alternative music\n",
      "short             Alternative\n",
      "Name: 15, dtype: object \n",
      "\n",
      "original     Latin\n",
      "short       Latino\n",
      "Name: 16, dtype: object \n",
      "\n",
      "original    Techno, Trance\n",
      "short       Techno, Trance\n",
      "Name: 17, dtype: object \n",
      "\n",
      "original    Opera\n",
      "short       Opera\n",
      "Name: 18, dtype: object \n",
      "\n",
      "original    I really enjoy watching movies.\n",
      "short                                Movies\n",
      "Name: 19, dtype: object \n",
      "\n",
      "original    Horror movies\n",
      "short              Horror\n",
      "Name: 20, dtype: object \n",
      "\n",
      "original    Thriller movies\n",
      "short              Thriller\n",
      "Name: 21, dtype: object \n",
      "\n",
      "original    Comedies\n",
      "short         Comedy\n",
      "Name: 22, dtype: object \n",
      "\n",
      "original    Romantic movies\n",
      "short              Romantic\n",
      "Name: 23, dtype: object \n",
      "\n",
      "original    Sci-fi movies\n",
      "short              Sci-fi\n",
      "Name: 24, dtype: object \n",
      "\n",
      "original    War movies\n",
      "short              War\n",
      "Name: 25, dtype: object \n",
      "\n",
      "original                  Tales\n",
      "short       Fantasy/Fairy tales\n",
      "Name: 26, dtype: object \n",
      "\n",
      "original    Cartoons\n",
      "short       Animated\n",
      "Name: 27, dtype: object \n",
      "\n",
      "original    Documentaries\n",
      "short         Documentary\n",
      "Name: 28, dtype: object \n",
      "\n",
      "original    Western movies\n",
      "short              Western\n",
      "Name: 29, dtype: object \n",
      "\n",
      "original    Action movies\n",
      "short              Action\n",
      "Name: 30, dtype: object \n",
      "\n",
      "original    History\n",
      "short       History\n",
      "Name: 31, dtype: object \n",
      "\n",
      "original    Psychology\n",
      "short       Psychology\n",
      "Name: 32, dtype: object \n",
      "\n",
      "original    Politics\n",
      "short       Politics\n",
      "Name: 33, dtype: object \n",
      "\n",
      "original    Mathematics\n",
      "short       Mathematics\n",
      "Name: 34, dtype: object \n",
      "\n",
      "original    Physics\n",
      "short       Physics\n",
      "Name: 35, dtype: object \n",
      "\n",
      "original    Internet\n",
      "short       Internet\n",
      "Name: 36, dtype: object \n",
      "\n",
      "original    PC Software, Hardware\n",
      "short                          PC\n",
      "Name: 37, dtype: object \n",
      "\n",
      "original    Economy, Management\n",
      "short        Economy Management\n",
      "Name: 38, dtype: object \n",
      "\n",
      "original    Biology\n",
      "short       Biology\n",
      "Name: 39, dtype: object \n",
      "\n",
      "original    Chemistry\n",
      "short       Chemistry\n",
      "Name: 40, dtype: object \n",
      "\n",
      "original    Poetry reading\n",
      "short              Reading\n",
      "Name: 41, dtype: object \n",
      "\n",
      "original    Geography\n",
      "short       Geography\n",
      "Name: 42, dtype: object \n",
      "\n",
      "original    Foreign languages\n",
      "short       Foreign languages\n",
      "Name: 43, dtype: object \n",
      "\n",
      "original    Medicine\n",
      "short       Medicine\n",
      "Name: 44, dtype: object \n",
      "\n",
      "original    Law\n",
      "short       Law\n",
      "Name: 45, dtype: object \n",
      "\n",
      "original    Cars\n",
      "short       Cars\n",
      "Name: 46, dtype: object \n",
      "\n",
      "original                Art\n",
      "short       Art exhibitions\n",
      "Name: 47, dtype: object \n",
      "\n",
      "original    Religion\n",
      "short       Religion\n",
      "Name: 48, dtype: object \n",
      "\n",
      "original       Outdoor activities\n",
      "short       Countryside, outdoors\n",
      "Name: 49, dtype: object \n",
      "\n",
      "original    Dancing\n",
      "short       Dancing\n",
      "Name: 50, dtype: object \n",
      "\n",
      "original    Playing musical instruments\n",
      "short               Musical instruments\n",
      "Name: 51, dtype: object \n",
      "\n",
      "original    Poetry writing\n",
      "short              Writing\n",
      "Name: 52, dtype: object \n",
      "\n",
      "original    Sport and leisure activities\n",
      "short                      Passive sport\n",
      "Name: 53, dtype: object \n",
      "\n",
      "original    Sport at competitive level\n",
      "short                     Active sport\n",
      "Name: 54, dtype: object \n",
      "\n",
      "original    Gardening\n",
      "short       Gardening\n",
      "Name: 55, dtype: object \n",
      "\n",
      "original    Celebrity lifestyle\n",
      "short               Celebrities\n",
      "Name: 56, dtype: object \n",
      "\n",
      "original    Shopping\n",
      "short       Shopping\n",
      "Name: 57, dtype: object \n",
      "\n",
      "original    Science and technology\n",
      "short       Science and technology\n",
      "Name: 58, dtype: object \n",
      "\n",
      "original    Theatre\n",
      "short       Theatre\n",
      "Name: 59, dtype: object \n",
      "\n",
      "original         Socializing\n",
      "short       Fun with friends\n",
      "Name: 60, dtype: object \n",
      "\n",
      "original    Adrenaline sports\n",
      "short       Adrenaline sports\n",
      "Name: 61, dtype: object \n",
      "\n",
      "original    Pets\n",
      "short       Pets\n",
      "Name: 62, dtype: object \n",
      "\n",
      "original    Flying\n",
      "short       Flying\n",
      "Name: 63, dtype: object \n",
      "\n",
      "original    Thunder, lightning\n",
      "short                    Storm\n",
      "Name: 64, dtype: object \n",
      "\n",
      "original    Darkness\n",
      "short       Darkness\n",
      "Name: 65, dtype: object \n",
      "\n",
      "original    Heights\n",
      "short       Heights\n",
      "Name: 66, dtype: object \n",
      "\n",
      "original    Spiders\n",
      "short       Spiders\n",
      "Name: 67, dtype: object \n",
      "\n",
      "original    Snakes\n",
      "short       Snakes\n",
      "Name: 68, dtype: object \n",
      "\n",
      "original    Rats, mice\n",
      "short             Rats\n",
      "Name: 69, dtype: object \n",
      "\n",
      "original    Ageing\n",
      "short       Ageing\n",
      "Name: 70, dtype: object \n",
      "\n",
      "original    Dangerous dogs\n",
      "short       Dangerous dogs\n",
      "Name: 71, dtype: object \n",
      "\n",
      "original            Public speaking\n",
      "short       Fear of public speaking\n",
      "Name: 72, dtype: object \n",
      "\n",
      "original    Smoking habits\n",
      "short              Smoking\n",
      "Name: 73, dtype: object \n",
      "\n",
      "original    Drinking\n",
      "short        Alcohol\n",
      "Name: 74, dtype: object \n",
      "\n",
      "original    I live a very healthy lifestyle.\n",
      "short                         Healthy eating\n",
      "Name: 75, dtype: object \n",
      "\n",
      "original    I take notice of what goes on around me.\n",
      "short                                   Daily events\n",
      "Name: 76, dtype: object \n",
      "\n",
      "original    I try to do tasks as soon as possible and not ...\n",
      "short                                   Prioritising workload\n",
      "Name: 77, dtype: object \n",
      "\n",
      "original    I always make a list so I don't forget anything.\n",
      "short                                          Writing notes\n",
      "Name: 78, dtype: object \n",
      "\n",
      "original    I often study or work even in my spare time.\n",
      "short                                        Workaholism\n",
      "Name: 79, dtype: object \n",
      "\n",
      "original    I look at things from all different angles bef...\n",
      "short                                          Thinking ahead\n",
      "Name: 80, dtype: object \n",
      "\n",
      "original    I believe that bad people will suffer one day ...\n",
      "short                                         Final judgement\n",
      "Name: 81, dtype: object \n",
      "\n",
      "original    I am reliable at work and always complete all ...\n",
      "short                                             Reliability\n",
      "Name: 82, dtype: object \n",
      "\n",
      "original    I always keep my promises.\n",
      "short                 Keeping promises\n",
      "Name: 83, dtype: object \n",
      "\n",
      "original    I can fall for someone very quickly and then c...\n",
      "short                                        Loss of interest\n",
      "Name: 84, dtype: object \n",
      "\n",
      "original    I would rather have lots of friends than lots ...\n",
      "short                                    Friends versus money\n",
      "Name: 85, dtype: object \n",
      "\n",
      "original    I always try to be the funniest one.\n",
      "short                                  Funniness\n",
      "Name: 86, dtype: object \n",
      "\n",
      "original    I can be two faced sometimes.\n",
      "short                                Fake\n",
      "Name: 87, dtype: object \n",
      "\n",
      "original    I damaged things in the past when angry.\n",
      "short                                Criminal damage\n",
      "Name: 88, dtype: object \n",
      "\n",
      "original    I take my time to make decisions.\n",
      "short                         Decision making\n",
      "Name: 89, dtype: object \n",
      "\n",
      "original    I always try to vote in elections.\n",
      "short                                Elections\n",
      "Name: 90, dtype: object \n",
      "\n",
      "original    I often think about and regret the decisions I...\n",
      "short                                          Self-criticism\n",
      "Name: 91, dtype: object \n",
      "\n",
      "original    I can tell if people listen to me or not when ...\n",
      "short                                          Judgment calls\n",
      "Name: 92, dtype: object \n",
      "\n",
      "original    I am a hypochondriac.\n",
      "short                Hypochondria\n",
      "Name: 93, dtype: object \n",
      "\n",
      "original    I am emphatetic person.\n",
      "short                       Empathy\n",
      "Name: 94, dtype: object \n",
      "\n",
      "original    I eat because I have to. I don't enjoy food an...\n",
      "short                                       Eating to survive\n",
      "Name: 95, dtype: object \n",
      "\n",
      "original    I try to give as much as I can to other people...\n",
      "short                                                  Giving\n",
      "Name: 96, dtype: object \n",
      "\n",
      "original    I don't like seeing animals suffering.\n",
      "short                        Compassion to animals\n",
      "Name: 97, dtype: object \n",
      "\n",
      "original    I look after things I have borrowed from others.\n",
      "short                                         Borrowed stuff\n",
      "Name: 98, dtype: object \n",
      "\n",
      "original    I feel lonely in life.\n",
      "short                   Loneliness\n",
      "Name: 99, dtype: object \n",
      "\n",
      "original    I used to cheat at school.\n",
      "short               Cheating in school\n",
      "Name: 100, dtype: object \n",
      "\n",
      "original    I worry about my health.\n",
      "short                         Health\n",
      "Name: 101, dtype: object \n",
      "\n",
      "original    I wish I could change the past because of the ...\n",
      "short                                       Changing the past\n",
      "Name: 102, dtype: object \n",
      "\n",
      "original    I believe in God.\n",
      "short                     God\n",
      "Name: 103, dtype: object \n",
      "\n",
      "original    I always have good dreams.\n",
      "short                           Dreams\n",
      "Name: 104, dtype: object \n",
      "\n",
      "original    I always give to charity.\n",
      "short                         Charity\n",
      "Name: 105, dtype: object \n",
      "\n",
      "original    I have lots of friends.\n",
      "short             Number of friends\n",
      "Name: 106, dtype: object \n",
      "\n",
      "original    Timekeeping.\n",
      "short        Punctuality\n",
      "Name: 107, dtype: object \n",
      "\n",
      "original    Do you lie to others?\n",
      "short                       Lying\n",
      "Name: 108, dtype: object \n",
      "\n",
      "original    I am very patient.\n",
      "short                  Waiting\n",
      "Name: 109, dtype: object \n",
      "\n",
      "original    I can quickly adapt to a new environment.\n",
      "short                                 New environment\n",
      "Name: 110, dtype: object \n",
      "\n",
      "original    My moods change quickly.\n",
      "short                    Mood swings\n",
      "Name: 111, dtype: object \n",
      "\n",
      "original    I am well mannered and I look after my appeara...\n",
      "short                                 Appearence and gestures\n",
      "Name: 112, dtype: object \n",
      "\n",
      "original    I enjoy meeting new people.\n",
      "short                       Socializing\n",
      "Name: 113, dtype: object \n",
      "\n",
      "original    I always let other people know about my achiev...\n",
      "short                                            Achievements\n",
      "Name: 114, dtype: object \n",
      "\n",
      "original    I think carefully before answering any importa...\n",
      "short                          Responding to a serious letter\n",
      "Name: 115, dtype: object \n",
      "\n",
      "original    I enjoy childrens' company.\n",
      "short                          Children\n",
      "Name: 116, dtype: object \n",
      "\n",
      "original    I am not afraid to give my opinion if I feel s...\n",
      "short                                           Assertiveness\n",
      "Name: 117, dtype: object \n",
      "\n",
      "original    I can get angry very easily.\n",
      "short                      Getting angry\n",
      "Name: 118, dtype: object \n",
      "\n",
      "original    I always make sure I connect with the right pe...\n",
      "short                                Knowing the right people\n",
      "Name: 119, dtype: object \n",
      "\n",
      "original    I have to be well prepared before public speak...\n",
      "short                                         Public speaking\n",
      "Name: 120, dtype: object \n",
      "\n",
      "original    I will find a fault in myself if people don't ...\n",
      "short                                            Unpopularity\n",
      "Name: 121, dtype: object \n",
      "\n",
      "original    I cry when I feel down or things don't go the ...\n",
      "short                                          Life struggles\n",
      "Name: 122, dtype: object \n",
      "\n",
      "original    I am 100% happy with my life.\n",
      "short                   Happiness in life\n",
      "Name: 123, dtype: object \n",
      "\n",
      "original    I am always full of life and energy.\n",
      "short                              Energy levels\n",
      "Name: 124, dtype: object \n",
      "\n",
      "original    I prefer big dangerous dogs to smaller, calmer...\n",
      "short                                        Small - big dogs\n",
      "Name: 125, dtype: object \n",
      "\n",
      "original    I believe all my personality traits are positive.\n",
      "short                                             Personality\n",
      "Name: 126, dtype: object \n",
      "\n",
      "original    If I find something the doesn't belong to me I...\n",
      "short                                  Finding lost valuables\n",
      "Name: 127, dtype: object \n",
      "\n",
      "original    I find it very difficult to get up in the morn...\n",
      "short                                              Getting up\n",
      "Name: 128, dtype: object \n",
      "\n",
      "original    I have many different hobbies and interests.\n",
      "short                               Interests or hobbies\n",
      "Name: 129, dtype: object \n",
      "\n",
      "original    I always listen to my parents' advice.\n",
      "short                              Parents' advice\n",
      "Name: 130, dtype: object \n",
      "\n",
      "original    I enjoy taking part in surveys.\n",
      "short               Questionnaires or polls\n",
      "Name: 131, dtype: object \n",
      "\n",
      "original    How much time do you spend online?\n",
      "short                           Internet usage\n",
      "Name: 132, dtype: object \n",
      "\n",
      "original    I save all the money I can.\n",
      "short                          Finances\n",
      "Name: 133, dtype: object \n",
      "\n",
      "original    I enjoy going to large shopping centres.\n",
      "short                               Shopping centres\n",
      "Name: 134, dtype: object \n",
      "\n",
      "original    I prefer branded clothing to non branded.\n",
      "short                                Branded clothing\n",
      "Name: 135, dtype: object \n",
      "\n",
      "original    I spend a lot of money on  partying and social...\n",
      "short                                  Entertainment spending\n",
      "Name: 136, dtype: object \n",
      "\n",
      "original    I spend a lot of money on my appearance.\n",
      "short                              Spending on looks\n",
      "Name: 137, dtype: object \n",
      "\n",
      "original    I spend a lot of money on gadgets.\n",
      "short                      Spending on gadgets\n",
      "Name: 138, dtype: object \n",
      "\n",
      "original    I will hapilly pay more money for good, qualit...\n",
      "short                              Spending on healthy eating\n"
     ]
    },
    {
     "name": "stdout",
     "output_type": "stream",
     "text": [
      "Name: 139, dtype: object \n",
      "\n",
      "original    Age\n",
      "short       Age\n",
      "Name: 140, dtype: object \n",
      "\n",
      "original    Height\n",
      "short       Height\n",
      "Name: 141, dtype: object \n",
      "\n",
      "original    Weight\n",
      "short       Weight\n",
      "Name: 142, dtype: object \n",
      "\n",
      "original    How many siblings do you have?\n",
      "short                   Number of siblings\n",
      "Name: 143, dtype: object \n",
      "\n",
      "original    Gender\n",
      "short       Gender\n",
      "Name: 144, dtype: object \n",
      "\n",
      "original                   I am\n",
      "short       Left - right handed\n",
      "Name: 145, dtype: object \n",
      "\n",
      "original    Highest education achieved\n",
      "short                        Education\n",
      "Name: 146, dtype: object \n",
      "\n",
      "original    I am the only child\n",
      "short                Only child\n",
      "Name: 147, dtype: object \n",
      "\n",
      "original    I spent most of my childhood in a\n",
      "short                          Village - town\n",
      "Name: 148, dtype: object \n",
      "\n",
      "original    I lived most of my childhood in a\n",
      "short                  House - block of flats\n",
      "Name: 149, dtype: object \n",
      "\n"
     ]
    }
   ],
   "source": [
    "for i in range(0,col_df.shape[0]):\n",
    "    print(col_df.loc[i,:],'\\n')"
   ]
  },
  {
   "cell_type": "code",
   "execution_count": 6,
   "metadata": {},
   "outputs": [
    {
     "name": "stdout",
     "output_type": "stream",
     "text": [
      "<class 'pandas.core.frame.DataFrame'>\n",
      "RangeIndex: 150 entries, 0 to 149\n",
      "Data columns (total 2 columns):\n",
      "original    150 non-null object\n",
      "short       150 non-null object\n",
      "dtypes: object(2)\n",
      "memory usage: 2.4+ KB\n"
     ]
    }
   ],
   "source": [
    "col_df.info()"
   ]
  },
  {
   "cell_type": "code",
   "execution_count": 7,
   "metadata": {},
   "outputs": [
    {
     "data": {
      "text/html": [
       "<div>\n",
       "<style scoped>\n",
       "    .dataframe tbody tr th:only-of-type {\n",
       "        vertical-align: middle;\n",
       "    }\n",
       "\n",
       "    .dataframe tbody tr th {\n",
       "        vertical-align: top;\n",
       "    }\n",
       "\n",
       "    .dataframe thead th {\n",
       "        text-align: right;\n",
       "    }\n",
       "</style>\n",
       "<table border=\"1\" class=\"dataframe\">\n",
       "  <thead>\n",
       "    <tr style=\"text-align: right;\">\n",
       "      <th></th>\n",
       "      <th>original</th>\n",
       "      <th>short</th>\n",
       "    </tr>\n",
       "  </thead>\n",
       "  <tbody>\n",
       "    <tr>\n",
       "      <th>count</th>\n",
       "      <td>150</td>\n",
       "      <td>150</td>\n",
       "    </tr>\n",
       "    <tr>\n",
       "      <th>unique</th>\n",
       "      <td>150</td>\n",
       "      <td>150</td>\n",
       "    </tr>\n",
       "    <tr>\n",
       "      <th>top</th>\n",
       "      <td>I enjoy childrens' company.</td>\n",
       "      <td>House - block of flats</td>\n",
       "    </tr>\n",
       "    <tr>\n",
       "      <th>freq</th>\n",
       "      <td>1</td>\n",
       "      <td>1</td>\n",
       "    </tr>\n",
       "  </tbody>\n",
       "</table>\n",
       "</div>"
      ],
      "text/plain": [
       "                           original                   short\n",
       "count                           150                     150\n",
       "unique                          150                     150\n",
       "top     I enjoy childrens' company.  House - block of flats\n",
       "freq                              1                       1"
      ]
     },
     "execution_count": 7,
     "metadata": {},
     "output_type": "execute_result"
    }
   ],
   "source": [
    "col_df.describe()"
   ]
  },
  {
   "cell_type": "code",
   "execution_count": 8,
   "metadata": {},
   "outputs": [
    {
     "name": "stdout",
     "output_type": "stream",
     "text": [
      "<class 'pandas.core.frame.DataFrame'>\n",
      "RangeIndex: 1010 entries, 0 to 1009\n",
      "Columns: 150 entries, Music to House - block of flats\n",
      "dtypes: float64(134), int64(5), object(11)\n",
      "memory usage: 1.2+ MB\n"
     ]
    }
   ],
   "source": [
    "resp_df.info()"
   ]
  },
  {
   "cell_type": "code",
   "execution_count": 9,
   "metadata": {},
   "outputs": [
    {
     "data": {
      "text/html": [
       "<div>\n",
       "<style scoped>\n",
       "    .dataframe tbody tr th:only-of-type {\n",
       "        vertical-align: middle;\n",
       "    }\n",
       "\n",
       "    .dataframe tbody tr th {\n",
       "        vertical-align: top;\n",
       "    }\n",
       "\n",
       "    .dataframe thead th {\n",
       "        text-align: right;\n",
       "    }\n",
       "</style>\n",
       "<table border=\"1\" class=\"dataframe\">\n",
       "  <thead>\n",
       "    <tr style=\"text-align: right;\">\n",
       "      <th></th>\n",
       "      <th>Music</th>\n",
       "      <th>Slow songs or fast songs</th>\n",
       "      <th>Dance</th>\n",
       "      <th>Folk</th>\n",
       "      <th>Country</th>\n",
       "      <th>Classical music</th>\n",
       "      <th>Musical</th>\n",
       "      <th>Pop</th>\n",
       "      <th>Rock</th>\n",
       "      <th>Metal or Hardrock</th>\n",
       "      <th>...</th>\n",
       "      <th>Age</th>\n",
       "      <th>Height</th>\n",
       "      <th>Weight</th>\n",
       "      <th>Number of siblings</th>\n",
       "      <th>Gender</th>\n",
       "      <th>Left - right handed</th>\n",
       "      <th>Education</th>\n",
       "      <th>Only child</th>\n",
       "      <th>Village - town</th>\n",
       "      <th>House - block of flats</th>\n",
       "    </tr>\n",
       "  </thead>\n",
       "  <tbody>\n",
       "    <tr>\n",
       "      <th>count</th>\n",
       "      <td>1007.000000</td>\n",
       "      <td>1008.000000</td>\n",
       "      <td>1006.000000</td>\n",
       "      <td>1005.000000</td>\n",
       "      <td>1005.000000</td>\n",
       "      <td>1003.000000</td>\n",
       "      <td>1008.000000</td>\n",
       "      <td>1007.000000</td>\n",
       "      <td>1004.000000</td>\n",
       "      <td>1007.000000</td>\n",
       "      <td>...</td>\n",
       "      <td>1003.000000</td>\n",
       "      <td>990.000000</td>\n",
       "      <td>990.000000</td>\n",
       "      <td>1004.000000</td>\n",
       "      <td>1004</td>\n",
       "      <td>1007</td>\n",
       "      <td>1009</td>\n",
       "      <td>1008</td>\n",
       "      <td>1006</td>\n",
       "      <td>1006</td>\n",
       "    </tr>\n",
       "    <tr>\n",
       "      <th>unique</th>\n",
       "      <td>NaN</td>\n",
       "      <td>NaN</td>\n",
       "      <td>NaN</td>\n",
       "      <td>NaN</td>\n",
       "      <td>NaN</td>\n",
       "      <td>NaN</td>\n",
       "      <td>NaN</td>\n",
       "      <td>NaN</td>\n",
       "      <td>NaN</td>\n",
       "      <td>NaN</td>\n",
       "      <td>...</td>\n",
       "      <td>NaN</td>\n",
       "      <td>NaN</td>\n",
       "      <td>NaN</td>\n",
       "      <td>NaN</td>\n",
       "      <td>2</td>\n",
       "      <td>2</td>\n",
       "      <td>6</td>\n",
       "      <td>2</td>\n",
       "      <td>2</td>\n",
       "      <td>2</td>\n",
       "    </tr>\n",
       "    <tr>\n",
       "      <th>top</th>\n",
       "      <td>NaN</td>\n",
       "      <td>NaN</td>\n",
       "      <td>NaN</td>\n",
       "      <td>NaN</td>\n",
       "      <td>NaN</td>\n",
       "      <td>NaN</td>\n",
       "      <td>NaN</td>\n",
       "      <td>NaN</td>\n",
       "      <td>NaN</td>\n",
       "      <td>NaN</td>\n",
       "      <td>...</td>\n",
       "      <td>NaN</td>\n",
       "      <td>NaN</td>\n",
       "      <td>NaN</td>\n",
       "      <td>NaN</td>\n",
       "      <td>female</td>\n",
       "      <td>right handed</td>\n",
       "      <td>secondary school</td>\n",
       "      <td>no</td>\n",
       "      <td>city</td>\n",
       "      <td>block of flats</td>\n",
       "    </tr>\n",
       "    <tr>\n",
       "      <th>freq</th>\n",
       "      <td>NaN</td>\n",
       "      <td>NaN</td>\n",
       "      <td>NaN</td>\n",
       "      <td>NaN</td>\n",
       "      <td>NaN</td>\n",
       "      <td>NaN</td>\n",
       "      <td>NaN</td>\n",
       "      <td>NaN</td>\n",
       "      <td>NaN</td>\n",
       "      <td>NaN</td>\n",
       "      <td>...</td>\n",
       "      <td>NaN</td>\n",
       "      <td>NaN</td>\n",
       "      <td>NaN</td>\n",
       "      <td>NaN</td>\n",
       "      <td>593</td>\n",
       "      <td>906</td>\n",
       "      <td>621</td>\n",
       "      <td>754</td>\n",
       "      <td>707</td>\n",
       "      <td>595</td>\n",
       "    </tr>\n",
       "    <tr>\n",
       "      <th>mean</th>\n",
       "      <td>4.731877</td>\n",
       "      <td>3.328373</td>\n",
       "      <td>3.113320</td>\n",
       "      <td>2.288557</td>\n",
       "      <td>2.123383</td>\n",
       "      <td>2.956132</td>\n",
       "      <td>2.761905</td>\n",
       "      <td>3.471698</td>\n",
       "      <td>3.761952</td>\n",
       "      <td>2.361470</td>\n",
       "      <td>...</td>\n",
       "      <td>20.433699</td>\n",
       "      <td>173.514141</td>\n",
       "      <td>66.405051</td>\n",
       "      <td>1.297809</td>\n",
       "      <td>NaN</td>\n",
       "      <td>NaN</td>\n",
       "      <td>NaN</td>\n",
       "      <td>NaN</td>\n",
       "      <td>NaN</td>\n",
       "      <td>NaN</td>\n",
       "    </tr>\n",
       "    <tr>\n",
       "      <th>std</th>\n",
       "      <td>0.664049</td>\n",
       "      <td>0.833931</td>\n",
       "      <td>1.170568</td>\n",
       "      <td>1.138916</td>\n",
       "      <td>1.076136</td>\n",
       "      <td>1.252570</td>\n",
       "      <td>1.260845</td>\n",
       "      <td>1.161400</td>\n",
       "      <td>1.184861</td>\n",
       "      <td>1.372995</td>\n",
       "      <td>...</td>\n",
       "      <td>2.828840</td>\n",
       "      <td>10.024505</td>\n",
       "      <td>13.839561</td>\n",
       "      <td>1.013348</td>\n",
       "      <td>NaN</td>\n",
       "      <td>NaN</td>\n",
       "      <td>NaN</td>\n",
       "      <td>NaN</td>\n",
       "      <td>NaN</td>\n",
       "      <td>NaN</td>\n",
       "    </tr>\n",
       "    <tr>\n",
       "      <th>min</th>\n",
       "      <td>1.000000</td>\n",
       "      <td>1.000000</td>\n",
       "      <td>1.000000</td>\n",
       "      <td>1.000000</td>\n",
       "      <td>1.000000</td>\n",
       "      <td>1.000000</td>\n",
       "      <td>1.000000</td>\n",
       "      <td>1.000000</td>\n",
       "      <td>1.000000</td>\n",
       "      <td>1.000000</td>\n",
       "      <td>...</td>\n",
       "      <td>15.000000</td>\n",
       "      <td>62.000000</td>\n",
       "      <td>41.000000</td>\n",
       "      <td>0.000000</td>\n",
       "      <td>NaN</td>\n",
       "      <td>NaN</td>\n",
       "      <td>NaN</td>\n",
       "      <td>NaN</td>\n",
       "      <td>NaN</td>\n",
       "      <td>NaN</td>\n",
       "    </tr>\n",
       "    <tr>\n",
       "      <th>25%</th>\n",
       "      <td>5.000000</td>\n",
       "      <td>3.000000</td>\n",
       "      <td>2.000000</td>\n",
       "      <td>1.000000</td>\n",
       "      <td>1.000000</td>\n",
       "      <td>2.000000</td>\n",
       "      <td>2.000000</td>\n",
       "      <td>3.000000</td>\n",
       "      <td>3.000000</td>\n",
       "      <td>1.000000</td>\n",
       "      <td>...</td>\n",
       "      <td>19.000000</td>\n",
       "      <td>167.000000</td>\n",
       "      <td>55.000000</td>\n",
       "      <td>1.000000</td>\n",
       "      <td>NaN</td>\n",
       "      <td>NaN</td>\n",
       "      <td>NaN</td>\n",
       "      <td>NaN</td>\n",
       "      <td>NaN</td>\n",
       "      <td>NaN</td>\n",
       "    </tr>\n",
       "    <tr>\n",
       "      <th>50%</th>\n",
       "      <td>5.000000</td>\n",
       "      <td>3.000000</td>\n",
       "      <td>3.000000</td>\n",
       "      <td>2.000000</td>\n",
       "      <td>2.000000</td>\n",
       "      <td>3.000000</td>\n",
       "      <td>3.000000</td>\n",
       "      <td>4.000000</td>\n",
       "      <td>4.000000</td>\n",
       "      <td>2.000000</td>\n",
       "      <td>...</td>\n",
       "      <td>20.000000</td>\n",
       "      <td>173.000000</td>\n",
       "      <td>64.000000</td>\n",
       "      <td>1.000000</td>\n",
       "      <td>NaN</td>\n",
       "      <td>NaN</td>\n",
       "      <td>NaN</td>\n",
       "      <td>NaN</td>\n",
       "      <td>NaN</td>\n",
       "      <td>NaN</td>\n",
       "    </tr>\n",
       "    <tr>\n",
       "      <th>75%</th>\n",
       "      <td>5.000000</td>\n",
       "      <td>4.000000</td>\n",
       "      <td>4.000000</td>\n",
       "      <td>3.000000</td>\n",
       "      <td>3.000000</td>\n",
       "      <td>4.000000</td>\n",
       "      <td>4.000000</td>\n",
       "      <td>4.000000</td>\n",
       "      <td>5.000000</td>\n",
       "      <td>3.000000</td>\n",
       "      <td>...</td>\n",
       "      <td>22.000000</td>\n",
       "      <td>180.000000</td>\n",
       "      <td>75.000000</td>\n",
       "      <td>2.000000</td>\n",
       "      <td>NaN</td>\n",
       "      <td>NaN</td>\n",
       "      <td>NaN</td>\n",
       "      <td>NaN</td>\n",
       "      <td>NaN</td>\n",
       "      <td>NaN</td>\n",
       "    </tr>\n",
       "    <tr>\n",
       "      <th>max</th>\n",
       "      <td>5.000000</td>\n",
       "      <td>5.000000</td>\n",
       "      <td>5.000000</td>\n",
       "      <td>5.000000</td>\n",
       "      <td>5.000000</td>\n",
       "      <td>5.000000</td>\n",
       "      <td>5.000000</td>\n",
       "      <td>5.000000</td>\n",
       "      <td>5.000000</td>\n",
       "      <td>5.000000</td>\n",
       "      <td>...</td>\n",
       "      <td>30.000000</td>\n",
       "      <td>203.000000</td>\n",
       "      <td>165.000000</td>\n",
       "      <td>10.000000</td>\n",
       "      <td>NaN</td>\n",
       "      <td>NaN</td>\n",
       "      <td>NaN</td>\n",
       "      <td>NaN</td>\n",
       "      <td>NaN</td>\n",
       "      <td>NaN</td>\n",
       "    </tr>\n",
       "  </tbody>\n",
       "</table>\n",
       "<p>11 rows × 150 columns</p>\n",
       "</div>"
      ],
      "text/plain": [
       "              Music  Slow songs or fast songs        Dance         Folk  \\\n",
       "count   1007.000000               1008.000000  1006.000000  1005.000000   \n",
       "unique          NaN                       NaN          NaN          NaN   \n",
       "top             NaN                       NaN          NaN          NaN   \n",
       "freq            NaN                       NaN          NaN          NaN   \n",
       "mean       4.731877                  3.328373     3.113320     2.288557   \n",
       "std        0.664049                  0.833931     1.170568     1.138916   \n",
       "min        1.000000                  1.000000     1.000000     1.000000   \n",
       "25%        5.000000                  3.000000     2.000000     1.000000   \n",
       "50%        5.000000                  3.000000     3.000000     2.000000   \n",
       "75%        5.000000                  4.000000     4.000000     3.000000   \n",
       "max        5.000000                  5.000000     5.000000     5.000000   \n",
       "\n",
       "            Country  Classical music      Musical          Pop         Rock  \\\n",
       "count   1005.000000      1003.000000  1008.000000  1007.000000  1004.000000   \n",
       "unique          NaN              NaN          NaN          NaN          NaN   \n",
       "top             NaN              NaN          NaN          NaN          NaN   \n",
       "freq            NaN              NaN          NaN          NaN          NaN   \n",
       "mean       2.123383         2.956132     2.761905     3.471698     3.761952   \n",
       "std        1.076136         1.252570     1.260845     1.161400     1.184861   \n",
       "min        1.000000         1.000000     1.000000     1.000000     1.000000   \n",
       "25%        1.000000         2.000000     2.000000     3.000000     3.000000   \n",
       "50%        2.000000         3.000000     3.000000     4.000000     4.000000   \n",
       "75%        3.000000         4.000000     4.000000     4.000000     5.000000   \n",
       "max        5.000000         5.000000     5.000000     5.000000     5.000000   \n",
       "\n",
       "        Metal or Hardrock  ...          Age      Height      Weight  \\\n",
       "count         1007.000000  ...  1003.000000  990.000000  990.000000   \n",
       "unique                NaN  ...          NaN         NaN         NaN   \n",
       "top                   NaN  ...          NaN         NaN         NaN   \n",
       "freq                  NaN  ...          NaN         NaN         NaN   \n",
       "mean             2.361470  ...    20.433699  173.514141   66.405051   \n",
       "std              1.372995  ...     2.828840   10.024505   13.839561   \n",
       "min              1.000000  ...    15.000000   62.000000   41.000000   \n",
       "25%              1.000000  ...    19.000000  167.000000   55.000000   \n",
       "50%              2.000000  ...    20.000000  173.000000   64.000000   \n",
       "75%              3.000000  ...    22.000000  180.000000   75.000000   \n",
       "max              5.000000  ...    30.000000  203.000000  165.000000   \n",
       "\n",
       "        Number of siblings  Gender  Left - right handed         Education  \\\n",
       "count          1004.000000    1004                 1007              1009   \n",
       "unique                 NaN       2                    2                 6   \n",
       "top                    NaN  female         right handed  secondary school   \n",
       "freq                   NaN     593                  906               621   \n",
       "mean              1.297809     NaN                  NaN               NaN   \n",
       "std               1.013348     NaN                  NaN               NaN   \n",
       "min               0.000000     NaN                  NaN               NaN   \n",
       "25%               1.000000     NaN                  NaN               NaN   \n",
       "50%               1.000000     NaN                  NaN               NaN   \n",
       "75%               2.000000     NaN                  NaN               NaN   \n",
       "max              10.000000     NaN                  NaN               NaN   \n",
       "\n",
       "        Only child  Village - town  House - block of flats  \n",
       "count         1008            1006                    1006  \n",
       "unique           2               2                       2  \n",
       "top             no            city          block of flats  \n",
       "freq           754             707                     595  \n",
       "mean           NaN             NaN                     NaN  \n",
       "std            NaN             NaN                     NaN  \n",
       "min            NaN             NaN                     NaN  \n",
       "25%            NaN             NaN                     NaN  \n",
       "50%            NaN             NaN                     NaN  \n",
       "75%            NaN             NaN                     NaN  \n",
       "max            NaN             NaN                     NaN  \n",
       "\n",
       "[11 rows x 150 columns]"
      ]
     },
     "execution_count": 9,
     "metadata": {},
     "output_type": "execute_result"
    }
   ],
   "source": [
    "resp_df.describe(include='all')"
   ]
  },
  {
   "cell_type": "markdown",
   "metadata": {},
   "source": [
    "### As the requirement is to find whether Spending Habits and Healthy Lifestyle is related to Gender and Place or not, create a new dataframe with required columns alone"
   ]
  },
  {
   "cell_type": "code",
   "execution_count": 10,
   "metadata": {},
   "outputs": [],
   "source": [
    "df = pd.concat([resp_df['Gender'],resp_df['Village - town'],resp_df['Finances'],resp_df['Healthy eating']],axis=1)"
   ]
  },
  {
   "cell_type": "code",
   "execution_count": 11,
   "metadata": {},
   "outputs": [
    {
     "data": {
      "text/html": [
       "<div>\n",
       "<style scoped>\n",
       "    .dataframe tbody tr th:only-of-type {\n",
       "        vertical-align: middle;\n",
       "    }\n",
       "\n",
       "    .dataframe tbody tr th {\n",
       "        vertical-align: top;\n",
       "    }\n",
       "\n",
       "    .dataframe thead th {\n",
       "        text-align: right;\n",
       "    }\n",
       "</style>\n",
       "<table border=\"1\" class=\"dataframe\">\n",
       "  <thead>\n",
       "    <tr style=\"text-align: right;\">\n",
       "      <th></th>\n",
       "      <th>Gender</th>\n",
       "      <th>Village - town</th>\n",
       "      <th>Finances</th>\n",
       "      <th>Healthy eating</th>\n",
       "    </tr>\n",
       "  </thead>\n",
       "  <tbody>\n",
       "    <tr>\n",
       "      <th>94</th>\n",
       "      <td>male</td>\n",
       "      <td>city</td>\n",
       "      <td>3.0</td>\n",
       "      <td>2.0</td>\n",
       "    </tr>\n",
       "    <tr>\n",
       "      <th>664</th>\n",
       "      <td>female</td>\n",
       "      <td>village</td>\n",
       "      <td>4.0</td>\n",
       "      <td>3.0</td>\n",
       "    </tr>\n",
       "    <tr>\n",
       "      <th>252</th>\n",
       "      <td>female</td>\n",
       "      <td>village</td>\n",
       "      <td>5.0</td>\n",
       "      <td>3.0</td>\n",
       "    </tr>\n",
       "    <tr>\n",
       "      <th>991</th>\n",
       "      <td>male</td>\n",
       "      <td>city</td>\n",
       "      <td>3.0</td>\n",
       "      <td>1.0</td>\n",
       "    </tr>\n",
       "    <tr>\n",
       "      <th>999</th>\n",
       "      <td>male</td>\n",
       "      <td>city</td>\n",
       "      <td>3.0</td>\n",
       "      <td>4.0</td>\n",
       "    </tr>\n",
       "  </tbody>\n",
       "</table>\n",
       "</div>"
      ],
      "text/plain": [
       "     Gender Village - town  Finances  Healthy eating\n",
       "94     male           city       3.0             2.0\n",
       "664  female        village       4.0             3.0\n",
       "252  female        village       5.0             3.0\n",
       "991    male           city       3.0             1.0\n",
       "999    male           city       3.0             4.0"
      ]
     },
     "execution_count": 11,
     "metadata": {},
     "output_type": "execute_result"
    }
   ],
   "source": [
    "df.sample(5)"
   ]
  },
  {
   "cell_type": "code",
   "execution_count": 12,
   "metadata": {},
   "outputs": [
    {
     "data": {
      "text/plain": [
       "(1010, 4)"
      ]
     },
     "execution_count": 12,
     "metadata": {},
     "output_type": "execute_result"
    }
   ],
   "source": [
    "df.shape"
   ]
  },
  {
   "cell_type": "code",
   "execution_count": 13,
   "metadata": {},
   "outputs": [
    {
     "name": "stdout",
     "output_type": "stream",
     "text": [
      "<class 'pandas.core.frame.DataFrame'>\n",
      "RangeIndex: 1010 entries, 0 to 1009\n",
      "Data columns (total 4 columns):\n",
      "Gender            1004 non-null object\n",
      "Village - town    1006 non-null object\n",
      "Finances          1007 non-null float64\n",
      "Healthy eating    1007 non-null float64\n",
      "dtypes: float64(2), object(2)\n",
      "memory usage: 31.6+ KB\n"
     ]
    }
   ],
   "source": [
    "df.info()"
   ]
  },
  {
   "cell_type": "code",
   "execution_count": 14,
   "metadata": {},
   "outputs": [
    {
     "data": {
      "text/html": [
       "<div>\n",
       "<style scoped>\n",
       "    .dataframe tbody tr th:only-of-type {\n",
       "        vertical-align: middle;\n",
       "    }\n",
       "\n",
       "    .dataframe tbody tr th {\n",
       "        vertical-align: top;\n",
       "    }\n",
       "\n",
       "    .dataframe thead th {\n",
       "        text-align: right;\n",
       "    }\n",
       "</style>\n",
       "<table border=\"1\" class=\"dataframe\">\n",
       "  <thead>\n",
       "    <tr style=\"text-align: right;\">\n",
       "      <th></th>\n",
       "      <th>Gender</th>\n",
       "      <th>Village - town</th>\n",
       "      <th>Finances</th>\n",
       "      <th>Healthy eating</th>\n",
       "    </tr>\n",
       "  </thead>\n",
       "  <tbody>\n",
       "    <tr>\n",
       "      <th>count</th>\n",
       "      <td>1004</td>\n",
       "      <td>1006</td>\n",
       "      <td>1007.000000</td>\n",
       "      <td>1007.000000</td>\n",
       "    </tr>\n",
       "    <tr>\n",
       "      <th>unique</th>\n",
       "      <td>2</td>\n",
       "      <td>2</td>\n",
       "      <td>NaN</td>\n",
       "      <td>NaN</td>\n",
       "    </tr>\n",
       "    <tr>\n",
       "      <th>top</th>\n",
       "      <td>female</td>\n",
       "      <td>city</td>\n",
       "      <td>NaN</td>\n",
       "      <td>NaN</td>\n",
       "    </tr>\n",
       "    <tr>\n",
       "      <th>freq</th>\n",
       "      <td>593</td>\n",
       "      <td>707</td>\n",
       "      <td>NaN</td>\n",
       "      <td>NaN</td>\n",
       "    </tr>\n",
       "    <tr>\n",
       "      <th>mean</th>\n",
       "      <td>NaN</td>\n",
       "      <td>NaN</td>\n",
       "      <td>3.023833</td>\n",
       "      <td>3.031778</td>\n",
       "    </tr>\n",
       "    <tr>\n",
       "      <th>std</th>\n",
       "      <td>NaN</td>\n",
       "      <td>NaN</td>\n",
       "      <td>1.144365</td>\n",
       "      <td>0.936865</td>\n",
       "    </tr>\n",
       "    <tr>\n",
       "      <th>min</th>\n",
       "      <td>NaN</td>\n",
       "      <td>NaN</td>\n",
       "      <td>1.000000</td>\n",
       "      <td>1.000000</td>\n",
       "    </tr>\n",
       "    <tr>\n",
       "      <th>25%</th>\n",
       "      <td>NaN</td>\n",
       "      <td>NaN</td>\n",
       "      <td>2.000000</td>\n",
       "      <td>3.000000</td>\n",
       "    </tr>\n",
       "    <tr>\n",
       "      <th>50%</th>\n",
       "      <td>NaN</td>\n",
       "      <td>NaN</td>\n",
       "      <td>3.000000</td>\n",
       "      <td>3.000000</td>\n",
       "    </tr>\n",
       "    <tr>\n",
       "      <th>75%</th>\n",
       "      <td>NaN</td>\n",
       "      <td>NaN</td>\n",
       "      <td>4.000000</td>\n",
       "      <td>4.000000</td>\n",
       "    </tr>\n",
       "    <tr>\n",
       "      <th>max</th>\n",
       "      <td>NaN</td>\n",
       "      <td>NaN</td>\n",
       "      <td>5.000000</td>\n",
       "      <td>5.000000</td>\n",
       "    </tr>\n",
       "  </tbody>\n",
       "</table>\n",
       "</div>"
      ],
      "text/plain": [
       "        Gender Village - town     Finances  Healthy eating\n",
       "count     1004           1006  1007.000000     1007.000000\n",
       "unique       2              2          NaN             NaN\n",
       "top     female           city          NaN             NaN\n",
       "freq       593            707          NaN             NaN\n",
       "mean       NaN            NaN     3.023833        3.031778\n",
       "std        NaN            NaN     1.144365        0.936865\n",
       "min        NaN            NaN     1.000000        1.000000\n",
       "25%        NaN            NaN     2.000000        3.000000\n",
       "50%        NaN            NaN     3.000000        3.000000\n",
       "75%        NaN            NaN     4.000000        4.000000\n",
       "max        NaN            NaN     5.000000        5.000000"
      ]
     },
     "execution_count": 14,
     "metadata": {},
     "output_type": "execute_result"
    }
   ],
   "source": [
    "df.describe(include='all')"
   ]
  },
  {
   "cell_type": "markdown",
   "metadata": {},
   "source": [
    "### List number of missing values in each column"
   ]
  },
  {
   "cell_type": "code",
   "execution_count": 15,
   "metadata": {},
   "outputs": [
    {
     "data": {
      "text/plain": [
       "Gender            6\n",
       "Village - town    4\n",
       "Finances          3\n",
       "Healthy eating    3\n",
       "dtype: int64"
      ]
     },
     "execution_count": 15,
     "metadata": {},
     "output_type": "execute_result"
    }
   ],
   "source": [
    "df.isnull().sum()"
   ]
  },
  {
   "cell_type": "markdown",
   "metadata": {},
   "source": [
    "### Identify the frequency"
   ]
  },
  {
   "cell_type": "code",
   "execution_count": 16,
   "metadata": {},
   "outputs": [
    {
     "name": "stdout",
     "output_type": "stream",
     "text": [
      "female    593\n",
      "male      411\n",
      "Name: Gender, dtype: int64 \n",
      "\n",
      "city       707\n",
      "village    299\n",
      "Name: Village - town, dtype: int64 \n",
      "\n",
      "3.0    358\n",
      "4.0    252\n",
      "2.0    174\n",
      "1.0    125\n",
      "5.0     98\n",
      "Name: Finances, dtype: int64 \n",
      "\n",
      "3.0    504\n",
      "4.0    239\n",
      "2.0    137\n",
      "1.0     81\n",
      "5.0     46\n",
      "Name: Healthy eating, dtype: int64 \n",
      "\n"
     ]
    }
   ],
   "source": [
    "for col in df.columns:\n",
    "    print(df[col].value_counts(),'\\n')    "
   ]
  },
  {
   "cell_type": "markdown",
   "metadata": {},
   "source": [
    "### Fill the missing values\n",
    "\n",
    "Here,\n",
    "\n",
    "categorical variable(nominal) are filled with mode\n",
    "\n",
    "categorical variable(Ordinal) are filled with median\n"
   ]
  },
  {
   "cell_type": "code",
   "execution_count": 17,
   "metadata": {},
   "outputs": [],
   "source": [
    "for col in df:\n",
    "    if(df[col].dtype == np.object):\n",
    "        df[col].fillna(value=df[col].mode().values[0], inplace=True)\n",
    "    else:\n",
    "        df[col].fillna(value=df[col].median(), inplace=True)\n",
    "        "
   ]
  },
  {
   "cell_type": "code",
   "execution_count": 18,
   "metadata": {},
   "outputs": [
    {
     "data": {
      "text/plain": [
       "Gender            0\n",
       "Village - town    0\n",
       "Finances          0\n",
       "Healthy eating    0\n",
       "dtype: int64"
      ]
     },
     "execution_count": 18,
     "metadata": {},
     "output_type": "execute_result"
    }
   ],
   "source": [
    "df.isnull().sum()"
   ]
  },
  {
   "cell_type": "code",
   "execution_count": 19,
   "metadata": {},
   "outputs": [
    {
     "name": "stdout",
     "output_type": "stream",
     "text": [
      "female    599\n",
      "male      411\n",
      "Name: Gender, dtype: int64 \n",
      "\n",
      "city       711\n",
      "village    299\n",
      "Name: Village - town, dtype: int64 \n",
      "\n",
      "3.0    361\n",
      "4.0    252\n",
      "2.0    174\n",
      "1.0    125\n",
      "5.0     98\n",
      "Name: Finances, dtype: int64 \n",
      "\n",
      "3.0    507\n",
      "4.0    239\n",
      "2.0    137\n",
      "1.0     81\n",
      "5.0     46\n",
      "Name: Healthy eating, dtype: int64 \n",
      "\n"
     ]
    }
   ],
   "source": [
    "for col in df:\n",
    "    print(df[col].value_counts(),'\\n')\n",
    "    "
   ]
  },
  {
   "cell_type": "markdown",
   "metadata": {},
   "source": [
    "### Coding the categorical variable in the given data-frame\n",
    "\n",
    "Here,\n",
    "\n",
    "Categorical varibales of type object in the data set was coded using the following technique\n",
    "1. panda's categorical encoder\n",
    "\n",
    "Though sklearn preprocessing model's label/one-hot techniques can be used, in order to understand the above panda's functionality was used"
   ]
  },
  {
   "cell_type": "code",
   "execution_count": 20,
   "metadata": {},
   "outputs": [],
   "source": [
    "# categorical coder\n",
    "for col in df:\n",
    "    if(df[col].dtype == np.object):\n",
    "        df[col] = df[col].astype('category').cat.codes\n",
    "    else:\n",
    "        pass"
   ]
  },
  {
   "cell_type": "code",
   "execution_count": 21,
   "metadata": {
    "scrolled": true
   },
   "outputs": [
    {
     "data": {
      "text/html": [
       "<div>\n",
       "<style scoped>\n",
       "    .dataframe tbody tr th:only-of-type {\n",
       "        vertical-align: middle;\n",
       "    }\n",
       "\n",
       "    .dataframe tbody tr th {\n",
       "        vertical-align: top;\n",
       "    }\n",
       "\n",
       "    .dataframe thead th {\n",
       "        text-align: right;\n",
       "    }\n",
       "</style>\n",
       "<table border=\"1\" class=\"dataframe\">\n",
       "  <thead>\n",
       "    <tr style=\"text-align: right;\">\n",
       "      <th></th>\n",
       "      <th>Gender</th>\n",
       "      <th>Village - town</th>\n",
       "      <th>Finances</th>\n",
       "      <th>Healthy eating</th>\n",
       "    </tr>\n",
       "  </thead>\n",
       "  <tbody>\n",
       "    <tr>\n",
       "      <th>count</th>\n",
       "      <td>1010.000000</td>\n",
       "      <td>1010.000000</td>\n",
       "      <td>1010.000000</td>\n",
       "      <td>1010.000000</td>\n",
       "    </tr>\n",
       "    <tr>\n",
       "      <th>mean</th>\n",
       "      <td>0.406931</td>\n",
       "      <td>0.296040</td>\n",
       "      <td>3.023762</td>\n",
       "      <td>3.031683</td>\n",
       "    </tr>\n",
       "    <tr>\n",
       "      <th>std</th>\n",
       "      <td>0.491505</td>\n",
       "      <td>0.456735</td>\n",
       "      <td>1.142663</td>\n",
       "      <td>0.935473</td>\n",
       "    </tr>\n",
       "    <tr>\n",
       "      <th>min</th>\n",
       "      <td>0.000000</td>\n",
       "      <td>0.000000</td>\n",
       "      <td>1.000000</td>\n",
       "      <td>1.000000</td>\n",
       "    </tr>\n",
       "    <tr>\n",
       "      <th>25%</th>\n",
       "      <td>0.000000</td>\n",
       "      <td>0.000000</td>\n",
       "      <td>2.000000</td>\n",
       "      <td>3.000000</td>\n",
       "    </tr>\n",
       "    <tr>\n",
       "      <th>50%</th>\n",
       "      <td>0.000000</td>\n",
       "      <td>0.000000</td>\n",
       "      <td>3.000000</td>\n",
       "      <td>3.000000</td>\n",
       "    </tr>\n",
       "    <tr>\n",
       "      <th>75%</th>\n",
       "      <td>1.000000</td>\n",
       "      <td>1.000000</td>\n",
       "      <td>4.000000</td>\n",
       "      <td>4.000000</td>\n",
       "    </tr>\n",
       "    <tr>\n",
       "      <th>max</th>\n",
       "      <td>1.000000</td>\n",
       "      <td>1.000000</td>\n",
       "      <td>5.000000</td>\n",
       "      <td>5.000000</td>\n",
       "    </tr>\n",
       "  </tbody>\n",
       "</table>\n",
       "</div>"
      ],
      "text/plain": [
       "            Gender  Village - town     Finances  Healthy eating\n",
       "count  1010.000000     1010.000000  1010.000000     1010.000000\n",
       "mean      0.406931        0.296040     3.023762        3.031683\n",
       "std       0.491505        0.456735     1.142663        0.935473\n",
       "min       0.000000        0.000000     1.000000        1.000000\n",
       "25%       0.000000        0.000000     2.000000        3.000000\n",
       "50%       0.000000        0.000000     3.000000        3.000000\n",
       "75%       1.000000        1.000000     4.000000        4.000000\n",
       "max       1.000000        1.000000     5.000000        5.000000"
      ]
     },
     "execution_count": 21,
     "metadata": {},
     "output_type": "execute_result"
    }
   ],
   "source": [
    "df.describe()"
   ]
  },
  {
   "cell_type": "code",
   "execution_count": 22,
   "metadata": {},
   "outputs": [
    {
     "name": "stdout",
     "output_type": "stream",
     "text": [
      "0    599\n",
      "1    411\n",
      "Name: Gender, dtype: int64 \n",
      "\n",
      "0    711\n",
      "1    299\n",
      "Name: Village - town, dtype: int64 \n",
      "\n",
      "3.0    361\n",
      "4.0    252\n",
      "2.0    174\n",
      "1.0    125\n",
      "5.0     98\n",
      "Name: Finances, dtype: int64 \n",
      "\n",
      "3.0    507\n",
      "4.0    239\n",
      "2.0    137\n",
      "1.0     81\n",
      "5.0     46\n",
      "Name: Healthy eating, dtype: int64 \n",
      "\n"
     ]
    }
   ],
   "source": [
    "for col in df:\n",
    "    print(df[col].value_counts(),'\\n')"
   ]
  },
  {
   "cell_type": "markdown",
   "metadata": {},
   "source": [
    "### Understand the relationship of the features in the given data-set using\n",
    "1. Correlation matrix / Heatmap\n",
    "2. pair plot"
   ]
  },
  {
   "cell_type": "code",
   "execution_count": 23,
   "metadata": {},
   "outputs": [
    {
     "data": {
      "text/html": [
       "<div>\n",
       "<style scoped>\n",
       "    .dataframe tbody tr th:only-of-type {\n",
       "        vertical-align: middle;\n",
       "    }\n",
       "\n",
       "    .dataframe tbody tr th {\n",
       "        vertical-align: top;\n",
       "    }\n",
       "\n",
       "    .dataframe thead th {\n",
       "        text-align: right;\n",
       "    }\n",
       "</style>\n",
       "<table border=\"1\" class=\"dataframe\">\n",
       "  <thead>\n",
       "    <tr style=\"text-align: right;\">\n",
       "      <th></th>\n",
       "      <th>Gender</th>\n",
       "      <th>Village - town</th>\n",
       "      <th>Finances</th>\n",
       "      <th>Healthy eating</th>\n",
       "    </tr>\n",
       "  </thead>\n",
       "  <tbody>\n",
       "    <tr>\n",
       "      <th>Gender</th>\n",
       "      <td>1.000000</td>\n",
       "      <td>0.001447</td>\n",
       "      <td>-0.059586</td>\n",
       "      <td>-0.062557</td>\n",
       "    </tr>\n",
       "    <tr>\n",
       "      <th>Village - town</th>\n",
       "      <td>0.001447</td>\n",
       "      <td>1.000000</td>\n",
       "      <td>0.083357</td>\n",
       "      <td>-0.033572</td>\n",
       "    </tr>\n",
       "    <tr>\n",
       "      <th>Finances</th>\n",
       "      <td>-0.059586</td>\n",
       "      <td>0.083357</td>\n",
       "      <td>1.000000</td>\n",
       "      <td>0.098502</td>\n",
       "    </tr>\n",
       "    <tr>\n",
       "      <th>Healthy eating</th>\n",
       "      <td>-0.062557</td>\n",
       "      <td>-0.033572</td>\n",
       "      <td>0.098502</td>\n",
       "      <td>1.000000</td>\n",
       "    </tr>\n",
       "  </tbody>\n",
       "</table>\n",
       "</div>"
      ],
      "text/plain": [
       "                  Gender  Village - town  Finances  Healthy eating\n",
       "Gender          1.000000        0.001447 -0.059586       -0.062557\n",
       "Village - town  0.001447        1.000000  0.083357       -0.033572\n",
       "Finances       -0.059586        0.083357  1.000000        0.098502\n",
       "Healthy eating -0.062557       -0.033572  0.098502        1.000000"
      ]
     },
     "execution_count": 23,
     "metadata": {},
     "output_type": "execute_result"
    }
   ],
   "source": [
    "df.corr()"
   ]
  },
  {
   "cell_type": "code",
   "execution_count": 24,
   "metadata": {
    "scrolled": true
   },
   "outputs": [
    {
     "data": {
      "image/png": "[encoded data removed]",
      "text/plain": [
       "<Figure size 432x288 with 2 Axes>"
      ]
     },
     "metadata": {
      "needs_background": "light"
     },
     "output_type": "display_data"
    }
   ],
   "source": [
    "sns.heatmap(df.corr(),annot=True,cmap='binary')\n",
    "plt.show()"
   ]
  },
  {
   "cell_type": "code",
   "execution_count": 25,
   "metadata": {},
   "outputs": [
    {
     "data": {
      "image/png": "[encoded data removed]",
      "text/plain": [
       "<Figure size 720x720 with 20 Axes>"
      ]
     },
     "metadata": {
      "needs_background": "light"
     },
     "output_type": "display_data"
    }
   ],
   "source": [
    "sns.pairplot(df)\n",
    "plt.show()"
   ]
  },
  {
   "cell_type": "markdown",
   "metadata": {},
   "source": [
    "### Understanding the probable distribution"
   ]
  },
  {
   "cell_type": "code",
   "execution_count": 26,
   "metadata": {
    "scrolled": true
   },
   "outputs": [
    {
     "data": {
      "text/plain": [
       "<matplotlib.axes._subplots.AxesSubplot at 0xca3af98>"
      ]
     },
     "execution_count": 26,
     "metadata": {},
     "output_type": "execute_result"
    },
    {
     "data": {
      "image/png": "[encoded data removed]",
      "text/plain": [
       "<Figure size 432x288 with 1 Axes>"
      ]
     },
     "metadata": {
      "needs_background": "light"
     },
     "output_type": "display_data"
    }
   ],
   "source": [
    "sns.distplot(df['Finances'])"
   ]
  },
  {
   "cell_type": "code",
   "execution_count": 27,
   "metadata": {},
   "outputs": [
    {
     "data": {
      "text/plain": [
       "<matplotlib.axes._subplots.AxesSubplot at 0xcd17f28>"
      ]
     },
     "execution_count": 27,
     "metadata": {},
     "output_type": "execute_result"
    },
    {
     "data": {
      "image/png": "[encoded data removed]",
      "text/plain": [
       "<Figure size 432x288 with 1 Axes>"
      ]
     },
     "metadata": {
      "needs_background": "light"
     },
     "output_type": "display_data"
    }
   ],
   "source": [
    "sns.distplot(df['Healthy eating'])"
   ]
  },
  {
   "cell_type": "markdown",
   "metadata": {},
   "source": [
    "### Note:\n",
    "There was a chaos whether to consider the columns of interest as category(context and it's meaning) or integer type(dtype says it is numeric). Particularly finances,healthy-eating column.\n",
    "\n",
    "As from references to the below documentation, concluded it shall be considered as category variable only.\n",
    "\n",
    "https://pandas.pydata.org/pandas-docs/stable/user_guide/categorical.html\n",
    "\n",
    "Therefore chi2-test shall be used for the given tasks.\n",
    "\n",
    "\n",
    "In the given data-set\n",
    "* Gender, Village-town is a category type - nominal\n",
    "* Finance, Healthy-eating is a category type - ordinal"
   ]
  },
  {
   "cell_type": "markdown",
   "metadata": {},
   "source": [
    "### As all the given task for this project is using chi-square-test define a function and use it"
   ]
  },
  {
   "cell_type": "code",
   "execution_count": 28,
   "metadata": {},
   "outputs": [],
   "source": [
    "\n",
    "#User defined function, which validates the hypothesis-test for categorical variables(nominal vs ordinal).\n",
    "\n",
    "def chi2_test_of_independence(dF, g_col, col_of_int):\n",
    "    \n",
    "    print('\\nchi square independence test for (%s, %s)'%(g_col,col_of_int))\n",
    "    \n",
    "    alpha = 0.05 \n",
    "    print('\\nAlpha(significance level) defined as %f'%(alpha))\n",
    "\n",
    "    # Get the number of unique categorical values and it's frequency as count    \n",
    "    grp_cnt   = dF[g_col].nunique()    \n",
    "    grp_val   = dF[g_col].value_counts().values\n",
    "    grp_index = dF[g_col].value_counts().index\n",
    "    \n",
    "    print('\\n')\n",
    "    for i in range(0,grp_cnt):\n",
    "        print('%s:%d Freq-count:%d:' %(g_col,grp_index[i], grp_val[i]))\n",
    "        \n",
    "    # Get the number of unique categorical values    \n",
    "    CoI_cnt    = dF[col_of_int].nunique()\n",
    "       \n",
    "    # As chi-sqr-test-of-independence, whether the 2 or more groups are independet or not for observed frequencies\n",
    "    # Create an n-dimensional as per requirement, as to read the frequency count of each group from the column of interest\n",
    "    nd_arr = np.ndarray(shape=(grp_cnt,CoI_cnt))\n",
    "    print('\\nCreated %d-Dimensional array and shape is(%d:%d)'%(nd_arr.ndim, nd_arr.shape[0],nd_arr.shape[1]))\n",
    "        \n",
    "    for i in range(0,grp_cnt):\n",
    "        print('\\n%s:%d'%(g_col,grp_index[i]))\n",
    "        print('%s:'%(col_of_int))\n",
    "        print('\\tElement \\t Freq-count')\n",
    "        for j in range(0,CoI_cnt):\n",
    "            nd_arr[i][j] = int(dF.loc[ (df[g_col]== grp_index[i]),col_of_int].value_counts().values[j])\n",
    "            print('\\t%d \\t\\t %d'%(dF.loc[ (df[g_col]== grp_index[i]),col_of_int].value_counts().index[j],\\\n",
    "                                      nd_arr[i][j]))            \n",
    "\n",
    "    #Calculate the stats and p-value\n",
    "    chi2_stat, p_value, dof, exp_freq = stats.chi2_contingency((nd_arr))\n",
    "    print('\\nchi2_stats:%f p_val:%f'%(chi2_stat, p_value))\n",
    "    print('\\nDegree of freedom:%d'%(dof))\n",
    "    print('\\nexpected frequency:\\n{}'.format(exp_freq))\n",
    "    \n",
    "    #Conclude the hypotheis based on the derived p-value and significance level\n",
    "    print('\\nInference:')\n",
    "    if ( float(p_value) < float(alpha) ):\n",
    "          print('\\tAs p_value is less than alpha, reject null-hypothesis')\n",
    "    else:\n",
    "          print('\\tAs p_value is greater than or equal to alpha, fail to reject null-hypothesis')"
   ]
  },
  {
   "cell_type": "markdown",
   "metadata": {},
   "source": [
    "### Task 1: Is saving money (finances) gender dependant?"
   ]
  },
  {
   "cell_type": "markdown",
   "metadata": {},
   "source": [
    "\n",
    "* $H_0$: Savings are independent of gender \n",
    "* $H_A$: Dependent of gender-category\n",
    "\n",
    "Note: from the .value_counts(), Gender-0 = Female, Gender-1 = Male\n"
   ]
  },
  {
   "cell_type": "code",
   "execution_count": 29,
   "metadata": {},
   "outputs": [
    {
     "data": {
      "image/png": "[encoded data removed]",
      "text/plain": [
       "<Figure size 432x288 with 1 Axes>"
      ]
     },
     "metadata": {
      "needs_background": "light"
     },
     "output_type": "display_data"
    }
   ],
   "source": [
    "sns.countplot(x='Finances', hue='Gender',data=df)\n",
    "plt.show()"
   ]
  },
  {
   "cell_type": "code",
   "execution_count": 30,
   "metadata": {},
   "outputs": [
    {
     "data": {
      "image/png": "[encoded data removed]",
      "text/plain": [
       "<Figure size 432x288 with 2 Axes>"
      ]
     },
     "metadata": {},
     "output_type": "display_data"
    }
   ],
   "source": [
    "label = df.loc[ (df['Gender']== 0),'Finances'].value_counts().index\n",
    "f_arr = df.loc[ (df['Gender']== 0),'Finances'].value_counts().values\n",
    "m_arr = df.loc[ (df['Gender']== 1),'Finances'].value_counts().values\n",
    "\n",
    "fig, (ax1, ax2) = plt.subplots(1, 2)\n",
    "ax1.set_title('Female gender distribution')\n",
    "ax1.pie(x=f_arr,labels=label,autopct='%2.1f%%')\n",
    "\n",
    "ax2.set_title('Male gender distribution')\n",
    "ax2.pie(x=m_arr,labels=label,autopct='%2.1f%%')\n",
    "\n",
    "plt.show()"
   ]
  },
  {
   "cell_type": "code",
   "execution_count": 31,
   "metadata": {},
   "outputs": [
    {
     "data": {
      "text/plain": [
       "<matplotlib.axes._subplots.AxesSubplot at 0xc9cc198>"
      ]
     },
     "execution_count": 31,
     "metadata": {},
     "output_type": "execute_result"
    },
    {
     "data": {
      "image/png": "[encoded data removed]",
      "text/plain": [
       "<Figure size 432x288 with 1 Axes>"
      ]
     },
     "metadata": {
      "needs_background": "light"
     },
     "output_type": "display_data"
    }
   ],
   "source": [
    "sns.boxplot(data=df, x='Gender', y='Finances')"
   ]
  },
  {
   "cell_type": "markdown",
   "metadata": {},
   "source": [
    "Calculate the chi-sqr-stats and p-value"
   ]
  },
  {
   "cell_type": "code",
   "execution_count": 32,
   "metadata": {},
   "outputs": [
    {
     "name": "stdout",
     "output_type": "stream",
     "text": [
      "\n",
      "chi square independence test for (Gender, Finances)\n",
      "\n",
      "Alpha(significance level) defined as 0.050000\n",
      "\n",
      "\n",
      "Gender:0 Freq-count:599:\n",
      "Gender:1 Freq-count:411:\n",
      "\n",
      "Created 2-Dimensional array and shape is(2:5)\n",
      "\n",
      "Gender:0\n",
      "Finances:\n",
      "\tElement \t Freq-count\n",
      "\t3 \t\t 223\n",
      "\t4 \t\t 150\n",
      "\t2 \t\t 98\n",
      "\t1 \t\t 65\n",
      "\t5 \t\t 63\n",
      "\n",
      "Gender:1\n",
      "Finances:\n",
      "\tElement \t Freq-count\n",
      "\t3 \t\t 138\n",
      "\t4 \t\t 102\n",
      "\t2 \t\t 76\n",
      "\t1 \t\t 60\n",
      "\t5 \t\t 35\n",
      "\n",
      "chi2_stats:5.328891 p_val:0.255185\n",
      "\n",
      "Degree of freedom:4\n",
      "\n",
      "expected frequency:\n",
      "[[214.0980198  149.45346535 103.19405941  74.13366337  58.12079208]\n",
      " [146.9019802  102.54653465  70.80594059  50.86633663  39.87920792]]\n",
      "\n",
      "Inference:\n",
      "\tAs p_value is greater than or equal to alpha, fail to reject null-hypothesis\n"
     ]
    }
   ],
   "source": [
    "chi2_test_of_independence(df,'Gender', 'Finances')"
   ]
  },
  {
   "cell_type": "markdown",
   "metadata": {},
   "source": [
    "Conclusion:\n",
    "\n",
    "    From the correlation plot/heatmap, cold infer there is a very weak correlation between gender and finance\n",
    "    \n",
    "    From the pie plot, distribution varies and not that significant\n",
    "    \n",
    "    From the boxplot, shapes are same for the gender & no outliers\n",
    "    \n",
    "    From chi2-stats, we fail to reject the null hypothesis which means that Finances(savings/spending-pattern) are\n",
    "    independent of gender"
   ]
  },
  {
   "cell_type": "markdown",
   "metadata": {},
   "source": [
    "### Task 2: Is there any differences in money saving (finances) between people from city or village?"
   ]
  },
  {
   "cell_type": "markdown",
   "metadata": {},
   "source": [
    "* $H_0$: There is no difference in savings the money between the people from city or village \n",
    "* $H_A$: There is a significant difference in savings\n",
    "\n",
    "Note: from the value_counts, Town coded as 0, Village coded as 1"
   ]
  },
  {
   "cell_type": "code",
   "execution_count": 33,
   "metadata": {},
   "outputs": [
    {
     "data": {
      "image/png": "[encoded data removed]",
      "text/plain": [
       "<Figure size 432x288 with 1 Axes>"
      ]
     },
     "metadata": {
      "needs_background": "light"
     },
     "output_type": "display_data"
    }
   ],
   "source": [
    "sns.countplot(x='Finances', hue='Village - town',data=df)\n",
    "plt.show()"
   ]
  },
  {
   "cell_type": "code",
   "execution_count": 34,
   "metadata": {},
   "outputs": [
    {
     "data": {
      "image/png": "[encoded data removed]",
      "text/plain": [
       "<Figure size 432x288 with 2 Axes>"
      ]
     },
     "metadata": {},
     "output_type": "display_data"
    }
   ],
   "source": [
    "label = df.loc[ (df['Village - town']== 0),'Finances'].value_counts().index\n",
    "t_arr = df.loc[ (df['Village - town']== 0),'Finances'].value_counts().values\n",
    "v_arr = df.loc[ (df['Village - town']== 1),'Finances'].value_counts().values\n",
    "\n",
    "fig, (ax1, ax2) = plt.subplots(1, 2)\n",
    "ax1.pie(x=t_arr,labels=label,autopct='%2.1f%%')\n",
    "ax1.set_title('Town')\n",
    "\n",
    "ax2.pie(x=v_arr,labels=label,autopct='%2.1f%%')\n",
    "ax2.set_title('Village')\n",
    "\n",
    "plt.show()"
   ]
  },
  {
   "cell_type": "code",
   "execution_count": 35,
   "metadata": {},
   "outputs": [
    {
     "data": {
      "text/plain": [
       "<matplotlib.axes._subplots.AxesSubplot at 0xb7a6c18>"
      ]
     },
     "execution_count": 35,
     "metadata": {},
     "output_type": "execute_result"
    },
    {
     "data": {
      "image/png": "[encoded data removed]",
      "text/plain": [
       "<Figure size 432x288 with 1 Axes>"
      ]
     },
     "metadata": {
      "needs_background": "light"
     },
     "output_type": "display_data"
    }
   ],
   "source": [
    "sns.boxplot(data=df, x='Village - town', y='Finances')"
   ]
  },
  {
   "cell_type": "code",
   "execution_count": 36,
   "metadata": {},
   "outputs": [
    {
     "name": "stdout",
     "output_type": "stream",
     "text": [
      "\n",
      "chi square independence test for (Village - town, Finances)\n",
      "\n",
      "Alpha(significance level) defined as 0.050000\n",
      "\n",
      "\n",
      "Village - town:0 Freq-count:711:\n",
      "Village - town:1 Freq-count:299:\n",
      "\n",
      "Created 2-Dimensional array and shape is(2:5)\n",
      "\n",
      "Village - town:0\n",
      "Finances:\n",
      "\tElement \t Freq-count\n",
      "\t3 \t\t 265\n",
      "\t4 \t\t 168\n",
      "\t2 \t\t 133\n",
      "\t1 \t\t 88\n",
      "\t5 \t\t 57\n",
      "\n",
      "Village - town:1\n",
      "Finances:\n",
      "\tElement \t Freq-count\n",
      "\t3 \t\t 96\n",
      "\t4 \t\t 84\n",
      "\t2 \t\t 41\n",
      "\t5 \t\t 41\n",
      "\t1 \t\t 37\n",
      "\n",
      "chi2_stats:10.887714 p_val:0.027855\n",
      "\n",
      "Degree of freedom:4\n",
      "\n",
      "expected frequency:\n",
      "[[254.12970297 177.3980198  122.48910891  90.81089109  66.17227723]\n",
      " [106.87029703  74.6019802   51.51089109  38.18910891  27.82772277]]\n",
      "\n",
      "Inference:\n",
      "\tAs p_value is less than alpha, reject null-hypothesis\n"
     ]
    }
   ],
   "source": [
    "chi2_test_of_independence(df,'Village - town', 'Finances')"
   ]
  },
  {
   "cell_type": "markdown",
   "metadata": {},
   "source": [
    "Conclusion:\n",
    "\n",
    "    From the correlation plot/heatmap, cold infer there is some correlation between finance and pepole's locality\n",
    "    \n",
    "    From the pie plot, distribution varies and not drastically\n",
    "    \n",
    "    From the boxplot, plot shape are same & no outliers\n",
    "    \n",
    "    From chi2-stats's p-value, we reject the null hypothesis which means that there are significant difference in\n",
    "    Finance (savings/spending -pattern) between people living in town/village."
   ]
  },
  {
   "cell_type": "markdown",
   "metadata": {},
   "source": [
    "### Task 3: Do Women have a Healthier Lifestyle than Men?"
   ]
  },
  {
   "cell_type": "markdown",
   "metadata": {},
   "source": [
    "* $H_0$: There is no difference between male and female healthier-lifestyle\n",
    "* $H_A$: There is a significant difference in lifestyle\n",
    "\n",
    "\n",
    "Note: from the value_counts, Gender-1 = Female, Gender-2 = Male and Gender-1(Female) coded as 0, Gender-2(Male) coded as 1"
   ]
  },
  {
   "cell_type": "code",
   "execution_count": 37,
   "metadata": {},
   "outputs": [
    {
     "data": {
      "image/png": "[encoded data removed]",
      "text/plain": [
       "<Figure size 432x288 with 1 Axes>"
      ]
     },
     "metadata": {
      "needs_background": "light"
     },
     "output_type": "display_data"
    }
   ],
   "source": [
    "sns.countplot(x='Healthy eating', hue='Gender',data=df)\n",
    "plt.show()"
   ]
  },
  {
   "cell_type": "code",
   "execution_count": 38,
   "metadata": {},
   "outputs": [
    {
     "data": {
      "image/png": "[encoded data removed]",
      "text/plain": [
       "<Figure size 432x288 with 2 Axes>"
      ]
     },
     "metadata": {},
     "output_type": "display_data"
    }
   ],
   "source": [
    "label = df.loc[ (df['Gender']== 0),'Healthy eating'].value_counts().index\n",
    "f_arr = df.loc[ (df['Gender']== 0),'Healthy eating'].value_counts().values\n",
    "m_arr = df.loc[ (df['Gender']== 1),'Healthy eating'].value_counts().values\n",
    "\n",
    "fig, (ax1, ax2) = plt.subplots(1, 2)\n",
    "ax1.set_title('Female gender distribution')\n",
    "ax1.pie(x=f_arr,labels=label,autopct='%2.1f%%')\n",
    "\n",
    "ax2.set_title('Male gender distribution')\n",
    "ax2.pie(x=m_arr,labels=label,autopct='%2.1f%%')\n",
    "\n",
    "plt.show()"
   ]
  },
  {
   "cell_type": "code",
   "execution_count": 39,
   "metadata": {},
   "outputs": [
    {
     "data": {
      "text/plain": [
       "<matplotlib.axes._subplots.AxesSubplot at 0xc9b9978>"
      ]
     },
     "execution_count": 39,
     "metadata": {},
     "output_type": "execute_result"
    },
    {
     "data": {
      "image/png": "[encoded data removed]",
      "text/plain": [
       "<Figure size 432x288 with 1 Axes>"
      ]
     },
     "metadata": {
      "needs_background": "light"
     },
     "output_type": "display_data"
    }
   ],
   "source": [
    "sns.boxplot(data=df,x='Gender',y='Healthy eating')"
   ]
  },
  {
   "cell_type": "code",
   "execution_count": 40,
   "metadata": {},
   "outputs": [
    {
     "name": "stdout",
     "output_type": "stream",
     "text": [
      "\n",
      "chi square independence test for (Gender, Healthy eating)\n",
      "\n",
      "Alpha(significance level) defined as 0.050000\n",
      "\n",
      "\n",
      "Gender:0 Freq-count:599:\n",
      "Gender:1 Freq-count:411:\n",
      "\n",
      "Created 2-Dimensional array and shape is(2:5)\n",
      "\n",
      "Gender:0\n",
      "Healthy eating:\n",
      "\tElement \t Freq-count\n",
      "\t3 \t\t 329\n",
      "\t4 \t\t 147\n",
      "\t2 \t\t 67\n",
      "\t1 \t\t 36\n",
      "\t5 \t\t 20\n",
      "\n",
      "Gender:1\n",
      "Healthy eating:\n",
      "\tElement \t Freq-count\n",
      "\t3 \t\t 178\n",
      "\t4 \t\t 92\n",
      "\t2 \t\t 70\n",
      "\t1 \t\t 45\n",
      "\t5 \t\t 26\n",
      "\n",
      "chi2_stats:25.362275 p_val:0.000043\n",
      "\n",
      "Degree of freedom:4\n",
      "\n",
      "expected frequency:\n",
      "[[300.68613861 141.74356436  81.25049505  48.03861386  27.28118812]\n",
      " [206.31386139  97.25643564  55.74950495  32.96138614  18.71881188]]\n",
      "\n",
      "Inference:\n",
      "\tAs p_value is less than alpha, reject null-hypothesis\n"
     ]
    }
   ],
   "source": [
    "chi2_test_of_independence(df,'Gender', 'Healthy eating')"
   ]
  },
  {
   "cell_type": "markdown",
   "metadata": {},
   "source": [
    "Conclusion:\n",
    "\n",
    "    From the correlation plot/heatmap, cold infer there is weak correlation between gender and healthy-lifestyle\n",
    "    \n",
    "    From the pie plot, distribution varies significantly\n",
    "    \n",
    "    From the boxplot, plot shape are different & outliers are there for female gender category\n",
    "    \n",
    "    From chi2-stats's p-value, we reject the null hypothesis which means that there are significant difference \n",
    "    between male & female lifestyle(w.r.t health)"
   ]
  },
  {
   "cell_type": "markdown",
   "metadata": {},
   "source": [
    "### Task 4: Are Village People Healthier than City People"
   ]
  },
  {
   "cell_type": "markdown",
   "metadata": {},
   "source": [
    "* $H_0$: There is no difference in healthier lifestyle status between people from village or city \n",
    "* $H_A$: There is a significant difference in lifestyle\n",
    "\n",
    "Note: from the value_counts, Town coded as 0, Village coded as 1"
   ]
  },
  {
   "cell_type": "code",
   "execution_count": 41,
   "metadata": {},
   "outputs": [
    {
     "data": {
      "image/png": "[encoded data removed]",
      "text/plain": [
       "<Figure size 432x288 with 1 Axes>"
      ]
     },
     "metadata": {
      "needs_background": "light"
     },
     "output_type": "display_data"
    }
   ],
   "source": [
    "sns.countplot(x='Healthy eating', hue='Village - town',data=df)\n",
    "plt.show()"
   ]
  },
  {
   "cell_type": "code",
   "execution_count": 42,
   "metadata": {},
   "outputs": [
    {
     "data": {
      "image/png": "[encoded data removed]",
      "text/plain": [
       "<Figure size 432x288 with 2 Axes>"
      ]
     },
     "metadata": {},
     "output_type": "display_data"
    }
   ],
   "source": [
    "label = df.loc[ (df['Village - town']== 0),'Healthy eating'].value_counts().index\n",
    "t_arr = df.loc[ (df['Village - town']== 0),'Healthy eating'].value_counts().values\n",
    "v_arr = df.loc[ (df['Village - town']== 1),'Healthy eating'].value_counts().values\n",
    "\n",
    "fig, (ax1, ax2) = plt.subplots(1, 2)\n",
    "ax1.pie(x=t_arr,labels=label,autopct='%2.1f%%')\n",
    "ax1.set_title('Town')\n",
    "\n",
    "ax2.pie(x=v_arr,labels=label,autopct='%2.1f%%')\n",
    "ax2.set_title('Village')\n",
    "\n",
    "plt.show()"
   ]
  },
  {
   "cell_type": "code",
   "execution_count": 43,
   "metadata": {},
   "outputs": [
    {
     "data": {
      "text/plain": [
       "<matplotlib.axes._subplots.AxesSubplot at 0xc7fc400>"
      ]
     },
     "execution_count": 43,
     "metadata": {},
     "output_type": "execute_result"
    },
    {
     "data": {
      "image/png": "[encoded data removed]",
      "text/plain": [
       "<Figure size 432x288 with 1 Axes>"
      ]
     },
     "metadata": {
      "needs_background": "light"
     },
     "output_type": "display_data"
    }
   ],
   "source": [
    "sns.boxplot(data=df, x='Village - town',y='Healthy eating')"
   ]
  },
  {
   "cell_type": "code",
   "execution_count": 44,
   "metadata": {},
   "outputs": [
    {
     "name": "stdout",
     "output_type": "stream",
     "text": [
      "\n",
      "chi square independence test for (Village - town, Healthy eating)\n",
      "\n",
      "Alpha(significance level) defined as 0.050000\n",
      "\n",
      "\n",
      "Village - town:0 Freq-count:711:\n",
      "Village - town:1 Freq-count:299:\n",
      "\n",
      "Created 2-Dimensional array and shape is(2:5)\n",
      "\n",
      "Village - town:0\n",
      "Healthy eating:\n",
      "\tElement \t Freq-count\n",
      "\t3 \t\t 356\n",
      "\t4 \t\t 177\n",
      "\t2 \t\t 88\n",
      "\t1 \t\t 58\n",
      "\t5 \t\t 32\n",
      "\n",
      "Village - town:1\n",
      "Healthy eating:\n",
      "\tElement \t Freq-count\n",
      "\t3 \t\t 151\n",
      "\t4 \t\t 62\n",
      "\t2 \t\t 49\n",
      "\t1 \t\t 23\n",
      "\t5 \t\t 14\n",
      "\n",
      "chi2_stats:4.114720 p_val:0.390703\n",
      "\n",
      "Degree of freedom:4\n",
      "\n",
      "expected frequency:\n",
      "[[356.90792079 168.24653465  96.44257426  57.02079208  32.38217822]\n",
      " [150.09207921  70.75346535  40.55742574  23.97920792  13.61782178]]\n",
      "\n",
      "Inference:\n",
      "\tAs p_value is greater than or equal to alpha, fail to reject null-hypothesis\n"
     ]
    }
   ],
   "source": [
    "chi2_test_of_independence(df,'Village - town', 'Healthy eating')"
   ]
  },
  {
   "cell_type": "markdown",
   "metadata": {},
   "source": [
    "Conclusion:\n",
    "\n",
    "    From the correlation plot/heatmap, cold infer there is weak correlation for healthy-lifestyle between people\n",
    "    living in town/village\n",
    "    \n",
    "    From the pie plot, distribution varies and not that significant\n",
    "    \n",
    "    From the boxplot, plot shapes are same & outliers are there for both the locality category\n",
    "    \n",
    "    From chi2-stats's p-value, we reject the null hypothesis which means that there are no significant difference \n",
    "    between between people lifestyle from town/village."
   ]
  },
  {
   "cell_type": "markdown",
   "metadata": {},
   "source": [
    "### Project conclusion:\n",
    "\n",
    "From the above tasks it can be inferred and collectively concluded as follows\n",
    "* Finances (saving/spending-pattern) is not related to gender, whereas dependent on people's locality(town/village)\n",
    "* Lifestyle (w.r.t health) is related to gender irrespective of locality ( i.e. not dependent on people's living locality is village or town)    "
   ]
  },
  {
   "cell_type": "code",
   "execution_count": 45,
   "metadata": {},
   "outputs": [
    {
     "data": {
      "image/png": "[encoded data removed]",
      "text/plain": [
       "<Figure size 432x288 with 1 Axes>"
      ]
     },
     "metadata": {
      "needs_background": "light"
     },
     "output_type": "display_data"
    }
   ],
   "source": [
    "sns.boxplot(data=df,y='Finances',x='Village - town',hue='Gender')\n",
    "plt.show()"
   ]
  },
  {
   "cell_type": "code",
   "execution_count": 46,
   "metadata": {},
   "outputs": [
    {
     "data": {
      "image/png": "[encoded data removed]",
      "text/plain": [
       "<Figure size 432x288 with 1 Axes>"
      ]
     },
     "metadata": {
      "needs_background": "light"
     },
     "output_type": "display_data"
    }
   ],
   "source": [
    "sns.boxplot(data=df,y='Healthy eating',x='Village - town',hue='Gender')\n",
    "plt.show()"
   ]
  },
  {
   "cell_type": "markdown",
   "metadata": {},
   "source": [
    "### EOF"
   ]
  }
 ],
 "metadata": {
  "kernelspec": {
   "display_name": "Python 3",
   "language": "python",
   "name": "python3"
  },
  "language_info": {
   "codemirror_mode": {
    "name": "ipython",
    "version": 3
   },
   "file_extension": ".py",
   "mimetype": "text/x-python",
   "name": "python",
   "nbconvert_exporter": "python",
   "pygments_lexer": "ipython3",
   "version": "3.7.3"
  }
 },
 "nbformat": 4,
 "nbformat_minor": 2
}
